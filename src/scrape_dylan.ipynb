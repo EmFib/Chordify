{
 "cells": [
  {
   "cell_type": "code",
   "execution_count": 4,
   "metadata": {},
   "outputs": [],
   "source": [
    "from scrape_code import *"
   ]
  },
  {
   "cell_type": "code",
   "execution_count": 9,
   "metadata": {},
   "outputs": [
    {
     "data": {
      "text/plain": [
       "['https://www.ultimate-guitar.com/artist/bob_dylan_10212?filter=chords&page=0',\n",
       " 'https://www.ultimate-guitar.com/artist/bob_dylan_10212?filter=chords&page=1',\n",
       " 'https://www.ultimate-guitar.com/artist/bob_dylan_10212?filter=chords&page=2',\n",
       " 'https://www.ultimate-guitar.com/artist/bob_dylan_10212?filter=chords&page=3',\n",
       " 'https://www.ultimate-guitar.com/artist/bob_dylan_10212?filter=chords&page=4',\n",
       " 'https://www.ultimate-guitar.com/artist/bob_dylan_10212?filter=chords&page=5',\n",
       " 'https://www.ultimate-guitar.com/artist/bob_dylan_10212?filter=chords&page=6',\n",
       " 'https://www.ultimate-guitar.com/artist/bob_dylan_10212?filter=chords&page=7',\n",
       " 'https://www.ultimate-guitar.com/artist/bob_dylan_10212?filter=chords&page=8',\n",
       " 'https://www.ultimate-guitar.com/artist/bob_dylan_10212?filter=chords&page=9',\n",
       " 'https://www.ultimate-guitar.com/artist/bob_dylan_10212?filter=chords&page=10']"
      ]
     },
     "execution_count": 9,
     "metadata": {},
     "output_type": "execute_result"
    }
   ],
   "source": [
    "make_urls(10)"
   ]
  },
  {
   "cell_type": "code",
   "execution_count": 11,
   "metadata": {},
   "outputs": [
    {
     "ename": "NameError",
     "evalue": "name 'artist_urls' is not defined",
     "output_type": "error",
     "traceback": [
      "\u001b[0;31m---------------------------------------------------------------------------\u001b[0m",
      "\u001b[0;31mNameError\u001b[0m                                 Traceback (most recent call last)",
      "\u001b[0;32m<ipython-input-11-e1d9110bf857>\u001b[0m in \u001b[0;36m<module>\u001b[0;34m()\u001b[0m\n\u001b[0;32m----> 1\u001b[0;31m \u001b[0mget_all_urls\u001b[0m\u001b[0;34m(\u001b[0m\u001b[0martist_urls\u001b[0m\u001b[0;34m)\u001b[0m\u001b[0;34m\u001b[0m\u001b[0m\n\u001b[0m",
      "\u001b[0;31mNameError\u001b[0m: name 'artist_urls' is not defined"
     ]
    }
   ],
   "source": [
    "get_all_urls(artist_urls)"
   ]
  },
  {
   "cell_type": "code",
   "execution_count": null,
   "metadata": {},
   "outputs": [],
   "source": []
  }
 ],
 "metadata": {
  "kernelspec": {
   "display_name": "Python 3",
   "language": "python",
   "name": "python3"
  },
  "language_info": {
   "codemirror_mode": {
    "name": "ipython",
    "version": 3
   },
   "file_extension": ".py",
   "mimetype": "text/x-python",
   "name": "python",
   "nbconvert_exporter": "python",
   "pygments_lexer": "ipython3",
   "version": "3.6.3"
  }
 },
 "nbformat": 4,
 "nbformat_minor": 2
}
