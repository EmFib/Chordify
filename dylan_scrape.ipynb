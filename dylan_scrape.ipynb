{
 "cells": [
  {
   "cell_type": "code",
   "execution_count": 192,
   "metadata": {},
   "outputs": [],
   "source": [
    "from selenium.webdriver import Chrome \n",
    "from bs4 import BeautifulSoup\n",
    "import pymongo\n",
    "import datetime\n",
    "import time \n",
    "import pandas as pd\n",
    "import re"
   ]
  },
  {
   "cell_type": "code",
   "execution_count": 2,
   "metadata": {},
   "outputs": [],
   "source": [
    "url = \"https://tabs.ultimate-guitar.com/tab/bob_dylan/as_i_went_out_one_morning_chords_927691\""
   ]
  },
  {
   "cell_type": "code",
   "execution_count": 3,
   "metadata": {},
   "outputs": [],
   "source": [
    "browser = Chrome()"
   ]
  },
  {
   "cell_type": "code",
   "execution_count": 4,
   "metadata": {},
   "outputs": [],
   "source": [
    "browser.get(url)"
   ]
  },
  {
   "cell_type": "code",
   "execution_count": 5,
   "metadata": {},
   "outputs": [],
   "source": [
    "time.sleep(10)"
   ]
  },
  {
   "cell_type": "code",
   "execution_count": 6,
   "metadata": {},
   "outputs": [],
   "source": [
    "html = browser.page_source"
   ]
  },
  {
   "cell_type": "code",
   "execution_count": 7,
   "metadata": {},
   "outputs": [],
   "source": [
    "mc = pymongo.MongoClient()"
   ]
  },
  {
   "cell_type": "code",
   "execution_count": 8,
   "metadata": {},
   "outputs": [],
   "source": [
    "db = mc['chordify']"
   ]
  },
  {
   "cell_type": "code",
   "execution_count": 9,
   "metadata": {},
   "outputs": [],
   "source": [
    "raw_html = db['raw_html']"
   ]
  },
  {
   "cell_type": "code",
   "execution_count": 10,
   "metadata": {},
   "outputs": [
    {
     "data": {
      "text/plain": [
       "<pymongo.results.InsertOneResult at 0x108b556c0>"
      ]
     },
     "execution_count": 10,
     "metadata": {},
     "output_type": "execute_result"
    }
   ],
   "source": [
    "raw_html.insert_one(\n",
    "    {'url': url,\n",
    "     'datetime': datetime.datetime.now(),\n",
    "     'html': html \n",
    "    })"
   ]
  },
  {
   "cell_type": "code",
   "execution_count": 120,
   "metadata": {},
   "outputs": [],
   "source": [
    "sel = \"section._3TQ4n._3zQIL\"\n",
    "body_sel = browser.find_element_by_css_selector(sel)"
   ]
  },
  {
   "cell_type": "code",
   "execution_count": 121,
   "metadata": {},
   "outputs": [
    {
     "data": {
      "text/plain": [
       "'Capo on 4th Fret\\n\\nDm                 C                      Dm   C         Dm\\nAs I went out one morning, to breathe the air around Tom Paine\\'s\\n    Dm               C            Dm      C       Dm\\nI spied the fairest damsel, that ever did walk in chains\\n    F              Am       Dm    C       Dm\\nI offer\\'d her my hand, she took me by the arm\\n    Dm            C            Dm      C    Dm\\nI knew that very instant, she meant to do me harm\\n\\n\\nDm                 C             Dm       C     Dm\\nDepart from me this moment, I told her with my voice\\n Dm                       C       Dm            C        Dm\\nSaid she, \"But I don\\'t wish to, said I, but you have no choice\\nF                 Am         Dm                C       Dm\\nI beg you, sir, she pleaded, from the corners of her mouth\\nDm                C               Dm        C         Dm\\nI will secretly accept you, and together we\\'ll fly south\\n\\n\\nDm                     C               Dm        C         Dm\\nJust then Tom Paine, himself, came running from across the field\\nDm               C                     Dm      C       Dm\\nShouting at this lovely girl, and commanding her to yield\\nF                         Am         Dm    C       Dm\\nAnd as she was letting go her grip, up Tom Paine did run\\nDm                   C            Dm      C              Dm\\nI\\'m sorry, sir, he said to me, I\\'m sorry for what she\\'s done'"
      ]
     },
     "execution_count": 121,
     "metadata": {},
     "output_type": "execute_result"
    }
   ],
   "source": [
    "body_sel.text"
   ]
  },
  {
   "cell_type": "code",
   "execution_count": 204,
   "metadata": {},
   "outputs": [
    {
     "ename": "ConnectionResetError",
     "evalue": "[Errno 54] Connection reset by peer",
     "output_type": "error",
     "traceback": [
      "\u001b[0;31m---------------------------------------------------------------------------\u001b[0m",
      "\u001b[0;31mConnectionResetError\u001b[0m                      Traceback (most recent call last)",
      "\u001b[0;32m<ipython-input-204-96f51f4fe0e5>\u001b[0m in \u001b[0;36m<module>\u001b[0;34m()\u001b[0m\n\u001b[0;32m----> 1\u001b[0;31m \u001b[0mbody_sel\u001b[0m\u001b[0;34m.\u001b[0m\u001b[0mtext\u001b[0m\u001b[0;34m\u001b[0m\u001b[0m\n\u001b[0m",
      "\u001b[0;32m/anaconda3/lib/python3.6/site-packages/selenium/webdriver/remote/webelement.py\u001b[0m in \u001b[0;36mtext\u001b[0;34m(self)\u001b[0m\n\u001b[1;32m     74\u001b[0m     \u001b[0;32mdef\u001b[0m \u001b[0mtext\u001b[0m\u001b[0;34m(\u001b[0m\u001b[0mself\u001b[0m\u001b[0;34m)\u001b[0m\u001b[0;34m:\u001b[0m\u001b[0;34m\u001b[0m\u001b[0m\n\u001b[1;32m     75\u001b[0m         \u001b[0;34m\"\"\"The text of the element.\"\"\"\u001b[0m\u001b[0;34m\u001b[0m\u001b[0m\n\u001b[0;32m---> 76\u001b[0;31m         \u001b[0;32mreturn\u001b[0m \u001b[0mself\u001b[0m\u001b[0;34m.\u001b[0m\u001b[0m_execute\u001b[0m\u001b[0;34m(\u001b[0m\u001b[0mCommand\u001b[0m\u001b[0;34m.\u001b[0m\u001b[0mGET_ELEMENT_TEXT\u001b[0m\u001b[0;34m)\u001b[0m\u001b[0;34m[\u001b[0m\u001b[0;34m'value'\u001b[0m\u001b[0;34m]\u001b[0m\u001b[0;34m\u001b[0m\u001b[0m\n\u001b[0m\u001b[1;32m     77\u001b[0m \u001b[0;34m\u001b[0m\u001b[0m\n\u001b[1;32m     78\u001b[0m     \u001b[0;32mdef\u001b[0m \u001b[0mclick\u001b[0m\u001b[0;34m(\u001b[0m\u001b[0mself\u001b[0m\u001b[0;34m)\u001b[0m\u001b[0;34m:\u001b[0m\u001b[0;34m\u001b[0m\u001b[0m\n",
      "\u001b[0;32m/anaconda3/lib/python3.6/site-packages/selenium/webdriver/remote/webelement.py\u001b[0m in \u001b[0;36m_execute\u001b[0;34m(self, command, params)\u001b[0m\n\u001b[1;32m    626\u001b[0m             \u001b[0mparams\u001b[0m \u001b[0;34m=\u001b[0m \u001b[0;34m{\u001b[0m\u001b[0;34m}\u001b[0m\u001b[0;34m\u001b[0m\u001b[0m\n\u001b[1;32m    627\u001b[0m         \u001b[0mparams\u001b[0m\u001b[0;34m[\u001b[0m\u001b[0;34m'id'\u001b[0m\u001b[0;34m]\u001b[0m \u001b[0;34m=\u001b[0m \u001b[0mself\u001b[0m\u001b[0;34m.\u001b[0m\u001b[0m_id\u001b[0m\u001b[0;34m\u001b[0m\u001b[0m\n\u001b[0;32m--> 628\u001b[0;31m         \u001b[0;32mreturn\u001b[0m \u001b[0mself\u001b[0m\u001b[0;34m.\u001b[0m\u001b[0m_parent\u001b[0m\u001b[0;34m.\u001b[0m\u001b[0mexecute\u001b[0m\u001b[0;34m(\u001b[0m\u001b[0mcommand\u001b[0m\u001b[0;34m,\u001b[0m \u001b[0mparams\u001b[0m\u001b[0;34m)\u001b[0m\u001b[0;34m\u001b[0m\u001b[0m\n\u001b[0m\u001b[1;32m    629\u001b[0m \u001b[0;34m\u001b[0m\u001b[0m\n\u001b[1;32m    630\u001b[0m     \u001b[0;32mdef\u001b[0m \u001b[0mfind_element\u001b[0m\u001b[0;34m(\u001b[0m\u001b[0mself\u001b[0m\u001b[0;34m,\u001b[0m \u001b[0mby\u001b[0m\u001b[0;34m=\u001b[0m\u001b[0mBy\u001b[0m\u001b[0;34m.\u001b[0m\u001b[0mID\u001b[0m\u001b[0;34m,\u001b[0m \u001b[0mvalue\u001b[0m\u001b[0;34m=\u001b[0m\u001b[0;32mNone\u001b[0m\u001b[0;34m)\u001b[0m\u001b[0;34m:\u001b[0m\u001b[0;34m\u001b[0m\u001b[0m\n",
      "\u001b[0;32m/anaconda3/lib/python3.6/site-packages/selenium/webdriver/remote/webdriver.py\u001b[0m in \u001b[0;36mexecute\u001b[0;34m(self, driver_command, params)\u001b[0m\n\u001b[1;32m    308\u001b[0m \u001b[0;34m\u001b[0m\u001b[0m\n\u001b[1;32m    309\u001b[0m         \u001b[0mparams\u001b[0m \u001b[0;34m=\u001b[0m \u001b[0mself\u001b[0m\u001b[0;34m.\u001b[0m\u001b[0m_wrap_value\u001b[0m\u001b[0;34m(\u001b[0m\u001b[0mparams\u001b[0m\u001b[0;34m)\u001b[0m\u001b[0;34m\u001b[0m\u001b[0m\n\u001b[0;32m--> 310\u001b[0;31m         \u001b[0mresponse\u001b[0m \u001b[0;34m=\u001b[0m \u001b[0mself\u001b[0m\u001b[0;34m.\u001b[0m\u001b[0mcommand_executor\u001b[0m\u001b[0;34m.\u001b[0m\u001b[0mexecute\u001b[0m\u001b[0;34m(\u001b[0m\u001b[0mdriver_command\u001b[0m\u001b[0;34m,\u001b[0m \u001b[0mparams\u001b[0m\u001b[0;34m)\u001b[0m\u001b[0;34m\u001b[0m\u001b[0m\n\u001b[0m\u001b[1;32m    311\u001b[0m         \u001b[0;32mif\u001b[0m \u001b[0mresponse\u001b[0m\u001b[0;34m:\u001b[0m\u001b[0;34m\u001b[0m\u001b[0m\n\u001b[1;32m    312\u001b[0m             \u001b[0mself\u001b[0m\u001b[0;34m.\u001b[0m\u001b[0merror_handler\u001b[0m\u001b[0;34m.\u001b[0m\u001b[0mcheck_response\u001b[0m\u001b[0;34m(\u001b[0m\u001b[0mresponse\u001b[0m\u001b[0;34m)\u001b[0m\u001b[0;34m\u001b[0m\u001b[0m\n",
      "\u001b[0;32m/anaconda3/lib/python3.6/site-packages/selenium/webdriver/remote/remote_connection.py\u001b[0m in \u001b[0;36mexecute\u001b[0;34m(self, command, params)\u001b[0m\n\u001b[1;32m    464\u001b[0m         \u001b[0mdata\u001b[0m \u001b[0;34m=\u001b[0m \u001b[0mutils\u001b[0m\u001b[0;34m.\u001b[0m\u001b[0mdump_json\u001b[0m\u001b[0;34m(\u001b[0m\u001b[0mparams\u001b[0m\u001b[0;34m)\u001b[0m\u001b[0;34m\u001b[0m\u001b[0m\n\u001b[1;32m    465\u001b[0m         \u001b[0murl\u001b[0m \u001b[0;34m=\u001b[0m \u001b[0;34m'%s%s'\u001b[0m \u001b[0;34m%\u001b[0m \u001b[0;34m(\u001b[0m\u001b[0mself\u001b[0m\u001b[0;34m.\u001b[0m\u001b[0m_url\u001b[0m\u001b[0;34m,\u001b[0m \u001b[0mpath\u001b[0m\u001b[0;34m)\u001b[0m\u001b[0;34m\u001b[0m\u001b[0m\n\u001b[0;32m--> 466\u001b[0;31m         \u001b[0;32mreturn\u001b[0m \u001b[0mself\u001b[0m\u001b[0;34m.\u001b[0m\u001b[0m_request\u001b[0m\u001b[0;34m(\u001b[0m\u001b[0mcommand_info\u001b[0m\u001b[0;34m[\u001b[0m\u001b[0;36m0\u001b[0m\u001b[0;34m]\u001b[0m\u001b[0;34m,\u001b[0m \u001b[0murl\u001b[0m\u001b[0;34m,\u001b[0m \u001b[0mbody\u001b[0m\u001b[0;34m=\u001b[0m\u001b[0mdata\u001b[0m\u001b[0;34m)\u001b[0m\u001b[0;34m\u001b[0m\u001b[0m\n\u001b[0m\u001b[1;32m    467\u001b[0m \u001b[0;34m\u001b[0m\u001b[0m\n\u001b[1;32m    468\u001b[0m     \u001b[0;32mdef\u001b[0m \u001b[0m_request\u001b[0m\u001b[0;34m(\u001b[0m\u001b[0mself\u001b[0m\u001b[0;34m,\u001b[0m \u001b[0mmethod\u001b[0m\u001b[0;34m,\u001b[0m \u001b[0murl\u001b[0m\u001b[0;34m,\u001b[0m \u001b[0mbody\u001b[0m\u001b[0;34m=\u001b[0m\u001b[0;32mNone\u001b[0m\u001b[0;34m)\u001b[0m\u001b[0;34m:\u001b[0m\u001b[0;34m\u001b[0m\u001b[0m\n",
      "\u001b[0;32m/anaconda3/lib/python3.6/site-packages/selenium/webdriver/remote/remote_connection.py\u001b[0m in \u001b[0;36m_request\u001b[0;34m(self, method, url, body)\u001b[0m\n\u001b[1;32m    488\u001b[0m             \u001b[0;32mtry\u001b[0m\u001b[0;34m:\u001b[0m\u001b[0;34m\u001b[0m\u001b[0m\n\u001b[1;32m    489\u001b[0m                 \u001b[0mself\u001b[0m\u001b[0;34m.\u001b[0m\u001b[0m_conn\u001b[0m\u001b[0;34m.\u001b[0m\u001b[0mrequest\u001b[0m\u001b[0;34m(\u001b[0m\u001b[0mmethod\u001b[0m\u001b[0;34m,\u001b[0m \u001b[0mparsed_url\u001b[0m\u001b[0;34m.\u001b[0m\u001b[0mpath\u001b[0m\u001b[0;34m,\u001b[0m \u001b[0mbody\u001b[0m\u001b[0;34m,\u001b[0m \u001b[0mheaders\u001b[0m\u001b[0;34m)\u001b[0m\u001b[0;34m\u001b[0m\u001b[0m\n\u001b[0;32m--> 490\u001b[0;31m                 \u001b[0mresp\u001b[0m \u001b[0;34m=\u001b[0m \u001b[0mself\u001b[0m\u001b[0;34m.\u001b[0m\u001b[0m_conn\u001b[0m\u001b[0;34m.\u001b[0m\u001b[0mgetresponse\u001b[0m\u001b[0;34m(\u001b[0m\u001b[0;34m)\u001b[0m\u001b[0;34m\u001b[0m\u001b[0m\n\u001b[0m\u001b[1;32m    491\u001b[0m             \u001b[0;32mexcept\u001b[0m \u001b[0;34m(\u001b[0m\u001b[0mhttplib\u001b[0m\u001b[0;34m.\u001b[0m\u001b[0mHTTPException\u001b[0m\u001b[0;34m,\u001b[0m \u001b[0msocket\u001b[0m\u001b[0;34m.\u001b[0m\u001b[0merror\u001b[0m\u001b[0;34m)\u001b[0m\u001b[0;34m:\u001b[0m\u001b[0;34m\u001b[0m\u001b[0m\n\u001b[1;32m    492\u001b[0m                 \u001b[0mself\u001b[0m\u001b[0;34m.\u001b[0m\u001b[0m_conn\u001b[0m\u001b[0;34m.\u001b[0m\u001b[0mclose\u001b[0m\u001b[0;34m(\u001b[0m\u001b[0;34m)\u001b[0m\u001b[0;34m\u001b[0m\u001b[0m\n",
      "\u001b[0;32m/anaconda3/lib/python3.6/http/client.py\u001b[0m in \u001b[0;36mgetresponse\u001b[0;34m(self)\u001b[0m\n\u001b[1;32m   1329\u001b[0m         \u001b[0;32mtry\u001b[0m\u001b[0;34m:\u001b[0m\u001b[0;34m\u001b[0m\u001b[0m\n\u001b[1;32m   1330\u001b[0m             \u001b[0;32mtry\u001b[0m\u001b[0;34m:\u001b[0m\u001b[0;34m\u001b[0m\u001b[0m\n\u001b[0;32m-> 1331\u001b[0;31m                 \u001b[0mresponse\u001b[0m\u001b[0;34m.\u001b[0m\u001b[0mbegin\u001b[0m\u001b[0;34m(\u001b[0m\u001b[0;34m)\u001b[0m\u001b[0;34m\u001b[0m\u001b[0m\n\u001b[0m\u001b[1;32m   1332\u001b[0m             \u001b[0;32mexcept\u001b[0m \u001b[0mConnectionError\u001b[0m\u001b[0;34m:\u001b[0m\u001b[0;34m\u001b[0m\u001b[0m\n\u001b[1;32m   1333\u001b[0m                 \u001b[0mself\u001b[0m\u001b[0;34m.\u001b[0m\u001b[0mclose\u001b[0m\u001b[0;34m(\u001b[0m\u001b[0;34m)\u001b[0m\u001b[0;34m\u001b[0m\u001b[0m\n",
      "\u001b[0;32m/anaconda3/lib/python3.6/http/client.py\u001b[0m in \u001b[0;36mbegin\u001b[0;34m(self)\u001b[0m\n\u001b[1;32m    295\u001b[0m         \u001b[0;31m# read until we get a non-100 response\u001b[0m\u001b[0;34m\u001b[0m\u001b[0;34m\u001b[0m\u001b[0m\n\u001b[1;32m    296\u001b[0m         \u001b[0;32mwhile\u001b[0m \u001b[0;32mTrue\u001b[0m\u001b[0;34m:\u001b[0m\u001b[0;34m\u001b[0m\u001b[0m\n\u001b[0;32m--> 297\u001b[0;31m             \u001b[0mversion\u001b[0m\u001b[0;34m,\u001b[0m \u001b[0mstatus\u001b[0m\u001b[0;34m,\u001b[0m \u001b[0mreason\u001b[0m \u001b[0;34m=\u001b[0m \u001b[0mself\u001b[0m\u001b[0;34m.\u001b[0m\u001b[0m_read_status\u001b[0m\u001b[0;34m(\u001b[0m\u001b[0;34m)\u001b[0m\u001b[0;34m\u001b[0m\u001b[0m\n\u001b[0m\u001b[1;32m    298\u001b[0m             \u001b[0;32mif\u001b[0m \u001b[0mstatus\u001b[0m \u001b[0;34m!=\u001b[0m \u001b[0mCONTINUE\u001b[0m\u001b[0;34m:\u001b[0m\u001b[0;34m\u001b[0m\u001b[0m\n\u001b[1;32m    299\u001b[0m                 \u001b[0;32mbreak\u001b[0m\u001b[0;34m\u001b[0m\u001b[0m\n",
      "\u001b[0;32m/anaconda3/lib/python3.6/http/client.py\u001b[0m in \u001b[0;36m_read_status\u001b[0;34m(self)\u001b[0m\n\u001b[1;32m    256\u001b[0m \u001b[0;34m\u001b[0m\u001b[0m\n\u001b[1;32m    257\u001b[0m     \u001b[0;32mdef\u001b[0m \u001b[0m_read_status\u001b[0m\u001b[0;34m(\u001b[0m\u001b[0mself\u001b[0m\u001b[0;34m)\u001b[0m\u001b[0;34m:\u001b[0m\u001b[0;34m\u001b[0m\u001b[0m\n\u001b[0;32m--> 258\u001b[0;31m         \u001b[0mline\u001b[0m \u001b[0;34m=\u001b[0m \u001b[0mstr\u001b[0m\u001b[0;34m(\u001b[0m\u001b[0mself\u001b[0m\u001b[0;34m.\u001b[0m\u001b[0mfp\u001b[0m\u001b[0;34m.\u001b[0m\u001b[0mreadline\u001b[0m\u001b[0;34m(\u001b[0m\u001b[0m_MAXLINE\u001b[0m \u001b[0;34m+\u001b[0m \u001b[0;36m1\u001b[0m\u001b[0;34m)\u001b[0m\u001b[0;34m,\u001b[0m \u001b[0;34m\"iso-8859-1\"\u001b[0m\u001b[0;34m)\u001b[0m\u001b[0;34m\u001b[0m\u001b[0m\n\u001b[0m\u001b[1;32m    259\u001b[0m         \u001b[0;32mif\u001b[0m \u001b[0mlen\u001b[0m\u001b[0;34m(\u001b[0m\u001b[0mline\u001b[0m\u001b[0;34m)\u001b[0m \u001b[0;34m>\u001b[0m \u001b[0m_MAXLINE\u001b[0m\u001b[0;34m:\u001b[0m\u001b[0;34m\u001b[0m\u001b[0m\n\u001b[1;32m    260\u001b[0m             \u001b[0;32mraise\u001b[0m \u001b[0mLineTooLong\u001b[0m\u001b[0;34m(\u001b[0m\u001b[0;34m\"status line\"\u001b[0m\u001b[0;34m)\u001b[0m\u001b[0;34m\u001b[0m\u001b[0m\n",
      "\u001b[0;32m/anaconda3/lib/python3.6/socket.py\u001b[0m in \u001b[0;36mreadinto\u001b[0;34m(self, b)\u001b[0m\n\u001b[1;32m    584\u001b[0m         \u001b[0;32mwhile\u001b[0m \u001b[0;32mTrue\u001b[0m\u001b[0;34m:\u001b[0m\u001b[0;34m\u001b[0m\u001b[0m\n\u001b[1;32m    585\u001b[0m             \u001b[0;32mtry\u001b[0m\u001b[0;34m:\u001b[0m\u001b[0;34m\u001b[0m\u001b[0m\n\u001b[0;32m--> 586\u001b[0;31m                 \u001b[0;32mreturn\u001b[0m \u001b[0mself\u001b[0m\u001b[0;34m.\u001b[0m\u001b[0m_sock\u001b[0m\u001b[0;34m.\u001b[0m\u001b[0mrecv_into\u001b[0m\u001b[0;34m(\u001b[0m\u001b[0mb\u001b[0m\u001b[0;34m)\u001b[0m\u001b[0;34m\u001b[0m\u001b[0m\n\u001b[0m\u001b[1;32m    587\u001b[0m             \u001b[0;32mexcept\u001b[0m \u001b[0mtimeout\u001b[0m\u001b[0;34m:\u001b[0m\u001b[0;34m\u001b[0m\u001b[0m\n\u001b[1;32m    588\u001b[0m                 \u001b[0mself\u001b[0m\u001b[0;34m.\u001b[0m\u001b[0m_timeout_occurred\u001b[0m \u001b[0;34m=\u001b[0m \u001b[0;32mTrue\u001b[0m\u001b[0;34m\u001b[0m\u001b[0m\n",
      "\u001b[0;31mConnectionResetError\u001b[0m: [Errno 54] Connection reset by peer"
     ]
    }
   ],
   "source": [
    "body_sel.text"
   ]
  },
  {
   "cell_type": "code",
   "execution_count": 125,
   "metadata": {},
   "outputs": [
    {
     "data": {
      "text/plain": [
       "<selenium.webdriver.remote.webelement.WebElement (session=\"c7e7021899be7bcd6c89683f09aa59db\", element=\"0.22856330311087558-3\")>"
      ]
     },
     "execution_count": 125,
     "metadata": {},
     "output_type": "execute_result"
    }
   ],
   "source": [
    "chords_sel = browser.find_elements_by_css_selector('span._3L0Da._3f5kI')\n",
    "chords_sel[0]"
   ]
  },
  {
   "cell_type": "code",
   "execution_count": 126,
   "metadata": {},
   "outputs": [
    {
     "data": {
      "text/plain": [
       "'Dm'"
      ]
     },
     "execution_count": 126,
     "metadata": {},
     "output_type": "execute_result"
    }
   ],
   "source": [
    "chords_sel[0].text"
   ]
  },
  {
   "cell_type": "code",
   "execution_count": 19,
   "metadata": {},
   "outputs": [],
   "source": [
    "html = browser.page_source\n",
    "soup = BeautifulSoup(html, 'html.parser')"
   ]
  },
  {
   "cell_type": "code",
   "execution_count": 128,
   "metadata": {},
   "outputs": [
    {
     "data": {
      "text/plain": [
       "<pre class=\"_1YgOS\" style='font-size: 13px; font-family: \"Roboto Mono\", monospace;'>Capo on 4th Fret\n",
       "\n",
       "<span class=\"_3L0Da _3f5kI\" style=\"color: rgb(0, 0, 0);\">Dm</span>                 <span class=\"_3L0Da _3f5kI\" style=\"color: rgb(0, 0, 0);\">C</span>                      <span class=\"_3L0Da _3f5kI\" style=\"color: rgb(0, 0, 0);\">Dm</span>   <span class=\"_3L0Da _3f5kI\" style=\"color: rgb(0, 0, 0);\">C</span>         <span class=\"_3L0Da _3f5kI\" style=\"color: rgb(0, 0, 0);\">Dm</span>\n",
       "As I went out one morning, to breathe the air around Tom Paine's\n",
       "    <span class=\"_3L0Da _3f5kI\" style=\"color: rgb(0, 0, 0);\">Dm</span>               <span class=\"_3L0Da _3f5kI\" style=\"color: rgb(0, 0, 0);\">C</span>            <span class=\"_3L0Da _3f5kI\" style=\"color: rgb(0, 0, 0);\">Dm</span>      <span class=\"_3L0Da _3f5kI\" style=\"color: rgb(0, 0, 0);\">C</span>       <span class=\"_3L0Da _3f5kI\" style=\"color: rgb(0, 0, 0);\">Dm</span>\n",
       "I spied the fairest damsel, that ever did walk in chains\n",
       "    <span class=\"_3L0Da _3f5kI\" style=\"color: rgb(0, 0, 0);\">F</span>              <span class=\"_3L0Da _3f5kI\" style=\"color: rgb(0, 0, 0);\">Am</span>       <span class=\"_3L0Da _3f5kI\" style=\"color: rgb(0, 0, 0);\">Dm</span>    <span class=\"_3L0Da _3f5kI\" style=\"color: rgb(0, 0, 0);\">C</span>       <span class=\"_3L0Da _3f5kI\" style=\"color: rgb(0, 0, 0);\">Dm</span>\n",
       "I offer'd her my hand, she took me by the arm\n",
       "    <span class=\"_3L0Da _3f5kI\" style=\"color: rgb(0, 0, 0);\">Dm</span>            <span class=\"_3L0Da _3f5kI\" style=\"color: rgb(0, 0, 0);\">C</span>            <span class=\"_3L0Da _3f5kI\" style=\"color: rgb(0, 0, 0);\">Dm</span>      <span class=\"_3L0Da _3f5kI\" style=\"color: rgb(0, 0, 0);\">C</span>    <span class=\"_3L0Da _3f5kI\" style=\"color: rgb(0, 0, 0);\">Dm</span>\n",
       "I knew that very instant, she meant to do me harm\n",
       "\n",
       "\n",
       "<span class=\"_3L0Da _3f5kI\" style=\"color: rgb(0, 0, 0);\">Dm</span>                 <span class=\"_3L0Da _3f5kI\" style=\"color: rgb(0, 0, 0);\">C</span>             <span class=\"_3L0Da _3f5kI\" style=\"color: rgb(0, 0, 0);\">Dm</span>       <span class=\"_3L0Da _3f5kI\" style=\"color: rgb(0, 0, 0);\">C</span>     <span class=\"_3L0Da _3f5kI\" style=\"color: rgb(0, 0, 0);\">Dm</span>\n",
       "Depart from me this moment, I told her with my voice\n",
       " <span class=\"_3L0Da _3f5kI\" style=\"color: rgb(0, 0, 0);\">Dm</span>                       <span class=\"_3L0Da _3f5kI\" style=\"color: rgb(0, 0, 0);\">C</span>       <span class=\"_3L0Da _3f5kI\" style=\"color: rgb(0, 0, 0);\">Dm</span>            <span class=\"_3L0Da _3f5kI\" style=\"color: rgb(0, 0, 0);\">C</span>        <span class=\"_3L0Da _3f5kI\" style=\"color: rgb(0, 0, 0);\">Dm</span>\n",
       "Said she, \"But I don't wish to, said I, but you have no choice\n",
       "<span class=\"_3L0Da _3f5kI\" style=\"color: rgb(0, 0, 0);\">F</span>                 <span class=\"_3L0Da _3f5kI\" style=\"color: rgb(0, 0, 0);\">Am</span>         <span class=\"_3L0Da _3f5kI\" style=\"color: rgb(0, 0, 0);\">Dm</span>                <span class=\"_3L0Da _3f5kI\" style=\"color: rgb(0, 0, 0);\">C</span>       <span class=\"_3L0Da _3f5kI\" style=\"color: rgb(0, 0, 0);\">Dm</span>\n",
       "I beg you, sir, she pleaded, from the corners of her mouth\n",
       "<span class=\"_3L0Da _3f5kI\" style=\"color: rgb(0, 0, 0);\">Dm</span>                <span class=\"_3L0Da _3f5kI\" style=\"color: rgb(0, 0, 0);\">C</span>               <span class=\"_3L0Da _3f5kI\" style=\"color: rgb(0, 0, 0);\">Dm</span>        <span class=\"_3L0Da _3f5kI\" style=\"color: rgb(0, 0, 0);\">C</span>         <span class=\"_3L0Da _3f5kI\" style=\"color: rgb(0, 0, 0);\">Dm</span>\n",
       "I will secretly accept you, and together we'll fly south\n",
       "\n",
       "\n",
       "<span class=\"_3L0Da _3f5kI\" style=\"color: rgb(0, 0, 0);\">Dm</span>                     <span class=\"_3L0Da _3f5kI\" style=\"color: rgb(0, 0, 0);\">C</span>               <span class=\"_3L0Da _3f5kI\" style=\"color: rgb(0, 0, 0);\">Dm</span>        <span class=\"_3L0Da _3f5kI\" style=\"color: rgb(0, 0, 0);\">C</span>         <span class=\"_3L0Da _3f5kI\" style=\"color: rgb(0, 0, 0);\">Dm</span>\n",
       "Just then Tom Paine, himself, came running from across the field\n",
       "<span class=\"_3L0Da _3f5kI\" style=\"color: rgb(0, 0, 0);\">Dm</span>               <span class=\"_3L0Da _3f5kI\" style=\"color: rgb(0, 0, 0);\">C</span>                     <span class=\"_3L0Da _3f5kI\" style=\"color: rgb(0, 0, 0);\">Dm</span>      <span class=\"_3L0Da _3f5kI\" style=\"color: rgb(0, 0, 0);\">C</span>       <span class=\"_3L0Da _3f5kI\" style=\"color: rgb(0, 0, 0);\">Dm</span>\n",
       "Shouting at this lovely girl, and commanding her to yield\n",
       "<span class=\"_3L0Da _3f5kI\" style=\"color: rgb(0, 0, 0);\">F</span>                         <span class=\"_3L0Da _3f5kI\" style=\"color: rgb(0, 0, 0);\">Am</span>         <span class=\"_3L0Da _3f5kI\" style=\"color: rgb(0, 0, 0);\">Dm</span>    <span class=\"_3L0Da _3f5kI\" style=\"color: rgb(0, 0, 0);\">C</span>       <span class=\"_3L0Da _3f5kI\" style=\"color: rgb(0, 0, 0);\">Dm</span>\n",
       "And as she was letting go her grip, up Tom Paine did run\n",
       "<span class=\"_3L0Da _3f5kI\" style=\"color: rgb(0, 0, 0);\">Dm</span>                   <span class=\"_3L0Da _3f5kI\" style=\"color: rgb(0, 0, 0);\">C</span>            <span class=\"_3L0Da _3f5kI\" style=\"color: rgb(0, 0, 0);\">Dm</span>      <span class=\"_3L0Da _3f5kI\" style=\"color: rgb(0, 0, 0);\">C</span>              <span class=\"_3L0Da _3f5kI\" style=\"color: rgb(0, 0, 0);\">Dm</span>\n",
       "I'm sorry, sir, he said to me, I'm sorry for what she's done\n",
       "\n",
       "\n",
       "\n",
       "</pre>"
      ]
     },
     "execution_count": 128,
     "metadata": {},
     "output_type": "execute_result"
    }
   ],
   "source": [
    "song_body = soup.select_one('pre._1YgOS')\n",
    "song_body"
   ]
  },
  {
   "cell_type": "code",
   "execution_count": 129,
   "metadata": {},
   "outputs": [
    {
     "data": {
      "text/plain": [
       "['<pre class=\"_1YgOS\" style=\\'font-size: 13px; font-family: \"Roboto Mono\", monospace;\\'>Capo on 4th Fret',\n",
       " '',\n",
       " '<span class=\"_3L0Da _3f5kI\" style=\"color: rgb(0, 0, 0);\">Dm</span>                 <span class=\"_3L0Da _3f5kI\" style=\"color: rgb(0, 0, 0);\">C</span>                      <span class=\"_3L0Da _3f5kI\" style=\"color: rgb(0, 0, 0);\">Dm</span>   <span class=\"_3L0Da _3f5kI\" style=\"color: rgb(0, 0, 0);\">C</span>         <span class=\"_3L0Da _3f5kI\" style=\"color: rgb(0, 0, 0);\">Dm</span>',\n",
       " \"As I went out one morning, to breathe the air around Tom Paine's\",\n",
       " '    <span class=\"_3L0Da _3f5kI\" style=\"color: rgb(0, 0, 0);\">Dm</span>               <span class=\"_3L0Da _3f5kI\" style=\"color: rgb(0, 0, 0);\">C</span>            <span class=\"_3L0Da _3f5kI\" style=\"color: rgb(0, 0, 0);\">Dm</span>      <span class=\"_3L0Da _3f5kI\" style=\"color: rgb(0, 0, 0);\">C</span>       <span class=\"_3L0Da _3f5kI\" style=\"color: rgb(0, 0, 0);\">Dm</span>',\n",
       " 'I spied the fairest damsel, that ever did walk in chains',\n",
       " '    <span class=\"_3L0Da _3f5kI\" style=\"color: rgb(0, 0, 0);\">F</span>              <span class=\"_3L0Da _3f5kI\" style=\"color: rgb(0, 0, 0);\">Am</span>       <span class=\"_3L0Da _3f5kI\" style=\"color: rgb(0, 0, 0);\">Dm</span>    <span class=\"_3L0Da _3f5kI\" style=\"color: rgb(0, 0, 0);\">C</span>       <span class=\"_3L0Da _3f5kI\" style=\"color: rgb(0, 0, 0);\">Dm</span>',\n",
       " \"I offer'd her my hand, she took me by the arm\",\n",
       " '    <span class=\"_3L0Da _3f5kI\" style=\"color: rgb(0, 0, 0);\">Dm</span>            <span class=\"_3L0Da _3f5kI\" style=\"color: rgb(0, 0, 0);\">C</span>            <span class=\"_3L0Da _3f5kI\" style=\"color: rgb(0, 0, 0);\">Dm</span>      <span class=\"_3L0Da _3f5kI\" style=\"color: rgb(0, 0, 0);\">C</span>    <span class=\"_3L0Da _3f5kI\" style=\"color: rgb(0, 0, 0);\">Dm</span>',\n",
       " 'I knew that very instant, she meant to do me harm',\n",
       " '',\n",
       " '',\n",
       " '<span class=\"_3L0Da _3f5kI\" style=\"color: rgb(0, 0, 0);\">Dm</span>                 <span class=\"_3L0Da _3f5kI\" style=\"color: rgb(0, 0, 0);\">C</span>             <span class=\"_3L0Da _3f5kI\" style=\"color: rgb(0, 0, 0);\">Dm</span>       <span class=\"_3L0Da _3f5kI\" style=\"color: rgb(0, 0, 0);\">C</span>     <span class=\"_3L0Da _3f5kI\" style=\"color: rgb(0, 0, 0);\">Dm</span>',\n",
       " 'Depart from me this moment, I told her with my voice',\n",
       " ' <span class=\"_3L0Da _3f5kI\" style=\"color: rgb(0, 0, 0);\">Dm</span>                       <span class=\"_3L0Da _3f5kI\" style=\"color: rgb(0, 0, 0);\">C</span>       <span class=\"_3L0Da _3f5kI\" style=\"color: rgb(0, 0, 0);\">Dm</span>            <span class=\"_3L0Da _3f5kI\" style=\"color: rgb(0, 0, 0);\">C</span>        <span class=\"_3L0Da _3f5kI\" style=\"color: rgb(0, 0, 0);\">Dm</span>',\n",
       " 'Said she, \"But I don\\'t wish to, said I, but you have no choice',\n",
       " '<span class=\"_3L0Da _3f5kI\" style=\"color: rgb(0, 0, 0);\">F</span>                 <span class=\"_3L0Da _3f5kI\" style=\"color: rgb(0, 0, 0);\">Am</span>         <span class=\"_3L0Da _3f5kI\" style=\"color: rgb(0, 0, 0);\">Dm</span>                <span class=\"_3L0Da _3f5kI\" style=\"color: rgb(0, 0, 0);\">C</span>       <span class=\"_3L0Da _3f5kI\" style=\"color: rgb(0, 0, 0);\">Dm</span>',\n",
       " 'I beg you, sir, she pleaded, from the corners of her mouth',\n",
       " '<span class=\"_3L0Da _3f5kI\" style=\"color: rgb(0, 0, 0);\">Dm</span>                <span class=\"_3L0Da _3f5kI\" style=\"color: rgb(0, 0, 0);\">C</span>               <span class=\"_3L0Da _3f5kI\" style=\"color: rgb(0, 0, 0);\">Dm</span>        <span class=\"_3L0Da _3f5kI\" style=\"color: rgb(0, 0, 0);\">C</span>         <span class=\"_3L0Da _3f5kI\" style=\"color: rgb(0, 0, 0);\">Dm</span>',\n",
       " \"I will secretly accept you, and together we'll fly south\",\n",
       " '',\n",
       " '',\n",
       " '<span class=\"_3L0Da _3f5kI\" style=\"color: rgb(0, 0, 0);\">Dm</span>                     <span class=\"_3L0Da _3f5kI\" style=\"color: rgb(0, 0, 0);\">C</span>               <span class=\"_3L0Da _3f5kI\" style=\"color: rgb(0, 0, 0);\">Dm</span>        <span class=\"_3L0Da _3f5kI\" style=\"color: rgb(0, 0, 0);\">C</span>         <span class=\"_3L0Da _3f5kI\" style=\"color: rgb(0, 0, 0);\">Dm</span>',\n",
       " 'Just then Tom Paine, himself, came running from across the field',\n",
       " '<span class=\"_3L0Da _3f5kI\" style=\"color: rgb(0, 0, 0);\">Dm</span>               <span class=\"_3L0Da _3f5kI\" style=\"color: rgb(0, 0, 0);\">C</span>                     <span class=\"_3L0Da _3f5kI\" style=\"color: rgb(0, 0, 0);\">Dm</span>      <span class=\"_3L0Da _3f5kI\" style=\"color: rgb(0, 0, 0);\">C</span>       <span class=\"_3L0Da _3f5kI\" style=\"color: rgb(0, 0, 0);\">Dm</span>',\n",
       " 'Shouting at this lovely girl, and commanding her to yield',\n",
       " '<span class=\"_3L0Da _3f5kI\" style=\"color: rgb(0, 0, 0);\">F</span>                         <span class=\"_3L0Da _3f5kI\" style=\"color: rgb(0, 0, 0);\">Am</span>         <span class=\"_3L0Da _3f5kI\" style=\"color: rgb(0, 0, 0);\">Dm</span>    <span class=\"_3L0Da _3f5kI\" style=\"color: rgb(0, 0, 0);\">C</span>       <span class=\"_3L0Da _3f5kI\" style=\"color: rgb(0, 0, 0);\">Dm</span>',\n",
       " 'And as she was letting go her grip, up Tom Paine did run',\n",
       " '<span class=\"_3L0Da _3f5kI\" style=\"color: rgb(0, 0, 0);\">Dm</span>                   <span class=\"_3L0Da _3f5kI\" style=\"color: rgb(0, 0, 0);\">C</span>            <span class=\"_3L0Da _3f5kI\" style=\"color: rgb(0, 0, 0);\">Dm</span>      <span class=\"_3L0Da _3f5kI\" style=\"color: rgb(0, 0, 0);\">C</span>              <span class=\"_3L0Da _3f5kI\" style=\"color: rgb(0, 0, 0);\">Dm</span>',\n",
       " \"I'm sorry, sir, he said to me, I'm sorry for what she's done\",\n",
       " '',\n",
       " '',\n",
       " '',\n",
       " '</pre>']"
      ]
     },
     "execution_count": 129,
     "metadata": {},
     "output_type": "execute_result"
    }
   ],
   "source": [
    "lines = str(song_body).split('\\n')\n",
    "lines"
   ]
  },
  {
   "cell_type": "code",
   "execution_count": 112,
   "metadata": {},
   "outputs": [],
   "source": [
    "def strip_html(text):\n",
    "    result = []\n",
    "    in_tag = False\n",
    "    for char in text:\n",
    "        if char == '<':\n",
    "            in_tag = True\n",
    "        if not in_tag:\n",
    "            result.append(char)\n",
    "        if char == '>':\n",
    "            in_tag = False\n",
    "    return ''.join(result)"
   ]
  },
  {
   "cell_type": "code",
   "execution_count": 116,
   "metadata": {},
   "outputs": [],
   "source": [
    "def parse_lines(lines):\n",
    "    parsed_lines = []\n",
    "    for line in lines: \n",
    "        if '_3L0Da' in line:\n",
    "            parsed_lines.append({'chords': strip_html(line)})\n",
    "        elif line and strip_html(line) == line:\n",
    "            parsed_lines[-1]['words'] = line\n",
    "    return parsed_lines "
   ]
  },
  {
   "cell_type": "code",
   "execution_count": 304,
   "metadata": {},
   "outputs": [
    {
     "data": {
      "text/plain": [
       "[{'chords': 'Dm                 C                      Dm   C         Dm',\n",
       "  'words': \"As I went out one morning, to breathe the air around Tom Paine's\"},\n",
       " {'chords': '    Dm               C            Dm      C       Dm',\n",
       "  'words': 'I spied the fairest damsel, that ever did walk in chains'},\n",
       " {'chords': '    F              Am       Dm    C       Dm',\n",
       "  'words': \"I offer'd her my hand, she took me by the arm\"},\n",
       " {'chords': '    Dm            C            Dm      C    Dm',\n",
       "  'words': 'I knew that very instant, she meant to do me harm'},\n",
       " {'chords': 'Dm                 C             Dm       C     Dm',\n",
       "  'words': 'Depart from me this moment, I told her with my voice'},\n",
       " {'chords': ' Dm                       C       Dm            C        Dm',\n",
       "  'words': 'Said she, \"But I don\\'t wish to, said I, but you have no choice'},\n",
       " {'chords': 'F                 Am         Dm                C       Dm',\n",
       "  'words': 'I beg you, sir, she pleaded, from the corners of her mouth'},\n",
       " {'chords': 'Dm                C               Dm        C         Dm',\n",
       "  'words': \"I will secretly accept you, and together we'll fly south\"},\n",
       " {'chords': 'Dm                     C               Dm        C         Dm',\n",
       "  'words': 'Just then Tom Paine, himself, came running from across the field'},\n",
       " {'chords': 'Dm               C                     Dm      C       Dm',\n",
       "  'words': 'Shouting at this lovely girl, and commanding her to yield'},\n",
       " {'chords': 'F                         Am         Dm    C       Dm',\n",
       "  'words': 'And as she was letting go her grip, up Tom Paine did run'},\n",
       " {'chords': 'Dm                   C            Dm      C              Dm',\n",
       "  'words': \"I'm sorry, sir, he said to me, I'm sorry for what she's done\"}]"
      ]
     },
     "execution_count": 304,
     "metadata": {},
     "output_type": "execute_result"
    }
   ],
   "source": [
    "parse_lines(lines)"
   ]
  },
  {
   "cell_type": "code",
   "execution_count": 139,
   "metadata": {},
   "outputs": [
    {
     "data": {
      "text/plain": [
       "{'chords': 'Dm                 C                      Dm   C         Dm',\n",
       " 'words': \"As I went out one morning, to breathe the air around Tom Paine's\"}"
      ]
     },
     "execution_count": 139,
     "metadata": {},
     "output_type": "execute_result"
    }
   ],
   "source": [
    "first_line = parsed_lines[0]\n",
    "first_line"
   ]
  },
  {
   "cell_type": "code",
   "execution_count": 157,
   "metadata": {},
   "outputs": [
    {
     "data": {
      "text/plain": [
       "'Dm                 C                      Dm   C         Dm'"
      ]
     },
     "execution_count": 157,
     "metadata": {},
     "output_type": "execute_result"
    }
   ],
   "source": [
    "parsed_lines[0]['chords']"
   ]
  },
  {
   "cell_type": "code",
   "execution_count": 152,
   "metadata": {},
   "outputs": [
    {
     "data": {
      "text/plain": [
       "'o'"
      ]
     },
     "execution_count": 152,
     "metadata": {},
     "output_type": "execute_result"
    }
   ],
   "source": [
    "parsed_lines[0]['words'][19]"
   ]
  },
  {
   "cell_type": "code",
   "execution_count": 170,
   "metadata": {},
   "outputs": [],
   "source": [
    "c = parsed_lines[0]['chords']\n",
    "for i, chord in enumerate(c):\n",
    "    if c[i] != c[-1]:\n",
    "        if c[i+1] == ' ':\n",
    "            chord = chord\n",
    "        else:\n",
    "            chord = c[i] + c[i+1] "
   ]
  },
  {
   "cell_type": "code",
   "execution_count": 171,
   "metadata": {},
   "outputs": [
    {
     "data": {
      "text/plain": [
       "'Dm                 C                      Dm   C         Dm'"
      ]
     },
     "execution_count": 171,
     "metadata": {},
     "output_type": "execute_result"
    }
   ],
   "source": [
    "parsed_lines[0]['chords']"
   ]
  },
  {
   "cell_type": "code",
   "execution_count": 174,
   "metadata": {},
   "outputs": [
    {
     "data": {
      "text/plain": [
       "{'chords': 'Dm                 C                      Dm   C         Dm',\n",
       " 'words': \"As I went out one morning, to breathe the air around Tom Paine's\"}"
      ]
     },
     "execution_count": 174,
     "metadata": {},
     "output_type": "execute_result"
    }
   ],
   "source": [
    "parsed_lines[0]"
   ]
  },
  {
   "cell_type": "code",
   "execution_count": 498,
   "metadata": {},
   "outputs": [],
   "source": [
    "# chord_lyric_dict = {}\n",
    "\n",
    "# def get_chords(pl):\n",
    "#     chord_idxs = []\n",
    "#     chords = []\n",
    "#     for i, chord in enumerate(pl['chords']):\n",
    "#         if pl['chords'][i] != pl[-1]:\n",
    "#             if c[i+1] == ' ':\n",
    "#                 chord = chord\n",
    "#             else:\n",
    "#                 chord = c[i] + c[i+1] \n",
    "#         chord_idxs.append(i)\n",
    "#         chords.append(chord)\n",
    "#     return chord_idxs, chords \n",
    "\n",
    "# def main()\n",
    "\n",
    "def get_chords(pl):\n",
    "    chord_idxs = []\n",
    "    chords = []\n",
    "    c_string = pl['chords']\n",
    "    for chord in re.finditer('\\w+', c_string):\n",
    "        chord_idxs.append(chord.start())\n",
    "        chords.append(chord.group())\n",
    "    chord_tups = list(zip(chord_idxs, chords))\n",
    "    return chord_idxs, chords, chord_tups\n",
    "\n",
    "def get_words(pl):\n",
    "    word_idxs = []\n",
    "    words = []\n",
    "    w_string = pl['words']\n",
    "    for word in re.finditer('\\w+', w_string):\n",
    "        word_idxs.append(word.start())\n",
    "        words.append(word.group())\n",
    "    word_tups = list(zip(word_idxs, words))\n",
    "    return word_idxs, words, word_tups\n",
    "\n",
    "def match_chords_words(pl):\n",
    "    gw = get_words(pl)[2]\n",
    "    gc = get_chords(pl)[2]\n",
    "    word_idxs = get_words(pl)[0]\n",
    "    words = pl['words']\n",
    "    ch_words = []\n",
    "#     lyrics = []\n",
    "    for (i, w) in gw:\n",
    "        for (j, c) in gc:\n",
    "            if i == j: \n",
    "                ch_words.append((w, c))\n",
    "            else:\n",
    "                if i-10 in word_idxs: \n",
    "                    lyrics = words[i-10: i+5]\n",
    "                    if \n",
    "                    ch_words.append((c, lyrics))\n",
    "    return ch_words\n",
    "\n",
    "#                 return [ (w, c) for i in range(j-3, j+2) ]"
   ]
  },
  {
   "cell_type": "code",
   "execution_count": 499,
   "metadata": {},
   "outputs": [
    {
     "data": {
      "text/plain": [
       "[('As', 'Dm'),\n",
       " ('Dm', 'As I went out o'),\n",
       " ('C', 'As I went out o'),\n",
       " ('Dm', 'As I went out o'),\n",
       " ('C', 'As I went out o'),\n",
       " ('Dm', 'As I went out o'),\n",
       " ('air', 'Dm'),\n",
       " ('Paine', 'Dm'),\n",
       " ('Dm', \"Tom Paine's\"),\n",
       " ('C', \"Tom Paine's\"),\n",
       " ('Dm', \"Tom Paine's\"),\n",
       " ('C', \"Tom Paine's\"),\n",
       " ('Dm', \"Tom Paine's\")]"
      ]
     },
     "execution_count": 499,
     "metadata": {},
     "output_type": "execute_result"
    }
   ],
   "source": [
    "match_chords_words(parsed_line)"
   ]
  },
  {
   "cell_type": "code",
   "execution_count": 481,
   "metadata": {},
   "outputs": [
    {
     "data": {
      "text/plain": [
       "['As',\n",
       " 'I',\n",
       " 'went',\n",
       " 'out',\n",
       " 'one',\n",
       " 'morning',\n",
       " 'to',\n",
       " 'breathe',\n",
       " 'the',\n",
       " 'air',\n",
       " 'around',\n",
       " 'Tom',\n",
       " 'Paine',\n",
       " 's']"
      ]
     },
     "execution_count": 481,
     "metadata": {},
     "output_type": "execute_result"
    }
   ],
   "source": [
    "get_words(parsed_line)[1]"
   ]
  },
  {
   "cell_type": "code",
   "execution_count": 416,
   "metadata": {},
   "outputs": [
    {
     "data": {
      "text/plain": [
       "[(0, 'Dm'), (19, 'C'), (42, 'Dm'), (47, 'C'), (57, 'Dm')]"
      ]
     },
     "execution_count": 416,
     "metadata": {},
     "output_type": "execute_result"
    }
   ],
   "source": [
    "get_chords(parsed_line)[2]"
   ]
  },
  {
   "cell_type": "code",
   "execution_count": 411,
   "metadata": {},
   "outputs": [
    {
     "ename": "TypeError",
     "evalue": "'int' object is not iterable",
     "output_type": "error",
     "traceback": [
      "\u001b[0;31m---------------------------------------------------------------------------\u001b[0m",
      "\u001b[0;31mTypeError\u001b[0m                                 Traceback (most recent call last)",
      "\u001b[0;32m<ipython-input-411-caa1e7e8c950>\u001b[0m in \u001b[0;36m<module>\u001b[0;34m()\u001b[0m\n\u001b[0;32m----> 1\u001b[0;31m \u001b[0mmatch_chords_words\u001b[0m\u001b[0;34m(\u001b[0m\u001b[0mparsed_line\u001b[0m\u001b[0;34m)\u001b[0m\u001b[0;34m\u001b[0m\u001b[0m\n\u001b[0m",
      "\u001b[0;32m<ipython-input-410-668941cc5af6>\u001b[0m in \u001b[0;36mmatch_chords_words\u001b[0;34m(pl)\u001b[0m\n\u001b[1;32m     39\u001b[0m     \u001b[0mgw\u001b[0m \u001b[0;34m=\u001b[0m \u001b[0mget_words\u001b[0m\u001b[0;34m(\u001b[0m\u001b[0mpl\u001b[0m\u001b[0;34m)\u001b[0m\u001b[0;34m[\u001b[0m\u001b[0;36m2\u001b[0m\u001b[0;34m]\u001b[0m\u001b[0;34m\u001b[0m\u001b[0m\n\u001b[1;32m     40\u001b[0m     \u001b[0mgc\u001b[0m \u001b[0;34m=\u001b[0m \u001b[0mget_chords\u001b[0m\u001b[0;34m(\u001b[0m\u001b[0mpl\u001b[0m\u001b[0;34m)\u001b[0m\u001b[0;34m[\u001b[0m\u001b[0;36m2\u001b[0m\u001b[0;34m]\u001b[0m\u001b[0;34m\u001b[0m\u001b[0m\n\u001b[0;32m---> 41\u001b[0;31m     \u001b[0;32mfor\u001b[0m \u001b[0;34m(\u001b[0m\u001b[0mi\u001b[0m\u001b[0;34m,\u001b[0m \u001b[0mw\u001b[0m\u001b[0;34m)\u001b[0m \u001b[0;32min\u001b[0m \u001b[0mgw\u001b[0m\u001b[0;34m[\u001b[0m\u001b[0;36m0\u001b[0m\u001b[0;34m]\u001b[0m\u001b[0;34m:\u001b[0m\u001b[0;34m\u001b[0m\u001b[0m\n\u001b[0m\u001b[1;32m     42\u001b[0m         \u001b[0;32mfor\u001b[0m \u001b[0;34m(\u001b[0m\u001b[0mj\u001b[0m\u001b[0;34m,\u001b[0m \u001b[0mc\u001b[0m\u001b[0;34m)\u001b[0m \u001b[0;32min\u001b[0m \u001b[0mgc\u001b[0m\u001b[0;34m[\u001b[0m\u001b[0;36m0\u001b[0m\u001b[0;34m]\u001b[0m\u001b[0;34m:\u001b[0m\u001b[0;34m\u001b[0m\u001b[0m\n\u001b[1;32m     43\u001b[0m             \u001b[0;32mif\u001b[0m \u001b[0mi\u001b[0m \u001b[0;34m==\u001b[0m \u001b[0mj\u001b[0m\u001b[0;34m:\u001b[0m\u001b[0;34m\u001b[0m\u001b[0m\n",
      "\u001b[0;31mTypeError\u001b[0m: 'int' object is not iterable"
     ]
    }
   ],
   "source": []
  },
  {
   "cell_type": "code",
   "execution_count": 380,
   "metadata": {},
   "outputs": [
    {
     "data": {
      "text/plain": [
       "([0, 19, 42, 47, 57],\n",
       " ['Dm', 'C', 'Dm', 'C', 'Dm'],\n",
       " [(0, 'Dm'), (19, 'C'), (42, 'Dm'), (47, 'C'), (57, 'Dm')])"
      ]
     },
     "execution_count": 380,
     "metadata": {},
     "output_type": "execute_result"
    }
   ],
   "source": [
    "get_chords(parsed_lines[0])"
   ]
  },
  {
   "cell_type": "code",
   "execution_count": 381,
   "metadata": {},
   "outputs": [
    {
     "data": {
      "text/plain": [
       "list"
      ]
     },
     "execution_count": 381,
     "metadata": {},
     "output_type": "execute_result"
    }
   ],
   "source": [
    "type(gw[1])"
   ]
  },
  {
   "cell_type": "code",
   "execution_count": 382,
   "metadata": {},
   "outputs": [
    {
     "data": {
      "text/plain": [
       "([0, 3, 5, 10, 14, 18, 27, 30, 38, 42, 46, 53, 57, 63],\n",
       " ['As',\n",
       "  'I',\n",
       "  'went',\n",
       "  'out',\n",
       "  'one',\n",
       "  'morning',\n",
       "  'to',\n",
       "  'breathe',\n",
       "  'the',\n",
       "  'air',\n",
       "  'around',\n",
       "  'Tom',\n",
       "  'Paine',\n",
       "  's'],\n",
       " [(0, 'As'),\n",
       "  (3, 'I'),\n",
       "  (5, 'went'),\n",
       "  (10, 'out'),\n",
       "  (14, 'one'),\n",
       "  (18, 'morning'),\n",
       "  (27, 'to'),\n",
       "  (30, 'breathe'),\n",
       "  (38, 'the'),\n",
       "  (42, 'air'),\n",
       "  (46, 'around'),\n",
       "  (53, 'Tom'),\n",
       "  (57, 'Paine'),\n",
       "  (63, 's')])"
      ]
     },
     "execution_count": 382,
     "metadata": {},
     "output_type": "execute_result"
    }
   ],
   "source": [
    "get_words(parsed_lines[0])"
   ]
  },
  {
   "cell_type": "code",
   "execution_count": 311,
   "metadata": {},
   "outputs": [
    {
     "data": {
      "text/plain": [
       "{'chords': 'Dm                 C                      Dm   C         Dm',\n",
       " 'words': \"As I went out one morning, to breathe the air around Tom Paine's\"}"
      ]
     },
     "execution_count": 311,
     "metadata": {},
     "output_type": "execute_result"
    }
   ],
   "source": [
    "parsed_line = parsed_lines[0]\n",
    "parsed_line"
   ]
  },
  {
   "cell_type": "code",
   "execution_count": 314,
   "metadata": {},
   "outputs": [
    {
     "data": {
      "text/plain": [
       "[{'chords': 'Dm                 C                      Dm   C         Dm',\n",
       "  'words': \"As I went out one morning, to breathe the air around Tom Paine's\"},\n",
       " {'chords': '    Dm               C            Dm      C       Dm',\n",
       "  'words': 'I spied the fairest damsel, that ever did walk in chains'},\n",
       " {'chords': '    F              Am       Dm    C       Dm',\n",
       "  'words': \"I offer'd her my hand, she took me by the arm\"},\n",
       " {'chords': '    Dm            C            Dm      C    Dm',\n",
       "  'words': 'I knew that very instant, she meant to do me harm'},\n",
       " {'chords': 'Dm                 C             Dm       C     Dm',\n",
       "  'words': 'Depart from me this moment, I told her with my voice'},\n",
       " {'chords': ' Dm                       C       Dm            C        Dm',\n",
       "  'words': 'Said she, \"But I don\\'t wish to, said I, but you have no choice'},\n",
       " {'chords': 'F                 Am         Dm                C       Dm',\n",
       "  'words': 'I beg you, sir, she pleaded, from the corners of her mouth'},\n",
       " {'chords': 'Dm                C               Dm        C         Dm',\n",
       "  'words': \"I will secretly accept you, and together we'll fly south\"},\n",
       " {'chords': 'Dm                     C               Dm        C         Dm',\n",
       "  'words': 'Just then Tom Paine, himself, came running from across the field'},\n",
       " {'chords': 'Dm               C                     Dm      C       Dm',\n",
       "  'words': 'Shouting at this lovely girl, and commanding her to yield'},\n",
       " {'chords': 'F                         Am         Dm    C       Dm',\n",
       "  'words': 'And as she was letting go her grip, up Tom Paine did run'},\n",
       " {'chords': 'Dm                   C            Dm      C              Dm',\n",
       "  'words': \"I'm sorry, sir, he said to me, I'm sorry for what she's done\"}]"
      ]
     },
     "execution_count": 314,
     "metadata": {},
     "output_type": "execute_result"
    }
   ],
   "source": [
    "parsed_lines"
   ]
  },
  {
   "cell_type": "code",
   "execution_count": null,
   "metadata": {},
   "outputs": [],
   "source": []
  }
 ],
 "metadata": {
  "kernelspec": {
   "display_name": "Python 3",
   "language": "python",
   "name": "python3"
  },
  "language_info": {
   "codemirror_mode": {
    "name": "ipython",
    "version": 3
   },
   "file_extension": ".py",
   "mimetype": "text/x-python",
   "name": "python",
   "nbconvert_exporter": "python",
   "pygments_lexer": "ipython3",
   "version": "3.6.3"
  }
 },
 "nbformat": 4,
 "nbformat_minor": 2
}
