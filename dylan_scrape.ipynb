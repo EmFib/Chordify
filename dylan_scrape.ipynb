{
 "cells": [
  {
   "cell_type": "code",
   "execution_count": 1,
   "metadata": {},
   "outputs": [],
   "source": [
    "from selenium.webdriver import Chrome \n",
    "from bs4 import BeautifulSoup\n",
    "import pymongo\n",
    "import datetime\n",
    "import time \n",
    "import pandas as pd "
   ]
  },
  {
   "cell_type": "code",
   "execution_count": 2,
   "metadata": {},
   "outputs": [],
   "source": [
    "url = \"https://tabs.ultimate-guitar.com/tab/bob_dylan/as_i_went_out_one_morning_chords_927691\""
   ]
  },
  {
   "cell_type": "code",
   "execution_count": 3,
   "metadata": {},
   "outputs": [],
   "source": [
    "browser = Chrome()"
   ]
  },
  {
   "cell_type": "code",
   "execution_count": 4,
   "metadata": {},
   "outputs": [],
   "source": [
    "browser.get(url)"
   ]
  },
  {
   "cell_type": "code",
   "execution_count": 5,
   "metadata": {},
   "outputs": [],
   "source": [
    "time.sleep(10)"
   ]
  },
  {
   "cell_type": "code",
   "execution_count": 6,
   "metadata": {},
   "outputs": [],
   "source": [
    "html = browser.page_source"
   ]
  },
  {
   "cell_type": "code",
   "execution_count": 7,
   "metadata": {},
   "outputs": [],
   "source": [
    "mc = pymongo.MongoClient()"
   ]
  },
  {
   "cell_type": "code",
   "execution_count": 8,
   "metadata": {},
   "outputs": [],
   "source": [
    "db = mc['chordify']"
   ]
  },
  {
   "cell_type": "code",
   "execution_count": 9,
   "metadata": {},
   "outputs": [],
   "source": [
    "raw_html = db['raw_html']"
   ]
  },
  {
   "cell_type": "code",
   "execution_count": 10,
   "metadata": {},
   "outputs": [
    {
     "data": {
      "text/plain": [
       "<pymongo.results.InsertOneResult at 0x108b556c0>"
      ]
     },
     "execution_count": 10,
     "metadata": {},
     "output_type": "execute_result"
    }
   ],
   "source": [
    "raw_html.insert_one(\n",
    "    {'url': url,\n",
    "     'datetime': datetime.datetime.now(),\n",
    "     'html': html \n",
    "    })"
   ]
  },
  {
   "cell_type": "code",
   "execution_count": 120,
   "metadata": {},
   "outputs": [],
   "source": [
    "sel = \"section._3TQ4n._3zQIL\"\n",
    "body_sel = browser.find_element_by_css_selector(sel)"
   ]
  },
  {
   "cell_type": "code",
   "execution_count": 121,
   "metadata": {},
   "outputs": [
    {
     "data": {
      "text/plain": [
       "'Capo on 4th Fret\\n\\nDm                 C                      Dm   C         Dm\\nAs I went out one morning, to breathe the air around Tom Paine\\'s\\n    Dm               C            Dm      C       Dm\\nI spied the fairest damsel, that ever did walk in chains\\n    F              Am       Dm    C       Dm\\nI offer\\'d her my hand, she took me by the arm\\n    Dm            C            Dm      C    Dm\\nI knew that very instant, she meant to do me harm\\n\\n\\nDm                 C             Dm       C     Dm\\nDepart from me this moment, I told her with my voice\\n Dm                       C       Dm            C        Dm\\nSaid she, \"But I don\\'t wish to, said I, but you have no choice\\nF                 Am         Dm                C       Dm\\nI beg you, sir, she pleaded, from the corners of her mouth\\nDm                C               Dm        C         Dm\\nI will secretly accept you, and together we\\'ll fly south\\n\\n\\nDm                     C               Dm        C         Dm\\nJust then Tom Paine, himself, came running from across the field\\nDm               C                     Dm      C       Dm\\nShouting at this lovely girl, and commanding her to yield\\nF                         Am         Dm    C       Dm\\nAnd as she was letting go her grip, up Tom Paine did run\\nDm                   C            Dm      C              Dm\\nI\\'m sorry, sir, he said to me, I\\'m sorry for what she\\'s done'"
      ]
     },
     "execution_count": 121,
     "metadata": {},
     "output_type": "execute_result"
    }
   ],
   "source": [
    "body_sel.text"
   ]
  },
  {
   "cell_type": "code",
   "execution_count": 122,
   "metadata": {},
   "outputs": [
    {
     "name": "stdout",
     "output_type": "stream",
     "text": [
      "Capo on 4th Fret\n",
      "\n",
      "Dm                 C                      Dm   C         Dm\n",
      "As I went out one morning, to breathe the air around Tom Paine's\n",
      "    Dm               C            Dm      C       Dm\n",
      "I spied the fairest damsel, that ever did walk in chains\n",
      "    F              Am       Dm    C       Dm\n",
      "I offer'd her my hand, she took me by the arm\n",
      "    Dm            C            Dm      C    Dm\n",
      "I knew that very instant, she meant to do me harm\n",
      "\n",
      "\n",
      "Dm                 C             Dm       C     Dm\n",
      "Depart from me this moment, I told her with my voice\n",
      " Dm                       C       Dm            C        Dm\n",
      "Said she, \"But I don't wish to, said I, but you have no choice\n",
      "F                 Am         Dm                C       Dm\n",
      "I beg you, sir, she pleaded, from the corners of her mouth\n",
      "Dm                C               Dm        C         Dm\n",
      "I will secretly accept you, and together we'll fly south\n",
      "\n",
      "\n",
      "Dm                     C               Dm        C         Dm\n",
      "Just then Tom Paine, himself, came running from across the field\n",
      "Dm               C                     Dm      C       Dm\n",
      "Shouting at this lovely girl, and commanding her to yield\n",
      "F                         Am         Dm    C       Dm\n",
      "And as she was letting go her grip, up Tom Paine did run\n",
      "Dm                   C            Dm      C              Dm\n",
      "I'm sorry, sir, he said to me, I'm sorry for what she's done\n"
     ]
    }
   ],
   "source": [
    "print(body_sel.text)"
   ]
  },
  {
   "cell_type": "code",
   "execution_count": 125,
   "metadata": {},
   "outputs": [
    {
     "data": {
      "text/plain": [
       "<selenium.webdriver.remote.webelement.WebElement (session=\"c7e7021899be7bcd6c89683f09aa59db\", element=\"0.22856330311087558-3\")>"
      ]
     },
     "execution_count": 125,
     "metadata": {},
     "output_type": "execute_result"
    }
   ],
   "source": [
    "chords_sel = browser.find_elements_by_css_selector('span._3L0Da._3f5kI')\n",
    "chords_sel[0]"
   ]
  },
  {
   "cell_type": "code",
   "execution_count": 126,
   "metadata": {},
   "outputs": [
    {
     "data": {
      "text/plain": [
       "'Dm'"
      ]
     },
     "execution_count": 126,
     "metadata": {},
     "output_type": "execute_result"
    }
   ],
   "source": [
    "chords_sel[0].text"
   ]
  },
  {
   "cell_type": "code",
   "execution_count": 19,
   "metadata": {},
   "outputs": [],
   "source": [
    "html = browser.page_source\n",
    "soup = BeautifulSoup(html, 'html.parser')"
   ]
  },
  {
   "cell_type": "code",
   "execution_count": 128,
   "metadata": {},
   "outputs": [
    {
     "data": {
      "text/plain": [
       "<pre class=\"_1YgOS\" style='font-size: 13px; font-family: \"Roboto Mono\", monospace;'>Capo on 4th Fret\n",
       "\n",
       "<span class=\"_3L0Da _3f5kI\" style=\"color: rgb(0, 0, 0);\">Dm</span>                 <span class=\"_3L0Da _3f5kI\" style=\"color: rgb(0, 0, 0);\">C</span>                      <span class=\"_3L0Da _3f5kI\" style=\"color: rgb(0, 0, 0);\">Dm</span>   <span class=\"_3L0Da _3f5kI\" style=\"color: rgb(0, 0, 0);\">C</span>         <span class=\"_3L0Da _3f5kI\" style=\"color: rgb(0, 0, 0);\">Dm</span>\n",
       "As I went out one morning, to breathe the air around Tom Paine's\n",
       "    <span class=\"_3L0Da _3f5kI\" style=\"color: rgb(0, 0, 0);\">Dm</span>               <span class=\"_3L0Da _3f5kI\" style=\"color: rgb(0, 0, 0);\">C</span>            <span class=\"_3L0Da _3f5kI\" style=\"color: rgb(0, 0, 0);\">Dm</span>      <span class=\"_3L0Da _3f5kI\" style=\"color: rgb(0, 0, 0);\">C</span>       <span class=\"_3L0Da _3f5kI\" style=\"color: rgb(0, 0, 0);\">Dm</span>\n",
       "I spied the fairest damsel, that ever did walk in chains\n",
       "    <span class=\"_3L0Da _3f5kI\" style=\"color: rgb(0, 0, 0);\">F</span>              <span class=\"_3L0Da _3f5kI\" style=\"color: rgb(0, 0, 0);\">Am</span>       <span class=\"_3L0Da _3f5kI\" style=\"color: rgb(0, 0, 0);\">Dm</span>    <span class=\"_3L0Da _3f5kI\" style=\"color: rgb(0, 0, 0);\">C</span>       <span class=\"_3L0Da _3f5kI\" style=\"color: rgb(0, 0, 0);\">Dm</span>\n",
       "I offer'd her my hand, she took me by the arm\n",
       "    <span class=\"_3L0Da _3f5kI\" style=\"color: rgb(0, 0, 0);\">Dm</span>            <span class=\"_3L0Da _3f5kI\" style=\"color: rgb(0, 0, 0);\">C</span>            <span class=\"_3L0Da _3f5kI\" style=\"color: rgb(0, 0, 0);\">Dm</span>      <span class=\"_3L0Da _3f5kI\" style=\"color: rgb(0, 0, 0);\">C</span>    <span class=\"_3L0Da _3f5kI\" style=\"color: rgb(0, 0, 0);\">Dm</span>\n",
       "I knew that very instant, she meant to do me harm\n",
       "\n",
       "\n",
       "<span class=\"_3L0Da _3f5kI\" style=\"color: rgb(0, 0, 0);\">Dm</span>                 <span class=\"_3L0Da _3f5kI\" style=\"color: rgb(0, 0, 0);\">C</span>             <span class=\"_3L0Da _3f5kI\" style=\"color: rgb(0, 0, 0);\">Dm</span>       <span class=\"_3L0Da _3f5kI\" style=\"color: rgb(0, 0, 0);\">C</span>     <span class=\"_3L0Da _3f5kI\" style=\"color: rgb(0, 0, 0);\">Dm</span>\n",
       "Depart from me this moment, I told her with my voice\n",
       " <span class=\"_3L0Da _3f5kI\" style=\"color: rgb(0, 0, 0);\">Dm</span>                       <span class=\"_3L0Da _3f5kI\" style=\"color: rgb(0, 0, 0);\">C</span>       <span class=\"_3L0Da _3f5kI\" style=\"color: rgb(0, 0, 0);\">Dm</span>            <span class=\"_3L0Da _3f5kI\" style=\"color: rgb(0, 0, 0);\">C</span>        <span class=\"_3L0Da _3f5kI\" style=\"color: rgb(0, 0, 0);\">Dm</span>\n",
       "Said she, \"But I don't wish to, said I, but you have no choice\n",
       "<span class=\"_3L0Da _3f5kI\" style=\"color: rgb(0, 0, 0);\">F</span>                 <span class=\"_3L0Da _3f5kI\" style=\"color: rgb(0, 0, 0);\">Am</span>         <span class=\"_3L0Da _3f5kI\" style=\"color: rgb(0, 0, 0);\">Dm</span>                <span class=\"_3L0Da _3f5kI\" style=\"color: rgb(0, 0, 0);\">C</span>       <span class=\"_3L0Da _3f5kI\" style=\"color: rgb(0, 0, 0);\">Dm</span>\n",
       "I beg you, sir, she pleaded, from the corners of her mouth\n",
       "<span class=\"_3L0Da _3f5kI\" style=\"color: rgb(0, 0, 0);\">Dm</span>                <span class=\"_3L0Da _3f5kI\" style=\"color: rgb(0, 0, 0);\">C</span>               <span class=\"_3L0Da _3f5kI\" style=\"color: rgb(0, 0, 0);\">Dm</span>        <span class=\"_3L0Da _3f5kI\" style=\"color: rgb(0, 0, 0);\">C</span>         <span class=\"_3L0Da _3f5kI\" style=\"color: rgb(0, 0, 0);\">Dm</span>\n",
       "I will secretly accept you, and together we'll fly south\n",
       "\n",
       "\n",
       "<span class=\"_3L0Da _3f5kI\" style=\"color: rgb(0, 0, 0);\">Dm</span>                     <span class=\"_3L0Da _3f5kI\" style=\"color: rgb(0, 0, 0);\">C</span>               <span class=\"_3L0Da _3f5kI\" style=\"color: rgb(0, 0, 0);\">Dm</span>        <span class=\"_3L0Da _3f5kI\" style=\"color: rgb(0, 0, 0);\">C</span>         <span class=\"_3L0Da _3f5kI\" style=\"color: rgb(0, 0, 0);\">Dm</span>\n",
       "Just then Tom Paine, himself, came running from across the field\n",
       "<span class=\"_3L0Da _3f5kI\" style=\"color: rgb(0, 0, 0);\">Dm</span>               <span class=\"_3L0Da _3f5kI\" style=\"color: rgb(0, 0, 0);\">C</span>                     <span class=\"_3L0Da _3f5kI\" style=\"color: rgb(0, 0, 0);\">Dm</span>      <span class=\"_3L0Da _3f5kI\" style=\"color: rgb(0, 0, 0);\">C</span>       <span class=\"_3L0Da _3f5kI\" style=\"color: rgb(0, 0, 0);\">Dm</span>\n",
       "Shouting at this lovely girl, and commanding her to yield\n",
       "<span class=\"_3L0Da _3f5kI\" style=\"color: rgb(0, 0, 0);\">F</span>                         <span class=\"_3L0Da _3f5kI\" style=\"color: rgb(0, 0, 0);\">Am</span>         <span class=\"_3L0Da _3f5kI\" style=\"color: rgb(0, 0, 0);\">Dm</span>    <span class=\"_3L0Da _3f5kI\" style=\"color: rgb(0, 0, 0);\">C</span>       <span class=\"_3L0Da _3f5kI\" style=\"color: rgb(0, 0, 0);\">Dm</span>\n",
       "And as she was letting go her grip, up Tom Paine did run\n",
       "<span class=\"_3L0Da _3f5kI\" style=\"color: rgb(0, 0, 0);\">Dm</span>                   <span class=\"_3L0Da _3f5kI\" style=\"color: rgb(0, 0, 0);\">C</span>            <span class=\"_3L0Da _3f5kI\" style=\"color: rgb(0, 0, 0);\">Dm</span>      <span class=\"_3L0Da _3f5kI\" style=\"color: rgb(0, 0, 0);\">C</span>              <span class=\"_3L0Da _3f5kI\" style=\"color: rgb(0, 0, 0);\">Dm</span>\n",
       "I'm sorry, sir, he said to me, I'm sorry for what she's done\n",
       "\n",
       "\n",
       "\n",
       "</pre>"
      ]
     },
     "execution_count": 128,
     "metadata": {},
     "output_type": "execute_result"
    }
   ],
   "source": [
    "song_body = soup.select_one('pre._1YgOS')\n",
    "song_body"
   ]
  },
  {
   "cell_type": "code",
   "execution_count": 129,
   "metadata": {},
   "outputs": [
    {
     "data": {
      "text/plain": [
       "['<pre class=\"_1YgOS\" style=\\'font-size: 13px; font-family: \"Roboto Mono\", monospace;\\'>Capo on 4th Fret',\n",
       " '',\n",
       " '<span class=\"_3L0Da _3f5kI\" style=\"color: rgb(0, 0, 0);\">Dm</span>                 <span class=\"_3L0Da _3f5kI\" style=\"color: rgb(0, 0, 0);\">C</span>                      <span class=\"_3L0Da _3f5kI\" style=\"color: rgb(0, 0, 0);\">Dm</span>   <span class=\"_3L0Da _3f5kI\" style=\"color: rgb(0, 0, 0);\">C</span>         <span class=\"_3L0Da _3f5kI\" style=\"color: rgb(0, 0, 0);\">Dm</span>',\n",
       " \"As I went out one morning, to breathe the air around Tom Paine's\",\n",
       " '    <span class=\"_3L0Da _3f5kI\" style=\"color: rgb(0, 0, 0);\">Dm</span>               <span class=\"_3L0Da _3f5kI\" style=\"color: rgb(0, 0, 0);\">C</span>            <span class=\"_3L0Da _3f5kI\" style=\"color: rgb(0, 0, 0);\">Dm</span>      <span class=\"_3L0Da _3f5kI\" style=\"color: rgb(0, 0, 0);\">C</span>       <span class=\"_3L0Da _3f5kI\" style=\"color: rgb(0, 0, 0);\">Dm</span>',\n",
       " 'I spied the fairest damsel, that ever did walk in chains',\n",
       " '    <span class=\"_3L0Da _3f5kI\" style=\"color: rgb(0, 0, 0);\">F</span>              <span class=\"_3L0Da _3f5kI\" style=\"color: rgb(0, 0, 0);\">Am</span>       <span class=\"_3L0Da _3f5kI\" style=\"color: rgb(0, 0, 0);\">Dm</span>    <span class=\"_3L0Da _3f5kI\" style=\"color: rgb(0, 0, 0);\">C</span>       <span class=\"_3L0Da _3f5kI\" style=\"color: rgb(0, 0, 0);\">Dm</span>',\n",
       " \"I offer'd her my hand, she took me by the arm\",\n",
       " '    <span class=\"_3L0Da _3f5kI\" style=\"color: rgb(0, 0, 0);\">Dm</span>            <span class=\"_3L0Da _3f5kI\" style=\"color: rgb(0, 0, 0);\">C</span>            <span class=\"_3L0Da _3f5kI\" style=\"color: rgb(0, 0, 0);\">Dm</span>      <span class=\"_3L0Da _3f5kI\" style=\"color: rgb(0, 0, 0);\">C</span>    <span class=\"_3L0Da _3f5kI\" style=\"color: rgb(0, 0, 0);\">Dm</span>',\n",
       " 'I knew that very instant, she meant to do me harm',\n",
       " '',\n",
       " '',\n",
       " '<span class=\"_3L0Da _3f5kI\" style=\"color: rgb(0, 0, 0);\">Dm</span>                 <span class=\"_3L0Da _3f5kI\" style=\"color: rgb(0, 0, 0);\">C</span>             <span class=\"_3L0Da _3f5kI\" style=\"color: rgb(0, 0, 0);\">Dm</span>       <span class=\"_3L0Da _3f5kI\" style=\"color: rgb(0, 0, 0);\">C</span>     <span class=\"_3L0Da _3f5kI\" style=\"color: rgb(0, 0, 0);\">Dm</span>',\n",
       " 'Depart from me this moment, I told her with my voice',\n",
       " ' <span class=\"_3L0Da _3f5kI\" style=\"color: rgb(0, 0, 0);\">Dm</span>                       <span class=\"_3L0Da _3f5kI\" style=\"color: rgb(0, 0, 0);\">C</span>       <span class=\"_3L0Da _3f5kI\" style=\"color: rgb(0, 0, 0);\">Dm</span>            <span class=\"_3L0Da _3f5kI\" style=\"color: rgb(0, 0, 0);\">C</span>        <span class=\"_3L0Da _3f5kI\" style=\"color: rgb(0, 0, 0);\">Dm</span>',\n",
       " 'Said she, \"But I don\\'t wish to, said I, but you have no choice',\n",
       " '<span class=\"_3L0Da _3f5kI\" style=\"color: rgb(0, 0, 0);\">F</span>                 <span class=\"_3L0Da _3f5kI\" style=\"color: rgb(0, 0, 0);\">Am</span>         <span class=\"_3L0Da _3f5kI\" style=\"color: rgb(0, 0, 0);\">Dm</span>                <span class=\"_3L0Da _3f5kI\" style=\"color: rgb(0, 0, 0);\">C</span>       <span class=\"_3L0Da _3f5kI\" style=\"color: rgb(0, 0, 0);\">Dm</span>',\n",
       " 'I beg you, sir, she pleaded, from the corners of her mouth',\n",
       " '<span class=\"_3L0Da _3f5kI\" style=\"color: rgb(0, 0, 0);\">Dm</span>                <span class=\"_3L0Da _3f5kI\" style=\"color: rgb(0, 0, 0);\">C</span>               <span class=\"_3L0Da _3f5kI\" style=\"color: rgb(0, 0, 0);\">Dm</span>        <span class=\"_3L0Da _3f5kI\" style=\"color: rgb(0, 0, 0);\">C</span>         <span class=\"_3L0Da _3f5kI\" style=\"color: rgb(0, 0, 0);\">Dm</span>',\n",
       " \"I will secretly accept you, and together we'll fly south\",\n",
       " '',\n",
       " '',\n",
       " '<span class=\"_3L0Da _3f5kI\" style=\"color: rgb(0, 0, 0);\">Dm</span>                     <span class=\"_3L0Da _3f5kI\" style=\"color: rgb(0, 0, 0);\">C</span>               <span class=\"_3L0Da _3f5kI\" style=\"color: rgb(0, 0, 0);\">Dm</span>        <span class=\"_3L0Da _3f5kI\" style=\"color: rgb(0, 0, 0);\">C</span>         <span class=\"_3L0Da _3f5kI\" style=\"color: rgb(0, 0, 0);\">Dm</span>',\n",
       " 'Just then Tom Paine, himself, came running from across the field',\n",
       " '<span class=\"_3L0Da _3f5kI\" style=\"color: rgb(0, 0, 0);\">Dm</span>               <span class=\"_3L0Da _3f5kI\" style=\"color: rgb(0, 0, 0);\">C</span>                     <span class=\"_3L0Da _3f5kI\" style=\"color: rgb(0, 0, 0);\">Dm</span>      <span class=\"_3L0Da _3f5kI\" style=\"color: rgb(0, 0, 0);\">C</span>       <span class=\"_3L0Da _3f5kI\" style=\"color: rgb(0, 0, 0);\">Dm</span>',\n",
       " 'Shouting at this lovely girl, and commanding her to yield',\n",
       " '<span class=\"_3L0Da _3f5kI\" style=\"color: rgb(0, 0, 0);\">F</span>                         <span class=\"_3L0Da _3f5kI\" style=\"color: rgb(0, 0, 0);\">Am</span>         <span class=\"_3L0Da _3f5kI\" style=\"color: rgb(0, 0, 0);\">Dm</span>    <span class=\"_3L0Da _3f5kI\" style=\"color: rgb(0, 0, 0);\">C</span>       <span class=\"_3L0Da _3f5kI\" style=\"color: rgb(0, 0, 0);\">Dm</span>',\n",
       " 'And as she was letting go her grip, up Tom Paine did run',\n",
       " '<span class=\"_3L0Da _3f5kI\" style=\"color: rgb(0, 0, 0);\">Dm</span>                   <span class=\"_3L0Da _3f5kI\" style=\"color: rgb(0, 0, 0);\">C</span>            <span class=\"_3L0Da _3f5kI\" style=\"color: rgb(0, 0, 0);\">Dm</span>      <span class=\"_3L0Da _3f5kI\" style=\"color: rgb(0, 0, 0);\">C</span>              <span class=\"_3L0Da _3f5kI\" style=\"color: rgb(0, 0, 0);\">Dm</span>',\n",
       " \"I'm sorry, sir, he said to me, I'm sorry for what she's done\",\n",
       " '',\n",
       " '',\n",
       " '',\n",
       " '</pre>']"
      ]
     },
     "execution_count": 129,
     "metadata": {},
     "output_type": "execute_result"
    }
   ],
   "source": [
    "lines = str(song_body).split('\\n')\n",
    "lines"
   ]
  },
  {
   "cell_type": "code",
   "execution_count": 112,
   "metadata": {},
   "outputs": [],
   "source": [
    "def strip_html(text):\n",
    "    result = []\n",
    "    in_tag = False\n",
    "    for char in text:\n",
    "        if char == '<':\n",
    "            in_tag = True\n",
    "        if not in_tag:\n",
    "            result.append(char)\n",
    "        if char == '>':\n",
    "            in_tag = False\n",
    "    return ''.join(result)"
   ]
  },
  {
   "cell_type": "code",
   "execution_count": 116,
   "metadata": {},
   "outputs": [],
   "source": [
    "def parse_lines(lines):\n",
    "    parsed_lines = []\n",
    "    for line in lines: \n",
    "        if '_3L0Da' in line:\n",
    "            parsed_lines.append({'chords': strip_html(line)})\n",
    "        elif line and strip_html(line) == line:\n",
    "            parsed_lines[-1]['words'] = line\n",
    "    return parsed_lines "
   ]
  },
  {
   "cell_type": "code",
   "execution_count": 114,
   "metadata": {},
   "outputs": [
    {
     "data": {
      "text/plain": [
       "[{'chords': 'Dm                 C                      Dm   C         Dm',\n",
       "  'words': \"As I went out one morning, to breathe the air around Tom Paine's\"},\n",
       " {'chords': '    Dm               C            Dm      C       Dm',\n",
       "  'words': 'I spied the fairest damsel, that ever did walk in chains'},\n",
       " {'chords': '    F              Am       Dm    C       Dm',\n",
       "  'words': \"I offer'd her my hand, she took me by the arm\"},\n",
       " {'chords': '    Dm            C            Dm      C    Dm',\n",
       "  'words': 'I knew that very instant, she meant to do me harm'},\n",
       " {'chords': 'Dm                 C             Dm       C     Dm',\n",
       "  'words': 'Depart from me this moment, I told her with my voice'},\n",
       " {'chords': ' Dm                       C       Dm            C        Dm',\n",
       "  'words': 'Said she, \"But I don\\'t wish to, said I, but you have no choice'},\n",
       " {'chords': 'F                 Am         Dm                C       Dm',\n",
       "  'words': 'I beg you, sir, she pleaded, from the corners of her mouth'},\n",
       " {'chords': 'Dm                C               Dm        C         Dm',\n",
       "  'words': \"I will secretly accept you, and together we'll fly south\"},\n",
       " {'chords': 'Dm                     C               Dm        C         Dm',\n",
       "  'words': 'Just then Tom Paine, himself, came running from across the field'},\n",
       " {'chords': 'Dm               C                     Dm      C       Dm',\n",
       "  'words': 'Shouting at this lovely girl, and commanding her to yield'},\n",
       " {'chords': 'F                         Am         Dm    C       Dm',\n",
       "  'words': 'And as she was letting go her grip, up Tom Paine did run'},\n",
       " {'chords': 'Dm                   C            Dm      C              Dm',\n",
       "  'words': \"I'm sorry, sir, he said to me, I'm sorry for what she's done\"}]"
      ]
     },
     "execution_count": 114,
     "metadata": {},
     "output_type": "execute_result"
    }
   ],
   "source": [
    "parse_lines(lines)"
   ]
  },
  {
   "cell_type": "code",
   "execution_count": null,
   "metadata": {},
   "outputs": [],
   "source": []
  }
 ],
 "metadata": {
  "kernelspec": {
   "display_name": "Python 3",
   "language": "python",
   "name": "python3"
  },
  "language_info": {
   "codemirror_mode": {
    "name": "ipython",
    "version": 3
   },
   "file_extension": ".py",
   "mimetype": "text/x-python",
   "name": "python",
   "nbconvert_exporter": "python",
   "pygments_lexer": "ipython3",
   "version": "3.6.3"
  }
 },
 "nbformat": 4,
 "nbformat_minor": 2
}
