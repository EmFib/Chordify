{
 "cells": [
  {
   "cell_type": "code",
   "execution_count": 6,
   "metadata": {},
   "outputs": [],
   "source": [
    "from selenium.webdriver import Chrome \n",
    "from bs4 import BeautifulSoup\n",
    "import pymongo\n",
    "import datetime\n",
    "import time \n",
    "import pandas as pd\n",
    "import re"
   ]
  },
  {
   "cell_type": "code",
   "execution_count": 7,
   "metadata": {},
   "outputs": [],
   "source": [
    "mc = pymongo.MongoClient()\n",
    "\n",
    "db = mc['chordify']\n",
    "\n",
    "raw_html = db['raw_html']"
   ]
  },
  {
   "cell_type": "code",
   "execution_count": 14,
   "metadata": {},
   "outputs": [
    {
     "data": {
      "text/plain": [
       "2221"
      ]
     },
     "execution_count": 14,
     "metadata": {},
     "output_type": "execute_result"
    }
   ],
   "source": [
    "raw_html.find().count()"
   ]
  },
  {
   "cell_type": "code",
   "execution_count": 9,
   "metadata": {},
   "outputs": [],
   "source": [
    "html_docs = list(raw_html.find())"
   ]
  },
  {
   "cell_type": "code",
   "execution_count": 10,
   "metadata": {},
   "outputs": [],
   "source": [
    "def get_lines_from_song(html_doc):\n",
    "    if 'html' in html_doc:\n",
    "        html = html_doc['html']\n",
    "    elif 'song_html' in html_doc:\n",
    "        html = html_doc['song_html']\n",
    "    else:\n",
    "        raise KeyError (f\"Html not found for {html_doc.get('_id')}\")\n",
    "    soup = BeautifulSoup(html, 'html.parser')\n",
    "    song_body = soup.select_one('pre._1YgOS')\n",
    "    song_lines = str(song_body).split('\\n')\n",
    "    return song_lines\n",
    "\n",
    "\n",
    "def strip_html(text):\n",
    "    result = []\n",
    "    in_tag = False\n",
    "    for char in text:\n",
    "        if char == '<':\n",
    "            in_tag = True\n",
    "        if not in_tag:\n",
    "            result.append(char)\n",
    "        if char == '>':\n",
    "            in_tag = False\n",
    "    return ''.join(result)\n",
    "\n",
    "\n",
    "def separate_lines(html_doc):\n",
    "    song_lines = get_lines_from_song(html_doc)\n",
    "    lines = []\n",
    "    for i, song_line in enumerate(song_lines):\n",
    "        if '_3L0Da' in song_line:\n",
    "            lines.append({'chords': strip_html(song_line)})\n",
    "        elif (('_3L0Da' in song_lines[i-1]) and (song_line == song_line) and (strip_html(song_line) == song_line)):\n",
    "            lines[-1]['words'] = song_line\n",
    "    return lines\n",
    "\n",
    "\n",
    "def get_chords(line):\n",
    "    chord_idxs = []\n",
    "    chords = []\n",
    "    c_string = line['chords']\n",
    "    for chord in re.finditer('\\w+', c_string):\n",
    "        chord_idxs.append(chord.start())\n",
    "        chords.append(chord.group())\n",
    "    chord_tups = list(zip(chord_idxs, chords))\n",
    "    return chord_idxs, chords, chord_tups\n",
    "\n",
    "\n",
    "def get_words(line):\n",
    "    word_idxs = []\n",
    "    words = []\n",
    "    if 'words'in line:\n",
    "        w_string = line['words']\n",
    "        for word in re.finditer('\\w+', w_string):\n",
    "            word_idxs.append(word.start())\n",
    "            words.append(word.group())\n",
    "    word_tups = list(zip(word_idxs, words))\n",
    "    return word_idxs, words, word_tups\n",
    "\n",
    "\n",
    "def merge_chord_word(line):\n",
    "    chord_tups = get_chords(line)[2]\n",
    "    word_tups = get_words(line)[2]\n",
    "    word_list = get_words(line)[1]\n",
    "    chord_idx_list = []\n",
    "    for chord_tup in chord_tups:\n",
    "        for i, word_tup in enumerate(word_tups):\n",
    "            if word_tup[0] > chord_tup[0]:\n",
    "                chord_idx_list.append((i-1, chord_tup[1]))\n",
    "                break\n",
    "    return (chord_idx_list, word_list)\n",
    "\n",
    "\n",
    "def combine_ch_wd_lists(merged_line_1, merged_line_2):\n",
    "    chord_idx_list_1, word_list_1 = merged_line_1\n",
    "    chord_idx_list_2, word_list_2 = merged_line_2\n",
    "    new_chord_tups = []\n",
    "    for chord_idx_tup in chord_idx_list_2:\n",
    "        new_chord_tups.append( ( ( (chord_idx_tup)[0] + len(word_list_1) ), chord_idx_tup[1] ) )\n",
    "    all_chords_tups = chord_idx_list_1 + new_chord_tups\n",
    "    all_words_list = word_list_1 + word_list_2\n",
    "    return all_chords_tups, all_words_list\n",
    "\n",
    "\n",
    "def parse_lines(lines):\n",
    "    for i, line in enumerate(lines):\n",
    "        if i == 0:\n",
    "            parsed_line = merge_chord_word(line)\n",
    "        else:\n",
    "            parsed_line_next = merge_chord_word(line)\n",
    "            parsed_line = combine_ch_wd_lists(parsed_line, parsed_line_next)\n",
    "    return parsed_line "
   ]
  },
  {
   "cell_type": "code",
   "execution_count": 11,
   "metadata": {},
   "outputs": [],
   "source": [
    "def parse_song(html_doc):\n",
    "    lines = separate_lines(html_doc)\n",
    "    parsed_song = parse_lines(lines)\n",
    "    return parsed_song "
   ]
  },
  {
   "cell_type": "code",
   "execution_count": 49,
   "metadata": {},
   "outputs": [],
   "source": [
    "def parse_many(some_docs):\n",
    "    parsed_songs = []\n",
    "    for some_doc in some_docs:\n",
    "        try:\n",
    "            parsed_song = parse_song(some_doc)\n",
    "            parsed_songs.append(parsed_song)\n",
    "        except KeyError as e:\n",
    "            warnings.warn(e.message)\n",
    "            continue \n",
    "    return parsed_songs "
   ]
  },
  {
   "cell_type": "code",
   "execution_count": 31,
   "metadata": {},
   "outputs": [],
   "source": [
    "def get_all_lyrics_chords(song):\n",
    "    song_lyrics = ' '.join(song[1])\n",
    "    song_chords = []\n",
    "    for ch_tup in song[0]:\n",
    "        song_chords.append(ch_tup[1])\n",
    "    return (song_lyrics, song_chords) "
   ]
  },
  {
   "cell_type": "code",
   "execution_count": 34,
   "metadata": {},
   "outputs": [],
   "source": [
    "one_song = parse_song(html_docs[315])"
   ]
  },
  {
   "cell_type": "code",
   "execution_count": 35,
   "metadata": {},
   "outputs": [],
   "source": [
    "paragraph, ch_lst = get_all_lyrics_chords(one_song)"
   ]
  },
  {
   "cell_type": "code",
   "execution_count": 36,
   "metadata": {},
   "outputs": [],
   "source": [
    "import unicodedata\n",
    "\n",
    "def remove_accents(input_str):\n",
    "    nfkd_form = unicodedata.normalize('NFKD', input_str)\n",
    "    only_ascii = nfkd_form.encode('ASCII', 'ignore')\n",
    "    return only_ascii.decode()\n",
    "\n",
    "input_string = remove_accents(paragraph)"
   ]
  },
  {
   "cell_type": "code",
   "execution_count": 37,
   "metadata": {},
   "outputs": [
    {
     "data": {
      "text/plain": [
       "['I was born in Dixie in a boomer shack Just a little shanty by the railroad track Freight train was it taught me how to cry hummin of the driver was my lullaby Oh Lord mama I got them in the bottom of my rambling shoes And when the whistle blows I gotta go baby don t you know Well it looks like I m never gonna lose the freight train blues']"
      ]
     },
     "execution_count": 37,
     "metadata": {},
     "output_type": "execute_result"
    }
   ],
   "source": [
    "from nltk.tokenize import sent_tokenize\n",
    "\n",
    "sent_tokens = sent_tokenize(input_string)\n",
    "\n",
    "sent_tokens"
   ]
  },
  {
   "cell_type": "code",
   "execution_count": 38,
   "metadata": {},
   "outputs": [
    {
     "data": {
      "text/plain": [
       "[(0,\n",
       "  ['I',\n",
       "   'was',\n",
       "   'born',\n",
       "   'in',\n",
       "   'Dixie',\n",
       "   'in',\n",
       "   'a',\n",
       "   'boomer',\n",
       "   'shack',\n",
       "   'Just',\n",
       "   'a',\n",
       "   'little',\n",
       "   'shanty',\n",
       "   'by',\n",
       "   'the',\n",
       "   'railroad',\n",
       "   'track',\n",
       "   'Freight',\n",
       "   'train',\n",
       "   'was',\n",
       "   'it',\n",
       "   'taught',\n",
       "   'me',\n",
       "   'how',\n",
       "   'to',\n",
       "   'cry',\n",
       "   'hummin',\n",
       "   'of',\n",
       "   'the',\n",
       "   'driver',\n",
       "   'was',\n",
       "   'my',\n",
       "   'lullaby',\n",
       "   'Oh',\n",
       "   'Lord',\n",
       "   'mama',\n",
       "   'I',\n",
       "   'got',\n",
       "   'them',\n",
       "   'in',\n",
       "   'the',\n",
       "   'bottom',\n",
       "   'of',\n",
       "   'my',\n",
       "   'rambling',\n",
       "   'shoes',\n",
       "   'And',\n",
       "   'when',\n",
       "   'the',\n",
       "   'whistle',\n",
       "   'blows',\n",
       "   'I',\n",
       "   'got',\n",
       "   'ta',\n",
       "   'go',\n",
       "   'baby',\n",
       "   'don',\n",
       "   't',\n",
       "   'you',\n",
       "   'know',\n",
       "   'Well',\n",
       "   'it',\n",
       "   'looks',\n",
       "   'like',\n",
       "   'I',\n",
       "   'm',\n",
       "   'never',\n",
       "   'gon',\n",
       "   'na',\n",
       "   'lose',\n",
       "   'the',\n",
       "   'freight',\n",
       "   'train',\n",
       "   'blues'])]"
      ]
     },
     "execution_count": 38,
     "metadata": {},
     "output_type": "execute_result"
    }
   ],
   "source": [
    "from nltk.tokenize import word_tokenize\n",
    "\n",
    "tokens = [sent for sent in map(word_tokenize, sent_tokens)]\n",
    "\n",
    "list(enumerate(tokens))"
   ]
  },
  {
   "cell_type": "code",
   "execution_count": 39,
   "metadata": {},
   "outputs": [],
   "source": [
    "import string\n",
    "\n",
    "tokens_lower = [[word.lower() for word in sent]\n",
    "                 for sent in tokens]"
   ]
  },
  {
   "cell_type": "code",
   "execution_count": 40,
   "metadata": {},
   "outputs": [
    {
     "name": "stdout",
     "output_type": "stream",
     "text": [
      "--- stopwords in english: ['a', 'able', 'about', 'across', 'after', 'all', 'almost', 'also', 'am', 'among', 'an', 'and', 'any', 'are', 'as', 'at', 'be', 'because', 'been', 'but', 'by', 'can', 'could', 'dear', 'did', 'do', 'does', 'either', 'else', 'ever', 'every', 'for', 'from', 'get', 'got', 'had', 'has', 'have', 'he', 'her', 'hers', 'him', 'his', 'how', 'however', 'i', 'if', 'in', 'into', 'is', 'it', 'its', 'just', 'least', 'let', 'like', 'likely', 'may', 'me', 'might', 'most', 'must', 'my', 'neither', 'no', 'of', 'off', 'often', 'on', 'only', 'or', 'other', 'our', 'own', 'rather', 'said', 'say', 'says', 'she', 'should', 'since', 'so', 'some', 'than', 'that', 'the', 'their', 'them', 'then', 'there', 'these', 'they', 'this', 'tis', 'to', 'too', 'twas', 'us', 'wants', 'was', 'we', 'were', 'what', 'when', 'where', 'which', 'while', 'who', 'whom', 'why', 'will', 'with', 'would', 'yet', 'you', 'your]']\n"
     ]
    }
   ],
   "source": [
    "from nltk.corpus import stopwords\n",
    "\n",
    "stopwords_ = \"a,able,about,across,after,all,almost,also,am,among,an,and,any,\\\n",
    "are,as,at,be,because,been,but,by,can,could,dear,did,do,does,either,\\\n",
    "else,ever,every,for,from,get,got,had,has,have,he,her,hers,him,his,\\\n",
    "how,however,i,if,in,into,is,it,its,just,least,let,like,likely,may,\\\n",
    "me,might,most,must,my,neither,no,of,off,often,on,only,or,other,our,\\\n",
    "own,rather,said,say,says,she,should,since,so,some,than,that,the,their,\\\n",
    "them,then,there,these,they,this,tis,to,too,twas,us,wants,was,we,were,\\\n",
    "what,when,where,which,while,who,whom,why,will,with,would,yet,you,your]\".split(',')\n",
    "\n",
    "print(\"--- stopwords in english: {}\".format(stopwords_))"
   ]
  },
  {
   "cell_type": "code",
   "execution_count": 41,
   "metadata": {},
   "outputs": [
    {
     "name": "stdout",
     "output_type": "stream",
     "text": [
      "--- punctuation: !\"#$%&'()*+,-./:;<=>?@[\\]^_`{|}~\n",
      "--- sentence tokens: ['born', 'dixie', 'boomer', 'shack', 'little', 'shanty', 'railroad', 'track', 'freight', 'train', 'taught', 'cry', 'hummin', 'driver', 'lullaby', 'oh', 'lord', 'mama', 'bottom', 'rambling', 'shoes', 'whistle', 'blows', 'ta', 'go', 'baby', 'don', 't', 'know', 'well', 'looks', 'm', 'never', 'gon', 'na', 'lose', 'freight', 'train', 'blues']\n"
     ]
    }
   ],
   "source": [
    "import string\n",
    "\n",
    "punctuation_ = set(string.punctuation)\n",
    "print(\"--- punctuation: {}\".format(string.punctuation))\n",
    "\n",
    "def filter_tokens(sent):\n",
    "    return([w for w in sent if not w in stopwords_ and not w in punctuation_])\n",
    "\n",
    "tokens_filtered = list(map(filter_tokens, tokens_lower))\n",
    "\n",
    "for sent in tokens_filtered:\n",
    "    print(\"--- sentence tokens: {}\".format(sent))"
   ]
  },
  {
   "cell_type": "code",
   "execution_count": 42,
   "metadata": {},
   "outputs": [
    {
     "name": "stdout",
     "output_type": "stream",
     "text": [
      "--- sentence tokens (porter): ['born', 'dixi', 'boomer', 'shack', 'littl', 'shanti', 'railroad', 'track', 'freight', 'train', 'taught', 'cri', 'hummin', 'driver', 'lullabi', 'oh', 'lord', 'mama', 'bottom', 'rambl', 'shoe', 'whistl', 'blow', 'ta', 'go', 'babi', 'don', 't', 'know', 'well', 'look', 'm', 'never', 'gon', 'na', 'lose', 'freight', 'train', 'blue']\n",
      "--- sentence tokens (snowball): ['born', 'dixi', 'boomer', 'shack', 'littl', 'shanti', 'railroad', 'track', 'freight', 'train', 'taught', 'cri', 'hummin', 'driver', 'lullabi', 'oh', 'lord', 'mama', 'bottom', 'rambl', 'shoe', 'whistl', 'blow', 'ta', 'go', 'babi', 'don', 't', 'know', 'well', 'look', 'm', 'never', 'gon', 'na', 'lose', 'freight', 'train', 'blue']\n"
     ]
    }
   ],
   "source": [
    "from nltk.stem.snowball import SnowballStemmer\n",
    "from nltk.stem.porter import PorterStemmer\n",
    "\n",
    "stemmer_porter = PorterStemmer()\n",
    "tokens_stemporter = [list(map(stemmer_porter.stem, sent)) for sent in tokens_filtered]\n",
    "print(\"--- sentence tokens (porter): {}\".format(tokens_stemporter[0]))\n",
    "\n",
    "stemmer_snowball = SnowballStemmer('english')\n",
    "tokens_stemsnowball = [list(map(stemmer_snowball.stem, sent)) for sent in tokens_filtered]\n",
    "print(\"--- sentence tokens (snowball): {}\".format(tokens_stemsnowball[0]))"
   ]
  },
  {
   "cell_type": "code",
   "execution_count": 43,
   "metadata": {},
   "outputs": [
    {
     "data": {
      "text/plain": [
       "[('born', 'dixi', 'boomer', 'shack'),\n",
       " ('dixi', 'boomer', 'shack', 'littl'),\n",
       " ('boomer', 'shack', 'littl', 'shanti'),\n",
       " ('shack', 'littl', 'shanti', 'railroad'),\n",
       " ('littl', 'shanti', 'railroad', 'track'),\n",
       " ('shanti', 'railroad', 'track', 'freight'),\n",
       " ('railroad', 'track', 'freight', 'train'),\n",
       " ('track', 'freight', 'train', 'taught'),\n",
       " ('freight', 'train', 'taught', 'cri'),\n",
       " ('train', 'taught', 'cri', 'hummin'),\n",
       " ('taught', 'cri', 'hummin', 'driver'),\n",
       " ('cri', 'hummin', 'driver', 'lullabi'),\n",
       " ('hummin', 'driver', 'lullabi', 'oh'),\n",
       " ('driver', 'lullabi', 'oh', 'lord'),\n",
       " ('lullabi', 'oh', 'lord', 'mama'),\n",
       " ('oh', 'lord', 'mama', 'bottom'),\n",
       " ('lord', 'mama', 'bottom', 'rambl'),\n",
       " ('mama', 'bottom', 'rambl', 'shoe'),\n",
       " ('bottom', 'rambl', 'shoe', 'whistl'),\n",
       " ('rambl', 'shoe', 'whistl', 'blow'),\n",
       " ('shoe', 'whistl', 'blow', 'ta'),\n",
       " ('whistl', 'blow', 'ta', 'go'),\n",
       " ('blow', 'ta', 'go', 'babi'),\n",
       " ('ta', 'go', 'babi', 'don'),\n",
       " ('go', 'babi', 'don', 't'),\n",
       " ('babi', 'don', 't', 'know'),\n",
       " ('don', 't', 'know', 'well'),\n",
       " ('t', 'know', 'well', 'look'),\n",
       " ('know', 'well', 'look', 'm'),\n",
       " ('well', 'look', 'm', 'never'),\n",
       " ('look', 'm', 'never', 'gon'),\n",
       " ('m', 'never', 'gon', 'na'),\n",
       " ('never', 'gon', 'na', 'lose'),\n",
       " ('gon', 'na', 'lose', 'freight'),\n",
       " ('na', 'lose', 'freight', 'train'),\n",
       " ('lose', 'freight', 'train', 'blue')]"
      ]
     },
     "execution_count": 43,
     "metadata": {},
     "output_type": "execute_result"
    }
   ],
   "source": [
    "from nltk.util import ngrams\n",
    "\n",
    "list(ngrams(tokens_stemsnowball[0],4))"
   ]
  },
  {
   "cell_type": "code",
   "execution_count": 44,
   "metadata": {},
   "outputs": [
    {
     "name": "stdout",
     "output_type": "stream",
     "text": [
      "--- sentence tokens: ['born', 'dixi', 'boomer', 'shack', 'littl', 'shanti', 'railroad', 'track', 'freight', 'train', 'taught', 'cri', 'hummin', 'driver', 'lullabi', 'oh', 'lord', 'mama', 'bottom', 'rambl', 'shoe', 'whistl', 'blow', 'ta', 'go', 'babi', 'don', 't', 'know', 'well', 'look', 'm', 'never', 'gon', 'na', 'lose', 'freight', 'train', 'blue', 'born-dixi', 'dixi-boomer', 'boomer-shack', 'shack-littl', 'littl-shanti', 'shanti-railroad', 'railroad-track', 'track-freight', 'freight-train', 'train-taught', 'taught-cri', 'cri-hummin', 'hummin-driver', 'driver-lullabi', 'lullabi-oh', 'oh-lord', 'lord-mama', 'mama-bottom', 'bottom-rambl', 'rambl-shoe', 'shoe-whistl', 'whistl-blow', 'blow-ta', 'ta-go', 'go-babi', 'babi-don', 'don-t', 't-know', 'know-well', 'well-look', 'look-m', 'm-never', 'never-gon', 'gon-na', 'na-lose', 'lose-freight', 'freight-train', 'train-blue', 'born-dixi-boomer', 'dixi-boomer-shack', 'boomer-shack-littl', 'shack-littl-shanti', 'littl-shanti-railroad', 'shanti-railroad-track', 'railroad-track-freight', 'track-freight-train', 'freight-train-taught', 'train-taught-cri', 'taught-cri-hummin', 'cri-hummin-driver', 'hummin-driver-lullabi', 'driver-lullabi-oh', 'lullabi-oh-lord', 'oh-lord-mama', 'lord-mama-bottom', 'mama-bottom-rambl', 'bottom-rambl-shoe', 'rambl-shoe-whistl', 'shoe-whistl-blow', 'whistl-blow-ta', 'blow-ta-go', 'ta-go-babi', 'go-babi-don', 'babi-don-t', 'don-t-know', 't-know-well', 'know-well-look', 'well-look-m', 'look-m-never', 'm-never-gon', 'never-gon-na', 'gon-na-lose', 'na-lose-freight', 'lose-freight-train', 'freight-train-blue']\n"
     ]
    }
   ],
   "source": [
    "from nltk.util import ngrams\n",
    "\n",
    "def join_sent_ngrams(input_tokens, n):\n",
    "    # first add the 1-gram tokens\n",
    "    ret_list = list(input_tokens)\n",
    "    \n",
    "    #then for each n\n",
    "    for i in range(2,n+1):\n",
    "        # add each n-grams to the list\n",
    "        ret_list.extend(['-'.join(tgram) for tgram in ngrams(input_tokens, i)])\n",
    "    \n",
    "    return(ret_list)\n",
    "\n",
    "tokens_ngrams = list(map(lambda x : join_sent_ngrams(x, 3), tokens_stemsnowball))\n",
    "\n",
    "print(\"--- sentence tokens: {}\".format(tokens_ngrams[0]))"
   ]
  },
  {
   "cell_type": "code",
   "execution_count": null,
   "metadata": {},
   "outputs": [],
   "source": []
  },
  {
   "cell_type": "code",
   "execution_count": 60,
   "metadata": {},
   "outputs": [],
   "source": [
    "import os               # for environ variables in Part 3\n",
    "from src.nlp_pipeline import extract_bow_from_raw_text"
   ]
  },
  {
   "cell_type": "code",
   "execution_count": 61,
   "metadata": {},
   "outputs": [
    {
     "data": {
      "text/plain": [
       "list"
      ]
     },
     "execution_count": 61,
     "metadata": {},
     "output_type": "execute_result"
    }
   ],
   "source": [
    "parsed_songs = parse_many(html_docs[305:316])\n",
    "type(parsed_songs)"
   ]
  },
  {
   "cell_type": "code",
   "execution_count": 62,
   "metadata": {},
   "outputs": [
    {
     "data": {
      "text/plain": [
       "([(0, 'F'),\n",
       "  (1, 'm'),\n",
       "  (1, 'C'),\n",
       "  (1, 'means'),\n",
       "  (2, 'F'),\n",
       "  (3, 'm'),\n",
       "  (3, 'chord'),\n",
       "  (4, 'and'),\n",
       "  (5, 'play'),\n",
       "  (6, 'C'),\n",
       "  (6, 'in'),\n",
       "  (7, 'the'),\n",
       "  (8, 'bass'),\n",
       "  (12, 'D'),\n",
       "  (19, 'F'),\n",
       "  (19, 'm'),\n",
       "  (19, 'C'),\n",
       "  (25, 'G'),\n",
       "  (25, 'B'),\n",
       "  (31, 'G'),\n",
       "  (37, 'D'),\n",
       "  (40, 'D'),\n",
       "  (44, 'F'),\n",
       "  (44, 'm'),\n",
       "  (44, 'C'),\n",
       "  (51, 'G'),\n",
       "  (51, 'G'),\n",
       "  (51, 'A'),\n",
       "  (51, 'A'),\n",
       "  (60, 'D'),\n",
       "  (60, 'D'),\n",
       "  (60, 'A'),\n",
       "  (60, 'A')],\n",
       " ['I',\n",
       "  'annotated',\n",
       "  'a',\n",
       "  'chord',\n",
       "  'for',\n",
       "  'each',\n",
       "  'measure',\n",
       "  'it',\n",
       "  'is',\n",
       "  'used',\n",
       "  'May',\n",
       "  'God',\n",
       "  'bless',\n",
       "  'and',\n",
       "  'keep',\n",
       "  'you',\n",
       "  'always',\n",
       "  'May',\n",
       "  'your',\n",
       "  'wishes',\n",
       "  'all',\n",
       "  'come',\n",
       "  'true',\n",
       "  'May',\n",
       "  'you',\n",
       "  'always',\n",
       "  'do',\n",
       "  'for',\n",
       "  'others',\n",
       "  'And',\n",
       "  'let',\n",
       "  'others',\n",
       "  'do',\n",
       "  'for',\n",
       "  'you',\n",
       "  'May',\n",
       "  'you',\n",
       "  'build',\n",
       "  'a',\n",
       "  'ladder',\n",
       "  'to',\n",
       "  'the',\n",
       "  'stars',\n",
       "  'And',\n",
       "  'climb',\n",
       "  'on',\n",
       "  'every',\n",
       "  'rung',\n",
       "  'And',\n",
       "  'may',\n",
       "  'you',\n",
       "  'stay',\n",
       "  'forever',\n",
       "  'young',\n",
       "  'Forever',\n",
       "  'young',\n",
       "  'Forever',\n",
       "  'young',\n",
       "  'May',\n",
       "  'you',\n",
       "  'stay',\n",
       "  'forever',\n",
       "  'young'])"
      ]
     },
     "execution_count": 62,
     "metadata": {},
     "output_type": "execute_result"
    }
   ],
   "source": [
    "parsed_songs[1]"
   ]
  },
  {
   "cell_type": "code",
   "execution_count": 73,
   "metadata": {},
   "outputs": [
    {
     "name": "stdout",
     "output_type": "stream",
     "text": [
      "\n",
      "--- chords: ['F', 'Am', 'Bb', 'C', 'F', 'Am', 'Bb', 'C7', 'C', 'F', 'C', 'F', 'Am', 'Bb', 'C', 'F', 'Am', 'Bb', 'C', 'C', 'F', 'C', 'F', 'Am', 'Bb', 'C', 'F', 'Am', 'Bb', 'C', 'C', 'F', 'C']\n",
      "--- lyrics: May God bless and keep you always May your wishes all come true May you always do for others And let others do for you May you build a ladder to the stars And climb on every rung May you stay forever young Forever young forever young May you stay forever young May you grow up to be righteous May you grow up to be true May you always know the truth And see the light surrounding you May you always be courageous Stand upright and be strong May you stay forever young Forever young forever young May you stay forever young May your hands always be busy May your feet always be swift May you have a strong foundation When the winds are changing shift May your heart always be joyful And may your song always be sung May you stay forever young Forever young forever young May you stay forever young\n",
      "--- bow: [\"b'may\", 'god', 'bless', 'may', 'wish', 'true', 'may', 'other', 'other', 'may', 'ladder', 'star', 'climb', 'rung', 'may', 'young', 'forev', 'young', 'young', 'may', 'young', 'may', 'righteous', 'may', 'true', 'may', 'truth', 'light', 'may', 'courag', 'stand', 'upright', 'strong', 'may', 'young', 'forev', 'young', 'young', 'may', 'young', 'may', 'hand', 'busi', 'may', 'feet', 'swift', 'may', 'strong', 'foundat', 'wind', 'shift', 'may', 'heart', 'joy', 'song', 'sung', 'may', 'young', 'forev', 'young', 'young', 'may', 'young']\n",
      "\n",
      "--- chords: ['F', 'm', 'C', 'means', 'F', 'm', 'chord', 'and', 'play', 'C', 'in', 'the', 'bass', 'D', 'F', 'm', 'C', 'G', 'B', 'G', 'D', 'D', 'F', 'm', 'C', 'G', 'G', 'A', 'A', 'D', 'D', 'A', 'A']\n",
      "--- lyrics: I annotated a chord for each measure it is used May God bless and keep you always May your wishes all come true May you always do for others And let others do for you May you build a ladder to the stars And climb on every rung And may you stay forever young Forever young Forever young May you stay forever young\n",
      "--- bow: [\"b'i\", 'chord', 'measur', 'may', 'god', 'bless', 'may', 'wish', 'true', 'may', 'other', 'other', 'may', 'ladder', 'star', 'climb', 'rung', 'young', 'forev', 'young', 'forev', 'young', 'may', 'young']\n",
      "\n",
      "--- chords: ['D', 'F', 'm', 'G', 'D', 'D', 'F', 'm', 'G', 'A', 'A', 'A7', 'D', 'A', 'G', 'D', 'F', 'm', 'G', 'D', 'D', 'F', 'm', 'G', 'A', 'A', 'A7', 'D', 'A', 'G', 'D', 'F', 'm', 'G', 'D', 'D', 'F', 'm', 'G', 'A', 'A', 'A7', 'D', 'A', 'G']\n",
      "--- lyrics: May God bless and keep you always May your wishes all come true May you always do for others And let others do for you May you build a ladder to the stars And climb on every rung May you stay forever young Forever young forever young May you stay forever young May you grow up to be righteous May you grow up to be true May you always know the truth And see the lights surrounding you May you always be courageous Stand upright and be strong May you stay forever young Forever young forever young May you stay forever young May your hands always be busy May your feet always be swift May you have a strong foundation When the winds of changes shift May your heart always be joyful May your song always be sung May you stay forever young Forever young forever young May you stay forever young\n",
      "--- bow: [\"b'may\", 'god', 'bless', 'may', 'wish', 'true', 'may', 'other', 'other', 'may', 'ladder', 'star', 'climb', 'rung', 'may', 'young', 'forev', 'young', 'young', 'may', 'young', 'may', 'righteous', 'may', 'true', 'may', 'truth', 'light', 'may', 'courag', 'stand', 'upright', 'strong', 'may', 'young', 'forev', 'young', 'young', 'may', 'young', 'may', 'hand', 'busi', 'may', 'feet', 'swift', 'may', 'strong', 'foundat', 'wind', 'chang', 'may', 'heart', 'joy', 'may', 'song', 'sung', 'may', 'young', 'forev', 'young', 'young', 'may', 'young']\n",
      "\n",
      "--- chords: ['G', 'C', 'G', 'D', 'C', 'D', 'G', 'C', 'C', 'B', 'G', 'D', 'G', 'D', 'G', 'C', 'G', 'D', 'C', 'G', 'C', 'C', 'B', 'G', 'D', 'G', 'D', 'G', 'C', 'G', 'D', 'C', 'G', 'C', 'C', 'B', 'G', 'D']\n",
      "--- lyrics: May God bless and keep you always May your wishes all come true May you always do for others And let others do for you May you build a ladder to the stars And climb on every rung May you stay forever young May you stay forever young May you grow up to be righteous May you grow up to be true May you always know the truth And see the lies surrounding you May you always be courageous Stand upright and be strong May you stay forever young May you stay forever young May your hands always be busy May your feet always be swift May you have a strong foundation When the winds of changes shift May your heart always be joyful And may your song always be sung May you stay forever young\n",
      "--- bow: [\"b'may\", 'god', 'bless', 'may', 'wish', 'true', 'may', 'other', 'other', 'may', 'ladder', 'star', 'climb', 'rung', 'may', 'young', 'may', 'young', 'may', 'righteous', 'may', 'true', 'may', 'truth', 'lie', 'may', 'courag', 'stand', 'upright', 'strong', 'may', 'young', 'may', 'young', 'may', 'hand', 'busi', 'may', 'feet', 'swift', 'may', 'strong', 'foundat', 'wind', 'chang', 'may', 'heart', 'joy', 'song', 'sung', 'may', 'young']\n",
      "\n",
      "--- chords: ['D', 'F', 'm', 'Em', 'D', 'F', 'm', 'Em', 'A', 'A', 'A7', 'D', 'A', 'D', 'F', 'm', 'Em', 'D', 'F', 'm', 'Em', 'A', 'A', 'A7', 'D', 'A', 'D', 'F', 'm', 'Em', 'D', 'F', 'm', 'Em', 'A', 'A', 'A7', 'D', 'A']\n",
      "--- lyrics: May God bless and keep you always may your wishes all come true May you always do for others May you build a ladder to the stars and climb on ev ry rung And may you stay forever young Forever yo ung forever young May you stay forever young May you grow up to be righteous may you grow up to be true May you always know the truth May you always be courageous stand upright and be strong And may you stay forever young Forever yo ung forever young May you stay forever young May your hands always be busy may your feet always be swift May you have a strong foundation May your heart always be joyful may your song always be sung And may you stay forever young Forever yo ung forever young May you stay forever young\n",
      "--- bow: [\"b'may\", 'god', 'bless', 'wish', 'true', 'may', 'other', 'may', 'ladder', 'star', 'climb', 'ev', 'ry', 'rung', 'young', 'forev', 'yo', 'ung', 'young', 'may', 'young', 'may', 'righteous', 'true', 'may', 'truth', 'may', 'courag', 'stand', 'upright', 'strong', 'young', 'forev', 'yo', 'ung', 'young', 'may', 'young', 'may', 'hand', 'busi', 'feet', 'swift', 'may', 'strong', 'foundat', 'may', 'heart', 'joy', 'song', 'sung', 'young', 'forev', 'yo', 'ung', 'young', 'may', 'young']\n",
      "\n",
      "--- chords: ['G', 'C', 'D', 'G', 'C', 'G', 'G', 'G', 'C', 'G', 'D', 'C', 'G', 'C', 'G', 'G', 'C', 'C', 'B', 'G', 'D', 'C', 'G', 'G', 'D', 'G', 'C', 'G', 'C', 'G', 'A7', 'G', 'C', 'G', 'C', 'C', 'B', 'G', 'D', 'C', 'G', 'D', 'G', 'C', 'G', 'C', 'C', 'B', 'G', 'C', 'G', 'A7', 'G', 'C', 'G', 'C', 'C', 'B', 'G', 'G', 'B', 'G', 'C', 'D', 'C', 'G', 'G', 'B', 'G', 'C', 'D']\n",
      "--- lyrics: 1 2 3 4 1 2 3 4 1 2 3 4 1 2 3 4 1 2 3 4 1 2 3 4 May God bless and keep you always May your wishes all come true May you always do for others And let others do for you May you build a ladder to the stars And climb on every rung And may you stay forever young May you stay forever young May you grow up to be righteous May you grow up to be true May you always know the truth And see the lights surrounding you May you always be courageous Stand upright and be strong And may you stay forever young May you stay forever young May your hands always be busy May your feet always be swift May you have a strong foundation When the winds of changes shift May your heart always be joyful May your song always be sung May you stay forever young May you stay forever young\n",
      "--- bow: [\"b'1\", 'may', 'god', 'bless', 'may', 'wish', 'true', 'may', 'other', 'other', 'may', 'ladder', 'star', 'climb', 'rung', 'young', 'may', 'young', 'may', 'righteous', 'may', 'true', 'may', 'truth', 'light', 'may', 'courag', 'stand', 'upright', 'strong', 'young', 'may', 'young', 'may', 'hand', 'busi', 'may', 'feet', 'swift', 'may', 'strong', 'foundat', 'wind', 'chang', 'may', 'heart', 'joy', 'may', 'song', 'sung', 'may', 'young', 'may', 'young']\n",
      "\n",
      "--- chords: ['E', 'A', 'E', 'A', 'Bm', 'A', 'E', 'Bm', 'D', 'A', 'E', 'A', 'Bm', 'A', 'E', 'Bm', 'D', 'E', 'E', 'A', 'E', 'A', 'Bm', 'A', 'E', 'Bm', 'D', 'A', 'Bm', 'E', 'A', 'Bm', 'A', 'E', 'Bm', 'D', 'E', 'A', 'E', 'A', 'Bm', 'A', 'E']\n",
      "--- lyrics: Four strong winds that blow lonely Seven seas that run high All those things that don t change come what may But the good times are all gone And I m bound for moving on I ll look for you if you ever come this way I think I ll go out to Alberta Weather s good there in the fall I ve got some friends that I can go working for Still I wish you d change your mind If I ask you one more time But we ve been through that a hundred times or more Four strong winds that blow lonely Seven seas that run high All those things that don t change come what may But the good times are all gone And I m bound for moving on I ll look for you if if you ever come this way If I get there before the snow flies And if things are looking good You could meet me if I sent you down the fare But by then it would be springtime Not too much for you to do And I ll see you if I pass this way again Four strong winds that blow lonely Seven seas that run high All those things that don t change come what may But the good times are all gone And I m bound for moving on\n",
      "--- bow: [\"b'four\", 'strong', 'wind', 'blow', 'seven', 'high', 'thing', 't', 'chang', 'good', 'time', 'bound', 'way', 'alberta', 'weather', 'good', 'fall', 'friend', 'mind', 'more', 'time', 'hundr', 'time', 'more', 'strong', 'wind', 'blow', 'seven', 'high', 'thing', 't', 'chang', 'good', 'time', 'bound', 'way', 'snow', 'fli', 'thing', 'good', 'fare', 'springtim', 'much', 'way', 'four', 'strong', 'wind', 'blow', 'seven', 'high', 'thing', 't', 'chang', 'good', 'time', 'bound']\n",
      "\n",
      "--- chords: ['F', 'Bb', 'F', 'Bb', 'F', 'Bb', 'Bb', 'F', 'Bb', 'F', 'Bb', 'Am', 'F', 'Bb', 'F', 'Bb', 'F', 'Bb', 'F', 'Bb', 'F', 'Bb', 'Bb', 'F', 'Bb', 'F', 'Bb', 'Am', 'F', 'Bb', 'F', 'Bb', 'F', 'Bb', 'F', 'Bb', 'F', 'Bb', 'Bb', 'F', 'Bb', 'F', 'Bb', 'Am', 'F', 'Bb', 'F', 'Bb', 'F', 'Bb', 'F', 'Bb', 'F', 'Bb', 'Bb', 'F', 'Bb', 'F', 'Bb', 'Am', 'F', 'Bb', 'F', 'Bb', 'F', 'Bb', 'F', 'Bb', 'F', 'Bb', 'Bb', 'F', 'Bb', 'F', 'Bb', 'Bb', 'F', 'Bb', 'F', 'Bb']\n",
      "--- lyrics: When she said Don t waste your words they re just lies I cried she was deaf And she worked on my face until breaking my eyes Then said What else you got left It was then that I got up to leave But she said Don t forget Ev rybody must give something back For something they get I stood there and hummed I tapped on her drum and asked her how come And she buttoned her boot And straightened her suit Then she said Don t get cute So I forced my hands in my pockets And felt with my thumbs And gallantly handed her My very last peice of gum She threw me outside I stood in the dirt where ev ry one walked And after finding I d Forgotten my shirt I went back and knocked I waited in the hallway she went to get it And I tried to make sense Out of that picture of you in your wheelchair That leaned up against Her Jamaican rum And when she did come I asked her for some She said No dear I said Your words aren t clear You d better spit out your gum She screamed till her face got so red Then she fell on the floor And I covered her up and then Thought I d go look through her drawer And when I was through I filled up my shoe And brought it to you And you you took me in You loved me then You didn t waste time And I I never took much I never asked for your crutch Now don t ask for mine\n",
      "--- bow: [\"b'when\", 'don', 'word', 'lie', 'deaf', 'face', 'eye', 'don', 'ev', 'rybodi', 'someth', 'someth', 'drum', 'come', 'boot', 'suit', 'don', 'cute', 'so', 'hand', 'pocket', 'felt', 'thumb', 'my', 'last', 'peic', 'gum', 'dirt', 'ev', 'walk', 'forgotten', 'shirt', 'hallway', 'sens', 'pictur', 'wheelchair', 'jamaican', 'rum', 'dear', 'word', 't', 'clear', 'better', 'spit', 'gum', 'face', 'red', 'floor', 'thought', 'go', 'look', 'drawer', 'shoe', 't', 'wast', 'time', 'crutch', 't', 'ask', 'mine']\n",
      "\n",
      "--- chords: ['E', 'C', 'G', 'E', 'D', 'G', 'E', 'C', 'E', 'A', 'G', 'E', 'C', 'E', 'D', 'E', 'E', 'C', 'D', 'G', 'E', 'D', 'E', 'A', 'E', 'E', 'E', 'C', 'D', 'D', 'E', 'A', 'E', 'D', 'E', 'E', 'E', 'A', 'D', 'E', 'E', 'E', 'A', 'D', 'E', 'E']\n",
      "--- lyrics: Frankie was a good girl Payed 100 dollers for Albert s new suite of clothes Albert said I m leaving you Won t be gone for long Don t wait for me A worry about me when I m gone He was her man but he done her wrong Frankie went down to the corner saloon Get a bucket of beer Said to the bartender Has my lovin man been here He was her man but he done her wrong Well I ain t gonna tell you no stories I ain t gonna tell you no lies I saw Albert an hour ago He was her man but he done her wrong Frankie went down to 12th Street Lookin up through the window high She saw her Albert there Lovein up Alice Bly He was her man but he done her wrong Frankie pulled out a pistol Pulled out a forty four Gun went off a rootie toot toot And Albert fell on the floor He was her man but he done her wrong Frankie got down upon her knees Took Albert into her lap Started to hug and kiss him But there was no bringin him back He was her man but he done her wrong Gimme a thousand policemen Throw me into a cell I shot my Albert dead And now I m goin to hell He was her man but he done me wrong Judge said to the jury Plain as a thing can be A woman shot her lover down Murder in the second degree He was her man but he done her wrong Frankie went to the scaffold Calm as a girl could be Turned her eyes up towards the heavens Said Nearer my God to Thee He was her man but he done her wrong\n",
      "--- bow: [\"b'franki\", 'good', 'girl', 'doller', 'albert', 'new', 'suit', 'cloth', 'albert', 'won', 'don', 't', 'wait', 'worri', 'man', 'wrong', 'franki', 'corner', 'saloon', 'bucket', 'beer', 'said', 'bartend', 'has', 'lovin', 'man', 'man', 'wrong', 'well', 't', 'gon', 'stori', 't', 'gon', 'lie', 'albert', 'hour', 'man', 'wrong', 'franki', 'street', 'lookin', 'window', 'high', 'albert', 'lovein', 'alic', 'bli', 'man', 'wrong', 'franki', 'pistol', 'forti', 'gun', 'rooti', 'toot', 'toot', 'albert', 'floor', 'man', 'wrong', 'franki', 'knee', 'took', 'albert', 'lap', 'bringin', 'man', 'wrong', 'gim', 'thousand', 'policemen', 'cell', 'albert', 'dead', 'goin', 'man', 'wrong', 'judg', 'juri', 'plain', 'thing', 'a', 'woman', 'shot', 'lover', 'murder', 'second', 'degre', 'man', 'wrong', 'franki', 'scaffold', 'calm', 'girl', 'eye', 'toward', 'heaven', 'said', 'nearer', 'god', 'man', 'wrong']\n",
      "\n",
      "--- chords: ['F', 'Bb', 'Am', 'Am', 'F', 'Am', 'Bb', 'Gm', 'F', 'C', 'Dm', 'G', 'F', 'C', 'Bb', 'F', 'Bb', 'Am', 'Am', 'F', 'Am', 'Bb', 'Gm', 'F', 'C', 'Dm', 'G', 'F', 'C', 'Bb', 'F', 'Bb', 'Am', 'Am', 'F', 'Am', 'Bb', 'Gm', 'F', 'Dm', 'F', 'C', 'F', 'Bb', 'Am', 'Am', 'F', 'Am', 'Bb', 'Gm', 'F', 'Dm', 'F', 'C']\n",
      "--- lyrics: Freedom for the stallion Freedom for the mare and the colt Freedom for the baby child Who s not grown old enough to vote what You gonna do About the people that are prayin to You They got men makin laws that destroy other men made money God it s a dog gone sin Oh Lord You got to help us find a way Big ships sailin Slaves all chained and bound Heading for another land that some cat says he s up and found What You gonna do About the people who been prayin to You They got men makin laws that destroy other men makin money God it s a dog gone sin Oh Lord You got to help us find a way Freedom for the stallion Freedom for the mare and the colt Freedom for the baby child Who s not grown old enough to vote What You gonna do About the people that are prayin to You Well when I look Into my mind It s the truth that I find Oh Lord You gotta help us find a way Freedom for the stallion Freedom for the mare and the colt Freedom for the baby child Who has not grown old enough to vote What You gonna do About the people that are prayin to You Well when I look Into my mind It s the truth that I find Oh Lord You gotta help us find a way\n",
      "--- bow: [\"b'freedom\", 'stallion', 'freedom', 'mare', 'colt', 'freedom', 'babi', 'child', 'who', 'grown', 'old', 'peopl', 'men', 'law', 'other', 'men', 'money', 'god', 'dog', 'sin', 'oh', 'lord', 'way', 'big', 'ship', 'head', 'land', 'cat', 'peopl', 'men', 'law', 'other', 'men', 'money', 'god', 'dog', 'sin', 'oh', 'lord', 'way', 'freedom', 'stallion', 'freedom', 'mare', 'colt', 'freedom', 'babi', 'child', 'who', 'grown', 'old', 'peopl', 'mind', 'truth', 'oh', 'lord', 'help', 'way', 'freedom', 'stallion', 'freedom', 'mare', 'colt', 'freedom', 'babi', 'child', 'who', 'old', 'peopl', 'mind', 'truth', 'oh', 'lord', 'help', 'way']\n",
      "\n",
      "--- chords: ['C', 'G', 'C', 'D', 'C', 'F', 'C', 'G']\n",
      "--- lyrics: I was born in Dixie in a boomer shack Just a little shanty by the railroad track Freight train was it taught me how to cry hummin of the driver was my lullaby Oh Lord mama I got them in the bottom of my rambling shoes And when the whistle blows I gotta go baby don t you know Well it looks like I m never gonna lose the freight train blues\n",
      "--- bow: [\"b'i\", 'dixi', 'boomer', 'shack', 'just', 'littl', 'shanti', 'railroad', 'track', 'freight', 'train', 'hummin', 'driver', 'lullabi', 'oh', 'lord', 'mama', 'bottom', 'rambl', 'shoe', 'whistl', 'babi', 'freight', 'train', 'blue']\n"
     ]
    }
   ],
   "source": [
    "song_dict_list = []\n",
    "for song in parsed_songs:\n",
    "    song_dict  = {}\n",
    "    song_dict['lyrics'] = get_all_lyrics_chords(song)[0]\n",
    "    song_dict['chords'] = get_all_lyrics_chords(song)[1]\n",
    "    song_dict_list.append(song_dict)\n",
    "# extracting bows\n",
    "    bows = list(map(lambda song_dict: extract_bow_from_raw_text(song_dict['lyrics']), song_dict_list))\n",
    "\n",
    "# displaying bows\n",
    "for i in range(len(song_dict_list)):\n",
    "    print(\"\\n--- chords: {}\".format(song_dict_list[i]['chords']))\n",
    "    print(\"--- lyrics: {}\".format(song_dict_list[i]['lyrics']))\n",
    "    print(\"--- bow: {}\".format(bows[i])) "
   ]
  },
  {
   "cell_type": "code",
   "execution_count": 74,
   "metadata": {},
   "outputs": [
    {
     "name": "stdout",
     "output_type": "stream",
     "text": [
      "\n",
      "--- lyrics: May God bless and keep you always May your wishes all come true May you always do for others And let others do for you May you build a ladder to the stars And climb on every rung May you stay forever young Forever young forever young May you stay forever young May you grow up to be righteous May you grow up to be true May you always know the truth And see the light surrounding you May you always be courageous Stand upright and be strong May you stay forever young Forever young forever young May you stay forever young May your hands always be busy May your feet always be swift May you have a strong foundation When the winds are changing shift May your heart always be joyful And may your song always be sung May you stay forever young Forever young forever young May you stay forever young\n",
      "--- bow: [\"b'may\", 'god', 'bless', 'may', 'wish', 'true', 'may', 'other', 'other', 'may', 'ladder', 'star', 'climb', 'rung', 'may', 'young', 'forev', 'young', 'young', 'may', 'young', 'may', 'righteous', 'may', 'true', 'may', 'truth', 'light', 'may', 'courag', 'stand', 'upright', 'strong', 'may', 'young', 'forev', 'young', 'young', 'may', 'young', 'may', 'hand', 'busi', 'may', 'feet', 'swift', 'may', 'strong', 'foundat', 'wind', 'shift', 'may', 'heart', 'joy', 'song', 'sung', 'may', 'young', 'forev', 'young', 'young', 'may', 'young']\n",
      "--- term_occ: Counter({'may': 17, 'young': 12, 'forev': 3, 'true': 2, 'other': 2, 'strong': 2, \"b'may\": 1, 'god': 1, 'bless': 1, 'wish': 1, 'ladder': 1, 'star': 1, 'climb': 1, 'rung': 1, 'righteous': 1, 'truth': 1, 'light': 1, 'courag': 1, 'stand': 1, 'upright': 1, 'hand': 1, 'busi': 1, 'feet': 1, 'swift': 1, 'foundat': 1, 'wind': 1, 'shift': 1, 'heart': 1, 'joy': 1, 'song': 1, 'sung': 1})\n",
      "--- term_freq: {\"b'may\": 0.015873015873015872, 'god': 0.015873015873015872, 'bless': 0.015873015873015872, 'may': 0.2698412698412698, 'wish': 0.015873015873015872, 'true': 0.031746031746031744, 'other': 0.031746031746031744, 'ladder': 0.015873015873015872, 'star': 0.015873015873015872, 'climb': 0.015873015873015872, 'rung': 0.015873015873015872, 'young': 0.19047619047619047, 'forev': 0.047619047619047616, 'righteous': 0.015873015873015872, 'truth': 0.015873015873015872, 'light': 0.015873015873015872, 'courag': 0.015873015873015872, 'stand': 0.015873015873015872, 'upright': 0.015873015873015872, 'strong': 0.031746031746031744, 'hand': 0.015873015873015872, 'busi': 0.015873015873015872, 'feet': 0.015873015873015872, 'swift': 0.015873015873015872, 'foundat': 0.015873015873015872, 'wind': 0.015873015873015872, 'shift': 0.015873015873015872, 'heart': 0.015873015873015872, 'joy': 0.015873015873015872, 'song': 0.015873015873015872, 'sung': 0.015873015873015872}\n",
      "\n",
      "--- lyrics: I annotated a chord for each measure it is used May God bless and keep you always May your wishes all come true May you always do for others And let others do for you May you build a ladder to the stars And climb on every rung And may you stay forever young Forever young Forever young May you stay forever young\n",
      "--- bow: [\"b'i\", 'chord', 'measur', 'may', 'god', 'bless', 'may', 'wish', 'true', 'may', 'other', 'other', 'may', 'ladder', 'star', 'climb', 'rung', 'young', 'forev', 'young', 'forev', 'young', 'may', 'young']\n",
      "--- term_occ: Counter({'may': 5, 'young': 4, 'other': 2, 'forev': 2, \"b'i\": 1, 'chord': 1, 'measur': 1, 'god': 1, 'bless': 1, 'wish': 1, 'true': 1, 'ladder': 1, 'star': 1, 'climb': 1, 'rung': 1})\n",
      "--- term_freq: {\"b'i\": 0.041666666666666664, 'chord': 0.041666666666666664, 'measur': 0.041666666666666664, 'may': 0.20833333333333334, 'god': 0.041666666666666664, 'bless': 0.041666666666666664, 'wish': 0.041666666666666664, 'true': 0.041666666666666664, 'other': 0.08333333333333333, 'ladder': 0.041666666666666664, 'star': 0.041666666666666664, 'climb': 0.041666666666666664, 'rung': 0.041666666666666664, 'young': 0.16666666666666666, 'forev': 0.08333333333333333}\n",
      "\n",
      "--- lyrics: May God bless and keep you always May your wishes all come true May you always do for others And let others do for you May you build a ladder to the stars And climb on every rung May you stay forever young Forever young forever young May you stay forever young May you grow up to be righteous May you grow up to be true May you always know the truth And see the lights surrounding you May you always be courageous Stand upright and be strong May you stay forever young Forever young forever young May you stay forever young May your hands always be busy May your feet always be swift May you have a strong foundation When the winds of changes shift May your heart always be joyful May your song always be sung May you stay forever young Forever young forever young May you stay forever young\n",
      "--- bow: [\"b'may\", 'god', 'bless', 'may', 'wish', 'true', 'may', 'other', 'other', 'may', 'ladder', 'star', 'climb', 'rung', 'may', 'young', 'forev', 'young', 'young', 'may', 'young', 'may', 'righteous', 'may', 'true', 'may', 'truth', 'light', 'may', 'courag', 'stand', 'upright', 'strong', 'may', 'young', 'forev', 'young', 'young', 'may', 'young', 'may', 'hand', 'busi', 'may', 'feet', 'swift', 'may', 'strong', 'foundat', 'wind', 'chang', 'may', 'heart', 'joy', 'may', 'song', 'sung', 'may', 'young', 'forev', 'young', 'young', 'may', 'young']\n",
      "--- term_occ: Counter({'may': 18, 'young': 12, 'forev': 3, 'true': 2, 'other': 2, 'strong': 2, \"b'may\": 1, 'god': 1, 'bless': 1, 'wish': 1, 'ladder': 1, 'star': 1, 'climb': 1, 'rung': 1, 'righteous': 1, 'truth': 1, 'light': 1, 'courag': 1, 'stand': 1, 'upright': 1, 'hand': 1, 'busi': 1, 'feet': 1, 'swift': 1, 'foundat': 1, 'wind': 1, 'chang': 1, 'heart': 1, 'joy': 1, 'song': 1, 'sung': 1})\n",
      "--- term_freq: {\"b'may\": 0.015625, 'god': 0.015625, 'bless': 0.015625, 'may': 0.28125, 'wish': 0.015625, 'true': 0.03125, 'other': 0.03125, 'ladder': 0.015625, 'star': 0.015625, 'climb': 0.015625, 'rung': 0.015625, 'young': 0.1875, 'forev': 0.046875, 'righteous': 0.015625, 'truth': 0.015625, 'light': 0.015625, 'courag': 0.015625, 'stand': 0.015625, 'upright': 0.015625, 'strong': 0.03125, 'hand': 0.015625, 'busi': 0.015625, 'feet': 0.015625, 'swift': 0.015625, 'foundat': 0.015625, 'wind': 0.015625, 'chang': 0.015625, 'heart': 0.015625, 'joy': 0.015625, 'song': 0.015625, 'sung': 0.015625}\n",
      "\n",
      "--- lyrics: May God bless and keep you always May your wishes all come true May you always do for others And let others do for you May you build a ladder to the stars And climb on every rung May you stay forever young May you stay forever young May you grow up to be righteous May you grow up to be true May you always know the truth And see the lies surrounding you May you always be courageous Stand upright and be strong May you stay forever young May you stay forever young May your hands always be busy May your feet always be swift May you have a strong foundation When the winds of changes shift May your heart always be joyful And may your song always be sung May you stay forever young\n",
      "--- bow: [\"b'may\", 'god', 'bless', 'may', 'wish', 'true', 'may', 'other', 'other', 'may', 'ladder', 'star', 'climb', 'rung', 'may', 'young', 'may', 'young', 'may', 'righteous', 'may', 'true', 'may', 'truth', 'lie', 'may', 'courag', 'stand', 'upright', 'strong', 'may', 'young', 'may', 'young', 'may', 'hand', 'busi', 'may', 'feet', 'swift', 'may', 'strong', 'foundat', 'wind', 'chang', 'may', 'heart', 'joy', 'song', 'sung', 'may', 'young']\n",
      "--- term_occ: Counter({'may': 16, 'young': 5, 'true': 2, 'other': 2, 'strong': 2, \"b'may\": 1, 'god': 1, 'bless': 1, 'wish': 1, 'ladder': 1, 'star': 1, 'climb': 1, 'rung': 1, 'righteous': 1, 'truth': 1, 'lie': 1, 'courag': 1, 'stand': 1, 'upright': 1, 'hand': 1, 'busi': 1, 'feet': 1, 'swift': 1, 'foundat': 1, 'wind': 1, 'chang': 1, 'heart': 1, 'joy': 1, 'song': 1, 'sung': 1})\n",
      "--- term_freq: {\"b'may\": 0.019230769230769232, 'god': 0.019230769230769232, 'bless': 0.019230769230769232, 'may': 0.3076923076923077, 'wish': 0.019230769230769232, 'true': 0.038461538461538464, 'other': 0.038461538461538464, 'ladder': 0.019230769230769232, 'star': 0.019230769230769232, 'climb': 0.019230769230769232, 'rung': 0.019230769230769232, 'young': 0.09615384615384616, 'righteous': 0.019230769230769232, 'truth': 0.019230769230769232, 'lie': 0.019230769230769232, 'courag': 0.019230769230769232, 'stand': 0.019230769230769232, 'upright': 0.019230769230769232, 'strong': 0.038461538461538464, 'hand': 0.019230769230769232, 'busi': 0.019230769230769232, 'feet': 0.019230769230769232, 'swift': 0.019230769230769232, 'foundat': 0.019230769230769232, 'wind': 0.019230769230769232, 'chang': 0.019230769230769232, 'heart': 0.019230769230769232, 'joy': 0.019230769230769232, 'song': 0.019230769230769232, 'sung': 0.019230769230769232}\n",
      "\n",
      "--- lyrics: May God bless and keep you always may your wishes all come true May you always do for others May you build a ladder to the stars and climb on ev ry rung And may you stay forever young Forever yo ung forever young May you stay forever young May you grow up to be righteous may you grow up to be true May you always know the truth May you always be courageous stand upright and be strong And may you stay forever young Forever yo ung forever young May you stay forever young May your hands always be busy may your feet always be swift May you have a strong foundation May your heart always be joyful may your song always be sung And may you stay forever young Forever yo ung forever young May you stay forever young\n",
      "--- bow: [\"b'may\", 'god', 'bless', 'wish', 'true', 'may', 'other', 'may', 'ladder', 'star', 'climb', 'ev', 'ry', 'rung', 'young', 'forev', 'yo', 'ung', 'young', 'may', 'young', 'may', 'righteous', 'true', 'may', 'truth', 'may', 'courag', 'stand', 'upright', 'strong', 'young', 'forev', 'yo', 'ung', 'young', 'may', 'young', 'may', 'hand', 'busi', 'feet', 'swift', 'may', 'strong', 'foundat', 'may', 'heart', 'joy', 'song', 'sung', 'young', 'forev', 'yo', 'ung', 'young', 'may', 'young']\n",
      "--- term_occ: Counter({'may': 11, 'young': 9, 'forev': 3, 'yo': 3, 'ung': 3, 'true': 2, 'strong': 2, \"b'may\": 1, 'god': 1, 'bless': 1, 'wish': 1, 'other': 1, 'ladder': 1, 'star': 1, 'climb': 1, 'ev': 1, 'ry': 1, 'rung': 1, 'righteous': 1, 'truth': 1, 'courag': 1, 'stand': 1, 'upright': 1, 'hand': 1, 'busi': 1, 'feet': 1, 'swift': 1, 'foundat': 1, 'heart': 1, 'joy': 1, 'song': 1, 'sung': 1})\n",
      "--- term_freq: {\"b'may\": 0.017241379310344827, 'god': 0.017241379310344827, 'bless': 0.017241379310344827, 'wish': 0.017241379310344827, 'true': 0.034482758620689655, 'may': 0.1896551724137931, 'other': 0.017241379310344827, 'ladder': 0.017241379310344827, 'star': 0.017241379310344827, 'climb': 0.017241379310344827, 'ev': 0.017241379310344827, 'ry': 0.017241379310344827, 'rung': 0.017241379310344827, 'young': 0.15517241379310345, 'forev': 0.05172413793103448, 'yo': 0.05172413793103448, 'ung': 0.05172413793103448, 'righteous': 0.017241379310344827, 'truth': 0.017241379310344827, 'courag': 0.017241379310344827, 'stand': 0.017241379310344827, 'upright': 0.017241379310344827, 'strong': 0.034482758620689655, 'hand': 0.017241379310344827, 'busi': 0.017241379310344827, 'feet': 0.017241379310344827, 'swift': 0.017241379310344827, 'foundat': 0.017241379310344827, 'heart': 0.017241379310344827, 'joy': 0.017241379310344827, 'song': 0.017241379310344827, 'sung': 0.017241379310344827}\n",
      "\n",
      "--- lyrics: 1 2 3 4 1 2 3 4 1 2 3 4 1 2 3 4 1 2 3 4 1 2 3 4 May God bless and keep you always May your wishes all come true May you always do for others And let others do for you May you build a ladder to the stars And climb on every rung And may you stay forever young May you stay forever young May you grow up to be righteous May you grow up to be true May you always know the truth And see the lights surrounding you May you always be courageous Stand upright and be strong And may you stay forever young May you stay forever young May your hands always be busy May your feet always be swift May you have a strong foundation When the winds of changes shift May your heart always be joyful May your song always be sung May you stay forever young May you stay forever young\n",
      "--- bow: [\"b'1\", 'may', 'god', 'bless', 'may', 'wish', 'true', 'may', 'other', 'other', 'may', 'ladder', 'star', 'climb', 'rung', 'young', 'may', 'young', 'may', 'righteous', 'may', 'true', 'may', 'truth', 'light', 'may', 'courag', 'stand', 'upright', 'strong', 'young', 'may', 'young', 'may', 'hand', 'busi', 'may', 'feet', 'swift', 'may', 'strong', 'foundat', 'wind', 'chang', 'may', 'heart', 'joy', 'may', 'song', 'sung', 'may', 'young', 'may', 'young']\n",
      "--- term_occ: Counter({'may': 17, 'young': 6, 'true': 2, 'other': 2, 'strong': 2, \"b'1\": 1, 'god': 1, 'bless': 1, 'wish': 1, 'ladder': 1, 'star': 1, 'climb': 1, 'rung': 1, 'righteous': 1, 'truth': 1, 'light': 1, 'courag': 1, 'stand': 1, 'upright': 1, 'hand': 1, 'busi': 1, 'feet': 1, 'swift': 1, 'foundat': 1, 'wind': 1, 'chang': 1, 'heart': 1, 'joy': 1, 'song': 1, 'sung': 1})\n",
      "--- term_freq: {\"b'1\": 0.018518518518518517, 'may': 0.3148148148148148, 'god': 0.018518518518518517, 'bless': 0.018518518518518517, 'wish': 0.018518518518518517, 'true': 0.037037037037037035, 'other': 0.037037037037037035, 'ladder': 0.018518518518518517, 'star': 0.018518518518518517, 'climb': 0.018518518518518517, 'rung': 0.018518518518518517, 'young': 0.1111111111111111, 'righteous': 0.018518518518518517, 'truth': 0.018518518518518517, 'light': 0.018518518518518517, 'courag': 0.018518518518518517, 'stand': 0.018518518518518517, 'upright': 0.018518518518518517, 'strong': 0.037037037037037035, 'hand': 0.018518518518518517, 'busi': 0.018518518518518517, 'feet': 0.018518518518518517, 'swift': 0.018518518518518517, 'foundat': 0.018518518518518517, 'wind': 0.018518518518518517, 'chang': 0.018518518518518517, 'heart': 0.018518518518518517, 'joy': 0.018518518518518517, 'song': 0.018518518518518517, 'sung': 0.018518518518518517}\n",
      "\n",
      "--- lyrics: Four strong winds that blow lonely Seven seas that run high All those things that don t change come what may But the good times are all gone And I m bound for moving on I ll look for you if you ever come this way I think I ll go out to Alberta Weather s good there in the fall I ve got some friends that I can go working for Still I wish you d change your mind If I ask you one more time But we ve been through that a hundred times or more Four strong winds that blow lonely Seven seas that run high All those things that don t change come what may But the good times are all gone And I m bound for moving on I ll look for you if if you ever come this way If I get there before the snow flies And if things are looking good You could meet me if I sent you down the fare But by then it would be springtime Not too much for you to do And I ll see you if I pass this way again Four strong winds that blow lonely Seven seas that run high All those things that don t change come what may But the good times are all gone And I m bound for moving on\n",
      "--- bow: [\"b'four\", 'strong', 'wind', 'blow', 'seven', 'high', 'thing', 't', 'chang', 'good', 'time', 'bound', 'way', 'alberta', 'weather', 'good', 'fall', 'friend', 'mind', 'more', 'time', 'hundr', 'time', 'more', 'strong', 'wind', 'blow', 'seven', 'high', 'thing', 't', 'chang', 'good', 'time', 'bound', 'way', 'snow', 'fli', 'thing', 'good', 'fare', 'springtim', 'much', 'way', 'four', 'strong', 'wind', 'blow', 'seven', 'high', 'thing', 't', 'chang', 'good', 'time', 'bound']\n",
      "--- term_occ: Counter({'good': 5, 'time': 5, 'thing': 4, 'strong': 3, 'wind': 3, 'blow': 3, 'seven': 3, 'high': 3, 't': 3, 'chang': 3, 'bound': 3, 'way': 3, 'more': 2, \"b'four\": 1, 'alberta': 1, 'weather': 1, 'fall': 1, 'friend': 1, 'mind': 1, 'hundr': 1, 'snow': 1, 'fli': 1, 'fare': 1, 'springtim': 1, 'much': 1, 'four': 1})\n",
      "--- term_freq: {\"b'four\": 0.017857142857142856, 'strong': 0.05357142857142857, 'wind': 0.05357142857142857, 'blow': 0.05357142857142857, 'seven': 0.05357142857142857, 'high': 0.05357142857142857, 'thing': 0.07142857142857142, 't': 0.05357142857142857, 'chang': 0.05357142857142857, 'good': 0.08928571428571429, 'time': 0.08928571428571429, 'bound': 0.05357142857142857, 'way': 0.05357142857142857, 'alberta': 0.017857142857142856, 'weather': 0.017857142857142856, 'fall': 0.017857142857142856, 'friend': 0.017857142857142856, 'mind': 0.017857142857142856, 'more': 0.03571428571428571, 'hundr': 0.017857142857142856, 'snow': 0.017857142857142856, 'fli': 0.017857142857142856, 'fare': 0.017857142857142856, 'springtim': 0.017857142857142856, 'much': 0.017857142857142856, 'four': 0.017857142857142856}\n",
      "\n",
      "--- lyrics: When she said Don t waste your words they re just lies I cried she was deaf And she worked on my face until breaking my eyes Then said What else you got left It was then that I got up to leave But she said Don t forget Ev rybody must give something back For something they get I stood there and hummed I tapped on her drum and asked her how come And she buttoned her boot And straightened her suit Then she said Don t get cute So I forced my hands in my pockets And felt with my thumbs And gallantly handed her My very last peice of gum She threw me outside I stood in the dirt where ev ry one walked And after finding I d Forgotten my shirt I went back and knocked I waited in the hallway she went to get it And I tried to make sense Out of that picture of you in your wheelchair That leaned up against Her Jamaican rum And when she did come I asked her for some She said No dear I said Your words aren t clear You d better spit out your gum She screamed till her face got so red Then she fell on the floor And I covered her up and then Thought I d go look through her drawer And when I was through I filled up my shoe And brought it to you And you you took me in You loved me then You didn t waste time And I I never took much I never asked for your crutch Now don t ask for mine\n",
      "--- bow: [\"b'when\", 'don', 'word', 'lie', 'deaf', 'face', 'eye', 'don', 'ev', 'rybodi', 'someth', 'someth', 'drum', 'come', 'boot', 'suit', 'don', 'cute', 'so', 'hand', 'pocket', 'felt', 'thumb', 'my', 'last', 'peic', 'gum', 'dirt', 'ev', 'walk', 'forgotten', 'shirt', 'hallway', 'sens', 'pictur', 'wheelchair', 'jamaican', 'rum', 'dear', 'word', 't', 'clear', 'better', 'spit', 'gum', 'face', 'red', 'floor', 'thought', 'go', 'look', 'drawer', 'shoe', 't', 'wast', 'time', 'crutch', 't', 'ask', 'mine']\n",
      "--- term_occ: Counter({'don': 3, 't': 3, 'word': 2, 'face': 2, 'ev': 2, 'someth': 2, 'gum': 2, \"b'when\": 1, 'lie': 1, 'deaf': 1, 'eye': 1, 'rybodi': 1, 'drum': 1, 'come': 1, 'boot': 1, 'suit': 1, 'cute': 1, 'so': 1, 'hand': 1, 'pocket': 1, 'felt': 1, 'thumb': 1, 'my': 1, 'last': 1, 'peic': 1, 'dirt': 1, 'walk': 1, 'forgotten': 1, 'shirt': 1, 'hallway': 1, 'sens': 1, 'pictur': 1, 'wheelchair': 1, 'jamaican': 1, 'rum': 1, 'dear': 1, 'clear': 1, 'better': 1, 'spit': 1, 'red': 1, 'floor': 1, 'thought': 1, 'go': 1, 'look': 1, 'drawer': 1, 'shoe': 1, 'wast': 1, 'time': 1, 'crutch': 1, 'ask': 1, 'mine': 1})\n",
      "--- term_freq: {\"b'when\": 0.016666666666666666, 'don': 0.05, 'word': 0.03333333333333333, 'lie': 0.016666666666666666, 'deaf': 0.016666666666666666, 'face': 0.03333333333333333, 'eye': 0.016666666666666666, 'ev': 0.03333333333333333, 'rybodi': 0.016666666666666666, 'someth': 0.03333333333333333, 'drum': 0.016666666666666666, 'come': 0.016666666666666666, 'boot': 0.016666666666666666, 'suit': 0.016666666666666666, 'cute': 0.016666666666666666, 'so': 0.016666666666666666, 'hand': 0.016666666666666666, 'pocket': 0.016666666666666666, 'felt': 0.016666666666666666, 'thumb': 0.016666666666666666, 'my': 0.016666666666666666, 'last': 0.016666666666666666, 'peic': 0.016666666666666666, 'gum': 0.03333333333333333, 'dirt': 0.016666666666666666, 'walk': 0.016666666666666666, 'forgotten': 0.016666666666666666, 'shirt': 0.016666666666666666, 'hallway': 0.016666666666666666, 'sens': 0.016666666666666666, 'pictur': 0.016666666666666666, 'wheelchair': 0.016666666666666666, 'jamaican': 0.016666666666666666, 'rum': 0.016666666666666666, 'dear': 0.016666666666666666, 't': 0.05, 'clear': 0.016666666666666666, 'better': 0.016666666666666666, 'spit': 0.016666666666666666, 'red': 0.016666666666666666, 'floor': 0.016666666666666666, 'thought': 0.016666666666666666, 'go': 0.016666666666666666, 'look': 0.016666666666666666, 'drawer': 0.016666666666666666, 'shoe': 0.016666666666666666, 'wast': 0.016666666666666666, 'time': 0.016666666666666666, 'crutch': 0.016666666666666666, 'ask': 0.016666666666666666, 'mine': 0.016666666666666666}\n",
      "\n",
      "--- lyrics: Frankie was a good girl Payed 100 dollers for Albert s new suite of clothes Albert said I m leaving you Won t be gone for long Don t wait for me A worry about me when I m gone He was her man but he done her wrong Frankie went down to the corner saloon Get a bucket of beer Said to the bartender Has my lovin man been here He was her man but he done her wrong Well I ain t gonna tell you no stories I ain t gonna tell you no lies I saw Albert an hour ago He was her man but he done her wrong Frankie went down to 12th Street Lookin up through the window high She saw her Albert there Lovein up Alice Bly He was her man but he done her wrong Frankie pulled out a pistol Pulled out a forty four Gun went off a rootie toot toot And Albert fell on the floor He was her man but he done her wrong Frankie got down upon her knees Took Albert into her lap Started to hug and kiss him But there was no bringin him back He was her man but he done her wrong Gimme a thousand policemen Throw me into a cell I shot my Albert dead And now I m goin to hell He was her man but he done me wrong Judge said to the jury Plain as a thing can be A woman shot her lover down Murder in the second degree He was her man but he done her wrong Frankie went to the scaffold Calm as a girl could be Turned her eyes up towards the heavens Said Nearer my God to Thee He was her man but he done her wrong\n",
      "--- bow: [\"b'franki\", 'good', 'girl', 'doller', 'albert', 'new', 'suit', 'cloth', 'albert', 'won', 'don', 't', 'wait', 'worri', 'man', 'wrong', 'franki', 'corner', 'saloon', 'bucket', 'beer', 'said', 'bartend', 'has', 'lovin', 'man', 'man', 'wrong', 'well', 't', 'gon', 'stori', 't', 'gon', 'lie', 'albert', 'hour', 'man', 'wrong', 'franki', 'street', 'lookin', 'window', 'high', 'albert', 'lovein', 'alic', 'bli', 'man', 'wrong', 'franki', 'pistol', 'forti', 'gun', 'rooti', 'toot', 'toot', 'albert', 'floor', 'man', 'wrong', 'franki', 'knee', 'took', 'albert', 'lap', 'bringin', 'man', 'wrong', 'gim', 'thousand', 'policemen', 'cell', 'albert', 'dead', 'goin', 'man', 'wrong', 'judg', 'juri', 'plain', 'thing', 'a', 'woman', 'shot', 'lover', 'murder', 'second', 'degre', 'man', 'wrong', 'franki', 'scaffold', 'calm', 'girl', 'eye', 'toward', 'heaven', 'said', 'nearer', 'god', 'man', 'wrong']\n",
      "--- term_occ: Counter({'man': 10, 'wrong': 9, 'albert': 7, 'franki': 5, 't': 3, 'girl': 2, 'said': 2, 'gon': 2, 'toot': 2, \"b'franki\": 1, 'good': 1, 'doller': 1, 'new': 1, 'suit': 1, 'cloth': 1, 'won': 1, 'don': 1, 'wait': 1, 'worri': 1, 'corner': 1, 'saloon': 1, 'bucket': 1, 'beer': 1, 'bartend': 1, 'has': 1, 'lovin': 1, 'well': 1, 'stori': 1, 'lie': 1, 'hour': 1, 'street': 1, 'lookin': 1, 'window': 1, 'high': 1, 'lovein': 1, 'alic': 1, 'bli': 1, 'pistol': 1, 'forti': 1, 'gun': 1, 'rooti': 1, 'floor': 1, 'knee': 1, 'took': 1, 'lap': 1, 'bringin': 1, 'gim': 1, 'thousand': 1, 'policemen': 1, 'cell': 1, 'dead': 1, 'goin': 1, 'judg': 1, 'juri': 1, 'plain': 1, 'thing': 1, 'a': 1, 'woman': 1, 'shot': 1, 'lover': 1, 'murder': 1, 'second': 1, 'degre': 1, 'scaffold': 1, 'calm': 1, 'eye': 1, 'toward': 1, 'heaven': 1, 'nearer': 1, 'god': 1})\n",
      "--- term_freq: {\"b'franki\": 0.009708737864077669, 'good': 0.009708737864077669, 'girl': 0.019417475728155338, 'doller': 0.009708737864077669, 'albert': 0.06796116504854369, 'new': 0.009708737864077669, 'suit': 0.009708737864077669, 'cloth': 0.009708737864077669, 'won': 0.009708737864077669, 'don': 0.009708737864077669, 't': 0.02912621359223301, 'wait': 0.009708737864077669, 'worri': 0.009708737864077669, 'man': 0.0970873786407767, 'wrong': 0.08737864077669903, 'franki': 0.04854368932038835, 'corner': 0.009708737864077669, 'saloon': 0.009708737864077669, 'bucket': 0.009708737864077669, 'beer': 0.009708737864077669, 'said': 0.019417475728155338, 'bartend': 0.009708737864077669, 'has': 0.009708737864077669, 'lovin': 0.009708737864077669, 'well': 0.009708737864077669, 'gon': 0.019417475728155338, 'stori': 0.009708737864077669, 'lie': 0.009708737864077669, 'hour': 0.009708737864077669, 'street': 0.009708737864077669, 'lookin': 0.009708737864077669, 'window': 0.009708737864077669, 'high': 0.009708737864077669, 'lovein': 0.009708737864077669, 'alic': 0.009708737864077669, 'bli': 0.009708737864077669, 'pistol': 0.009708737864077669, 'forti': 0.009708737864077669, 'gun': 0.009708737864077669, 'rooti': 0.009708737864077669, 'toot': 0.019417475728155338, 'floor': 0.009708737864077669, 'knee': 0.009708737864077669, 'took': 0.009708737864077669, 'lap': 0.009708737864077669, 'bringin': 0.009708737864077669, 'gim': 0.009708737864077669, 'thousand': 0.009708737864077669, 'policemen': 0.009708737864077669, 'cell': 0.009708737864077669, 'dead': 0.009708737864077669, 'goin': 0.009708737864077669, 'judg': 0.009708737864077669, 'juri': 0.009708737864077669, 'plain': 0.009708737864077669, 'thing': 0.009708737864077669, 'a': 0.009708737864077669, 'woman': 0.009708737864077669, 'shot': 0.009708737864077669, 'lover': 0.009708737864077669, 'murder': 0.009708737864077669, 'second': 0.009708737864077669, 'degre': 0.009708737864077669, 'scaffold': 0.009708737864077669, 'calm': 0.009708737864077669, 'eye': 0.009708737864077669, 'toward': 0.009708737864077669, 'heaven': 0.009708737864077669, 'nearer': 0.009708737864077669, 'god': 0.009708737864077669}\n",
      "\n",
      "--- lyrics: Freedom for the stallion Freedom for the mare and the colt Freedom for the baby child Who s not grown old enough to vote what You gonna do About the people that are prayin to You They got men makin laws that destroy other men made money God it s a dog gone sin Oh Lord You got to help us find a way Big ships sailin Slaves all chained and bound Heading for another land that some cat says he s up and found What You gonna do About the people who been prayin to You They got men makin laws that destroy other men makin money God it s a dog gone sin Oh Lord You got to help us find a way Freedom for the stallion Freedom for the mare and the colt Freedom for the baby child Who s not grown old enough to vote What You gonna do About the people that are prayin to You Well when I look Into my mind It s the truth that I find Oh Lord You gotta help us find a way Freedom for the stallion Freedom for the mare and the colt Freedom for the baby child Who has not grown old enough to vote What You gonna do About the people that are prayin to You Well when I look Into my mind It s the truth that I find Oh Lord You gotta help us find a way\n",
      "--- bow: [\"b'freedom\", 'stallion', 'freedom', 'mare', 'colt', 'freedom', 'babi', 'child', 'who', 'grown', 'old', 'peopl', 'men', 'law', 'other', 'men', 'money', 'god', 'dog', 'sin', 'oh', 'lord', 'way', 'big', 'ship', 'head', 'land', 'cat', 'peopl', 'men', 'law', 'other', 'men', 'money', 'god', 'dog', 'sin', 'oh', 'lord', 'way', 'freedom', 'stallion', 'freedom', 'mare', 'colt', 'freedom', 'babi', 'child', 'who', 'grown', 'old', 'peopl', 'mind', 'truth', 'oh', 'lord', 'help', 'way', 'freedom', 'stallion', 'freedom', 'mare', 'colt', 'freedom', 'babi', 'child', 'who', 'old', 'peopl', 'mind', 'truth', 'oh', 'lord', 'help', 'way']\n",
      "--- term_occ: Counter({'freedom': 8, 'peopl': 4, 'men': 4, 'oh': 4, 'lord': 4, 'way': 4, 'stallion': 3, 'mare': 3, 'colt': 3, 'babi': 3, 'child': 3, 'who': 3, 'old': 3, 'grown': 2, 'law': 2, 'other': 2, 'money': 2, 'god': 2, 'dog': 2, 'sin': 2, 'mind': 2, 'truth': 2, 'help': 2, \"b'freedom\": 1, 'big': 1, 'ship': 1, 'head': 1, 'land': 1, 'cat': 1})\n",
      "--- term_freq: {\"b'freedom\": 0.013333333333333334, 'stallion': 0.04, 'freedom': 0.10666666666666667, 'mare': 0.04, 'colt': 0.04, 'babi': 0.04, 'child': 0.04, 'who': 0.04, 'grown': 0.02666666666666667, 'old': 0.04, 'peopl': 0.05333333333333334, 'men': 0.05333333333333334, 'law': 0.02666666666666667, 'other': 0.02666666666666667, 'money': 0.02666666666666667, 'god': 0.02666666666666667, 'dog': 0.02666666666666667, 'sin': 0.02666666666666667, 'oh': 0.05333333333333334, 'lord': 0.05333333333333334, 'way': 0.05333333333333334, 'big': 0.013333333333333334, 'ship': 0.013333333333333334, 'head': 0.013333333333333334, 'land': 0.013333333333333334, 'cat': 0.013333333333333334, 'mind': 0.02666666666666667, 'truth': 0.02666666666666667, 'help': 0.02666666666666667}\n",
      "\n",
      "--- lyrics: I was born in Dixie in a boomer shack Just a little shanty by the railroad track Freight train was it taught me how to cry hummin of the driver was my lullaby Oh Lord mama I got them in the bottom of my rambling shoes And when the whistle blows I gotta go baby don t you know Well it looks like I m never gonna lose the freight train blues\n",
      "--- bow: [\"b'i\", 'dixi', 'boomer', 'shack', 'just', 'littl', 'shanti', 'railroad', 'track', 'freight', 'train', 'hummin', 'driver', 'lullabi', 'oh', 'lord', 'mama', 'bottom', 'rambl', 'shoe', 'whistl', 'babi', 'freight', 'train', 'blue']\n",
      "--- term_occ: Counter({'freight': 2, 'train': 2, \"b'i\": 1, 'dixi': 1, 'boomer': 1, 'shack': 1, 'just': 1, 'littl': 1, 'shanti': 1, 'railroad': 1, 'track': 1, 'hummin': 1, 'driver': 1, 'lullabi': 1, 'oh': 1, 'lord': 1, 'mama': 1, 'bottom': 1, 'rambl': 1, 'shoe': 1, 'whistl': 1, 'babi': 1, 'blue': 1})\n",
      "--- term_freq: {\"b'i\": 0.04, 'dixi': 0.04, 'boomer': 0.04, 'shack': 0.04, 'just': 0.04, 'littl': 0.04, 'shanti': 0.04, 'railroad': 0.04, 'track': 0.04, 'freight': 0.08, 'train': 0.08, 'hummin': 0.04, 'driver': 0.04, 'lullabi': 0.04, 'oh': 0.04, 'lord': 0.04, 'mama': 0.04, 'bottom': 0.04, 'rambl': 0.04, 'shoe': 0.04, 'whistl': 0.04, 'babi': 0.04, 'blue': 0.04}\n"
     ]
    }
   ],
   "source": [
    "from collections import Counter\n",
    "\n",
    "# term occurence = counting distinct words in each bag\n",
    "term_occ = list(map(lambda bow : Counter(bow), bows))\n",
    "\n",
    "# term frequency = occurences over length of bag\n",
    "term_freq = list()\n",
    "for i in range(len(song_dict_list)):\n",
    "    term_freq.append( {k: (v / float(len(bows[i])))\n",
    "                       for k, v in term_occ[i].items()} )\n",
    "\n",
    "# displaying occurences\n",
    "for i in range(len(song_dict_list)):\n",
    "    print(\"\\n--- lyrics: {}\".format(song_dict_list[i]['lyrics']))\n",
    "    print(\"--- bow: {}\".format(bows[i]))\n",
    "    print(\"--- term_occ: {}\".format(term_occ[i]))\n",
    "    print(\"--- term_freq: {}\".format(term_freq[i]))"
   ]
  },
  {
   "cell_type": "code",
   "execution_count": 75,
   "metadata": {},
   "outputs": [
    {
     "name": "stdout",
     "output_type": "stream",
     "text": [
      "\n",
      "--- full vocabulary: Counter({'god': 8, 'other': 7, 'bless': 6, 'ladder': 6, 'truth': 6, 'star': 6, 'rung': 6, 'may': 6, 'young': 6, 'true': 6, 'strong': 6, 'hand': 6, 'climb': 6, 'wish': 6, 'stand': 5, 'foundat': 5, 'busi': 5, 'courag': 5, 'righteous': 5, 'heart': 5, 'wind': 5, 'upright': 5, 'feet': 5, 'joy': 5, 'song': 5, 'sung': 5, 'swift': 5, \"b'may\": 4, 'forev': 4, 'chang': 4, 'light': 3, 'lie': 3, 't': 3, \"b'i\": 2, 'ev': 2, 'high': 2, 'mind': 2, 'thing': 2, 'way': 2, 'good': 2, 'time': 2, 'floor': 2, 'don': 2, 'eye': 2, 'shoe': 2, 'suit': 2, 'babi': 2, 'oh': 2, 'lord': 2, 'shift': 1, 'chord': 1, 'measur': 1, 'ung': 1, 'yo': 1, 'ry': 1, \"b'1\": 1, 'seven': 1, 'four': 1, 'weather': 1, 'bound': 1, \"b'four\": 1, 'fli': 1, 'snow': 1, 'blow': 1, 'springtim': 1, 'more': 1, 'fall': 1, 'hundr': 1, 'much': 1, 'fare': 1, 'friend': 1, 'alberta': 1, 'pocket': 1, 'dirt': 1, 'crutch': 1, 'ask': 1, 'jamaican': 1, 'thought': 1, 'thumb': 1, 'peic': 1, 'red': 1, 'cute': 1, 'come': 1, 'drawer': 1, 'boot': 1, 'rum': 1, 'last': 1, 'forgotten': 1, 'shirt': 1, 'gum': 1, 'my': 1, 'clear': 1, 'better': 1, 'mine': 1, 'word': 1, \"b'when\": 1, 'dear': 1, 'look': 1, 'deaf': 1, 'walk': 1, 'sens': 1, 'drum': 1, 'wheelchair': 1, 'rybodi': 1, 'so': 1, 'pictur': 1, 'spit': 1, 'someth': 1, 'hallway': 1, 'face': 1, 'felt': 1, 'go': 1, 'wast': 1, 'bli': 1, 'bucket': 1, 'heaven': 1, 'rooti': 1, 'judg': 1, 'has': 1, 'beer': 1, 'hour': 1, 'said': 1, 'bartend': 1, 'bringin': 1, 'a': 1, 'alic': 1, 'toot': 1, 'doller': 1, 'thousand': 1, 'murder': 1, 'toward': 1, 'shot': 1, 'girl': 1, 'lover': 1, 'scaffold': 1, 'saloon': 1, 'pistol': 1, 'dead': 1, \"b'franki\": 1, 'albert': 1, 'window': 1, 'corner': 1, 'cloth': 1, 'wrong': 1, 'gim': 1, 'took': 1, 'wait': 1, 'worri': 1, 'cell': 1, 'knee': 1, 'new': 1, 'lap': 1, 'degre': 1, 'woman': 1, 'lovein': 1, 'stori': 1, 'juri': 1, 'lookin': 1, 'won': 1, 'calm': 1, 'plain': 1, 'franki': 1, 'forti': 1, 'gun': 1, 'policemen': 1, 'gon': 1, 'second': 1, 'man': 1, 'lovin': 1, 'goin': 1, 'well': 1, 'street': 1, 'nearer': 1, 'grown': 1, 'law': 1, 'freedom': 1, 'who': 1, 'peopl': 1, 'colt': 1, 'sin': 1, 'help': 1, 'child': 1, \"b'freedom\": 1, 'mare': 1, 'old': 1, 'cat': 1, 'ship': 1, 'stallion': 1, 'land': 1, 'money': 1, 'head': 1, 'big': 1, 'men': 1, 'dog': 1, 'mama': 1, 'blue': 1, 'lullabi': 1, 'shack': 1, 'freight': 1, 'railroad': 1, 'track': 1, 'bottom': 1, 'train': 1, 'shanti': 1, 'rambl': 1, 'littl': 1, 'driver': 1, 'dixi': 1, 'hummin': 1, 'whistl': 1, 'just': 1, 'boomer': 1})\n",
      "\n",
      "--- doc freq: {'shift': 0.09090909090909091, 'bless': 0.5454545454545454, 'ladder': 0.5454545454545454, 'truth': 0.5454545454545454, 'stand': 0.45454545454545453, 'foundat': 0.45454545454545453, 'star': 0.5454545454545454, 'rung': 0.5454545454545454, 'may': 0.5454545454545454, 'young': 0.5454545454545454, 'busi': 0.45454545454545453, \"b'may\": 0.36363636363636365, 'courag': 0.45454545454545453, 'righteous': 0.45454545454545453, 'light': 0.2727272727272727, 'other': 0.6363636363636364, 'heart': 0.45454545454545453, 'wind': 0.45454545454545453, 'upright': 0.45454545454545453, 'true': 0.5454545454545454, 'god': 0.7272727272727273, 'feet': 0.45454545454545453, 'strong': 0.5454545454545454, 'forev': 0.36363636363636365, 'joy': 0.45454545454545453, 'hand': 0.5454545454545454, 'climb': 0.5454545454545454, 'wish': 0.5454545454545454, 'song': 0.45454545454545453, 'sung': 0.45454545454545453, 'swift': 0.45454545454545453, \"b'i\": 0.18181818181818182, 'chord': 0.09090909090909091, 'measur': 0.09090909090909091, 'chang': 0.36363636363636365, 'lie': 0.2727272727272727, 'ung': 0.09090909090909091, 'ev': 0.18181818181818182, 'yo': 0.09090909090909091, 'ry': 0.09090909090909091, \"b'1\": 0.09090909090909091, 'seven': 0.09090909090909091, 'four': 0.09090909090909091, 'weather': 0.09090909090909091, 't': 0.2727272727272727, 'high': 0.18181818181818182, 'bound': 0.09090909090909091, \"b'four\": 0.09090909090909091, 'mind': 0.18181818181818182, 'fli': 0.09090909090909091, 'snow': 0.09090909090909091, 'blow': 0.09090909090909091, 'springtim': 0.09090909090909091, 'thing': 0.18181818181818182, 'more': 0.09090909090909091, 'way': 0.18181818181818182, 'fall': 0.09090909090909091, 'good': 0.18181818181818182, 'hundr': 0.09090909090909091, 'much': 0.09090909090909091, 'time': 0.18181818181818182, 'fare': 0.09090909090909091, 'friend': 0.09090909090909091, 'alberta': 0.09090909090909091, 'pocket': 0.09090909090909091, 'dirt': 0.09090909090909091, 'crutch': 0.09090909090909091, 'ask': 0.09090909090909091, 'jamaican': 0.09090909090909091, 'thought': 0.09090909090909091, 'thumb': 0.09090909090909091, 'peic': 0.09090909090909091, 'red': 0.09090909090909091, 'cute': 0.09090909090909091, 'floor': 0.18181818181818182, 'come': 0.09090909090909091, 'drawer': 0.09090909090909091, 'don': 0.18181818181818182, 'boot': 0.09090909090909091, 'rum': 0.09090909090909091, 'last': 0.09090909090909091, 'forgotten': 0.09090909090909091, 'shirt': 0.09090909090909091, 'gum': 0.09090909090909091, 'eye': 0.18181818181818182, 'my': 0.09090909090909091, 'clear': 0.09090909090909091, 'shoe': 0.18181818181818182, 'better': 0.09090909090909091, 'mine': 0.09090909090909091, 'word': 0.09090909090909091, \"b'when\": 0.09090909090909091, 'dear': 0.09090909090909091, 'look': 0.09090909090909091, 'deaf': 0.09090909090909091, 'suit': 0.18181818181818182, 'walk': 0.09090909090909091, 'sens': 0.09090909090909091, 'drum': 0.09090909090909091, 'wheelchair': 0.09090909090909091, 'rybodi': 0.09090909090909091, 'so': 0.09090909090909091, 'pictur': 0.09090909090909091, 'spit': 0.09090909090909091, 'someth': 0.09090909090909091, 'hallway': 0.09090909090909091, 'face': 0.09090909090909091, 'felt': 0.09090909090909091, 'go': 0.09090909090909091, 'wast': 0.09090909090909091, 'bli': 0.09090909090909091, 'bucket': 0.09090909090909091, 'heaven': 0.09090909090909091, 'rooti': 0.09090909090909091, 'judg': 0.09090909090909091, 'has': 0.09090909090909091, 'beer': 0.09090909090909091, 'hour': 0.09090909090909091, 'said': 0.09090909090909091, 'bartend': 0.09090909090909091, 'bringin': 0.09090909090909091, 'a': 0.09090909090909091, 'alic': 0.09090909090909091, 'toot': 0.09090909090909091, 'doller': 0.09090909090909091, 'thousand': 0.09090909090909091, 'murder': 0.09090909090909091, 'toward': 0.09090909090909091, 'shot': 0.09090909090909091, 'girl': 0.09090909090909091, 'lover': 0.09090909090909091, 'scaffold': 0.09090909090909091, 'saloon': 0.09090909090909091, 'pistol': 0.09090909090909091, 'dead': 0.09090909090909091, \"b'franki\": 0.09090909090909091, 'albert': 0.09090909090909091, 'window': 0.09090909090909091, 'corner': 0.09090909090909091, 'cloth': 0.09090909090909091, 'wrong': 0.09090909090909091, 'gim': 0.09090909090909091, 'took': 0.09090909090909091, 'wait': 0.09090909090909091, 'worri': 0.09090909090909091, 'cell': 0.09090909090909091, 'knee': 0.09090909090909091, 'new': 0.09090909090909091, 'lap': 0.09090909090909091, 'degre': 0.09090909090909091, 'woman': 0.09090909090909091, 'lovein': 0.09090909090909091, 'stori': 0.09090909090909091, 'juri': 0.09090909090909091, 'lookin': 0.09090909090909091, 'won': 0.09090909090909091, 'calm': 0.09090909090909091, 'plain': 0.09090909090909091, 'franki': 0.09090909090909091, 'forti': 0.09090909090909091, 'gun': 0.09090909090909091, 'policemen': 0.09090909090909091, 'gon': 0.09090909090909091, 'second': 0.09090909090909091, 'man': 0.09090909090909091, 'lovin': 0.09090909090909091, 'goin': 0.09090909090909091, 'well': 0.09090909090909091, 'street': 0.09090909090909091, 'nearer': 0.09090909090909091, 'babi': 0.18181818181818182, 'grown': 0.09090909090909091, 'law': 0.09090909090909091, 'freedom': 0.09090909090909091, 'who': 0.09090909090909091, 'peopl': 0.09090909090909091, 'colt': 0.09090909090909091, 'sin': 0.09090909090909091, 'help': 0.09090909090909091, 'child': 0.09090909090909091, \"b'freedom\": 0.09090909090909091, 'mare': 0.09090909090909091, 'old': 0.09090909090909091, 'cat': 0.09090909090909091, 'ship': 0.09090909090909091, 'stallion': 0.09090909090909091, 'oh': 0.18181818181818182, 'land': 0.09090909090909091, 'money': 0.09090909090909091, 'head': 0.09090909090909091, 'lord': 0.18181818181818182, 'big': 0.09090909090909091, 'men': 0.09090909090909091, 'dog': 0.09090909090909091, 'mama': 0.09090909090909091, 'blue': 0.09090909090909091, 'lullabi': 0.09090909090909091, 'shack': 0.09090909090909091, 'freight': 0.09090909090909091, 'railroad': 0.09090909090909091, 'track': 0.09090909090909091, 'bottom': 0.09090909090909091, 'train': 0.09090909090909091, 'shanti': 0.09090909090909091, 'rambl': 0.09090909090909091, 'littl': 0.09090909090909091, 'driver': 0.09090909090909091, 'dixi': 0.09090909090909091, 'hummin': 0.09090909090909091, 'whistl': 0.09090909090909091, 'just': 0.09090909090909091, 'boomer': 0.09090909090909091}\n"
     ]
    }
   ],
   "source": [
    "# document occurence = number of documents having this word\n",
    "# term frequency = occurences over length of bag\n",
    "\n",
    "doc_occ = Counter( [word for bow in bows for word in set(bow)] )\n",
    "\n",
    "# document frequency = occurences over length of corpus\n",
    "doc_freq = {k: (v / float(len(song_dict_list)))\n",
    "            for k, v in doc_occ.items()}\n",
    "\n",
    "# displaying vocabulary\n",
    "print(\"\\n--- full vocabulary: {}\".format(doc_occ))\n",
    "print(\"\\n--- doc freq: {}\".format(doc_freq))"
   ]
  },
  {
   "cell_type": "code",
   "execution_count": null,
   "metadata": {},
   "outputs": [],
   "source": []
  }
 ],
 "metadata": {
  "kernelspec": {
   "display_name": "Python 3",
   "language": "python",
   "name": "python3"
  },
  "language_info": {
   "codemirror_mode": {
    "name": "ipython",
    "version": 3
   },
   "file_extension": ".py",
   "mimetype": "text/x-python",
   "name": "python",
   "nbconvert_exporter": "python",
   "pygments_lexer": "ipython3",
   "version": "3.6.3"
  }
 },
 "nbformat": 4,
 "nbformat_minor": 2
}
