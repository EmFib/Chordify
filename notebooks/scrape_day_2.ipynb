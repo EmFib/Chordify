{
 "cells": [
  {
   "cell_type": "code",
   "execution_count": 1,
   "metadata": {},
   "outputs": [],
   "source": [
    "from selenium.webdriver import Chrome \n",
    "from bs4 import BeautifulSoup\n",
    "import pymongo\n",
    "import datetime\n",
    "import time \n",
    "import pandas as pd\n",
    "import re"
   ]
  },
  {
   "cell_type": "code",
   "execution_count": 11,
   "metadata": {},
   "outputs": [],
   "source": [
    "artist_url = 'https://www.ultimate-guitar.com/artist/bob_dylan_10212?filter=chords'"
   ]
  },
  {
   "cell_type": "code",
   "execution_count": 13,
   "metadata": {},
   "outputs": [],
   "source": [
    "browser = Chrome()"
   ]
  },
  {
   "cell_type": "code",
   "execution_count": 14,
   "metadata": {},
   "outputs": [],
   "source": [
    "browser.get(artist_url)"
   ]
  },
  {
   "cell_type": "code",
   "execution_count": 5,
   "metadata": {},
   "outputs": [],
   "source": [
    "time.sleep(5)"
   ]
  },
  {
   "cell_type": "code",
   "execution_count": 6,
   "metadata": {},
   "outputs": [],
   "source": [
    "html = browser.page_source"
   ]
  },
  {
   "cell_type": "code",
   "execution_count": 7,
   "metadata": {},
   "outputs": [],
   "source": [
    "mc = pymongo.MongoClient()"
   ]
  },
  {
   "cell_type": "code",
   "execution_count": 8,
   "metadata": {},
   "outputs": [],
   "source": [
    "db = mc['chordify']"
   ]
  },
  {
   "cell_type": "code",
   "execution_count": 9,
   "metadata": {},
   "outputs": [],
   "source": [
    "raw_html = db['raw_html']"
   ]
  },
  {
   "cell_type": "code",
   "execution_count": 10,
   "metadata": {},
   "outputs": [
    {
     "data": {
      "text/plain": [
       "<pymongo.results.InsertOneResult at 0x10ce14678>"
      ]
     },
     "execution_count": 10,
     "metadata": {},
     "output_type": "execute_result"
    }
   ],
   "source": [
    "raw_html.insert_one(\n",
    "    {'url': url,\n",
    "     'datetime': datetime.datetime.now(),\n",
    "     'html': html \n",
    "    })"
   ]
  },
  {
   "cell_type": "code",
   "execution_count": 16,
   "metadata": {},
   "outputs": [],
   "source": [
    "html = browser.page_source\n",
    "soup = BeautifulSoup(html, 'html.parser')"
   ]
  },
  {
   "cell_type": "code",
   "execution_count": 142,
   "metadata": {},
   "outputs": [],
   "source": [
    "song_block = soup.select('article.YMhU9 a')"
   ]
  },
  {
   "cell_type": "code",
   "execution_count": 145,
   "metadata": {},
   "outputs": [],
   "source": [
    "a = song_block[0]"
   ]
  },
  {
   "cell_type": "code",
   "execution_count": 148,
   "metadata": {},
   "outputs": [
    {
     "data": {
      "text/plain": [
       "'https://tabs.ultimate-guitar.com/tab/bob_dylan/blood_on_the_tracks_chords_698381'"
      ]
     },
     "execution_count": 148,
     "metadata": {},
     "output_type": "execute_result"
    }
   ],
   "source": [
    "a.attrs.get('href')"
   ]
  },
  {
   "cell_type": "code",
   "execution_count": 149,
   "metadata": {},
   "outputs": [],
   "source": [
    "links = [a.attrs.get('href') for a in song_block]"
   ]
  },
  {
   "cell_type": "code",
   "execution_count": 150,
   "metadata": {},
   "outputs": [
    {
     "data": {
      "text/plain": [
       "['https://tabs.ultimate-guitar.com/tab/bob_dylan/blood_on_the_tracks_chords_698381',\n",
       " 'https://tabs.ultimate-guitar.com/tab/bob_dylan/desire_chords_665476',\n",
       " 'https://tabs.ultimate-guitar.com/tab/bob_dylan/highway_61_revisited_chords_626471',\n",
       " 'https://tabs.ultimate-guitar.com/tab/bob_dylan/john_wesley_harding_chords_670406',\n",
       " 'https://tabs.ultimate-guitar.com/tab/bob_dylan/nashville_skyline_chords_673622',\n",
       " 'https://tabs.ultimate-guitar.com/tab/bob_dylan/planet_waves_chords_698356',\n",
       " 'https://tabs.ultimate-guitar.com/tab/bob_dylan/slow_train_coming_chords_2203431',\n",
       " 'https://tabs.ultimate-guitar.com/tab/bob_dylan/the_freewheelin_bob_dylan_chords_665225',\n",
       " 'https://tabs.ultimate-guitar.com/tab/bob_dylan/time_out_of_mind_chords_698999',\n",
       " 'https://tabs.ultimate-guitar.com/tab/joan_baez/troubled_and_i_dont_know_why_chords_2336469',\n",
       " 'https://tabs.ultimate-guitar.com/tab/bob_dylan/1913_massacre_chords_271544',\n",
       " 'https://tabs.ultimate-guitar.com/tab/bob_dylan/2_x_2_chords_1452282',\n",
       " 'https://tabs.ultimate-guitar.com/tab/bob_dylan/2020_vision_chords_1053533',\n",
       " 'https://tabs.ultimate-guitar.com/tab/bob_dylan/4th_time_around_chords_664677',\n",
       " 'https://tabs.ultimate-guitar.com/tab/bob_dylan/900_miles_from_my_home_chords_1709133',\n",
       " 'https://tabs.ultimate-guitar.com/tab/bob_dylan/a_couple_more_years_chords_518030',\n",
       " 'https://tabs.ultimate-guitar.com/tab/bob_dylan/a_hard_rains_a_gonna_fall_chords_1459815',\n",
       " 'https://tabs.ultimate-guitar.com/tab/bob_dylan/a_satisfied_mind_chords_834294',\n",
       " 'https://tabs.ultimate-guitar.com/tab/bob_dylan/a_satisfied_mind_chords_2207691',\n",
       " 'https://tabs.ultimate-guitar.com/tab/bob_dylan/a_thousand_miles_behind_chords_824877',\n",
       " 'https://tabs.ultimate-guitar.com/tab/bob_dylan/abandoned_love_chords_14847',\n",
       " 'https://tabs.ultimate-guitar.com/tab/bob_dylan/abandoned_love_chords_445139',\n",
       " 'https://tabs.ultimate-guitar.com/tab/bob_dylan/abandoned_love_chords_566177',\n",
       " 'https://tabs.ultimate-guitar.com/tab/bob_dylan/abandoned_love_chords_1042594',\n",
       " 'https://tabs.ultimate-guitar.com/tab/bob_dylan/abandoned_love_chords_2291729',\n",
       " 'https://tabs.ultimate-guitar.com/tab/bob_dylan/abraham_martin_and_john_chords_2232919',\n",
       " 'https://tabs.ultimate-guitar.com/tab/bob_dylan/absolutely_sweet_marie_chords_14848',\n",
       " 'https://tabs.ultimate-guitar.com/tab/bob_dylan/acne_chords_271777',\n",
       " 'https://tabs.ultimate-guitar.com/tab/bob_dylan/aint_gonna_go_to_hell_for_anybody_chords_2229087',\n",
       " 'https://tabs.ultimate-guitar.com/tab/bob_dylan/aint_no_more_cane_chords_555140',\n",
       " 'https://tabs.ultimate-guitar.com/tab/bob_dylan/aint_talkin_chords_1450161',\n",
       " 'https://tabs.ultimate-guitar.com/tab/bob_dylan/aint_talkin_chords_1879766',\n",
       " 'https://tabs.ultimate-guitar.com/tab/bob_dylan/alberta_chords_1237094',\n",
       " 'https://tabs.ultimate-guitar.com/tab/bob_dylan/all_along_the_watchtower_chords_152504',\n",
       " 'https://tabs.ultimate-guitar.com/tab/bob_dylan/all_along_the_watchtower_chords_918153',\n",
       " 'https://tabs.ultimate-guitar.com/tab/bob_dylan/all_along_the_watchtower_chords_1089413',\n",
       " 'https://tabs.ultimate-guitar.com/tab/bob_dylan/all_along_the_watchtower_chords_1090598',\n",
       " 'https://tabs.ultimate-guitar.com/tab/bob_dylan/all_i_really_want_to_do_chords_426917',\n",
       " 'https://tabs.ultimate-guitar.com/tab/bob_dylan/all_i_really_want_to_do_chords_435945',\n",
       " 'https://tabs.ultimate-guitar.com/tab/bob_dylan/all_i_really_want_to_do_chords_919006',\n",
       " 'https://tabs.ultimate-guitar.com/tab/bob_dylan/all_my_tomorrows_chords_326425',\n",
       " 'https://tabs.ultimate-guitar.com/tab/bob_dylan/all_the_tired_horses_chords_330122',\n",
       " 'https://tabs.ultimate-guitar.com/tab/bob_dylan/angelina_chords_1969169',\n",
       " 'https://tabs.ultimate-guitar.com/tab/bob_dylan/annies_going_to_sing_her_song_chords_1749646',\n",
       " 'https://tabs.ultimate-guitar.com/tab/bob_dylan/any_day_now_chords_66563',\n",
       " 'https://tabs.ultimate-guitar.com/tab/bob_dylan/arthur_mcbride_chords_653362',\n",
       " 'https://tabs.ultimate-guitar.com/tab/bob_dylan/as_i_go_ramblin_round_chords_1996863',\n",
       " 'https://tabs.ultimate-guitar.com/tab/bob_dylan/as_i_went_out_one_morning_chords_652909',\n",
       " 'https://tabs.ultimate-guitar.com/tab/bob_dylan/as_i_went_out_one_morning_chords_927691',\n",
       " 'https://tabs.ultimate-guitar.com/tab/bob_dylan/autumn_leaves_chords_1864897',\n",
       " 'https://tabs.ultimate-guitar.com/tab/bob_dylan/baby_aint_that_fine_chords_66565',\n",
       " 'https://tabs.ultimate-guitar.com/tab/bob_dylan/baby_im_in_the_mood_chords_14851',\n",
       " 'https://tabs.ultimate-guitar.com/tab/bob_dylan/baby_let_me_follow_you_down_chords_331413',\n",
       " 'https://tabs.ultimate-guitar.com/tab/bob_dylan/baby_please_stop_crying_chords_1174349',\n",
       " 'https://tabs.ultimate-guitar.com/tab/bob_dylan/baby_stop_crying_chords_1413417',\n",
       " 'https://tabs.ultimate-guitar.com/tab/bob_dylan/ballad_in_plain_d_chords_664652',\n",
       " 'https://tabs.ultimate-guitar.com/tab/bob_dylan/ballad_in_plain_d_chords_806058',\n",
       " 'https://tabs.ultimate-guitar.com/tab/bob_dylan/ballad_in_plain_d_chords_1086234',\n",
       " 'https://tabs.ultimate-guitar.com/tab/bob_dylan/ballad_of_a_thin_man_chords_569024',\n",
       " 'https://tabs.ultimate-guitar.com/tab/bob_dylan/ballad_of_a_thin_man_chords_812703',\n",
       " 'https://tabs.ultimate-guitar.com/tab/bob_dylan/ballad_of_a_thin_man_chords_834296',\n",
       " 'https://tabs.ultimate-guitar.com/tab/bob_dylan/ballad_of_a_thin_man_chords_1171085',\n",
       " 'https://tabs.ultimate-guitar.com/tab/bob_dylan/ballad_of_a_thin_man_chords_1421086',\n",
       " 'https://tabs.ultimate-guitar.com/tab/bob_dylan/ballad_of_a_thin_man_chords_1800219',\n",
       " 'https://tabs.ultimate-guitar.com/tab/bob_dylan/ballad_of_donald_white_chords_271546',\n",
       " 'https://tabs.ultimate-guitar.com/tab/bob_dylan/ballad_of_hollis_brown_chords_518032',\n",
       " 'https://tabs.ultimate-guitar.com/tab/bob_dylan/belle_isle_chords_680475',\n",
       " 'https://tabs.ultimate-guitar.com/tab/bob_dylan/beyond_the_horizon_chords_1471663',\n",
       " 'https://tabs.ultimate-guitar.com/tab/bob_dylan/beyond_the_horizon_chords_2379525',\n",
       " 'https://tabs.ultimate-guitar.com/tab/bob_dylan/billy_4_chords_620277',\n",
       " 'https://tabs.ultimate-guitar.com/tab/bob_dylan/billy_the_kid_chords_614728',\n",
       " 'https://tabs.ultimate-guitar.com/tab/bob_dylan/black_crow_blues_chords_664217',\n",
       " 'https://tabs.ultimate-guitar.com/tab/bob_dylan/black_diamond_bay_chords_66566',\n",
       " 'https://tabs.ultimate-guitar.com/tab/bob_dylan/black_diamond_bay_chords_1408527',\n",
       " 'https://tabs.ultimate-guitar.com/tab/bob_dylan/black_diamond_bay_chords_1509678',\n",
       " 'https://tabs.ultimate-guitar.com/tab/bob_dylan/black_jack_davey_chords_1762484',\n",
       " 'https://tabs.ultimate-guitar.com/tab/bob_dylan/blind_willie_mctell_chords_759581',\n",
       " 'https://tabs.ultimate-guitar.com/tab/bob_dylan/blind_willie_mctell_chords_919091',\n",
       " 'https://tabs.ultimate-guitar.com/tab/bob_dylan/blind_willie_mctell_chords_966431',\n",
       " 'https://tabs.ultimate-guitar.com/tab/bob_dylan/blind_willie_mctell_chords_1729436',\n",
       " 'https://tabs.ultimate-guitar.com/tab/bob_dylan/blind_willie_mctell_chords_2102899',\n",
       " 'https://tabs.ultimate-guitar.com/tab/bob_dylan/blonde_on_blonde_chords_592086',\n",
       " 'https://tabs.ultimate-guitar.com/tab/bob_dylan/blood_in_my_eyes_chords_518033',\n",
       " 'https://tabs.ultimate-guitar.com/tab/bob_dylan/blowin_in_the_wind_chords_14835',\n",
       " 'https://tabs.ultimate-guitar.com/tab/bob_dylan/blowin_in_the_wind_chords_14845',\n",
       " 'https://tabs.ultimate-guitar.com/tab/bob_dylan/blowin_in_the_wind_chords_147936',\n",
       " 'https://tabs.ultimate-guitar.com/tab/bob_dylan/blowin_in_the_wind_chords_740300',\n",
       " 'https://tabs.ultimate-guitar.com/tab/bob_dylan/blowin_in_the_wind_chords_771892',\n",
       " 'https://tabs.ultimate-guitar.com/tab/bob_dylan/blowin_in_the_wind_chords_995791',\n",
       " 'https://tabs.ultimate-guitar.com/tab/bob_dylan/blowin_in_the_wind_chords_1086954',\n",
       " 'https://tabs.ultimate-guitar.com/tab/bob_dylan/blowin_in_the_wind_chords_1127044',\n",
       " 'https://tabs.ultimate-guitar.com/tab/bob_dylan/blowin_in_the_wind_chords_1493245',\n",
       " 'https://tabs.ultimate-guitar.com/tab/bob_dylan/blowin_in_the_wind_chords_1813913',\n",
       " 'https://tabs.ultimate-guitar.com/tab/bob_dylan/blowin_in_the_wind_chords_2273011',\n",
       " 'https://tabs.ultimate-guitar.com/tab/bob_dylan/blowin_in_the_wind_-_basement_tapes_chords_1858794',\n",
       " 'https://tabs.ultimate-guitar.com/tab/bob_dylan/bob_dylans_115th_dream_chords_1776817',\n",
       " 'https://tabs.ultimate-guitar.com/tab/bob_dylan/bob_dylans_blues_chords_668818',\n",
       " 'https://tabs.ultimate-guitar.com/tab/bob_dylan/bob_dylans_dream_chords_1747488',\n",
       " 'https://tabs.ultimate-guitar.com/tab/bob_dylan/boots_of_spanish_leather_chords_168163',\n",
       " 'https://tabs.ultimate-guitar.com/tab/bob_dylan/boots_of_spanish_leather_chords_1077012',\n",
       " 'https://tabs.ultimate-guitar.com/tab/bob_dylan/boots_of_spanish_leather_chords_1869521']"
      ]
     },
     "execution_count": 150,
     "metadata": {},
     "output_type": "execute_result"
    }
   ],
   "source": [
    "links"
   ]
  },
  {
   "cell_type": "code",
   "execution_count": null,
   "metadata": {},
   "outputs": [],
   "source": []
  },
  {
   "cell_type": "code",
   "execution_count": 37,
   "metadata": {},
   "outputs": [
    {
     "data": {
      "text/plain": [
       "[<generator object <genexpr> at 0x10d06fa40>]"
      ]
     },
     "execution_count": 37,
     "metadata": {},
     "output_type": "execute_result"
    }
   ],
   "source": [
    "sel = 'a.link-primary._1kcZ5'\n",
    "song_squares = [(square.select_one(sel) for square in song_block)]\n",
    "song_squares"
   ]
  },
  {
   "cell_type": "code",
   "execution_count": 39,
   "metadata": {},
   "outputs": [
    {
     "data": {
      "text/plain": [
       "[None, None, None]"
      ]
     },
     "execution_count": 39,
     "metadata": {},
     "output_type": "execute_result"
    }
   ],
   "source": [
    "links_only = [(a.attrs.get('href')) for a in song_block]\n",
    "links_only"
   ]
  },
  {
   "cell_type": "code",
   "execution_count": 33,
   "metadata": {},
   "outputs": [
    {
     "ename": "SyntaxError",
     "evalue": "invalid syntax (<ipython-input-33-908e150aae1e>, line 12)",
     "output_type": "error",
     "traceback": [
      "\u001b[0;36m  File \u001b[0;32m\"<ipython-input-33-908e150aae1e>\"\u001b[0;36m, line \u001b[0;32m12\u001b[0m\n\u001b[0;31m    song_urls =\u001b[0m\n\u001b[0m                ^\u001b[0m\n\u001b[0;31mSyntaxError\u001b[0m\u001b[0;31m:\u001b[0m invalid syntax\n"
     ]
    }
   ],
   "source": [
    "artist_url = 'https://www.ultimate-guitar.com/artist/bob_dylan_10212?'\n",
    "\n",
    "browser = Chrome()\n",
    "\n",
    "def get_song_urls(url):\n",
    "    song_urls = []\n",
    "    browser.get(url)\n",
    "    song_urls.append[browser.find_elements_by_css_selector('span._3L0Da._3f5kI')] \n",
    "\n",
    "\n",
    "def get_artist_songs(url):\n",
    "    song_urls = "
   ]
  },
  {
   "cell_type": "code",
   "execution_count": null,
   "metadata": {},
   "outputs": [],
   "source": []
  }
 ],
 "metadata": {
  "kernelspec": {
   "display_name": "Python 3",
   "language": "python",
   "name": "python3"
  },
  "language_info": {
   "codemirror_mode": {
    "name": "ipython",
    "version": 3
   },
   "file_extension": ".py",
   "mimetype": "text/x-python",
   "name": "python",
   "nbconvert_exporter": "python",
   "pygments_lexer": "ipython3",
   "version": "3.6.3"
  }
 },
 "nbformat": 4,
 "nbformat_minor": 2
}
