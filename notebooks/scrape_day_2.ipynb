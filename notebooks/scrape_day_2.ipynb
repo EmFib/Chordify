{
 "cells": [
  {
   "cell_type": "code",
   "execution_count": 1,
   "metadata": {},
   "outputs": [],
   "source": [
    "from selenium.webdriver import Chrome \n",
    "from bs4 import BeautifulSoup\n",
    "import pymongo\n",
    "import datetime\n",
    "import time \n",
    "import pandas as pd\n",
    "import re"
   ]
  },
  {
   "cell_type": "code",
   "execution_count": 11,
   "metadata": {},
   "outputs": [],
   "source": [
    "artist_url = 'https://www.ultimate-guitar.com/artist/bob_dylan_10212?filter=chords'"
   ]
  },
  {
   "cell_type": "code",
   "execution_count": 13,
   "metadata": {},
   "outputs": [],
   "source": [
    "browser = Chrome()"
   ]
  },
  {
   "cell_type": "code",
   "execution_count": 14,
   "metadata": {},
   "outputs": [],
   "source": [
    "browser.get(artist_url)"
   ]
  },
  {
   "cell_type": "code",
   "execution_count": 5,
   "metadata": {},
   "outputs": [],
   "source": [
    "time.sleep(5)"
   ]
  },
  {
   "cell_type": "code",
   "execution_count": 6,
   "metadata": {},
   "outputs": [],
   "source": [
    "html = browser.page_source"
   ]
  },
  {
   "cell_type": "code",
   "execution_count": 7,
   "metadata": {},
   "outputs": [],
   "source": [
    "mc = pymongo.MongoClient()"
   ]
  },
  {
   "cell_type": "code",
   "execution_count": 8,
   "metadata": {},
   "outputs": [],
   "source": [
    "db = mc['chordify']"
   ]
  },
  {
   "cell_type": "code",
   "execution_count": 9,
   "metadata": {},
   "outputs": [],
   "source": [
    "raw_html = db['raw_html']"
   ]
  },
  {
   "cell_type": "code",
   "execution_count": 10,
   "metadata": {},
   "outputs": [
    {
     "data": {
      "text/plain": [
       "<pymongo.results.InsertOneResult at 0x10ce14678>"
      ]
     },
     "execution_count": 10,
     "metadata": {},
     "output_type": "execute_result"
    }
   ],
   "source": [
    "raw_html.insert_one(\n",
    "    {'url': url,\n",
    "     'datetime': datetime.datetime.now(),\n",
    "     'html': html \n",
    "    })"
   ]
  },
  {
   "cell_type": "code",
   "execution_count": null,
   "metadata": {},
   "outputs": [],
   "source": [
    "song_block = soup.select('div.c-invisicard')\n",
    "\n",
    "sel = 'h3.c-hdgSans.c-hdgSans_5.c-mix-hdgSans_blocked a'\n",
    "anchors_all = [poems_div_1.select_one(sel) for poems_div_1 in poems_div_all]\n",
    "\n",
    "links_only = [(a.attrs.get('href')) for a in anchors_all]"
   ]
  },
  {
   "cell_type": "code",
   "execution_count": 16,
   "metadata": {},
   "outputs": [],
   "source": [
    "html = browser.page_source\n",
    "soup = BeautifulSoup(html, 'html.parser')"
   ]
  },
  {
   "cell_type": "code",
   "execution_count": 57,
   "metadata": {},
   "outputs": [
    {
     "data": {
      "text/plain": [
       "[<selenium.webdriver.remote.webelement.WebElement (session=\"da958f54d9e755d82a5e50e774941f63\", element=\"0.8870924231433355-1\")>,\n",
       " <selenium.webdriver.remote.webelement.WebElement (session=\"da958f54d9e755d82a5e50e774941f63\", element=\"0.8870924231433355-2\")>,\n",
       " <selenium.webdriver.remote.webelement.WebElement (session=\"da958f54d9e755d82a5e50e774941f63\", element=\"0.8870924231433355-3\")>,\n",
       " <selenium.webdriver.remote.webelement.WebElement (session=\"da958f54d9e755d82a5e50e774941f63\", element=\"0.8870924231433355-4\")>,\n",
       " <selenium.webdriver.remote.webelement.WebElement (session=\"da958f54d9e755d82a5e50e774941f63\", element=\"0.8870924231433355-5\")>,\n",
       " <selenium.webdriver.remote.webelement.WebElement (session=\"da958f54d9e755d82a5e50e774941f63\", element=\"0.8870924231433355-6\")>,\n",
       " <selenium.webdriver.remote.webelement.WebElement (session=\"da958f54d9e755d82a5e50e774941f63\", element=\"0.8870924231433355-7\")>,\n",
       " <selenium.webdriver.remote.webelement.WebElement (session=\"da958f54d9e755d82a5e50e774941f63\", element=\"0.8870924231433355-8\")>,\n",
       " <selenium.webdriver.remote.webelement.WebElement (session=\"da958f54d9e755d82a5e50e774941f63\", element=\"0.8870924231433355-9\")>,\n",
       " <selenium.webdriver.remote.webelement.WebElement (session=\"da958f54d9e755d82a5e50e774941f63\", element=\"0.8870924231433355-10\")>,\n",
       " <selenium.webdriver.remote.webelement.WebElement (session=\"da958f54d9e755d82a5e50e774941f63\", element=\"0.8870924231433355-11\")>,\n",
       " <selenium.webdriver.remote.webelement.WebElement (session=\"da958f54d9e755d82a5e50e774941f63\", element=\"0.8870924231433355-12\")>,\n",
       " <selenium.webdriver.remote.webelement.WebElement (session=\"da958f54d9e755d82a5e50e774941f63\", element=\"0.8870924231433355-13\")>,\n",
       " <selenium.webdriver.remote.webelement.WebElement (session=\"da958f54d9e755d82a5e50e774941f63\", element=\"0.8870924231433355-14\")>,\n",
       " <selenium.webdriver.remote.webelement.WebElement (session=\"da958f54d9e755d82a5e50e774941f63\", element=\"0.8870924231433355-15\")>,\n",
       " <selenium.webdriver.remote.webelement.WebElement (session=\"da958f54d9e755d82a5e50e774941f63\", element=\"0.8870924231433355-16\")>,\n",
       " <selenium.webdriver.remote.webelement.WebElement (session=\"da958f54d9e755d82a5e50e774941f63\", element=\"0.8870924231433355-17\")>,\n",
       " <selenium.webdriver.remote.webelement.WebElement (session=\"da958f54d9e755d82a5e50e774941f63\", element=\"0.8870924231433355-18\")>,\n",
       " <selenium.webdriver.remote.webelement.WebElement (session=\"da958f54d9e755d82a5e50e774941f63\", element=\"0.8870924231433355-19\")>,\n",
       " <selenium.webdriver.remote.webelement.WebElement (session=\"da958f54d9e755d82a5e50e774941f63\", element=\"0.8870924231433355-20\")>,\n",
       " <selenium.webdriver.remote.webelement.WebElement (session=\"da958f54d9e755d82a5e50e774941f63\", element=\"0.8870924231433355-21\")>,\n",
       " <selenium.webdriver.remote.webelement.WebElement (session=\"da958f54d9e755d82a5e50e774941f63\", element=\"0.8870924231433355-22\")>,\n",
       " <selenium.webdriver.remote.webelement.WebElement (session=\"da958f54d9e755d82a5e50e774941f63\", element=\"0.8870924231433355-23\")>,\n",
       " <selenium.webdriver.remote.webelement.WebElement (session=\"da958f54d9e755d82a5e50e774941f63\", element=\"0.8870924231433355-24\")>,\n",
       " <selenium.webdriver.remote.webelement.WebElement (session=\"da958f54d9e755d82a5e50e774941f63\", element=\"0.8870924231433355-25\")>,\n",
       " <selenium.webdriver.remote.webelement.WebElement (session=\"da958f54d9e755d82a5e50e774941f63\", element=\"0.8870924231433355-26\")>,\n",
       " <selenium.webdriver.remote.webelement.WebElement (session=\"da958f54d9e755d82a5e50e774941f63\", element=\"0.8870924231433355-27\")>,\n",
       " <selenium.webdriver.remote.webelement.WebElement (session=\"da958f54d9e755d82a5e50e774941f63\", element=\"0.8870924231433355-28\")>,\n",
       " <selenium.webdriver.remote.webelement.WebElement (session=\"da958f54d9e755d82a5e50e774941f63\", element=\"0.8870924231433355-29\")>,\n",
       " <selenium.webdriver.remote.webelement.WebElement (session=\"da958f54d9e755d82a5e50e774941f63\", element=\"0.8870924231433355-30\")>,\n",
       " <selenium.webdriver.remote.webelement.WebElement (session=\"da958f54d9e755d82a5e50e774941f63\", element=\"0.8870924231433355-31\")>,\n",
       " <selenium.webdriver.remote.webelement.WebElement (session=\"da958f54d9e755d82a5e50e774941f63\", element=\"0.8870924231433355-32\")>,\n",
       " <selenium.webdriver.remote.webelement.WebElement (session=\"da958f54d9e755d82a5e50e774941f63\", element=\"0.8870924231433355-33\")>,\n",
       " <selenium.webdriver.remote.webelement.WebElement (session=\"da958f54d9e755d82a5e50e774941f63\", element=\"0.8870924231433355-34\")>,\n",
       " <selenium.webdriver.remote.webelement.WebElement (session=\"da958f54d9e755d82a5e50e774941f63\", element=\"0.8870924231433355-35\")>,\n",
       " <selenium.webdriver.remote.webelement.WebElement (session=\"da958f54d9e755d82a5e50e774941f63\", element=\"0.8870924231433355-36\")>,\n",
       " <selenium.webdriver.remote.webelement.WebElement (session=\"da958f54d9e755d82a5e50e774941f63\", element=\"0.8870924231433355-37\")>,\n",
       " <selenium.webdriver.remote.webelement.WebElement (session=\"da958f54d9e755d82a5e50e774941f63\", element=\"0.8870924231433355-38\")>,\n",
       " <selenium.webdriver.remote.webelement.WebElement (session=\"da958f54d9e755d82a5e50e774941f63\", element=\"0.8870924231433355-39\")>,\n",
       " <selenium.webdriver.remote.webelement.WebElement (session=\"da958f54d9e755d82a5e50e774941f63\", element=\"0.8870924231433355-40\")>,\n",
       " <selenium.webdriver.remote.webelement.WebElement (session=\"da958f54d9e755d82a5e50e774941f63\", element=\"0.8870924231433355-41\")>,\n",
       " <selenium.webdriver.remote.webelement.WebElement (session=\"da958f54d9e755d82a5e50e774941f63\", element=\"0.8870924231433355-42\")>,\n",
       " <selenium.webdriver.remote.webelement.WebElement (session=\"da958f54d9e755d82a5e50e774941f63\", element=\"0.8870924231433355-43\")>,\n",
       " <selenium.webdriver.remote.webelement.WebElement (session=\"da958f54d9e755d82a5e50e774941f63\", element=\"0.8870924231433355-44\")>,\n",
       " <selenium.webdriver.remote.webelement.WebElement (session=\"da958f54d9e755d82a5e50e774941f63\", element=\"0.8870924231433355-45\")>,\n",
       " <selenium.webdriver.remote.webelement.WebElement (session=\"da958f54d9e755d82a5e50e774941f63\", element=\"0.8870924231433355-46\")>,\n",
       " <selenium.webdriver.remote.webelement.WebElement (session=\"da958f54d9e755d82a5e50e774941f63\", element=\"0.8870924231433355-47\")>,\n",
       " <selenium.webdriver.remote.webelement.WebElement (session=\"da958f54d9e755d82a5e50e774941f63\", element=\"0.8870924231433355-48\")>,\n",
       " <selenium.webdriver.remote.webelement.WebElement (session=\"da958f54d9e755d82a5e50e774941f63\", element=\"0.8870924231433355-49\")>,\n",
       " <selenium.webdriver.remote.webelement.WebElement (session=\"da958f54d9e755d82a5e50e774941f63\", element=\"0.8870924231433355-50\")>,\n",
       " <selenium.webdriver.remote.webelement.WebElement (session=\"da958f54d9e755d82a5e50e774941f63\", element=\"0.8870924231433355-51\")>,\n",
       " <selenium.webdriver.remote.webelement.WebElement (session=\"da958f54d9e755d82a5e50e774941f63\", element=\"0.8870924231433355-52\")>,\n",
       " <selenium.webdriver.remote.webelement.WebElement (session=\"da958f54d9e755d82a5e50e774941f63\", element=\"0.8870924231433355-53\")>,\n",
       " <selenium.webdriver.remote.webelement.WebElement (session=\"da958f54d9e755d82a5e50e774941f63\", element=\"0.8870924231433355-54\")>,\n",
       " <selenium.webdriver.remote.webelement.WebElement (session=\"da958f54d9e755d82a5e50e774941f63\", element=\"0.8870924231433355-55\")>,\n",
       " <selenium.webdriver.remote.webelement.WebElement (session=\"da958f54d9e755d82a5e50e774941f63\", element=\"0.8870924231433355-56\")>,\n",
       " <selenium.webdriver.remote.webelement.WebElement (session=\"da958f54d9e755d82a5e50e774941f63\", element=\"0.8870924231433355-57\")>,\n",
       " <selenium.webdriver.remote.webelement.WebElement (session=\"da958f54d9e755d82a5e50e774941f63\", element=\"0.8870924231433355-58\")>,\n",
       " <selenium.webdriver.remote.webelement.WebElement (session=\"da958f54d9e755d82a5e50e774941f63\", element=\"0.8870924231433355-59\")>,\n",
       " <selenium.webdriver.remote.webelement.WebElement (session=\"da958f54d9e755d82a5e50e774941f63\", element=\"0.8870924231433355-60\")>,\n",
       " <selenium.webdriver.remote.webelement.WebElement (session=\"da958f54d9e755d82a5e50e774941f63\", element=\"0.8870924231433355-61\")>,\n",
       " <selenium.webdriver.remote.webelement.WebElement (session=\"da958f54d9e755d82a5e50e774941f63\", element=\"0.8870924231433355-62\")>,\n",
       " <selenium.webdriver.remote.webelement.WebElement (session=\"da958f54d9e755d82a5e50e774941f63\", element=\"0.8870924231433355-63\")>,\n",
       " <selenium.webdriver.remote.webelement.WebElement (session=\"da958f54d9e755d82a5e50e774941f63\", element=\"0.8870924231433355-64\")>,\n",
       " <selenium.webdriver.remote.webelement.WebElement (session=\"da958f54d9e755d82a5e50e774941f63\", element=\"0.8870924231433355-65\")>,\n",
       " <selenium.webdriver.remote.webelement.WebElement (session=\"da958f54d9e755d82a5e50e774941f63\", element=\"0.8870924231433355-66\")>,\n",
       " <selenium.webdriver.remote.webelement.WebElement (session=\"da958f54d9e755d82a5e50e774941f63\", element=\"0.8870924231433355-67\")>,\n",
       " <selenium.webdriver.remote.webelement.WebElement (session=\"da958f54d9e755d82a5e50e774941f63\", element=\"0.8870924231433355-68\")>,\n",
       " <selenium.webdriver.remote.webelement.WebElement (session=\"da958f54d9e755d82a5e50e774941f63\", element=\"0.8870924231433355-69\")>,\n",
       " <selenium.webdriver.remote.webelement.WebElement (session=\"da958f54d9e755d82a5e50e774941f63\", element=\"0.8870924231433355-70\")>,\n",
       " <selenium.webdriver.remote.webelement.WebElement (session=\"da958f54d9e755d82a5e50e774941f63\", element=\"0.8870924231433355-71\")>,\n",
       " <selenium.webdriver.remote.webelement.WebElement (session=\"da958f54d9e755d82a5e50e774941f63\", element=\"0.8870924231433355-72\")>,\n",
       " <selenium.webdriver.remote.webelement.WebElement (session=\"da958f54d9e755d82a5e50e774941f63\", element=\"0.8870924231433355-73\")>,\n",
       " <selenium.webdriver.remote.webelement.WebElement (session=\"da958f54d9e755d82a5e50e774941f63\", element=\"0.8870924231433355-74\")>,\n",
       " <selenium.webdriver.remote.webelement.WebElement (session=\"da958f54d9e755d82a5e50e774941f63\", element=\"0.8870924231433355-75\")>,\n",
       " <selenium.webdriver.remote.webelement.WebElement (session=\"da958f54d9e755d82a5e50e774941f63\", element=\"0.8870924231433355-76\")>,\n",
       " <selenium.webdriver.remote.webelement.WebElement (session=\"da958f54d9e755d82a5e50e774941f63\", element=\"0.8870924231433355-77\")>,\n",
       " <selenium.webdriver.remote.webelement.WebElement (session=\"da958f54d9e755d82a5e50e774941f63\", element=\"0.8870924231433355-78\")>,\n",
       " <selenium.webdriver.remote.webelement.WebElement (session=\"da958f54d9e755d82a5e50e774941f63\", element=\"0.8870924231433355-79\")>,\n",
       " <selenium.webdriver.remote.webelement.WebElement (session=\"da958f54d9e755d82a5e50e774941f63\", element=\"0.8870924231433355-80\")>,\n",
       " <selenium.webdriver.remote.webelement.WebElement (session=\"da958f54d9e755d82a5e50e774941f63\", element=\"0.8870924231433355-81\")>,\n",
       " <selenium.webdriver.remote.webelement.WebElement (session=\"da958f54d9e755d82a5e50e774941f63\", element=\"0.8870924231433355-82\")>,\n",
       " <selenium.webdriver.remote.webelement.WebElement (session=\"da958f54d9e755d82a5e50e774941f63\", element=\"0.8870924231433355-83\")>,\n",
       " <selenium.webdriver.remote.webelement.WebElement (session=\"da958f54d9e755d82a5e50e774941f63\", element=\"0.8870924231433355-84\")>,\n",
       " <selenium.webdriver.remote.webelement.WebElement (session=\"da958f54d9e755d82a5e50e774941f63\", element=\"0.8870924231433355-85\")>,\n",
       " <selenium.webdriver.remote.webelement.WebElement (session=\"da958f54d9e755d82a5e50e774941f63\", element=\"0.8870924231433355-86\")>,\n",
       " <selenium.webdriver.remote.webelement.WebElement (session=\"da958f54d9e755d82a5e50e774941f63\", element=\"0.8870924231433355-87\")>,\n",
       " <selenium.webdriver.remote.webelement.WebElement (session=\"da958f54d9e755d82a5e50e774941f63\", element=\"0.8870924231433355-88\")>,\n",
       " <selenium.webdriver.remote.webelement.WebElement (session=\"da958f54d9e755d82a5e50e774941f63\", element=\"0.8870924231433355-89\")>,\n",
       " <selenium.webdriver.remote.webelement.WebElement (session=\"da958f54d9e755d82a5e50e774941f63\", element=\"0.8870924231433355-90\")>,\n",
       " <selenium.webdriver.remote.webelement.WebElement (session=\"da958f54d9e755d82a5e50e774941f63\", element=\"0.8870924231433355-91\")>,\n",
       " <selenium.webdriver.remote.webelement.WebElement (session=\"da958f54d9e755d82a5e50e774941f63\", element=\"0.8870924231433355-92\")>,\n",
       " <selenium.webdriver.remote.webelement.WebElement (session=\"da958f54d9e755d82a5e50e774941f63\", element=\"0.8870924231433355-93\")>,\n",
       " <selenium.webdriver.remote.webelement.WebElement (session=\"da958f54d9e755d82a5e50e774941f63\", element=\"0.8870924231433355-94\")>,\n",
       " <selenium.webdriver.remote.webelement.WebElement (session=\"da958f54d9e755d82a5e50e774941f63\", element=\"0.8870924231433355-95\")>,\n",
       " <selenium.webdriver.remote.webelement.WebElement (session=\"da958f54d9e755d82a5e50e774941f63\", element=\"0.8870924231433355-96\")>,\n",
       " <selenium.webdriver.remote.webelement.WebElement (session=\"da958f54d9e755d82a5e50e774941f63\", element=\"0.8870924231433355-97\")>,\n",
       " <selenium.webdriver.remote.webelement.WebElement (session=\"da958f54d9e755d82a5e50e774941f63\", element=\"0.8870924231433355-98\")>,\n",
       " <selenium.webdriver.remote.webelement.WebElement (session=\"da958f54d9e755d82a5e50e774941f63\", element=\"0.8870924231433355-99\")>,\n",
       " <selenium.webdriver.remote.webelement.WebElement (session=\"da958f54d9e755d82a5e50e774941f63\", element=\"0.8870924231433355-100\")>,\n",
       " <selenium.webdriver.remote.webelement.WebElement (session=\"da958f54d9e755d82a5e50e774941f63\", element=\"0.8870924231433355-101\")>,\n",
       " <selenium.webdriver.remote.webelement.WebElement (session=\"da958f54d9e755d82a5e50e774941f63\", element=\"0.8870924231433355-102\")>,\n",
       " <selenium.webdriver.remote.webelement.WebElement (session=\"da958f54d9e755d82a5e50e774941f63\", element=\"0.8870924231433355-103\")>,\n",
       " <selenium.webdriver.remote.webelement.WebElement (session=\"da958f54d9e755d82a5e50e774941f63\", element=\"0.8870924231433355-104\")>,\n",
       " <selenium.webdriver.remote.webelement.WebElement (session=\"da958f54d9e755d82a5e50e774941f63\", element=\"0.8870924231433355-105\")>,\n",
       " <selenium.webdriver.remote.webelement.WebElement (session=\"da958f54d9e755d82a5e50e774941f63\", element=\"0.8870924231433355-106\")>,\n",
       " <selenium.webdriver.remote.webelement.WebElement (session=\"da958f54d9e755d82a5e50e774941f63\", element=\"0.8870924231433355-107\")>,\n",
       " <selenium.webdriver.remote.webelement.WebElement (session=\"da958f54d9e755d82a5e50e774941f63\", element=\"0.8870924231433355-108\")>,\n",
       " <selenium.webdriver.remote.webelement.WebElement (session=\"da958f54d9e755d82a5e50e774941f63\", element=\"0.8870924231433355-109\")>,\n",
       " <selenium.webdriver.remote.webelement.WebElement (session=\"da958f54d9e755d82a5e50e774941f63\", element=\"0.8870924231433355-110\")>,\n",
       " <selenium.webdriver.remote.webelement.WebElement (session=\"da958f54d9e755d82a5e50e774941f63\", element=\"0.8870924231433355-111\")>,\n",
       " <selenium.webdriver.remote.webelement.WebElement (session=\"da958f54d9e755d82a5e50e774941f63\", element=\"0.8870924231433355-112\")>,\n",
       " <selenium.webdriver.remote.webelement.WebElement (session=\"da958f54d9e755d82a5e50e774941f63\", element=\"0.8870924231433355-113\")>,\n",
       " <selenium.webdriver.remote.webelement.WebElement (session=\"da958f54d9e755d82a5e50e774941f63\", element=\"0.8870924231433355-114\")>,\n",
       " <selenium.webdriver.remote.webelement.WebElement (session=\"da958f54d9e755d82a5e50e774941f63\", element=\"0.8870924231433355-115\")>,\n",
       " <selenium.webdriver.remote.webelement.WebElement (session=\"da958f54d9e755d82a5e50e774941f63\", element=\"0.8870924231433355-116\")>,\n",
       " <selenium.webdriver.remote.webelement.WebElement (session=\"da958f54d9e755d82a5e50e774941f63\", element=\"0.8870924231433355-117\")>,\n",
       " <selenium.webdriver.remote.webelement.WebElement (session=\"da958f54d9e755d82a5e50e774941f63\", element=\"0.8870924231433355-118\")>,\n",
       " <selenium.webdriver.remote.webelement.WebElement (session=\"da958f54d9e755d82a5e50e774941f63\", element=\"0.8870924231433355-119\")>,\n",
       " <selenium.webdriver.remote.webelement.WebElement (session=\"da958f54d9e755d82a5e50e774941f63\", element=\"0.8870924231433355-120\")>,\n",
       " <selenium.webdriver.remote.webelement.WebElement (session=\"da958f54d9e755d82a5e50e774941f63\", element=\"0.8870924231433355-121\")>,\n",
       " <selenium.webdriver.remote.webelement.WebElement (session=\"da958f54d9e755d82a5e50e774941f63\", element=\"0.8870924231433355-122\")>,\n",
       " <selenium.webdriver.remote.webelement.WebElement (session=\"da958f54d9e755d82a5e50e774941f63\", element=\"0.8870924231433355-123\")>,\n",
       " <selenium.webdriver.remote.webelement.WebElement (session=\"da958f54d9e755d82a5e50e774941f63\", element=\"0.8870924231433355-124\")>,\n",
       " <selenium.webdriver.remote.webelement.WebElement (session=\"da958f54d9e755d82a5e50e774941f63\", element=\"0.8870924231433355-125\")>,\n",
       " <selenium.webdriver.remote.webelement.WebElement (session=\"da958f54d9e755d82a5e50e774941f63\", element=\"0.8870924231433355-126\")>,\n",
       " <selenium.webdriver.remote.webelement.WebElement (session=\"da958f54d9e755d82a5e50e774941f63\", element=\"0.8870924231433355-127\")>,\n",
       " <selenium.webdriver.remote.webelement.WebElement (session=\"da958f54d9e755d82a5e50e774941f63\", element=\"0.8870924231433355-128\")>,\n",
       " <selenium.webdriver.remote.webelement.WebElement (session=\"da958f54d9e755d82a5e50e774941f63\", element=\"0.8870924231433355-129\")>,\n",
       " <selenium.webdriver.remote.webelement.WebElement (session=\"da958f54d9e755d82a5e50e774941f63\", element=\"0.8870924231433355-130\")>,\n",
       " <selenium.webdriver.remote.webelement.WebElement (session=\"da958f54d9e755d82a5e50e774941f63\", element=\"0.8870924231433355-131\")>,\n",
       " <selenium.webdriver.remote.webelement.WebElement (session=\"da958f54d9e755d82a5e50e774941f63\", element=\"0.8870924231433355-132\")>,\n",
       " <selenium.webdriver.remote.webelement.WebElement (session=\"da958f54d9e755d82a5e50e774941f63\", element=\"0.8870924231433355-133\")>,\n",
       " <selenium.webdriver.remote.webelement.WebElement (session=\"da958f54d9e755d82a5e50e774941f63\", element=\"0.8870924231433355-134\")>,\n",
       " <selenium.webdriver.remote.webelement.WebElement (session=\"da958f54d9e755d82a5e50e774941f63\", element=\"0.8870924231433355-135\")>,\n",
       " <selenium.webdriver.remote.webelement.WebElement (session=\"da958f54d9e755d82a5e50e774941f63\", element=\"0.8870924231433355-136\")>,\n",
       " <selenium.webdriver.remote.webelement.WebElement (session=\"da958f54d9e755d82a5e50e774941f63\", element=\"0.8870924231433355-137\")>,\n",
       " <selenium.webdriver.remote.webelement.WebElement (session=\"da958f54d9e755d82a5e50e774941f63\", element=\"0.8870924231433355-138\")>,\n",
       " <selenium.webdriver.remote.webelement.WebElement (session=\"da958f54d9e755d82a5e50e774941f63\", element=\"0.8870924231433355-139\")>,\n",
       " <selenium.webdriver.remote.webelement.WebElement (session=\"da958f54d9e755d82a5e50e774941f63\", element=\"0.8870924231433355-140\")>,\n",
       " <selenium.webdriver.remote.webelement.WebElement (session=\"da958f54d9e755d82a5e50e774941f63\", element=\"0.8870924231433355-141\")>,\n",
       " <selenium.webdriver.remote.webelement.WebElement (session=\"da958f54d9e755d82a5e50e774941f63\", element=\"0.8870924231433355-142\")>,\n",
       " <selenium.webdriver.remote.webelement.WebElement (session=\"da958f54d9e755d82a5e50e774941f63\", element=\"0.8870924231433355-143\")>,\n",
       " <selenium.webdriver.remote.webelement.WebElement (session=\"da958f54d9e755d82a5e50e774941f63\", element=\"0.8870924231433355-144\")>,\n",
       " <selenium.webdriver.remote.webelement.WebElement (session=\"da958f54d9e755d82a5e50e774941f63\", element=\"0.8870924231433355-145\")>,\n",
       " <selenium.webdriver.remote.webelement.WebElement (session=\"da958f54d9e755d82a5e50e774941f63\", element=\"0.8870924231433355-146\")>,\n",
       " <selenium.webdriver.remote.webelement.WebElement (session=\"da958f54d9e755d82a5e50e774941f63\", element=\"0.8870924231433355-147\")>,\n",
       " <selenium.webdriver.remote.webelement.WebElement (session=\"da958f54d9e755d82a5e50e774941f63\", element=\"0.8870924231433355-148\")>,\n",
       " <selenium.webdriver.remote.webelement.WebElement (session=\"da958f54d9e755d82a5e50e774941f63\", element=\"0.8870924231433355-149\")>,\n",
       " <selenium.webdriver.remote.webelement.WebElement (session=\"da958f54d9e755d82a5e50e774941f63\", element=\"0.8870924231433355-150\")>,\n",
       " <selenium.webdriver.remote.webelement.WebElement (session=\"da958f54d9e755d82a5e50e774941f63\", element=\"0.8870924231433355-151\")>,\n",
       " <selenium.webdriver.remote.webelement.WebElement (session=\"da958f54d9e755d82a5e50e774941f63\", element=\"0.8870924231433355-152\")>,\n",
       " <selenium.webdriver.remote.webelement.WebElement (session=\"da958f54d9e755d82a5e50e774941f63\", element=\"0.8870924231433355-153\")>,\n",
       " <selenium.webdriver.remote.webelement.WebElement (session=\"da958f54d9e755d82a5e50e774941f63\", element=\"0.8870924231433355-154\")>,\n",
       " <selenium.webdriver.remote.webelement.WebElement (session=\"da958f54d9e755d82a5e50e774941f63\", element=\"0.8870924231433355-155\")>,\n",
       " <selenium.webdriver.remote.webelement.WebElement (session=\"da958f54d9e755d82a5e50e774941f63\", element=\"0.8870924231433355-156\")>,\n",
       " <selenium.webdriver.remote.webelement.WebElement (session=\"da958f54d9e755d82a5e50e774941f63\", element=\"0.8870924231433355-157\")>,\n",
       " <selenium.webdriver.remote.webelement.WebElement (session=\"da958f54d9e755d82a5e50e774941f63\", element=\"0.8870924231433355-158\")>,\n",
       " <selenium.webdriver.remote.webelement.WebElement (session=\"da958f54d9e755d82a5e50e774941f63\", element=\"0.8870924231433355-159\")>,\n",
       " <selenium.webdriver.remote.webelement.WebElement (session=\"da958f54d9e755d82a5e50e774941f63\", element=\"0.8870924231433355-160\")>,\n",
       " <selenium.webdriver.remote.webelement.WebElement (session=\"da958f54d9e755d82a5e50e774941f63\", element=\"0.8870924231433355-161\")>,\n",
       " <selenium.webdriver.remote.webelement.WebElement (session=\"da958f54d9e755d82a5e50e774941f63\", element=\"0.8870924231433355-162\")>,\n",
       " <selenium.webdriver.remote.webelement.WebElement (session=\"da958f54d9e755d82a5e50e774941f63\", element=\"0.8870924231433355-163\")>]"
      ]
     },
     "execution_count": 57,
     "metadata": {},
     "output_type": "execute_result"
    }
   ],
   "source": [
    "anchors_all = browser.find_elements_by_css_selector('a')\n",
    "anchors_all"
   ]
  },
  {
   "cell_type": "code",
   "execution_count": 64,
   "metadata": {},
   "outputs": [],
   "source": [
    "links = [(a.find_elements_by_css_selector('a.link-primary')) for a in anchors_all]"
   ]
  },
  {
   "cell_type": "code",
   "execution_count": 67,
   "metadata": {},
   "outputs": [
    {
     "data": {
      "text/plain": [
       "[]"
      ]
     },
     "execution_count": 67,
     "metadata": {},
     "output_type": "execute_result"
    }
   ],
   "source": [
    "links[3]"
   ]
  },
  {
   "cell_type": "code",
   "execution_count": 68,
   "metadata": {},
   "outputs": [],
   "source": [
    "# sel = 'href'\n",
    "# anchors_all = [anchor.select(sel) for anchor in anchors_all]\n",
    "\n",
    "sel = 'a.link-primary._1kcZ5'\n",
    "links = [(anchor.select_one(sel) for anchor in anchors_all)]"
   ]
  },
  {
   "cell_type": "code",
   "execution_count": 74,
   "metadata": {},
   "outputs": [
    {
     "data": {
      "text/plain": [
       "generator"
      ]
     },
     "execution_count": 74,
     "metadata": {},
     "output_type": "execute_result"
    }
   ],
   "source": [
    "type(links[0])"
   ]
  },
  {
   "cell_type": "code",
   "execution_count": null,
   "metadata": {},
   "outputs": [],
   "source": []
  },
  {
   "cell_type": "code",
   "execution_count": 125,
   "metadata": {},
   "outputs": [],
   "source": [
    "song_block = soup.select('article.YMhU9')"
   ]
  },
  {
   "cell_type": "code",
   "execution_count": 126,
   "metadata": {},
   "outputs": [],
   "source": [
    "# links_only = [(a.attrs.get('a.link-primary._1kcZ5')) for a in song_block]"
   ]
  },
  {
   "cell_type": "code",
   "execution_count": null,
   "metadata": {},
   "outputs": [],
   "source": []
  },
  {
   "cell_type": "code",
   "execution_count": 136,
   "metadata": {},
   "outputs": [],
   "source": [
    "anchors = [s.select('a') for s in song_block]"
   ]
  },
  {
   "cell_type": "code",
   "execution_count": 137,
   "metadata": {},
   "outputs": [
    {
     "data": {
      "text/plain": [
       "[[<a class=\"link-primary _1kcZ5\" href=\"https://tabs.ultimate-guitar.com/tab/bob_dylan/blood_on_the_tracks_chords_698381\">Blood On The Tracks album</a>,\n",
       "  <a class=\"link-primary _1kcZ5\" href=\"https://tabs.ultimate-guitar.com/tab/bob_dylan/desire_chords_665476\">Desire album</a>,\n",
       "  <a class=\"link-primary _1kcZ5\" href=\"https://tabs.ultimate-guitar.com/tab/bob_dylan/highway_61_revisited_chords_626471\">Highway 61 Revisited album</a>,\n",
       "  <a class=\"link-primary _1kcZ5\" href=\"https://tabs.ultimate-guitar.com/tab/bob_dylan/john_wesley_harding_chords_670406\">John Wesley Harding album</a>,\n",
       "  <a class=\"link-primary _1kcZ5\" href=\"https://tabs.ultimate-guitar.com/tab/bob_dylan/nashville_skyline_chords_673622\">Nashville Skyline album</a>,\n",
       "  <a class=\"link-primary _1kcZ5\" href=\"https://tabs.ultimate-guitar.com/tab/bob_dylan/planet_waves_chords_698356\">Planet Waves album</a>,\n",
       "  <a class=\"link-primary _1kcZ5\" href=\"https://tabs.ultimate-guitar.com/tab/bob_dylan/slow_train_coming_chords_2203431\">Slow Train Coming album</a>,\n",
       "  <a class=\"link-primary _1kcZ5\" href=\"https://tabs.ultimate-guitar.com/tab/bob_dylan/the_freewheelin_bob_dylan_chords_665225\">The Freewheelin Bob Dylan album</a>,\n",
       "  <a class=\"link-primary _1kcZ5\" href=\"https://tabs.ultimate-guitar.com/tab/bob_dylan/time_out_of_mind_chords_698999\">Time Out Of Mind album</a>,\n",
       "  <a class=\"link-primary _1kcZ5\" href=\"https://tabs.ultimate-guitar.com/tab/joan_baez/troubled_and_i_dont_know_why_chords_2336469\">Troubled And I Dont Know Why</a>,\n",
       "  <a class=\"link-primary _1kcZ5\" href=\"https://tabs.ultimate-guitar.com/tab/bob_dylan/1913_massacre_chords_271544\">1913 Massacre</a>,\n",
       "  <a class=\"link-primary _1kcZ5\" href=\"https://tabs.ultimate-guitar.com/tab/bob_dylan/2_x_2_chords_1452282\">2 X 2</a>,\n",
       "  <a class=\"link-primary _1kcZ5\" href=\"https://tabs.ultimate-guitar.com/tab/bob_dylan/2020_vision_chords_1053533\">2020 Vision</a>,\n",
       "  <a class=\"link-primary _1kcZ5\" href=\"https://tabs.ultimate-guitar.com/tab/bob_dylan/4th_time_around_chords_664677\">4Th Time Around</a>,\n",
       "  <a class=\"link-primary _1kcZ5\" href=\"https://tabs.ultimate-guitar.com/tab/bob_dylan/900_miles_from_my_home_chords_1709133\">900 Miles From My Home</a>,\n",
       "  <a class=\"link-primary _1kcZ5\" href=\"https://tabs.ultimate-guitar.com/tab/bob_dylan/a_couple_more_years_chords_518030\">A Couple More Years</a>,\n",
       "  <a class=\"link-primary _1kcZ5\" href=\"https://tabs.ultimate-guitar.com/tab/bob_dylan/a_hard_rains_a_gonna_fall_chords_1459815\">A Hard Rains A Gonna Fall</a>,\n",
       "  <a class=\"link-primary _1kcZ5\" href=\"https://tabs.ultimate-guitar.com/tab/bob_dylan/a_satisfied_mind_chords_834294\">A Satisfied Mind</a>,\n",
       "  <a class=\"link-primary _1kcZ5\" href=\"https://tabs.ultimate-guitar.com/tab/bob_dylan/a_satisfied_mind_chords_2207691\">A Satisfied Mind (ver 2)</a>,\n",
       "  <a class=\"link-primary _1kcZ5\" href=\"https://tabs.ultimate-guitar.com/tab/bob_dylan/a_thousand_miles_behind_chords_824877\">A Thousand Miles Behind</a>,\n",
       "  <a class=\"link-primary _1kcZ5\" href=\"https://tabs.ultimate-guitar.com/tab/bob_dylan/abandoned_love_chords_14847\">Abandoned Love</a>,\n",
       "  <a class=\"link-primary _1kcZ5\" href=\"https://tabs.ultimate-guitar.com/tab/bob_dylan/abandoned_love_chords_445139\">Abandoned Love (ver 2)</a>,\n",
       "  <a class=\"link-primary _1kcZ5\" href=\"https://tabs.ultimate-guitar.com/tab/bob_dylan/abandoned_love_chords_566177\">Abandoned Love (ver 3)</a>,\n",
       "  <a class=\"link-primary _1kcZ5\" href=\"https://tabs.ultimate-guitar.com/tab/bob_dylan/abandoned_love_chords_1042594\">Abandoned Love (ver 4)</a>,\n",
       "  <a class=\"link-primary _1kcZ5\" href=\"https://tabs.ultimate-guitar.com/tab/bob_dylan/abandoned_love_chords_2291729\">Abandoned Love  Live</a>,\n",
       "  <a class=\"link-primary _1kcZ5\" href=\"https://tabs.ultimate-guitar.com/tab/bob_dylan/abraham_martin_and_john_chords_2232919\">Abraham Martin And John</a>,\n",
       "  <a class=\"link-primary _1kcZ5\" href=\"https://tabs.ultimate-guitar.com/tab/bob_dylan/absolutely_sweet_marie_chords_14848\">Absolutely Sweet Marie</a>,\n",
       "  <a class=\"link-primary _1kcZ5\" href=\"https://tabs.ultimate-guitar.com/tab/bob_dylan/acne_chords_271777\">Acne</a>,\n",
       "  <a class=\"link-primary _1kcZ5\" href=\"https://tabs.ultimate-guitar.com/tab/bob_dylan/aint_gonna_go_to_hell_for_anybody_chords_2229087\">Aint Gonna Go To Hell For Anybody</a>,\n",
       "  <a class=\"link-primary _1kcZ5\" href=\"https://tabs.ultimate-guitar.com/tab/bob_dylan/aint_no_more_cane_chords_555140\">Aint No More Cane</a>,\n",
       "  <a class=\"link-primary _1kcZ5\" href=\"https://tabs.ultimate-guitar.com/tab/bob_dylan/aint_talkin_chords_1450161\">Aint Talkin</a>,\n",
       "  <a class=\"link-primary _1kcZ5\" href=\"https://tabs.ultimate-guitar.com/tab/bob_dylan/aint_talkin_chords_1879766\">Aint Talkin (ver 2)</a>,\n",
       "  <a class=\"link-primary _1kcZ5\" href=\"https://tabs.ultimate-guitar.com/tab/bob_dylan/alberta_chords_1237094\">Alberta</a>,\n",
       "  <a class=\"link-primary _1kcZ5\" href=\"https://tabs.ultimate-guitar.com/tab/bob_dylan/all_along_the_watchtower_chords_152504\">All Along The Watchtower</a>,\n",
       "  <a class=\"link-primary _1kcZ5\" href=\"https://tabs.ultimate-guitar.com/tab/bob_dylan/all_along_the_watchtower_chords_918153\">All Along The Watchtower (ver 2)</a>,\n",
       "  <a class=\"link-primary _1kcZ5\" href=\"https://tabs.ultimate-guitar.com/tab/bob_dylan/all_along_the_watchtower_chords_1089413\">All Along The Watchtower (ver 3)</a>,\n",
       "  <a class=\"link-primary _1kcZ5\" href=\"https://tabs.ultimate-guitar.com/tab/bob_dylan/all_along_the_watchtower_chords_1090598\">All Along The Watchtower (ver 4)</a>,\n",
       "  <a class=\"link-primary _1kcZ5\" href=\"https://tabs.ultimate-guitar.com/tab/bob_dylan/all_i_really_want_to_do_chords_426917\">All I Really Want To Do</a>,\n",
       "  <a class=\"link-primary _1kcZ5\" href=\"https://tabs.ultimate-guitar.com/tab/bob_dylan/all_i_really_want_to_do_chords_435945\">All I Really Want To Do (ver 2)</a>,\n",
       "  <a class=\"link-primary _1kcZ5\" href=\"https://tabs.ultimate-guitar.com/tab/bob_dylan/all_i_really_want_to_do_chords_919006\">All I Really Want To Do (ver 3)</a>,\n",
       "  <a class=\"link-primary _1kcZ5\" href=\"https://tabs.ultimate-guitar.com/tab/bob_dylan/all_my_tomorrows_chords_326425\">All My Tomorrows</a>,\n",
       "  <a class=\"link-primary _1kcZ5\" href=\"https://tabs.ultimate-guitar.com/tab/bob_dylan/all_the_tired_horses_chords_330122\">All The Tired Horses</a>,\n",
       "  <a class=\"link-primary _1kcZ5\" href=\"https://tabs.ultimate-guitar.com/tab/bob_dylan/angelina_chords_1969169\">Angelina</a>,\n",
       "  <a class=\"link-primary _1kcZ5\" href=\"https://tabs.ultimate-guitar.com/tab/bob_dylan/annies_going_to_sing_her_song_chords_1749646\">Annies Going To Sing Her Song</a>,\n",
       "  <a class=\"link-primary _1kcZ5\" href=\"https://tabs.ultimate-guitar.com/tab/bob_dylan/any_day_now_chords_66563\">Any Day Now</a>,\n",
       "  <a class=\"link-primary _1kcZ5\" href=\"https://tabs.ultimate-guitar.com/tab/bob_dylan/arthur_mcbride_chords_653362\">Arthur Mcbride</a>,\n",
       "  <a class=\"link-primary _1kcZ5\" href=\"https://tabs.ultimate-guitar.com/tab/bob_dylan/as_i_go_ramblin_round_chords_1996863\">As I Go Ramblin Round</a>,\n",
       "  <a class=\"link-primary _1kcZ5\" href=\"https://tabs.ultimate-guitar.com/tab/bob_dylan/as_i_went_out_one_morning_chords_652909\">As I Went Out One Morning</a>,\n",
       "  <a class=\"link-primary _1kcZ5\" href=\"https://tabs.ultimate-guitar.com/tab/bob_dylan/as_i_went_out_one_morning_chords_927691\">As I Went Out One Morning (ver 2)</a>,\n",
       "  <a class=\"link-primary _1kcZ5\" href=\"https://tabs.ultimate-guitar.com/tab/bob_dylan/autumn_leaves_chords_1864897\">Autumn Leaves</a>,\n",
       "  <a class=\"link-primary _1kcZ5\" href=\"https://tabs.ultimate-guitar.com/tab/bob_dylan/baby_aint_that_fine_chords_66565\">Baby Aint That Fine</a>,\n",
       "  <a class=\"link-primary _1kcZ5\" href=\"https://tabs.ultimate-guitar.com/tab/bob_dylan/baby_im_in_the_mood_chords_14851\">Baby Im In The Mood</a>,\n",
       "  <a class=\"link-primary _1kcZ5\" href=\"https://tabs.ultimate-guitar.com/tab/bob_dylan/baby_let_me_follow_you_down_chords_331413\">Baby Let Me Follow You Down</a>,\n",
       "  <a class=\"link-primary _1kcZ5\" href=\"https://tabs.ultimate-guitar.com/tab/bob_dylan/baby_please_stop_crying_chords_1174349\">Baby Please Stop Crying</a>,\n",
       "  <a class=\"link-primary _1kcZ5\" href=\"https://tabs.ultimate-guitar.com/tab/bob_dylan/baby_stop_crying_chords_1413417\">Baby Stop Crying</a>,\n",
       "  <a class=\"link-primary _1kcZ5\" href=\"https://tabs.ultimate-guitar.com/tab/bob_dylan/ballad_in_plain_d_chords_664652\">Ballad In Plain D</a>,\n",
       "  <a class=\"link-primary _1kcZ5\" href=\"https://tabs.ultimate-guitar.com/tab/bob_dylan/ballad_in_plain_d_chords_806058\">Ballad In Plain D (ver 2)</a>,\n",
       "  <a class=\"link-primary _1kcZ5\" href=\"https://tabs.ultimate-guitar.com/tab/bob_dylan/ballad_in_plain_d_chords_1086234\">Ballad In Plain D (ver 3)</a>,\n",
       "  <a class=\"link-primary _1kcZ5\" href=\"https://tabs.ultimate-guitar.com/tab/bob_dylan/ballad_of_a_thin_man_chords_569024\">Ballad Of A Thin Man</a>,\n",
       "  <a class=\"link-primary _1kcZ5\" href=\"https://tabs.ultimate-guitar.com/tab/bob_dylan/ballad_of_a_thin_man_chords_812703\">Ballad Of A Thin Man (ver 2)</a>,\n",
       "  <a class=\"link-primary _1kcZ5\" href=\"https://tabs.ultimate-guitar.com/tab/bob_dylan/ballad_of_a_thin_man_chords_834296\">Ballad Of A Thin Man (ver 3)</a>,\n",
       "  <a class=\"link-primary _1kcZ5\" href=\"https://tabs.ultimate-guitar.com/tab/bob_dylan/ballad_of_a_thin_man_chords_1171085\">Ballad Of A Thin Man (ver 4)</a>,\n",
       "  <a class=\"link-primary _1kcZ5\" href=\"https://tabs.ultimate-guitar.com/tab/bob_dylan/ballad_of_a_thin_man_chords_1421086\">Ballad Of A Thin Man (ver 5)</a>,\n",
       "  <a class=\"link-primary _1kcZ5\" href=\"https://tabs.ultimate-guitar.com/tab/bob_dylan/ballad_of_a_thin_man_chords_1800219\">Ballad Of A Thin Man  Acoustic</a>,\n",
       "  <a class=\"link-primary _1kcZ5\" href=\"https://tabs.ultimate-guitar.com/tab/bob_dylan/ballad_of_donald_white_chords_271546\">Ballad Of Donald White</a>,\n",
       "  <a class=\"link-primary _1kcZ5\" href=\"https://tabs.ultimate-guitar.com/tab/bob_dylan/ballad_of_hollis_brown_chords_518032\">Ballad Of Hollis Brown</a>,\n",
       "  <a class=\"link-primary _1kcZ5\" href=\"https://tabs.ultimate-guitar.com/tab/bob_dylan/belle_isle_chords_680475\">Belle Isle</a>,\n",
       "  <a class=\"link-primary _1kcZ5\" href=\"https://tabs.ultimate-guitar.com/tab/bob_dylan/beyond_the_horizon_chords_1471663\">Beyond The Horizon</a>,\n",
       "  <a class=\"link-primary _1kcZ5\" href=\"https://tabs.ultimate-guitar.com/tab/bob_dylan/beyond_the_horizon_chords_2379525\">Beyond The Horizon (ver 2)</a>,\n",
       "  <a class=\"link-primary _1kcZ5\" href=\"https://tabs.ultimate-guitar.com/tab/bob_dylan/billy_4_chords_620277\">Billy 4</a>,\n",
       "  <a class=\"link-primary _1kcZ5\" href=\"https://tabs.ultimate-guitar.com/tab/bob_dylan/billy_the_kid_chords_614728\">Billy The Kid</a>,\n",
       "  <a class=\"link-primary _1kcZ5\" href=\"https://tabs.ultimate-guitar.com/tab/bob_dylan/black_crow_blues_chords_664217\">Black Crow Blues</a>,\n",
       "  <a class=\"link-primary _1kcZ5\" href=\"https://tabs.ultimate-guitar.com/tab/bob_dylan/black_diamond_bay_chords_66566\">Black Diamond Bay</a>,\n",
       "  <a class=\"link-primary _1kcZ5\" href=\"https://tabs.ultimate-guitar.com/tab/bob_dylan/black_diamond_bay_chords_1408527\">Black Diamond Bay (ver 2)</a>,\n",
       "  <a class=\"link-primary _1kcZ5\" href=\"https://tabs.ultimate-guitar.com/tab/bob_dylan/black_diamond_bay_chords_1509678\">Black Diamond Bay (ver 3)</a>,\n",
       "  <a class=\"link-primary _1kcZ5\" href=\"https://tabs.ultimate-guitar.com/tab/bob_dylan/black_jack_davey_chords_1762484\">Black Jack Davey</a>,\n",
       "  <a class=\"link-primary _1kcZ5\" href=\"https://tabs.ultimate-guitar.com/tab/bob_dylan/blind_willie_mctell_chords_759581\">Blind Willie Mctell</a>,\n",
       "  <a class=\"link-primary _1kcZ5\" href=\"https://tabs.ultimate-guitar.com/tab/bob_dylan/blind_willie_mctell_chords_919091\">Blind Willie Mctell (ver 2)</a>,\n",
       "  <a class=\"link-primary _1kcZ5\" href=\"https://tabs.ultimate-guitar.com/tab/bob_dylan/blind_willie_mctell_chords_966431\">Blind Willie Mctell (ver 3)</a>,\n",
       "  <a class=\"link-primary _1kcZ5\" href=\"https://tabs.ultimate-guitar.com/tab/bob_dylan/blind_willie_mctell_chords_1729436\">Blind Willie Mctell (ver 4)</a>,\n",
       "  <a class=\"link-primary _1kcZ5\" href=\"https://tabs.ultimate-guitar.com/tab/bob_dylan/blind_willie_mctell_chords_2102899\">Blind Willie Mctell (ver 5)</a>,\n",
       "  <a class=\"link-primary _1kcZ5\" href=\"https://tabs.ultimate-guitar.com/tab/bob_dylan/blonde_on_blonde_chords_592086\">Blonde On Blonde</a>,\n",
       "  <a class=\"link-primary _1kcZ5\" href=\"https://tabs.ultimate-guitar.com/tab/bob_dylan/blood_in_my_eyes_chords_518033\">Blood In My Eyes</a>,\n",
       "  <a class=\"link-primary _1kcZ5\" href=\"https://tabs.ultimate-guitar.com/tab/bob_dylan/blowin_in_the_wind_chords_14835\">Blowin In The Wind</a>,\n",
       "  <a class=\"link-primary _1kcZ5\" href=\"https://tabs.ultimate-guitar.com/tab/bob_dylan/blowin_in_the_wind_chords_14845\">Blowin In The Wind (ver 2)</a>,\n",
       "  <a class=\"link-primary _1kcZ5\" href=\"https://tabs.ultimate-guitar.com/tab/bob_dylan/blowin_in_the_wind_chords_147936\">Blowin In The Wind (ver 3)</a>,\n",
       "  <a class=\"link-primary _1kcZ5\" href=\"https://tabs.ultimate-guitar.com/tab/bob_dylan/blowin_in_the_wind_chords_740300\">Blowin In The Wind (ver 4)</a>,\n",
       "  <a class=\"link-primary _1kcZ5\" href=\"https://tabs.ultimate-guitar.com/tab/bob_dylan/blowin_in_the_wind_chords_771892\">Blowin In The Wind (ver 5)</a>,\n",
       "  <a class=\"link-primary _1kcZ5\" href=\"https://tabs.ultimate-guitar.com/tab/bob_dylan/blowin_in_the_wind_chords_995791\">Blowin In The Wind (ver 6)</a>,\n",
       "  <a class=\"link-primary _1kcZ5\" href=\"https://tabs.ultimate-guitar.com/tab/bob_dylan/blowin_in_the_wind_chords_1086954\">Blowin In The Wind (ver 7)</a>,\n",
       "  <a class=\"link-primary _1kcZ5\" href=\"https://tabs.ultimate-guitar.com/tab/bob_dylan/blowin_in_the_wind_chords_1127044\">Blowin In The Wind (ver 8)</a>,\n",
       "  <a class=\"link-primary _1kcZ5\" href=\"https://tabs.ultimate-guitar.com/tab/bob_dylan/blowin_in_the_wind_chords_1493245\">Blowin In The Wind (ver 9)</a>,\n",
       "  <a class=\"link-primary _1kcZ5\" href=\"https://tabs.ultimate-guitar.com/tab/bob_dylan/blowin_in_the_wind_chords_1813913\">Blowin In The Wind (ver 10)</a>,\n",
       "  <a class=\"link-primary _1kcZ5\" href=\"https://tabs.ultimate-guitar.com/tab/bob_dylan/blowin_in_the_wind_chords_2273011\">Blowin In The Wind (ver 11)</a>,\n",
       "  <a class=\"link-primary _1kcZ5\" href=\"https://tabs.ultimate-guitar.com/tab/bob_dylan/blowin_in_the_wind_-_basement_tapes_chords_1858794\">Blowin In The Wind - Basement Tapes</a>,\n",
       "  <a class=\"link-primary _1kcZ5\" href=\"https://tabs.ultimate-guitar.com/tab/bob_dylan/bob_dylans_115th_dream_chords_1776817\">Bob Dylans 115Th Dream</a>,\n",
       "  <a class=\"link-primary _1kcZ5\" href=\"https://tabs.ultimate-guitar.com/tab/bob_dylan/bob_dylans_blues_chords_668818\">Bob Dylans Blues</a>,\n",
       "  <a class=\"link-primary _1kcZ5\" href=\"https://tabs.ultimate-guitar.com/tab/bob_dylan/bob_dylans_dream_chords_1747488\">Bob Dylans Dream</a>,\n",
       "  <a class=\"link-primary _1kcZ5\" href=\"https://tabs.ultimate-guitar.com/tab/bob_dylan/boots_of_spanish_leather_chords_168163\">Boots Of Spanish Leather</a>,\n",
       "  <a class=\"link-primary _1kcZ5\" href=\"https://tabs.ultimate-guitar.com/tab/bob_dylan/boots_of_spanish_leather_chords_1077012\">Boots Of Spanish Leather (ver 2)</a>,\n",
       "  <a class=\"link-primary _1kcZ5\" href=\"https://tabs.ultimate-guitar.com/tab/bob_dylan/boots_of_spanish_leather_chords_1869521\">Boots Of Spanish Leather (ver 3)</a>]]"
      ]
     },
     "execution_count": 137,
     "metadata": {},
     "output_type": "execute_result"
    }
   ],
   "source": [
    "anchors"
   ]
  },
  {
   "cell_type": "code",
   "execution_count": 135,
   "metadata": {},
   "outputs": [
    {
     "ename": "AttributeError",
     "evalue": "'list' object has no attribute 'select_one'",
     "output_type": "error",
     "traceback": [
      "\u001b[0;31m---------------------------------------------------------------------------\u001b[0m",
      "\u001b[0;31mAttributeError\u001b[0m                            Traceback (most recent call last)",
      "\u001b[0;32m<ipython-input-135-755a556e4d90>\u001b[0m in \u001b[0;36m<module>\u001b[0;34m()\u001b[0m\n\u001b[0;32m----> 1\u001b[0;31m \u001b[0mliiinks\u001b[0m \u001b[0;34m=\u001b[0m \u001b[0;34m[\u001b[0m\u001b[0mank\u001b[0m\u001b[0;34m.\u001b[0m\u001b[0mselect_one\u001b[0m\u001b[0;34m(\u001b[0m\u001b[0;34m'href'\u001b[0m\u001b[0;34m)\u001b[0m \u001b[0;32mfor\u001b[0m \u001b[0mank\u001b[0m \u001b[0;32min\u001b[0m \u001b[0manchors\u001b[0m\u001b[0;34m]\u001b[0m\u001b[0;34m\u001b[0m\u001b[0m\n\u001b[0m",
      "\u001b[0;32m<ipython-input-135-755a556e4d90>\u001b[0m in \u001b[0;36m<listcomp>\u001b[0;34m(.0)\u001b[0m\n\u001b[0;32m----> 1\u001b[0;31m \u001b[0mliiinks\u001b[0m \u001b[0;34m=\u001b[0m \u001b[0;34m[\u001b[0m\u001b[0mank\u001b[0m\u001b[0;34m.\u001b[0m\u001b[0mselect_one\u001b[0m\u001b[0;34m(\u001b[0m\u001b[0;34m'href'\u001b[0m\u001b[0;34m)\u001b[0m \u001b[0;32mfor\u001b[0m \u001b[0mank\u001b[0m \u001b[0;32min\u001b[0m \u001b[0manchors\u001b[0m\u001b[0;34m]\u001b[0m\u001b[0;34m\u001b[0m\u001b[0m\n\u001b[0m",
      "\u001b[0;31mAttributeError\u001b[0m: 'list' object has no attribute 'select_one'"
     ]
    }
   ],
   "source": [
    "liiinks = [ank.select_one('href') for ank in anchors]"
   ]
  },
  {
   "cell_type": "code",
   "execution_count": 138,
   "metadata": {},
   "outputs": [
    {
     "ename": "AttributeError",
     "evalue": "'list' object has no attribute 'attr'",
     "output_type": "error",
     "traceback": [
      "\u001b[0;31m---------------------------------------------------------------------------\u001b[0m",
      "\u001b[0;31mAttributeError\u001b[0m                            Traceback (most recent call last)",
      "\u001b[0;32m<ipython-input-138-ce292fed3a05>\u001b[0m in \u001b[0;36m<module>\u001b[0;34m()\u001b[0m\n\u001b[0;32m----> 1\u001b[0;31m \u001b[0mlinks_finally\u001b[0m \u001b[0;34m=\u001b[0m \u001b[0;34m[\u001b[0m\u001b[0ma\u001b[0m\u001b[0;34m.\u001b[0m\u001b[0mattr\u001b[0m\u001b[0;34m.\u001b[0m\u001b[0mget\u001b[0m\u001b[0;34m(\u001b[0m\u001b[0;34m'href'\u001b[0m\u001b[0;34m)\u001b[0m \u001b[0;32mfor\u001b[0m \u001b[0ma\u001b[0m \u001b[0;32min\u001b[0m \u001b[0manchors\u001b[0m\u001b[0;34m]\u001b[0m\u001b[0;34m\u001b[0m\u001b[0m\n\u001b[0m",
      "\u001b[0;32m<ipython-input-138-ce292fed3a05>\u001b[0m in \u001b[0;36m<listcomp>\u001b[0;34m(.0)\u001b[0m\n\u001b[0;32m----> 1\u001b[0;31m \u001b[0mlinks_finally\u001b[0m \u001b[0;34m=\u001b[0m \u001b[0;34m[\u001b[0m\u001b[0ma\u001b[0m\u001b[0;34m.\u001b[0m\u001b[0mattr\u001b[0m\u001b[0;34m.\u001b[0m\u001b[0mget\u001b[0m\u001b[0;34m(\u001b[0m\u001b[0;34m'href'\u001b[0m\u001b[0;34m)\u001b[0m \u001b[0;32mfor\u001b[0m \u001b[0ma\u001b[0m \u001b[0;32min\u001b[0m \u001b[0manchors\u001b[0m\u001b[0;34m]\u001b[0m\u001b[0;34m\u001b[0m\u001b[0m\n\u001b[0m",
      "\u001b[0;31mAttributeError\u001b[0m: 'list' object has no attribute 'attr'"
     ]
    }
   ],
   "source": [
    "links_finally = [a.attr.get('href') for a in anchors]\n",
    "\n",
    "links_all_poems = [(a.text, a.attrs.get('href')) for a in anchors_all]\n"
   ]
  },
  {
   "cell_type": "code",
   "execution_count": 124,
   "metadata": {},
   "outputs": [
    {
     "data": {
      "text/plain": [
       "[]"
      ]
     },
     "execution_count": 124,
     "metadata": {},
     "output_type": "execute_result"
    }
   ],
   "source": [
    "links_finally"
   ]
  },
  {
   "cell_type": "code",
   "execution_count": 40,
   "metadata": {},
   "outputs": [
    {
     "data": {
      "text/plain": [
       "<section class=\"_3-q_x\"><div class=\"_1iQi2 _1Lagi\" style=\"\"><div class=\"_1RJlF _3hPn3\"><span class=\"_1ZtlP\">Songs Featuring Bob Dylan</span></div><div class=\"_1RJlF _3hPn3\"><span class=\"_1ZtlP\">Rating</span></div><div class=\"_1RJlF _3hPn3\"><span class=\"_1ZtlP\">Type</span></div></div><div class=\"_1iQi2\" style=\"\"><div class=\"_1RJlF _3ku_w _1pJc7\"><header class=\"_3BCED\"><div><span class=\"_1w1ie\" currentitem=\"false\" data-effect=\"solid\" data-for=\"action-tooltip-icon\" data-html=\"true\" data-place=\"right\" data-tip=\"\n",
       "    &lt;div style='display: flex'&gt;\n",
       "        &lt;span style='min-width: 53px;'&gt;Difficulty&lt;/span&gt;\n",
       "        &lt;div style='margin-left: 16px;'&gt;novice&lt;/div&gt;\n",
       "    &lt;/div&gt;\n",
       "\n",
       "    &lt;div style='display: flex'&gt;\n",
       "        &lt;span style='min-width: 53px;'&gt;About&lt;/span&gt;\n",
       "        &lt;div style='margin-left: 16px;'&gt;Based on a tab by Eyolf Ostrem but with chords throughout and added final verse.&lt;/div&gt;\n",
       "    &lt;/div&gt;\n",
       "\"><a class=\"link-primary _1kcZ5\" href=\"https://tabs.ultimate-guitar.com/tab/joan_baez/troubled_and_i_dont_know_why_chords_2336469\">Troubled And I Dont Know Why</a><span class=\"_2y4Do\">*</span></span></div></header></div><div class=\"_1RJlF _3IBgH\"><undefined></undefined></div><div class=\"_1RJlF _2fyaZ\">chords</div></div></section>"
      ]
     },
     "execution_count": 40,
     "metadata": {},
     "output_type": "execute_result"
    }
   ],
   "source": [
    "song_block[1]"
   ]
  },
  {
   "cell_type": "code",
   "execution_count": 37,
   "metadata": {},
   "outputs": [
    {
     "data": {
      "text/plain": [
       "[<generator object <genexpr> at 0x10d06fa40>]"
      ]
     },
     "execution_count": 37,
     "metadata": {},
     "output_type": "execute_result"
    }
   ],
   "source": [
    "sel = 'a.link-primary._1kcZ5'\n",
    "song_squares = [(square.select_one(sel) for square in song_block)]\n",
    "song_squares"
   ]
  },
  {
   "cell_type": "code",
   "execution_count": 39,
   "metadata": {},
   "outputs": [
    {
     "data": {
      "text/plain": [
       "[None, None, None]"
      ]
     },
     "execution_count": 39,
     "metadata": {},
     "output_type": "execute_result"
    }
   ],
   "source": [
    "links_only = [(a.attrs.get('href')) for a in song_block]\n",
    "links_only"
   ]
  },
  {
   "cell_type": "code",
   "execution_count": 33,
   "metadata": {},
   "outputs": [
    {
     "ename": "SyntaxError",
     "evalue": "invalid syntax (<ipython-input-33-908e150aae1e>, line 12)",
     "output_type": "error",
     "traceback": [
      "\u001b[0;36m  File \u001b[0;32m\"<ipython-input-33-908e150aae1e>\"\u001b[0;36m, line \u001b[0;32m12\u001b[0m\n\u001b[0;31m    song_urls =\u001b[0m\n\u001b[0m                ^\u001b[0m\n\u001b[0;31mSyntaxError\u001b[0m\u001b[0;31m:\u001b[0m invalid syntax\n"
     ]
    }
   ],
   "source": [
    "artist_url = 'https://www.ultimate-guitar.com/artist/bob_dylan_10212?'\n",
    "\n",
    "browser = Chrome()\n",
    "\n",
    "def get_song_urls(url):\n",
    "    song_urls = []\n",
    "    browser.get(url)\n",
    "    song_urls.append[browser.find_elements_by_css_selector('span._3L0Da._3f5kI')] \n",
    "\n",
    "\n",
    "def get_artist_songs(url):\n",
    "    song_urls = "
   ]
  },
  {
   "cell_type": "code",
   "execution_count": null,
   "metadata": {},
   "outputs": [],
   "source": []
  }
 ],
 "metadata": {
  "kernelspec": {
   "display_name": "Python 3",
   "language": "python",
   "name": "python3"
  },
  "language_info": {
   "codemirror_mode": {
    "name": "ipython",
    "version": 3
   },
   "file_extension": ".py",
   "mimetype": "text/x-python",
   "name": "python",
   "nbconvert_exporter": "python",
   "pygments_lexer": "ipython3",
   "version": "3.6.3"
  }
 },
 "nbformat": 4,
 "nbformat_minor": 2
}
