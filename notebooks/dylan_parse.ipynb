{
 "cells": [
  {
   "cell_type": "code",
   "execution_count": 3,
   "metadata": {},
   "outputs": [],
   "source": [
    "from selenium.webdriver import Chrome \n",
    "from bs4 import BeautifulSoup\n",
    "import pymongo\n",
    "import datetime\n",
    "import time \n",
    "import pandas as pd\n",
    "import re"
   ]
  },
  {
   "cell_type": "code",
   "execution_count": 4,
   "metadata": {},
   "outputs": [],
   "source": [
    "url = \"https://tabs.ultimate-guitar.com/tab/bob_dylan/as_i_went_out_one_morning_chords_927691\""
   ]
  },
  {
   "cell_type": "code",
   "execution_count": 5,
   "metadata": {},
   "outputs": [],
   "source": [
    "browser = Chrome()"
   ]
  },
  {
   "cell_type": "code",
   "execution_count": 6,
   "metadata": {},
   "outputs": [],
   "source": [
    "browser.get(url)"
   ]
  },
  {
   "cell_type": "code",
   "execution_count": 7,
   "metadata": {},
   "outputs": [],
   "source": [
    "time.sleep(10)"
   ]
  },
  {
   "cell_type": "code",
   "execution_count": 8,
   "metadata": {},
   "outputs": [],
   "source": [
    "html = browser.page_source"
   ]
  },
  {
   "cell_type": "code",
   "execution_count": 9,
   "metadata": {},
   "outputs": [],
   "source": [
    "mc = pymongo.MongoClient()"
   ]
  },
  {
   "cell_type": "code",
   "execution_count": 10,
   "metadata": {},
   "outputs": [],
   "source": [
    "db = mc['chordify']"
   ]
  },
  {
   "cell_type": "code",
   "execution_count": 11,
   "metadata": {},
   "outputs": [],
   "source": [
    "raw_html = db['raw_html']"
   ]
  },
  {
   "cell_type": "code",
   "execution_count": 12,
   "metadata": {},
   "outputs": [
    {
     "data": {
      "text/plain": [
       "<pymongo.results.InsertOneResult at 0x117d17510>"
      ]
     },
     "execution_count": 12,
     "metadata": {},
     "output_type": "execute_result"
    }
   ],
   "source": [
    "raw_html.insert_one(\n",
    "    {'url': url,\n",
    "     'datetime': datetime.datetime.now(),\n",
    "     'html': html \n",
    "    })"
   ]
  },
  {
   "cell_type": "code",
   "execution_count": 13,
   "metadata": {},
   "outputs": [],
   "source": [
    "sel = \"section._3TQ4n._3zQIL\"\n",
    "body_sel = browser.find_element_by_css_selector(sel)"
   ]
  },
  {
   "cell_type": "code",
   "execution_count": 14,
   "metadata": {},
   "outputs": [
    {
     "data": {
      "text/plain": [
       "'Capo on 4th Fret\\n\\nDm                 C                      Dm   C         Dm\\nAs I went out one morning, to breathe the air around Tom Paine\\'s\\n    Dm               C            Dm      C       Dm\\nI spied the fairest damsel, that ever did walk in chains\\n    F              Am       Dm    C       Dm\\nI offer\\'d her my hand, she took me by the arm\\n    Dm            C            Dm      C    Dm\\nI knew that very instant, she meant to do me harm\\n\\n\\nDm                 C             Dm       C     Dm\\nDepart from me this moment, I told her with my voice\\n Dm                       C       Dm            C        Dm\\nSaid she, \"But I don\\'t wish to, said I, but you have no choice\\nF                 Am         Dm                C       Dm\\nI beg you, sir, she pleaded, from the corners of her mouth\\nDm                C               Dm        C         Dm\\nI will secretly accept you, and together we\\'ll fly south\\n\\n\\nDm                     C               Dm        C         Dm\\nJust then Tom Paine, himself, came running from across the field\\nDm               C                     Dm      C       Dm\\nShouting at this lovely girl, and commanding her to yield\\nF                         Am         Dm    C       Dm\\nAnd as she was letting go her grip, up Tom Paine did run\\nDm                   C            Dm      C              Dm\\nI\\'m sorry, sir, he said to me, I\\'m sorry for what she\\'s done'"
      ]
     },
     "execution_count": 14,
     "metadata": {},
     "output_type": "execute_result"
    }
   ],
   "source": [
    "body_sel.text"
   ]
  },
  {
   "cell_type": "code",
   "execution_count": 15,
   "metadata": {},
   "outputs": [
    {
     "data": {
      "text/plain": [
       "'Capo on 4th Fret\\n\\nDm                 C                      Dm   C         Dm\\nAs I went out one morning, to breathe the air around Tom Paine\\'s\\n    Dm               C            Dm      C       Dm\\nI spied the fairest damsel, that ever did walk in chains\\n    F              Am       Dm    C       Dm\\nI offer\\'d her my hand, she took me by the arm\\n    Dm            C            Dm      C    Dm\\nI knew that very instant, she meant to do me harm\\n\\n\\nDm                 C             Dm       C     Dm\\nDepart from me this moment, I told her with my voice\\n Dm                       C       Dm            C        Dm\\nSaid she, \"But I don\\'t wish to, said I, but you have no choice\\nF                 Am         Dm                C       Dm\\nI beg you, sir, she pleaded, from the corners of her mouth\\nDm                C               Dm        C         Dm\\nI will secretly accept you, and together we\\'ll fly south\\n\\n\\nDm                     C               Dm        C         Dm\\nJust then Tom Paine, himself, came running from across the field\\nDm               C                     Dm      C       Dm\\nShouting at this lovely girl, and commanding her to yield\\nF                         Am         Dm    C       Dm\\nAnd as she was letting go her grip, up Tom Paine did run\\nDm                   C            Dm      C              Dm\\nI\\'m sorry, sir, he said to me, I\\'m sorry for what she\\'s done'"
      ]
     },
     "execution_count": 15,
     "metadata": {},
     "output_type": "execute_result"
    }
   ],
   "source": [
    "body_sel.text"
   ]
  },
  {
   "cell_type": "code",
   "execution_count": 16,
   "metadata": {},
   "outputs": [
    {
     "data": {
      "text/plain": [
       "<selenium.webdriver.remote.webelement.WebElement (session=\"041be5909787fceb2234493d6dc3f26f\", element=\"0.3539322675949712-2\")>"
      ]
     },
     "execution_count": 16,
     "metadata": {},
     "output_type": "execute_result"
    }
   ],
   "source": [
    "chords_sel = browser.find_elements_by_css_selector('span._3L0Da._3f5kI')\n",
    "chords_sel[0]"
   ]
  },
  {
   "cell_type": "code",
   "execution_count": 17,
   "metadata": {},
   "outputs": [
    {
     "data": {
      "text/plain": [
       "'Dm'"
      ]
     },
     "execution_count": 17,
     "metadata": {},
     "output_type": "execute_result"
    }
   ],
   "source": [
    "chords_sel[0].text"
   ]
  },
  {
   "cell_type": "code",
   "execution_count": 18,
   "metadata": {},
   "outputs": [],
   "source": [
    "html = browser.page_source\n",
    "soup = BeautifulSoup(html, 'html.parser')"
   ]
  },
  {
   "cell_type": "code",
   "execution_count": 19,
   "metadata": {},
   "outputs": [
    {
     "data": {
      "text/plain": [
       "<pre class=\"_1YgOS\" style='font-size: 13px; font-family: \"Roboto Mono\", monospace;'>Capo on 4th Fret\n",
       "\n",
       "<span class=\"_3L0Da _3f5kI\" style=\"color: rgb(0, 0, 0);\">Dm</span>                 <span class=\"_3L0Da _3f5kI\" style=\"color: rgb(0, 0, 0);\">C</span>                      <span class=\"_3L0Da _3f5kI\" style=\"color: rgb(0, 0, 0);\">Dm</span>   <span class=\"_3L0Da _3f5kI\" style=\"color: rgb(0, 0, 0);\">C</span>         <span class=\"_3L0Da _3f5kI\" style=\"color: rgb(0, 0, 0);\">Dm</span>\n",
       "As I went out one morning, to breathe the air around Tom Paine's\n",
       "    <span class=\"_3L0Da _3f5kI\" style=\"color: rgb(0, 0, 0);\">Dm</span>               <span class=\"_3L0Da _3f5kI\" style=\"color: rgb(0, 0, 0);\">C</span>            <span class=\"_3L0Da _3f5kI\" style=\"color: rgb(0, 0, 0);\">Dm</span>      <span class=\"_3L0Da _3f5kI\" style=\"color: rgb(0, 0, 0);\">C</span>       <span class=\"_3L0Da _3f5kI\" style=\"color: rgb(0, 0, 0);\">Dm</span>\n",
       "I spied the fairest damsel, that ever did walk in chains\n",
       "    <span class=\"_3L0Da _3f5kI\" style=\"color: rgb(0, 0, 0);\">F</span>              <span class=\"_3L0Da _3f5kI\" style=\"color: rgb(0, 0, 0);\">Am</span>       <span class=\"_3L0Da _3f5kI\" style=\"color: rgb(0, 0, 0);\">Dm</span>    <span class=\"_3L0Da _3f5kI\" style=\"color: rgb(0, 0, 0);\">C</span>       <span class=\"_3L0Da _3f5kI\" style=\"color: rgb(0, 0, 0);\">Dm</span>\n",
       "I offer'd her my hand, she took me by the arm\n",
       "    <span class=\"_3L0Da _3f5kI\" style=\"color: rgb(0, 0, 0);\">Dm</span>            <span class=\"_3L0Da _3f5kI\" style=\"color: rgb(0, 0, 0);\">C</span>            <span class=\"_3L0Da _3f5kI\" style=\"color: rgb(0, 0, 0);\">Dm</span>      <span class=\"_3L0Da _3f5kI\" style=\"color: rgb(0, 0, 0);\">C</span>    <span class=\"_3L0Da _3f5kI\" style=\"color: rgb(0, 0, 0);\">Dm</span>\n",
       "I knew that very instant, she meant to do me harm\n",
       "\n",
       "\n",
       "<span class=\"_3L0Da _3f5kI\" style=\"color: rgb(0, 0, 0);\">Dm</span>                 <span class=\"_3L0Da _3f5kI\" style=\"color: rgb(0, 0, 0);\">C</span>             <span class=\"_3L0Da _3f5kI\" style=\"color: rgb(0, 0, 0);\">Dm</span>       <span class=\"_3L0Da _3f5kI\" style=\"color: rgb(0, 0, 0);\">C</span>     <span class=\"_3L0Da _3f5kI\" style=\"color: rgb(0, 0, 0);\">Dm</span>\n",
       "Depart from me this moment, I told her with my voice\n",
       " <span class=\"_3L0Da _3f5kI\" style=\"color: rgb(0, 0, 0);\">Dm</span>                       <span class=\"_3L0Da _3f5kI\" style=\"color: rgb(0, 0, 0);\">C</span>       <span class=\"_3L0Da _3f5kI\" style=\"color: rgb(0, 0, 0);\">Dm</span>            <span class=\"_3L0Da _3f5kI\" style=\"color: rgb(0, 0, 0);\">C</span>        <span class=\"_3L0Da _3f5kI\" style=\"color: rgb(0, 0, 0);\">Dm</span>\n",
       "Said she, \"But I don't wish to, said I, but you have no choice\n",
       "<span class=\"_3L0Da _3f5kI\" style=\"color: rgb(0, 0, 0);\">F</span>                 <span class=\"_3L0Da _3f5kI\" style=\"color: rgb(0, 0, 0);\">Am</span>         <span class=\"_3L0Da _3f5kI\" style=\"color: rgb(0, 0, 0);\">Dm</span>                <span class=\"_3L0Da _3f5kI\" style=\"color: rgb(0, 0, 0);\">C</span>       <span class=\"_3L0Da _3f5kI\" style=\"color: rgb(0, 0, 0);\">Dm</span>\n",
       "I beg you, sir, she pleaded, from the corners of her mouth\n",
       "<span class=\"_3L0Da _3f5kI\" style=\"color: rgb(0, 0, 0);\">Dm</span>                <span class=\"_3L0Da _3f5kI\" style=\"color: rgb(0, 0, 0);\">C</span>               <span class=\"_3L0Da _3f5kI\" style=\"color: rgb(0, 0, 0);\">Dm</span>        <span class=\"_3L0Da _3f5kI\" style=\"color: rgb(0, 0, 0);\">C</span>         <span class=\"_3L0Da _3f5kI\" style=\"color: rgb(0, 0, 0);\">Dm</span>\n",
       "I will secretly accept you, and together we'll fly south\n",
       "\n",
       "\n",
       "<span class=\"_3L0Da _3f5kI\" style=\"color: rgb(0, 0, 0);\">Dm</span>                     <span class=\"_3L0Da _3f5kI\" style=\"color: rgb(0, 0, 0);\">C</span>               <span class=\"_3L0Da _3f5kI\" style=\"color: rgb(0, 0, 0);\">Dm</span>        <span class=\"_3L0Da _3f5kI\" style=\"color: rgb(0, 0, 0);\">C</span>         <span class=\"_3L0Da _3f5kI\" style=\"color: rgb(0, 0, 0);\">Dm</span>\n",
       "Just then Tom Paine, himself, came running from across the field\n",
       "<span class=\"_3L0Da _3f5kI\" style=\"color: rgb(0, 0, 0);\">Dm</span>               <span class=\"_3L0Da _3f5kI\" style=\"color: rgb(0, 0, 0);\">C</span>                     <span class=\"_3L0Da _3f5kI\" style=\"color: rgb(0, 0, 0);\">Dm</span>      <span class=\"_3L0Da _3f5kI\" style=\"color: rgb(0, 0, 0);\">C</span>       <span class=\"_3L0Da _3f5kI\" style=\"color: rgb(0, 0, 0);\">Dm</span>\n",
       "Shouting at this lovely girl, and commanding her to yield\n",
       "<span class=\"_3L0Da _3f5kI\" style=\"color: rgb(0, 0, 0);\">F</span>                         <span class=\"_3L0Da _3f5kI\" style=\"color: rgb(0, 0, 0);\">Am</span>         <span class=\"_3L0Da _3f5kI\" style=\"color: rgb(0, 0, 0);\">Dm</span>    <span class=\"_3L0Da _3f5kI\" style=\"color: rgb(0, 0, 0);\">C</span>       <span class=\"_3L0Da _3f5kI\" style=\"color: rgb(0, 0, 0);\">Dm</span>\n",
       "And as she was letting go her grip, up Tom Paine did run\n",
       "<span class=\"_3L0Da _3f5kI\" style=\"color: rgb(0, 0, 0);\">Dm</span>                   <span class=\"_3L0Da _3f5kI\" style=\"color: rgb(0, 0, 0);\">C</span>            <span class=\"_3L0Da _3f5kI\" style=\"color: rgb(0, 0, 0);\">Dm</span>      <span class=\"_3L0Da _3f5kI\" style=\"color: rgb(0, 0, 0);\">C</span>              <span class=\"_3L0Da _3f5kI\" style=\"color: rgb(0, 0, 0);\">Dm</span>\n",
       "I'm sorry, sir, he said to me, I'm sorry for what she's done\n",
       "\n",
       "\n",
       "\n",
       "</pre>"
      ]
     },
     "execution_count": 19,
     "metadata": {},
     "output_type": "execute_result"
    }
   ],
   "source": [
    "song_body = soup.select_one('pre._1YgOS')\n",
    "song_body"
   ]
  },
  {
   "cell_type": "code",
   "execution_count": 20,
   "metadata": {},
   "outputs": [
    {
     "data": {
      "text/plain": [
       "['<pre class=\"_1YgOS\" style=\\'font-size: 13px; font-family: \"Roboto Mono\", monospace;\\'>Capo on 4th Fret',\n",
       " '',\n",
       " '<span class=\"_3L0Da _3f5kI\" style=\"color: rgb(0, 0, 0);\">Dm</span>                 <span class=\"_3L0Da _3f5kI\" style=\"color: rgb(0, 0, 0);\">C</span>                      <span class=\"_3L0Da _3f5kI\" style=\"color: rgb(0, 0, 0);\">Dm</span>   <span class=\"_3L0Da _3f5kI\" style=\"color: rgb(0, 0, 0);\">C</span>         <span class=\"_3L0Da _3f5kI\" style=\"color: rgb(0, 0, 0);\">Dm</span>',\n",
       " \"As I went out one morning, to breathe the air around Tom Paine's\",\n",
       " '    <span class=\"_3L0Da _3f5kI\" style=\"color: rgb(0, 0, 0);\">Dm</span>               <span class=\"_3L0Da _3f5kI\" style=\"color: rgb(0, 0, 0);\">C</span>            <span class=\"_3L0Da _3f5kI\" style=\"color: rgb(0, 0, 0);\">Dm</span>      <span class=\"_3L0Da _3f5kI\" style=\"color: rgb(0, 0, 0);\">C</span>       <span class=\"_3L0Da _3f5kI\" style=\"color: rgb(0, 0, 0);\">Dm</span>',\n",
       " 'I spied the fairest damsel, that ever did walk in chains',\n",
       " '    <span class=\"_3L0Da _3f5kI\" style=\"color: rgb(0, 0, 0);\">F</span>              <span class=\"_3L0Da _3f5kI\" style=\"color: rgb(0, 0, 0);\">Am</span>       <span class=\"_3L0Da _3f5kI\" style=\"color: rgb(0, 0, 0);\">Dm</span>    <span class=\"_3L0Da _3f5kI\" style=\"color: rgb(0, 0, 0);\">C</span>       <span class=\"_3L0Da _3f5kI\" style=\"color: rgb(0, 0, 0);\">Dm</span>',\n",
       " \"I offer'd her my hand, she took me by the arm\",\n",
       " '    <span class=\"_3L0Da _3f5kI\" style=\"color: rgb(0, 0, 0);\">Dm</span>            <span class=\"_3L0Da _3f5kI\" style=\"color: rgb(0, 0, 0);\">C</span>            <span class=\"_3L0Da _3f5kI\" style=\"color: rgb(0, 0, 0);\">Dm</span>      <span class=\"_3L0Da _3f5kI\" style=\"color: rgb(0, 0, 0);\">C</span>    <span class=\"_3L0Da _3f5kI\" style=\"color: rgb(0, 0, 0);\">Dm</span>',\n",
       " 'I knew that very instant, she meant to do me harm',\n",
       " '',\n",
       " '',\n",
       " '<span class=\"_3L0Da _3f5kI\" style=\"color: rgb(0, 0, 0);\">Dm</span>                 <span class=\"_3L0Da _3f5kI\" style=\"color: rgb(0, 0, 0);\">C</span>             <span class=\"_3L0Da _3f5kI\" style=\"color: rgb(0, 0, 0);\">Dm</span>       <span class=\"_3L0Da _3f5kI\" style=\"color: rgb(0, 0, 0);\">C</span>     <span class=\"_3L0Da _3f5kI\" style=\"color: rgb(0, 0, 0);\">Dm</span>',\n",
       " 'Depart from me this moment, I told her with my voice',\n",
       " ' <span class=\"_3L0Da _3f5kI\" style=\"color: rgb(0, 0, 0);\">Dm</span>                       <span class=\"_3L0Da _3f5kI\" style=\"color: rgb(0, 0, 0);\">C</span>       <span class=\"_3L0Da _3f5kI\" style=\"color: rgb(0, 0, 0);\">Dm</span>            <span class=\"_3L0Da _3f5kI\" style=\"color: rgb(0, 0, 0);\">C</span>        <span class=\"_3L0Da _3f5kI\" style=\"color: rgb(0, 0, 0);\">Dm</span>',\n",
       " 'Said she, \"But I don\\'t wish to, said I, but you have no choice',\n",
       " '<span class=\"_3L0Da _3f5kI\" style=\"color: rgb(0, 0, 0);\">F</span>                 <span class=\"_3L0Da _3f5kI\" style=\"color: rgb(0, 0, 0);\">Am</span>         <span class=\"_3L0Da _3f5kI\" style=\"color: rgb(0, 0, 0);\">Dm</span>                <span class=\"_3L0Da _3f5kI\" style=\"color: rgb(0, 0, 0);\">C</span>       <span class=\"_3L0Da _3f5kI\" style=\"color: rgb(0, 0, 0);\">Dm</span>',\n",
       " 'I beg you, sir, she pleaded, from the corners of her mouth',\n",
       " '<span class=\"_3L0Da _3f5kI\" style=\"color: rgb(0, 0, 0);\">Dm</span>                <span class=\"_3L0Da _3f5kI\" style=\"color: rgb(0, 0, 0);\">C</span>               <span class=\"_3L0Da _3f5kI\" style=\"color: rgb(0, 0, 0);\">Dm</span>        <span class=\"_3L0Da _3f5kI\" style=\"color: rgb(0, 0, 0);\">C</span>         <span class=\"_3L0Da _3f5kI\" style=\"color: rgb(0, 0, 0);\">Dm</span>',\n",
       " \"I will secretly accept you, and together we'll fly south\",\n",
       " '',\n",
       " '',\n",
       " '<span class=\"_3L0Da _3f5kI\" style=\"color: rgb(0, 0, 0);\">Dm</span>                     <span class=\"_3L0Da _3f5kI\" style=\"color: rgb(0, 0, 0);\">C</span>               <span class=\"_3L0Da _3f5kI\" style=\"color: rgb(0, 0, 0);\">Dm</span>        <span class=\"_3L0Da _3f5kI\" style=\"color: rgb(0, 0, 0);\">C</span>         <span class=\"_3L0Da _3f5kI\" style=\"color: rgb(0, 0, 0);\">Dm</span>',\n",
       " 'Just then Tom Paine, himself, came running from across the field',\n",
       " '<span class=\"_3L0Da _3f5kI\" style=\"color: rgb(0, 0, 0);\">Dm</span>               <span class=\"_3L0Da _3f5kI\" style=\"color: rgb(0, 0, 0);\">C</span>                     <span class=\"_3L0Da _3f5kI\" style=\"color: rgb(0, 0, 0);\">Dm</span>      <span class=\"_3L0Da _3f5kI\" style=\"color: rgb(0, 0, 0);\">C</span>       <span class=\"_3L0Da _3f5kI\" style=\"color: rgb(0, 0, 0);\">Dm</span>',\n",
       " 'Shouting at this lovely girl, and commanding her to yield',\n",
       " '<span class=\"_3L0Da _3f5kI\" style=\"color: rgb(0, 0, 0);\">F</span>                         <span class=\"_3L0Da _3f5kI\" style=\"color: rgb(0, 0, 0);\">Am</span>         <span class=\"_3L0Da _3f5kI\" style=\"color: rgb(0, 0, 0);\">Dm</span>    <span class=\"_3L0Da _3f5kI\" style=\"color: rgb(0, 0, 0);\">C</span>       <span class=\"_3L0Da _3f5kI\" style=\"color: rgb(0, 0, 0);\">Dm</span>',\n",
       " 'And as she was letting go her grip, up Tom Paine did run',\n",
       " '<span class=\"_3L0Da _3f5kI\" style=\"color: rgb(0, 0, 0);\">Dm</span>                   <span class=\"_3L0Da _3f5kI\" style=\"color: rgb(0, 0, 0);\">C</span>            <span class=\"_3L0Da _3f5kI\" style=\"color: rgb(0, 0, 0);\">Dm</span>      <span class=\"_3L0Da _3f5kI\" style=\"color: rgb(0, 0, 0);\">C</span>              <span class=\"_3L0Da _3f5kI\" style=\"color: rgb(0, 0, 0);\">Dm</span>',\n",
       " \"I'm sorry, sir, he said to me, I'm sorry for what she's done\",\n",
       " '',\n",
       " '',\n",
       " '',\n",
       " '</pre>']"
      ]
     },
     "execution_count": 20,
     "metadata": {},
     "output_type": "execute_result"
    }
   ],
   "source": [
    "lines = str(song_body).split('\\n')\n",
    "lines"
   ]
  },
  {
   "cell_type": "code",
   "execution_count": 21,
   "metadata": {},
   "outputs": [],
   "source": [
    "def strip_html(text):\n",
    "    result = []\n",
    "    in_tag = False\n",
    "    for char in text:\n",
    "        if char == '<':\n",
    "            in_tag = True\n",
    "        if not in_tag:\n",
    "            result.append(char)\n",
    "        if char == '>':\n",
    "            in_tag = False\n",
    "    return ''.join(result)"
   ]
  },
  {
   "cell_type": "code",
   "execution_count": 27,
   "metadata": {},
   "outputs": [],
   "source": [
    "def parse_lines(lines):\n",
    "    parsed_lines = []\n",
    "    for line in lines: \n",
    "        if '_3L0Da' in line:\n",
    "            parsed_lines.append({'chords': strip_html(line)})\n",
    "        elif line and strip_html(line) == line:\n",
    "            parsed_lines[-1]['words'] = line\n",
    "    return parsed_lines "
   ]
  },
  {
   "cell_type": "code",
   "execution_count": 32,
   "metadata": {},
   "outputs": [
    {
     "data": {
      "text/plain": [
       "[{'chords': 'Dm                 C                      Dm   C         Dm',\n",
       "  'words': \"As I went out one morning, to breathe the air around Tom Paine's\"},\n",
       " {'chords': '    Dm               C            Dm      C       Dm',\n",
       "  'words': 'I spied the fairest damsel, that ever did walk in chains'},\n",
       " {'chords': '    F              Am       Dm    C       Dm',\n",
       "  'words': \"I offer'd her my hand, she took me by the arm\"},\n",
       " {'chords': '    Dm            C            Dm      C    Dm',\n",
       "  'words': 'I knew that very instant, she meant to do me harm'},\n",
       " {'chords': 'Dm                 C             Dm       C     Dm',\n",
       "  'words': 'Depart from me this moment, I told her with my voice'},\n",
       " {'chords': ' Dm                       C       Dm            C        Dm',\n",
       "  'words': 'Said she, \"But I don\\'t wish to, said I, but you have no choice'},\n",
       " {'chords': 'F                 Am         Dm                C       Dm',\n",
       "  'words': 'I beg you, sir, she pleaded, from the corners of her mouth'},\n",
       " {'chords': 'Dm                C               Dm        C         Dm',\n",
       "  'words': \"I will secretly accept you, and together we'll fly south\"},\n",
       " {'chords': 'Dm                     C               Dm        C         Dm',\n",
       "  'words': 'Just then Tom Paine, himself, came running from across the field'},\n",
       " {'chords': 'Dm               C                     Dm      C       Dm',\n",
       "  'words': 'Shouting at this lovely girl, and commanding her to yield'},\n",
       " {'chords': 'F                         Am         Dm    C       Dm',\n",
       "  'words': 'And as she was letting go her grip, up Tom Paine did run'},\n",
       " {'chords': 'Dm                   C            Dm      C              Dm',\n",
       "  'words': \"I'm sorry, sir, he said to me, I'm sorry for what she's done\"}]"
      ]
     },
     "execution_count": 32,
     "metadata": {},
     "output_type": "execute_result"
    }
   ],
   "source": [
    "parsed_lines = parse_lines(lines)\n",
    "parsed_lines"
   ]
  },
  {
   "cell_type": "code",
   "execution_count": 33,
   "metadata": {},
   "outputs": [
    {
     "data": {
      "text/plain": [
       "{'chords': 'Dm                 C                      Dm   C         Dm',\n",
       " 'words': \"As I went out one morning, to breathe the air around Tom Paine's\"}"
      ]
     },
     "execution_count": 33,
     "metadata": {},
     "output_type": "execute_result"
    }
   ],
   "source": [
    "first_line = parsed_lines[0]\n",
    "first_line"
   ]
  },
  {
   "cell_type": "code",
   "execution_count": 34,
   "metadata": {},
   "outputs": [
    {
     "data": {
      "text/plain": [
       "'Dm                 C                      Dm   C         Dm'"
      ]
     },
     "execution_count": 34,
     "metadata": {},
     "output_type": "execute_result"
    }
   ],
   "source": [
    "parsed_lines[0]['chords']"
   ]
  },
  {
   "cell_type": "code",
   "execution_count": 35,
   "metadata": {},
   "outputs": [
    {
     "data": {
      "text/plain": [
       "'o'"
      ]
     },
     "execution_count": 35,
     "metadata": {},
     "output_type": "execute_result"
    }
   ],
   "source": [
    "parsed_lines[0]['words'][19]"
   ]
  },
  {
   "cell_type": "code",
   "execution_count": 36,
   "metadata": {},
   "outputs": [],
   "source": [
    "c = parsed_lines[0]['chords']\n",
    "for i, chord in enumerate(c):\n",
    "    if c[i] != c[-1]:\n",
    "        if c[i+1] == ' ':\n",
    "            chord = chord\n",
    "        else:\n",
    "            chord = c[i] + c[i+1] "
   ]
  },
  {
   "cell_type": "code",
   "execution_count": 37,
   "metadata": {},
   "outputs": [
    {
     "data": {
      "text/plain": [
       "'Dm                 C                      Dm   C         Dm'"
      ]
     },
     "execution_count": 37,
     "metadata": {},
     "output_type": "execute_result"
    }
   ],
   "source": [
    "parsed_lines[0]['chords']"
   ]
  },
  {
   "cell_type": "code",
   "execution_count": 38,
   "metadata": {},
   "outputs": [
    {
     "data": {
      "text/plain": [
       "{'chords': 'Dm                 C                      Dm   C         Dm',\n",
       " 'words': \"As I went out one morning, to breathe the air around Tom Paine's\"}"
      ]
     },
     "execution_count": 38,
     "metadata": {},
     "output_type": "execute_result"
    }
   ],
   "source": [
    "parsed_lines[0]"
   ]
  },
  {
   "cell_type": "code",
   "execution_count": 119,
   "metadata": {},
   "outputs": [],
   "source": [
    "# chord_lyric_dict = {}\n",
    "\n",
    "# def get_chords(pl):\n",
    "#     chord_idxs = []\n",
    "#     chords = []\n",
    "#     for i, chord in enumerate(pl['chords']):\n",
    "#         if pl['chords'][i] != pl[-1]:\n",
    "#             if c[i+1] == ' ':\n",
    "#                 chord = chord\n",
    "#             else:\n",
    "#                 chord = c[i] + c[i+1] \n",
    "#         chord_idxs.append(i)\n",
    "#         chords.append(chord)\n",
    "#     return chord_idxs, chords \n",
    "\n",
    "# def main()\n",
    "\n",
    "def get_chords(parsed_line):\n",
    "    chord_idxs = []\n",
    "    chords = []\n",
    "    c_string = parsed_line['chords']\n",
    "    for chord in re.finditer('\\w+', c_string):\n",
    "        chord_idxs.append(chord.start())\n",
    "        chords.append(chord.group())\n",
    "    chord_tups = list(zip(chord_idxs, chords))\n",
    "    return chord_idxs, chords, chord_tups\n",
    "\n",
    "def get_words(parsed_line):\n",
    "    word_idxs = []\n",
    "    words = []\n",
    "    w_string = parsed_line['words']\n",
    "    for word in re.finditer('\\w+', w_string):\n",
    "        word_idxs.append(word.start())\n",
    "        words.append(word.group())\n",
    "    word_tups = list(zip(word_idxs, words))\n",
    "    return word_idxs, words, word_tups\n",
    "\n",
    "def match_chords_words(parsed_line):\n",
    "    gw = get_words(parsed_line)[2]\n",
    "    gc = get_chords(parsed_line)[2]\n",
    "    word_idxs = get_words(parsed_line)[0]\n",
    "    words = parsed_line['words']\n",
    "    ch_words = []\n",
    "    for (i, w) in gw:\n",
    "        for (j, c) in gc: \n",
    "            if i == j: \n",
    "                ch_words.append((w, c))\n",
    "            elif i in range(j-12,j+3):\n",
    "                ch_words.append((c, words[i: i+5]))\n",
    "\n",
    "#                 lyrics.append(w)\n",
    "#                 ch_words.append((c, lyrics))\n",
    "#                     if j-12 in word_idxs:\n",
    "#                         ch_words.append((c, words[j-12: j+4]))\n",
    "\n",
    "    return ch_words"
   ]
  },
  {
   "cell_type": "code",
   "execution_count": 120,
   "metadata": {},
   "outputs": [
    {
     "data": {
      "text/plain": [
       "[('As', 'Dm'),\n",
       " ('C', 'out o'),\n",
       " ('C', 'one m'),\n",
       " ('C', 'morni'),\n",
       " ('Dm', 'breat'),\n",
       " ('Dm', 'the a'),\n",
       " ('C', 'the a'),\n",
       " ('air', 'Dm'),\n",
       " ('C', 'air a'),\n",
       " ('C', 'aroun'),\n",
       " ('Dm', 'aroun'),\n",
       " ('Dm', 'Tom P'),\n",
       " ('Paine', 'Dm')]"
      ]
     },
     "execution_count": 120,
     "metadata": {},
     "output_type": "execute_result"
    }
   ],
   "source": [
    "match_chords_words(parsed_line)"
   ]
  },
  {
   "cell_type": "code",
   "execution_count": 59,
   "metadata": {},
   "outputs": [
    {
     "data": {
      "text/plain": [
       "['As',\n",
       " 'I',\n",
       " 'went',\n",
       " 'out',\n",
       " 'one',\n",
       " 'morning',\n",
       " 'to',\n",
       " 'breathe',\n",
       " 'the',\n",
       " 'air',\n",
       " 'around',\n",
       " 'Tom',\n",
       " 'Paine',\n",
       " 's']"
      ]
     },
     "execution_count": 59,
     "metadata": {},
     "output_type": "execute_result"
    }
   ],
   "source": [
    "get_words(parsed_line)[]"
   ]
  },
  {
   "cell_type": "code",
   "execution_count": 60,
   "metadata": {},
   "outputs": [
    {
     "data": {
      "text/plain": [
       "[(0, 'Dm'), (19, 'C'), (42, 'Dm'), (47, 'C'), (57, 'Dm')]"
      ]
     },
     "execution_count": 60,
     "metadata": {},
     "output_type": "execute_result"
    }
   ],
   "source": [
    "get_chords(parsed_line)[2]"
   ]
  },
  {
   "cell_type": "code",
   "execution_count": 49,
   "metadata": {},
   "outputs": [
    {
     "data": {
      "text/plain": [
       "([0, 19, 42, 47, 57],\n",
       " ['Dm', 'C', 'Dm', 'C', 'Dm'],\n",
       " [(0, 'Dm'), (19, 'C'), (42, 'Dm'), (47, 'C'), (57, 'Dm')])"
      ]
     },
     "execution_count": 49,
     "metadata": {},
     "output_type": "execute_result"
    }
   ],
   "source": [
    "get_chords(parsed_lines[0])"
   ]
  },
  {
   "cell_type": "code",
   "execution_count": 47,
   "metadata": {},
   "outputs": [
    {
     "data": {
      "text/plain": [
       "([0, 3, 5, 10, 14, 18, 27, 30, 38, 42, 46, 53, 57, 63],\n",
       " ['As',\n",
       "  'I',\n",
       "  'went',\n",
       "  'out',\n",
       "  'one',\n",
       "  'morning',\n",
       "  'to',\n",
       "  'breathe',\n",
       "  'the',\n",
       "  'air',\n",
       "  'around',\n",
       "  'Tom',\n",
       "  'Paine',\n",
       "  's'],\n",
       " [(0, 'As'),\n",
       "  (3, 'I'),\n",
       "  (5, 'went'),\n",
       "  (10, 'out'),\n",
       "  (14, 'one'),\n",
       "  (18, 'morning'),\n",
       "  (27, 'to'),\n",
       "  (30, 'breathe'),\n",
       "  (38, 'the'),\n",
       "  (42, 'air'),\n",
       "  (46, 'around'),\n",
       "  (53, 'Tom'),\n",
       "  (57, 'Paine'),\n",
       "  (63, 's')])"
      ]
     },
     "execution_count": 47,
     "metadata": {},
     "output_type": "execute_result"
    }
   ],
   "source": [
    "get_words(parsed_lines[0])"
   ]
  },
  {
   "cell_type": "code",
   "execution_count": 45,
   "metadata": {},
   "outputs": [
    {
     "data": {
      "text/plain": [
       "{'chords': 'Dm                 C                      Dm   C         Dm',\n",
       " 'words': \"As I went out one morning, to breathe the air around Tom Paine's\"}"
      ]
     },
     "execution_count": 45,
     "metadata": {},
     "output_type": "execute_result"
    }
   ],
   "source": [
    "parsed_line = parsed_lines[0]\n",
    "parsed_line"
   ]
  },
  {
   "cell_type": "code",
   "execution_count": 46,
   "metadata": {},
   "outputs": [
    {
     "data": {
      "text/plain": [
       "[{'chords': 'Dm                 C                      Dm   C         Dm',\n",
       "  'words': \"As I went out one morning, to breathe the air around Tom Paine's\"},\n",
       " {'chords': '    Dm               C            Dm      C       Dm',\n",
       "  'words': 'I spied the fairest damsel, that ever did walk in chains'},\n",
       " {'chords': '    F              Am       Dm    C       Dm',\n",
       "  'words': \"I offer'd her my hand, she took me by the arm\"},\n",
       " {'chords': '    Dm            C            Dm      C    Dm',\n",
       "  'words': 'I knew that very instant, she meant to do me harm'},\n",
       " {'chords': 'Dm                 C             Dm       C     Dm',\n",
       "  'words': 'Depart from me this moment, I told her with my voice'},\n",
       " {'chords': ' Dm                       C       Dm            C        Dm',\n",
       "  'words': 'Said she, \"But I don\\'t wish to, said I, but you have no choice'},\n",
       " {'chords': 'F                 Am         Dm                C       Dm',\n",
       "  'words': 'I beg you, sir, she pleaded, from the corners of her mouth'},\n",
       " {'chords': 'Dm                C               Dm        C         Dm',\n",
       "  'words': \"I will secretly accept you, and together we'll fly south\"},\n",
       " {'chords': 'Dm                     C               Dm        C         Dm',\n",
       "  'words': 'Just then Tom Paine, himself, came running from across the field'},\n",
       " {'chords': 'Dm               C                     Dm      C       Dm',\n",
       "  'words': 'Shouting at this lovely girl, and commanding her to yield'},\n",
       " {'chords': 'F                         Am         Dm    C       Dm',\n",
       "  'words': 'And as she was letting go her grip, up Tom Paine did run'},\n",
       " {'chords': 'Dm                   C            Dm      C              Dm',\n",
       "  'words': \"I'm sorry, sir, he said to me, I'm sorry for what she's done\"}]"
      ]
     },
     "execution_count": 46,
     "metadata": {},
     "output_type": "execute_result"
    }
   ],
   "source": [
    "parsed_lines"
   ]
  },
  {
   "cell_type": "code",
   "execution_count": null,
   "metadata": {},
   "outputs": [],
   "source": []
  }
 ],
 "metadata": {
  "kernelspec": {
   "display_name": "Python 3",
   "language": "python",
   "name": "python3"
  },
  "language_info": {
   "codemirror_mode": {
    "name": "ipython",
    "version": 3
   },
   "file_extension": ".py",
   "mimetype": "text/x-python",
   "name": "python",
   "nbconvert_exporter": "python",
   "pygments_lexer": "ipython3",
   "version": "3.6.3"
  }
 },
 "nbformat": 4,
 "nbformat_minor": 2
}
