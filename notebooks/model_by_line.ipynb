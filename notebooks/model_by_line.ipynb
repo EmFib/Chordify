{
 "cells": [
  {
   "cell_type": "code",
   "execution_count": 12,
   "metadata": {
    "collapsed": true
   },
   "outputs": [],
   "source": [
    "# from selenium.webdriver import Chrome\n",
    "from bs4 import BeautifulSoup\n",
    "import pymongo\n",
    "# import datetime\n",
    "# import time\n",
    "import pandas as pd\n",
    "import numpy as np\n",
    "# import re\n",
    "import warnings\n",
    "from sklearn.naive_bayes import BernoulliNB, MultinomialNB\n",
    "from sklearn.feature_extraction.text import TfidfVectorizer, CountVectorizer\n",
    "from sklearn.linear_model import LogisticRegression\n",
    "# from sklearn.model_selection import train_test_split\n",
    "import string\n",
    "%matplotlib inline\n",
    "import matplotlib.pyplot as plt"
   ]
  },
  {
   "cell_type": "code",
   "execution_count": 2,
   "metadata": {
    "collapsed": true
   },
   "outputs": [],
   "source": [
    "mc = pymongo.MongoClient()\n",
    "db = mc['chordify']\n",
    "raw_html = db['raw_html']\n",
    "parsed_songs_db = db[\"parsed_songs\"]"
   ]
  },
  {
   "cell_type": "code",
   "execution_count": 3,
   "metadata": {},
   "outputs": [
    {
     "data": {
      "text/plain": [
       "Collection(Database(MongoClient(host=['localhost:27017'], document_class=dict, tz_aware=False, connect=True), 'chordify'), 'parsed_songs')"
      ]
     },
     "execution_count": 3,
     "metadata": {},
     "output_type": "execute_result"
    }
   ],
   "source": [
    "parsed_songs_db"
   ]
  },
  {
   "cell_type": "code",
   "execution_count": 8,
   "metadata": {
    "collapsed": true
   },
   "outputs": [],
   "source": [
    "html_docs = list(raw_html.find())"
   ]
  },
  {
   "cell_type": "code",
   "execution_count": 215,
   "metadata": {},
   "outputs": [
    {
     "data": {
      "text/plain": [
       "6070"
      ]
     },
     "execution_count": 215,
     "metadata": {},
     "output_type": "execute_result"
    }
   ],
   "source": [
    "raw_html.find().count()"
   ]
  },
  {
   "cell_type": "code",
   "execution_count": 127,
   "metadata": {
    "collapsed": true
   },
   "outputs": [],
   "source": [
    "parsed_songs = list(parsed_songs_db.find())"
   ]
  },
  {
   "cell_type": "code",
   "execution_count": 128,
   "metadata": {
    "collapsed": true
   },
   "outputs": [],
   "source": [
    "def get_lines_from_song(html_doc):\n",
    "    if 'html' in html_doc:\n",
    "        html = html_doc['html']\n",
    "    elif 'song_html' in html_doc:\n",
    "        html = html_doc['song_html']\n",
    "    else:\n",
    "        raise KeyError (f\"Html not found for {html_doc.get('_id')}\")\n",
    "    soup = BeautifulSoup(html, 'html.parser')\n",
    "    song_body = soup.select_one('pre._1YgOS')\n",
    "    song_lines = str(song_body).split('\\n')\n",
    "    return song_lines\n",
    "\n",
    "\n",
    "def strip_html(text):\n",
    "    result = []\n",
    "    in_tag = False\n",
    "    for char in text:\n",
    "        if char == '<':\n",
    "            in_tag = True\n",
    "        if not in_tag:\n",
    "            result.append(char)\n",
    "        if char == '>':\n",
    "            in_tag = False\n",
    "    return ''.join(result)\n",
    "\n",
    "\n",
    "def separate_lines(html_doc):\n",
    "    song_lines = get_lines_from_song(html_doc)\n",
    "    lines = []\n",
    "    for i, song_line in enumerate(song_lines):\n",
    "        if '_3L0Da' in song_line:\n",
    "            lines.append({'chords': strip_html(song_line)})\n",
    "        elif (('_3L0Da' in song_lines[i-1]) and (song_line == song_line) and (strip_html(song_line) == song_line)):\n",
    "            lines[-1]['words'] = song_line\n",
    "    return lines\n",
    "\n",
    "\n",
    "def get_chords(line):\n",
    "    chord_idxs = []\n",
    "    chords = []\n",
    "    c_string = line['chords']\n",
    "    for chord in re.finditer('\\w+', c_string):\n",
    "        chord_idxs.append(chord.start())\n",
    "        chords.append(chord.group())\n",
    "    chord_tups = list(zip(chord_idxs, chords))\n",
    "    return chord_idxs, chords, chord_tups\n",
    "\n",
    "\n",
    "def get_words(line):\n",
    "    word_idxs = []\n",
    "    words = []\n",
    "    if 'words'in line:\n",
    "        w_string = line['words']\n",
    "        for word in re.finditer(r\"\\w[\\w']+\", w_string):\n",
    "            word_idxs.append(word.start())\n",
    "            words.append(word.group())\n",
    "    word_tups = list(zip(word_idxs, words))\n",
    "    return word_idxs, words, word_tups\n",
    "\n",
    "\n",
    "def merge_chord_word(line):\n",
    "    chord_tups = get_chords(line)[2]\n",
    "    word_tups = get_words(line)[2]\n",
    "    word_list = get_words(line)[1]\n",
    "    chord_idx_list = []\n",
    "    for chord_tup in chord_tups:\n",
    "        for i, word_tup in enumerate(word_tups):\n",
    "            if word_tup[0] > chord_tup[0]:\n",
    "                chord_idx_list.append((i-1, chord_tup[1]))\n",
    "                break\n",
    "    return (chord_idx_list, word_list)\n",
    "\n",
    "\n",
    "def combine_ch_wd_lists(merged_line_1, merged_line_2):\n",
    "    chord_idx_list_1, word_list_1 = merged_line_1\n",
    "    chord_idx_list_2, word_list_2 = merged_line_2\n",
    "    new_chord_tups = []\n",
    "    for chord_idx_tup in chord_idx_list_2:\n",
    "        new_chord_tups.append( ( ( (chord_idx_tup)[0] + len(word_list_1) ), chord_idx_tup[1] ) )\n",
    "    all_chords_tups = chord_idx_list_1 + new_chord_tups\n",
    "    all_words_list = word_list_1 + word_list_2\n",
    "    return all_chords_tups, all_words_list\n",
    "\n",
    "\n",
    "def parse_lines(lines):\n",
    "    for i, line in enumerate(lines):\n",
    "        if i == 0:\n",
    "            parsed_line = merge_chord_word(line)\n",
    "        else:\n",
    "            parsed_line_next = merge_chord_word(line)\n",
    "            parsed_line = combine_ch_wd_lists(parsed_line, parsed_line_next)\n",
    "    return parsed_line \n",
    "\n",
    "def parse_song(html_doc):\n",
    "    lines = separate_lines(html_doc)\n",
    "    parsed_song = parse_lines(lines)\n",
    "    return parsed_song\n",
    "\n",
    "def parse_many(some_docs):\n",
    "    parsed_songs = []\n",
    "    for some_doc in some_docs:\n",
    "        try:\n",
    "            parsed_song = parse_song(some_doc)\n",
    "            parsed_songs.append(parsed_song)\n",
    "        except KeyError as e:\n",
    "            warnings.warn(e.message)\n",
    "            continue \n",
    "    return parsed_songs "
   ]
  },
  {
   "cell_type": "code",
   "execution_count": 129,
   "metadata": {
    "collapsed": true
   },
   "outputs": [],
   "source": [
    "def get_phrase_for_chord(one_parsed_song):\n",
    "    word_list = one_parsed_song['words']\n",
    "    chord_phrase_tups = []\n",
    "    for chord_set in one_parsed_song['chord_idxs']:\n",
    "        word_idx = chord_set[0]\n",
    "        chord_name = chord_set[1]\n",
    "        phrase = ' '.join(word_list[(word_idx - 8):(word_idx + 3)])\n",
    "        chord_phrase_tups.append((chord_name, phrase))\n",
    "    return chord_phrase_tups\n",
    "\n",
    "\n",
    "def make_phrase_is_minor_list(chord_phrase_tuples):\n",
    "    phrases = []\n",
    "    chords = []\n",
    "    is_minor = []\n",
    "    for chord_phrase_tup in chord_phrase_tuples:\n",
    "        phrases.append(chord_phrase_tup[1])\n",
    "        chords.append(chord_phrase_tup[0])\n",
    "        is_minor.append('m' in chord_phrase_tup[0])\n",
    "    return phrases, chords, is_minor\n",
    "\n",
    "\n",
    "def get_full_phrase_is_minor_list(parsed_songs):\n",
    "    phrases_all = []\n",
    "    chords_all = []\n",
    "    is_minor_all = []\n",
    "    for song in parsed_songs:\n",
    "        chord_phrase_tups = get_phrase_for_chord(song)\n",
    "        phrases, chords, is_minor = make_phrase_is_minor_list(chord_phrase_tups)\n",
    "        phrases_all.extend(phrases)\n",
    "        chords_all.extend(chords)\n",
    "        is_minor_all.extend(is_minor)\n",
    "    return phrases_all, chords_all, is_minor_all\n",
    "\n",
    "def make_phrase_chord_df(phrases_all, chords_all, is_minor_all):\n",
    "    df = pd.DataFrame({\n",
    "        'is_minor': is_minor_all,\n",
    "        'chords': chords_all,\n",
    "        'words': phrases_all\n",
    "    })\n",
    "    return df"
   ]
  },
  {
   "cell_type": "code",
   "execution_count": 130,
   "metadata": {},
   "outputs": [
    {
     "data": {
      "text/plain": [
       "{'_id': ObjectId('5afb47b886b136c399fd8c35'),\n",
       " 'chord_idxs': [[0, 'Dm'],\n",
       "  [5, 'C'],\n",
       "  [9, 'Dm'],\n",
       "  [10, 'C'],\n",
       "  [14, 'Dm'],\n",
       "  [17, 'C'],\n",
       "  [19, 'Dm'],\n",
       "  [21, 'C'],\n",
       "  [25, 'F'],\n",
       "  [28, 'Am'],\n",
       "  [30, 'Dm'],\n",
       "  [31, 'C'],\n",
       "  [36, 'Dm'],\n",
       "  [39, 'C'],\n",
       "  [41, 'Dm'],\n",
       "  [43, 'C'],\n",
       "  [44, 'Dm'],\n",
       "  [46, 'Dm'],\n",
       "  [49, 'C'],\n",
       "  [52, 'Dm'],\n",
       "  [54, 'C'],\n",
       "  [57, 'Dm'],\n",
       "  [62, 'C'],\n",
       "  [64, 'Dm'],\n",
       "  [68, 'C'],\n",
       "  [71, 'F'],\n",
       "  [75, 'Am'],\n",
       "  [77, 'Dm'],\n",
       "  [80, 'C'],\n",
       "  [83, 'Dm'],\n",
       "  [86, 'C'],\n",
       "  [89, 'Dm'],\n",
       "  [90, 'C'],\n",
       "  [93, 'Dm'],\n",
       "  [97, 'C'],\n",
       "  [99, 'Dm'],\n",
       "  [101, 'C'],\n",
       "  [104, 'Dm'],\n",
       "  [107, 'C'],\n",
       "  [110, 'Dm'],\n",
       "  [111, 'C'],\n",
       "  [114, 'F'],\n",
       "  [120, 'Am'],\n",
       "  [122, 'Dm'],\n",
       "  [124, 'C'],\n",
       "  [125, 'Dm'],\n",
       "  [127, 'Dm'],\n",
       "  [131, 'C'],\n",
       "  [134, 'Dm'],\n",
       "  [136, 'C']],\n",
       " 'words': ['As',\n",
       "  'I',\n",
       "  'went',\n",
       "  'out',\n",
       "  'one',\n",
       "  'morning',\n",
       "  'to',\n",
       "  'breathe',\n",
       "  'the',\n",
       "  'air',\n",
       "  'around',\n",
       "  'Tom',\n",
       "  \"Paine's\",\n",
       "  'I',\n",
       "  'spied',\n",
       "  'the',\n",
       "  'fairest',\n",
       "  'damsel',\n",
       "  'that',\n",
       "  'ever',\n",
       "  'did',\n",
       "  'walk',\n",
       "  'in',\n",
       "  'chains',\n",
       "  'I',\n",
       "  \"offer'd\",\n",
       "  'her',\n",
       "  'my',\n",
       "  'hand',\n",
       "  'she',\n",
       "  'took',\n",
       "  'me',\n",
       "  'by',\n",
       "  'the',\n",
       "  'arm',\n",
       "  'I',\n",
       "  'knew',\n",
       "  'that',\n",
       "  'very',\n",
       "  'instant',\n",
       "  'she',\n",
       "  'meant',\n",
       "  'to',\n",
       "  'do',\n",
       "  'me',\n",
       "  'harm',\n",
       "  'Depart',\n",
       "  'from',\n",
       "  'me',\n",
       "  'this',\n",
       "  'moment',\n",
       "  'I',\n",
       "  'told',\n",
       "  'her',\n",
       "  'with',\n",
       "  'my',\n",
       "  'voice',\n",
       "  'Said',\n",
       "  'she',\n",
       "  'But',\n",
       "  'I',\n",
       "  \"don't\",\n",
       "  'wish',\n",
       "  'to',\n",
       "  'said',\n",
       "  'I',\n",
       "  'but',\n",
       "  'you',\n",
       "  'have',\n",
       "  'no',\n",
       "  'choice',\n",
       "  'I',\n",
       "  'beg',\n",
       "  'you',\n",
       "  'sir',\n",
       "  'she',\n",
       "  'pleaded',\n",
       "  'from',\n",
       "  'the',\n",
       "  'corners',\n",
       "  'of',\n",
       "  'her',\n",
       "  'mouth',\n",
       "  'I',\n",
       "  'will',\n",
       "  'secretly',\n",
       "  'accept',\n",
       "  'you',\n",
       "  'and',\n",
       "  'together',\n",
       "  \"we'll\",\n",
       "  'fly',\n",
       "  'south',\n",
       "  'Just',\n",
       "  'then',\n",
       "  'Tom',\n",
       "  'Paine',\n",
       "  'himself',\n",
       "  'came',\n",
       "  'running',\n",
       "  'from',\n",
       "  'across',\n",
       "  'the',\n",
       "  'field',\n",
       "  'Shouting',\n",
       "  'at',\n",
       "  'this',\n",
       "  'lovely',\n",
       "  'girl',\n",
       "  'and',\n",
       "  'commanding',\n",
       "  'her',\n",
       "  'to',\n",
       "  'yield',\n",
       "  'And',\n",
       "  'as',\n",
       "  'she',\n",
       "  'was',\n",
       "  'letting',\n",
       "  'go',\n",
       "  'her',\n",
       "  'grip',\n",
       "  'up',\n",
       "  'Tom',\n",
       "  'Paine',\n",
       "  'did',\n",
       "  'run',\n",
       "  \"I'm\",\n",
       "  'sorry',\n",
       "  'sir',\n",
       "  'he',\n",
       "  'said',\n",
       "  'to',\n",
       "  'me',\n",
       "  \"I'm\",\n",
       "  'sorry',\n",
       "  'for',\n",
       "  'what',\n",
       "  \"she's\",\n",
       "  'done']}"
      ]
     },
     "execution_count": 130,
     "metadata": {},
     "output_type": "execute_result"
    }
   ],
   "source": [
    "one_parsed_song = parsed_songs[3]\n",
    "one_parsed_song"
   ]
  },
  {
   "cell_type": "code",
   "execution_count": 131,
   "metadata": {},
   "outputs": [
    {
     "data": {
      "text/plain": [
       "[('Dm', ''),\n",
       " ('C', ''),\n",
       " ('Dm', 'I went out one morning to breathe the air around Tom'),\n",
       " ('C', \"went out one morning to breathe the air around Tom Paine's\"),\n",
       " ('Dm', \"to breathe the air around Tom Paine's I spied the fairest\"),\n",
       " ('C', \"air around Tom Paine's I spied the fairest damsel that ever\"),\n",
       " ('Dm', \"Tom Paine's I spied the fairest damsel that ever did walk\"),\n",
       " ('C', 'I spied the fairest damsel that ever did walk in chains'),\n",
       " ('F', \"damsel that ever did walk in chains I offer'd her my\"),\n",
       " ('Am', \"did walk in chains I offer'd her my hand she took\"),\n",
       " ('Dm', \"in chains I offer'd her my hand she took me by\"),\n",
       " ('C', \"chains I offer'd her my hand she took me by the\"),\n",
       " ('Dm', 'hand she took me by the arm I knew that very'),\n",
       " ('C', 'me by the arm I knew that very instant she meant'),\n",
       " ('Dm', 'the arm I knew that very instant she meant to do'),\n",
       " ('C', 'I knew that very instant she meant to do me harm'),\n",
       " ('Dm', 'knew that very instant she meant to do me harm Depart'),\n",
       " ('Dm', 'very instant she meant to do me harm Depart from me'),\n",
       " ('C', 'meant to do me harm Depart from me this moment I'),\n",
       " ('Dm', 'me harm Depart from me this moment I told her with'),\n",
       " ('C', 'Depart from me this moment I told her with my voice'),\n",
       " ('Dm', 'this moment I told her with my voice Said she But'),\n",
       " ('C', \"with my voice Said she But I don't wish to said\"),\n",
       " ('Dm', \"voice Said she But I don't wish to said I but\"),\n",
       " ('C', \"I don't wish to said I but you have no choice\"),\n",
       " ('F', 'to said I but you have no choice I beg you'),\n",
       " ('Am', 'you have no choice I beg you sir she pleaded from'),\n",
       " ('Dm', 'no choice I beg you sir she pleaded from the corners'),\n",
       " ('C', 'beg you sir she pleaded from the corners of her mouth'),\n",
       " ('Dm', 'she pleaded from the corners of her mouth I will secretly'),\n",
       " ('C', 'the corners of her mouth I will secretly accept you and'),\n",
       " ('Dm', \"her mouth I will secretly accept you and together we'll fly\"),\n",
       " ('C', \"mouth I will secretly accept you and together we'll fly south\"),\n",
       " ('Dm', \"secretly accept you and together we'll fly south Just then Tom\"),\n",
       " ('C', \"together we'll fly south Just then Tom Paine himself came running\"),\n",
       " ('Dm', 'fly south Just then Tom Paine himself came running from across'),\n",
       " ('C', 'Just then Tom Paine himself came running from across the field'),\n",
       " ('Dm', 'Paine himself came running from across the field Shouting at this'),\n",
       " ('C', 'running from across the field Shouting at this lovely girl and'),\n",
       " ('Dm', 'the field Shouting at this lovely girl and commanding her to'),\n",
       " ('C', 'field Shouting at this lovely girl and commanding her to yield'),\n",
       " ('F', 'this lovely girl and commanding her to yield And as she'),\n",
       " ('Am', 'to yield And as she was letting go her grip up'),\n",
       " ('Dm', 'And as she was letting go her grip up Tom Paine'),\n",
       " ('C', 'she was letting go her grip up Tom Paine did run'),\n",
       " ('Dm', \"was letting go her grip up Tom Paine did run I'm\"),\n",
       " ('Dm', \"go her grip up Tom Paine did run I'm sorry sir\"),\n",
       " ('C', \"Tom Paine did run I'm sorry sir he said to me\"),\n",
       " ('Dm', \"run I'm sorry sir he said to me I'm sorry for\"),\n",
       " ('C', \"sorry sir he said to me I'm sorry for what she's\")]"
      ]
     },
     "execution_count": 131,
     "metadata": {},
     "output_type": "execute_result"
    }
   ],
   "source": [
    "song_with_phrases = get_phrase_for_chord(one_parsed_song)\n",
    "song_with_phrases"
   ]
  },
  {
   "cell_type": "code",
   "execution_count": 132,
   "metadata": {},
   "outputs": [
    {
     "data": {
      "text/plain": [
       "(['',\n",
       "  '',\n",
       "  'I went out one morning to breathe the air around Tom',\n",
       "  \"went out one morning to breathe the air around Tom Paine's\",\n",
       "  \"to breathe the air around Tom Paine's I spied the fairest\",\n",
       "  \"air around Tom Paine's I spied the fairest damsel that ever\",\n",
       "  \"Tom Paine's I spied the fairest damsel that ever did walk\",\n",
       "  'I spied the fairest damsel that ever did walk in chains',\n",
       "  \"damsel that ever did walk in chains I offer'd her my\",\n",
       "  \"did walk in chains I offer'd her my hand she took\",\n",
       "  \"in chains I offer'd her my hand she took me by\",\n",
       "  \"chains I offer'd her my hand she took me by the\",\n",
       "  'hand she took me by the arm I knew that very',\n",
       "  'me by the arm I knew that very instant she meant',\n",
       "  'the arm I knew that very instant she meant to do',\n",
       "  'I knew that very instant she meant to do me harm',\n",
       "  'knew that very instant she meant to do me harm Depart',\n",
       "  'very instant she meant to do me harm Depart from me',\n",
       "  'meant to do me harm Depart from me this moment I',\n",
       "  'me harm Depart from me this moment I told her with',\n",
       "  'Depart from me this moment I told her with my voice',\n",
       "  'this moment I told her with my voice Said she But',\n",
       "  \"with my voice Said she But I don't wish to said\",\n",
       "  \"voice Said she But I don't wish to said I but\",\n",
       "  \"I don't wish to said I but you have no choice\",\n",
       "  'to said I but you have no choice I beg you',\n",
       "  'you have no choice I beg you sir she pleaded from',\n",
       "  'no choice I beg you sir she pleaded from the corners',\n",
       "  'beg you sir she pleaded from the corners of her mouth',\n",
       "  'she pleaded from the corners of her mouth I will secretly',\n",
       "  'the corners of her mouth I will secretly accept you and',\n",
       "  \"her mouth I will secretly accept you and together we'll fly\",\n",
       "  \"mouth I will secretly accept you and together we'll fly south\",\n",
       "  \"secretly accept you and together we'll fly south Just then Tom\",\n",
       "  \"together we'll fly south Just then Tom Paine himself came running\",\n",
       "  'fly south Just then Tom Paine himself came running from across',\n",
       "  'Just then Tom Paine himself came running from across the field',\n",
       "  'Paine himself came running from across the field Shouting at this',\n",
       "  'running from across the field Shouting at this lovely girl and',\n",
       "  'the field Shouting at this lovely girl and commanding her to',\n",
       "  'field Shouting at this lovely girl and commanding her to yield',\n",
       "  'this lovely girl and commanding her to yield And as she',\n",
       "  'to yield And as she was letting go her grip up',\n",
       "  'And as she was letting go her grip up Tom Paine',\n",
       "  'she was letting go her grip up Tom Paine did run',\n",
       "  \"was letting go her grip up Tom Paine did run I'm\",\n",
       "  \"go her grip up Tom Paine did run I'm sorry sir\",\n",
       "  \"Tom Paine did run I'm sorry sir he said to me\",\n",
       "  \"run I'm sorry sir he said to me I'm sorry for\",\n",
       "  \"sorry sir he said to me I'm sorry for what she's\"],\n",
       " ['Dm',\n",
       "  'C',\n",
       "  'Dm',\n",
       "  'C',\n",
       "  'Dm',\n",
       "  'C',\n",
       "  'Dm',\n",
       "  'C',\n",
       "  'F',\n",
       "  'Am',\n",
       "  'Dm',\n",
       "  'C',\n",
       "  'Dm',\n",
       "  'C',\n",
       "  'Dm',\n",
       "  'C',\n",
       "  'Dm',\n",
       "  'Dm',\n",
       "  'C',\n",
       "  'Dm',\n",
       "  'C',\n",
       "  'Dm',\n",
       "  'C',\n",
       "  'Dm',\n",
       "  'C',\n",
       "  'F',\n",
       "  'Am',\n",
       "  'Dm',\n",
       "  'C',\n",
       "  'Dm',\n",
       "  'C',\n",
       "  'Dm',\n",
       "  'C',\n",
       "  'Dm',\n",
       "  'C',\n",
       "  'Dm',\n",
       "  'C',\n",
       "  'Dm',\n",
       "  'C',\n",
       "  'Dm',\n",
       "  'C',\n",
       "  'F',\n",
       "  'Am',\n",
       "  'Dm',\n",
       "  'C',\n",
       "  'Dm',\n",
       "  'Dm',\n",
       "  'C',\n",
       "  'Dm',\n",
       "  'C'],\n",
       " [True,\n",
       "  False,\n",
       "  True,\n",
       "  False,\n",
       "  True,\n",
       "  False,\n",
       "  True,\n",
       "  False,\n",
       "  False,\n",
       "  True,\n",
       "  True,\n",
       "  False,\n",
       "  True,\n",
       "  False,\n",
       "  True,\n",
       "  False,\n",
       "  True,\n",
       "  True,\n",
       "  False,\n",
       "  True,\n",
       "  False,\n",
       "  True,\n",
       "  False,\n",
       "  True,\n",
       "  False,\n",
       "  False,\n",
       "  True,\n",
       "  True,\n",
       "  False,\n",
       "  True,\n",
       "  False,\n",
       "  True,\n",
       "  False,\n",
       "  True,\n",
       "  False,\n",
       "  True,\n",
       "  False,\n",
       "  True,\n",
       "  False,\n",
       "  True,\n",
       "  False,\n",
       "  False,\n",
       "  True,\n",
       "  True,\n",
       "  False,\n",
       "  True,\n",
       "  True,\n",
       "  False,\n",
       "  True,\n",
       "  False])"
      ]
     },
     "execution_count": 132,
     "metadata": {},
     "output_type": "execute_result"
    }
   ],
   "source": [
    "phrases, chords, is_minor = make_phrase_is_minor_list(song_with_phrases)\n",
    "phrases, chords, is_minor"
   ]
  },
  {
   "cell_type": "code",
   "execution_count": 133,
   "metadata": {},
   "outputs": [],
   "source": [
    "def make_phrase_chord_df(phrases_all, chords_all, is_minor_all):\n",
    "    df = pd.DataFrame({\n",
    "        'is_minor': is_minor_all,\n",
    "        'chords': chords_all,\n",
    "        'words': phrases_all\n",
    "    })\n",
    "    return df"
   ]
  },
  {
   "cell_type": "code",
   "execution_count": 135,
   "metadata": {},
   "outputs": [
    {
     "data": {
      "text/html": [
       "<div>\n",
       "<style scoped>\n",
       "    .dataframe tbody tr th:only-of-type {\n",
       "        vertical-align: middle;\n",
       "    }\n",
       "\n",
       "    .dataframe tbody tr th {\n",
       "        vertical-align: top;\n",
       "    }\n",
       "\n",
       "    .dataframe thead th {\n",
       "        text-align: right;\n",
       "    }\n",
       "</style>\n",
       "<table border=\"1\" class=\"dataframe\">\n",
       "  <thead>\n",
       "    <tr style=\"text-align: right;\">\n",
       "      <th></th>\n",
       "      <th>chords</th>\n",
       "      <th>is_minor</th>\n",
       "      <th>words</th>\n",
       "    </tr>\n",
       "  </thead>\n",
       "  <tbody>\n",
       "    <tr>\n",
       "      <th>0</th>\n",
       "      <td>Dm</td>\n",
       "      <td>True</td>\n",
       "      <td></td>\n",
       "    </tr>\n",
       "    <tr>\n",
       "      <th>1</th>\n",
       "      <td>C</td>\n",
       "      <td>False</td>\n",
       "      <td></td>\n",
       "    </tr>\n",
       "    <tr>\n",
       "      <th>2</th>\n",
       "      <td>Dm</td>\n",
       "      <td>True</td>\n",
       "      <td>I went out one morning to breathe the air arou...</td>\n",
       "    </tr>\n",
       "    <tr>\n",
       "      <th>3</th>\n",
       "      <td>C</td>\n",
       "      <td>False</td>\n",
       "      <td>went out one morning to breathe the air around...</td>\n",
       "    </tr>\n",
       "    <tr>\n",
       "      <th>4</th>\n",
       "      <td>Dm</td>\n",
       "      <td>True</td>\n",
       "      <td>to breathe the air around Tom Paine's I spied ...</td>\n",
       "    </tr>\n",
       "    <tr>\n",
       "      <th>5</th>\n",
       "      <td>C</td>\n",
       "      <td>False</td>\n",
       "      <td>air around Tom Paine's I spied the fairest dam...</td>\n",
       "    </tr>\n",
       "    <tr>\n",
       "      <th>6</th>\n",
       "      <td>Dm</td>\n",
       "      <td>True</td>\n",
       "      <td>Tom Paine's I spied the fairest damsel that ev...</td>\n",
       "    </tr>\n",
       "  </tbody>\n",
       "</table>\n",
       "</div>"
      ],
      "text/plain": [
       "  chords  is_minor                                              words\n",
       "0     Dm      True                                                   \n",
       "1      C     False                                                   \n",
       "2     Dm      True  I went out one morning to breathe the air arou...\n",
       "3      C     False  went out one morning to breathe the air around...\n",
       "4     Dm      True  to breathe the air around Tom Paine's I spied ...\n",
       "5      C     False  air around Tom Paine's I spied the fairest dam...\n",
       "6     Dm      True  Tom Paine's I spied the fairest damsel that ev..."
      ]
     },
     "execution_count": 135,
     "metadata": {},
     "output_type": "execute_result"
    }
   ],
   "source": [
    "sample_df = make_phrase_chord_df(phrases, chords, is_minor)\n",
    "sample_df.head(7)"
   ]
  },
  {
   "cell_type": "code",
   "execution_count": 49,
   "metadata": {},
   "outputs": [
    {
     "data": {
      "text/plain": [
       "[{'chords': 'Dm                 C                      Dm   C         Dm',\n",
       "  'words': \"As I went out one morning, to breathe the air around Tom Paine's\"},\n",
       " {'chords': '    Dm               C            Dm      C       Dm',\n",
       "  'words': 'I spied the fairest damsel, that ever did walk in chains'},\n",
       " {'chords': '    F              Am       Dm    C       Dm',\n",
       "  'words': \"I offer'd her my hand, she took me by the arm\"},\n",
       " {'chords': '    Dm            C            Dm      C    Dm',\n",
       "  'words': 'I knew that very instant, she meant to do me harm'},\n",
       " {'chords': 'Dm                 C             Dm       C     Dm',\n",
       "  'words': 'Depart from me this moment, I told her with my voice'},\n",
       " {'chords': ' Dm                       C       Dm            C        Dm',\n",
       "  'words': 'Said she, \"But I don\\'t wish to, said I, but you have no choice'},\n",
       " {'chords': 'F                 Am         Dm                C       Dm',\n",
       "  'words': 'I beg you, sir, she pleaded, from the corners of her mouth'},\n",
       " {'chords': 'Dm                C               Dm        C         Dm',\n",
       "  'words': \"I will secretly accept you, and together we'll fly south\"},\n",
       " {'chords': 'Dm                     C               Dm        C         Dm',\n",
       "  'words': 'Just then Tom Paine, himself, came running from across the field'},\n",
       " {'chords': 'Dm               C                     Dm      C       Dm',\n",
       "  'words': 'Shouting at this lovely girl, and commanding her to yield'},\n",
       " {'chords': 'F                         Am         Dm    C       Dm',\n",
       "  'words': 'And as she was letting go her grip, up Tom Paine did run'},\n",
       " {'chords': 'Dm                   C            Dm      C              Dm',\n",
       "  'words': \"I'm sorry, sir, he said to me, I'm sorry for what she's done\"}]"
      ]
     },
     "execution_count": 49,
     "metadata": {},
     "output_type": "execute_result"
    }
   ],
   "source": [
    "sep_lines_song"
   ]
  },
  {
   "cell_type": "code",
   "execution_count": 136,
   "metadata": {
    "collapsed": true
   },
   "outputs": [],
   "source": [
    "some_parsed_songs = parsed_songs[:10]"
   ]
  },
  {
   "cell_type": "code",
   "execution_count": 137,
   "metadata": {},
   "outputs": [
    {
     "data": {
      "text/plain": [
       "{'_id': ObjectId('5afb47b886b136c399fd8c3b'),\n",
       " 'chord_idxs': [[1, 'G'],\n",
       "  [6, 'C'],\n",
       "  [10, 'C'],\n",
       "  [18, 'C'],\n",
       "  [27, 'G'],\n",
       "  [31, 'D']],\n",
       " 'words': ['I',\n",
       "  'went',\n",
       "  'to',\n",
       "  'the',\n",
       "  'doctor',\n",
       "  'he',\n",
       "  'says',\n",
       "  \"I'm\",\n",
       "  'alright',\n",
       "  'I',\n",
       "  'knew',\n",
       "  'he',\n",
       "  'was',\n",
       "  \"lyin'\",\n",
       "  \"I'm\",\n",
       "  'losing',\n",
       "  'my',\n",
       "  'sight',\n",
       "  'He',\n",
       "  'should',\n",
       "  'have',\n",
       "  'examined',\n",
       "  'the',\n",
       "  'eyes',\n",
       "  'of',\n",
       "  'my',\n",
       "  'mind',\n",
       "  '20',\n",
       "  '20',\n",
       "  'vision',\n",
       "  'and',\n",
       "  \"walkin'\",\n",
       "  'round',\n",
       "  'blind']}"
      ]
     },
     "execution_count": 137,
     "metadata": {},
     "output_type": "execute_result"
    }
   ],
   "source": [
    "some_parsed_songs[9]"
   ]
  },
  {
   "cell_type": "code",
   "execution_count": 112,
   "metadata": {},
   "outputs": [
    {
     "data": {
      "text/plain": [
       "'/Users/emilynaftalin/galvanize/dsi/capstone/Guitar-Chord-Generator'"
      ]
     },
     "execution_count": 112,
     "metadata": {},
     "output_type": "execute_result"
    }
   ],
   "source": [
    "pwd"
   ]
  },
  {
   "cell_type": "code",
   "execution_count": 88,
   "metadata": {},
   "outputs": [
    {
     "name": "stdout",
     "output_type": "stream",
     "text": [
      "/Users/emilynaftalin/galvanize/dsi/capstone/Guitar-Chord-Generator\n"
     ]
    }
   ],
   "source": [
    "cd .. "
   ]
  },
  {
   "cell_type": "code",
   "execution_count": 138,
   "metadata": {},
   "outputs": [],
   "source": [
    "%run src/logistic_by_line.py"
   ]
  },
  {
   "cell_type": "code",
   "execution_count": 139,
   "metadata": {},
   "outputs": [
    {
     "data": {
      "text/plain": [
       "0.77036048064085449"
      ]
     },
     "execution_count": 139,
     "metadata": {},
     "output_type": "execute_result"
    }
   ],
   "source": [
    "logistic_score"
   ]
  },
  {
   "cell_type": "code",
   "execution_count": 179,
   "metadata": {
    "collapsed": true
   },
   "outputs": [],
   "source": [
    "import nltk, re, pprint\n",
    "from nltk import word_tokenize"
   ]
  },
  {
   "cell_type": "code",
   "execution_count": 178,
   "metadata": {},
   "outputs": [
    {
     "data": {
      "text/plain": [
       "2281             3 0 2 0 You walk into the room with your\n",
       "2086    fawn I courted her proudly but now she is gone...\n",
       "992     and went barefoot servants too Outside in the ...\n",
       "169     How long must I suffer such abuse Won't you le...\n",
       "2675    know what it is Do you Mister Jones You have many\n",
       "2634                                                     \n",
       "2293    you will say when you get home Be cause someth...\n",
       "374     the good die young Now I just turn around and ...\n",
       "2121     innocence of a lamb she was gentle like a fawn I\n",
       "150     room one time before I finally disappear Every...\n",
       "388     Now I just turn around and he's go one Anybody...\n",
       "680             Its done ground all to molasses M m m m m\n",
       "394     friend Martin Can you tell me where he's gone ...\n",
       "1289      you I don't want to meet your kin Make you spin\n",
       "2517    milk Or else go home Because something is happ...\n",
       "1186    you Simplify you classify you Deny Defy or cru...\n",
       "1169    distance A wild cat did growl Two riders were ...\n",
       "306       love you still I come back to the town from the\n",
       "1017    to the thief There's too much confusion I can'...\n",
       "1436    with four faces Begging god for mercy and weep...\n",
       "1702    where you belong Go get me my pistol babe Honey I\n",
       "1867    please stop crying cause it's tear ing up my m...\n",
       "1394    explode The peaches they were sweet and the mi...\n",
       "1168    Outside in the distance A wild cat did growl T...\n",
       "2173    A magnificent mantelpiece though its heart bei...\n",
       "1997          tear ing up my mind Huh hoo Huh hoo Huh hoo\n",
       "1838    crying Stop crying stop crying Stop crying Sto...\n",
       "1787    crying Stop crying baby please stop crying Sto...\n",
       "590     not for mother not for sister not for brother ...\n",
       "2452    you get home Because something is happening he...\n",
       "                              ...                        \n",
       "1076    While all the women came and went barefoot ser...\n",
       "2142    the young With sensitive instincts she was the...\n",
       "595      on a one way ticket to burn A place reserved for\n",
       "136         I love you still I come back to the town from\n",
       "1999          tear ing up my mind Huh hoo Huh hoo Huh hoo\n",
       "317     wearing a disguise To hide what they've got le...\n",
       "1948    be no doctor babe To see that you're madly in ...\n",
       "1002    a wildcat did growl Two riders were approachin...\n",
       "795     mercy for you once you've lost Now I'm all wor...\n",
       "2418    you comin' around You Should be made to wear e...\n",
       "1065    the hour is getting late All along the watchto...\n",
       "2624    put your eyes in your pocket And your nose on the\n",
       "1651      chains I offer'd her my hand she took me by the\n",
       "2088    gone Gone as the season she's ta ken With sens...\n",
       "1128    I can't get no relief Business men they drink ...\n",
       "915     joker to the thief There's too much confusion ...\n",
       "2717    mean and he screams back You're a cow Give me ...\n",
       "600     that done evil A place of darkness and shame y...\n",
       "1160    The princes kept the view While all the women ...\n",
       "589     Not for father not for mother not for sister n...\n",
       "1605    peach trees they are loaded The limbs are bend...\n",
       "1470       vi o lins The tune goes flat from time to time\n",
       "2023    Bound by her boredom her pride to protect Coun...\n",
       "2905    and for all Beyond the horizon across the divi...\n",
       "1646    damsel that ever did walk in chains I offer'd ...\n",
       "834     blind Heart burnin' still yearnin' Thinkin' bo...\n",
       "1318            for you to feel like me See like me or be\n",
       "1763                           3 3 3 3 3 3 3 3 3 You been\n",
       "2988    guns across the river about to pound you There...\n",
       "241      turn you loose We sat in an empty theatre and we\n",
       "Name: words, Length: 749, dtype: object"
      ]
     },
     "execution_count": 178,
     "metadata": {},
     "output_type": "execute_result"
    }
   ],
   "source": [
    "words_test"
   ]
  },
  {
   "cell_type": "code",
   "execution_count": 172,
   "metadata": {},
   "outputs": [
    {
     "data": {
      "text/plain": [
       "749"
      ]
     },
     "execution_count": 172,
     "metadata": {},
     "output_type": "execute_result"
    }
   ],
   "source": [
    "len(words_test)"
   ]
  },
  {
   "cell_type": "code",
   "execution_count": 188,
   "metadata": {},
   "outputs": [
    {
     "data": {
      "text/plain": [
       "2245"
      ]
     },
     "execution_count": 188,
     "metadata": {},
     "output_type": "execute_result"
    }
   ],
   "source": [
    "len(words_train)"
   ]
  },
  {
   "cell_type": "code",
   "execution_count": 174,
   "metadata": {},
   "outputs": [
    {
     "data": {
      "text/plain": [
       "<749x1380 sparse matrix of type '<class 'numpy.float64'>'\n",
       "\twith 6451 stored elements in Compressed Sparse Row format>"
      ]
     },
     "execution_count": 174,
     "metadata": {},
     "output_type": "execute_result"
    }
   ],
   "source": [
    "test_matrix"
   ]
  },
  {
   "cell_type": "code",
   "execution_count": 171,
   "metadata": {},
   "outputs": [
    {
     "data": {
      "text/plain": [
       "(749, 1380)"
      ]
     },
     "execution_count": 171,
     "metadata": {},
     "output_type": "execute_result"
    }
   ],
   "source": [
    "test_matrix.shape"
   ]
  },
  {
   "cell_type": "code",
   "execution_count": 170,
   "metadata": {},
   "outputs": [
    {
     "name": "stdout",
     "output_type": "stream",
     "text": [
      "  (0, 1375)\t0.305905288139\n",
      "  (0, 1373)\t0.175342859806\n",
      "  (0, 1344)\t0.325739547117\n",
      "  (0, 1286)\t0.511919092942\n",
      "  (0, 1172)\t0.174375823271\n",
      "  (0, 976)\t0.463725501206\n",
      "  (0, 617)\t0.511919092942\n",
      "  (1, 1027)\t0.25348176941\n",
      "  (1, 921)\t0.378370107467\n",
      "  (1, 818)\t0.250771935113\n",
      "  (1, 618)\t0.160423485516\n",
      "  (1, 560)\t0.237532623784\n",
      "  (1, 512)\t0.588409236892\n",
      "  (1, 412)\t0.369947757428\n",
      "  (1, 250)\t0.369947757428\n",
      "  (1, 172)\t0.166105184544\n",
      "  (2, 1335)\t0.380474394675\n",
      "  (2, 1313)\t0.357246118249\n",
      "  (2, 1216)\t0.315725455852\n",
      "  (2, 1172)\t0.129601604472\n",
      "  (2, 1016)\t0.363068894834\n",
      "  (2, 845)\t0.357246118249\n",
      "  (2, 606)\t0.206875694319\n",
      "  (2, 320)\t0.376594030508\n",
      "  (2, 91)\t0.376594030508\n",
      "  :\t:\n",
      "  (745, 746)\t0.416861551133\n",
      "  (745, 684)\t0.653420990882\n",
      "  (745, 457)\t0.231104147305\n",
      "  (745, 415)\t0.33200018972\n",
      "  (745, 96)\t0.244224684073\n",
      "  (746, 1373)\t0.42310604715\n",
      "  (746, 101)\t0.906080169116\n",
      "  (747, 1373)\t0.129947406496\n",
      "  (747, 1207)\t0.163926031882\n",
      "  (747, 1178)\t0.290907812008\n",
      "  (747, 1172)\t0.129230731236\n",
      "  (747, 968)\t0.359060863826\n",
      "  (747, 902)\t0.453621670199\n",
      "  (747, 665)\t0.486224218022\n",
      "  (747, 10)\t0.387908020128\n",
      "  (747, 6)\t0.365143868574\n",
      "  (748, 1373)\t0.11561854539\n",
      "  (748, 1301)\t0.534872507427\n",
      "  (748, 1243)\t0.316944213408\n",
      "  (748, 991)\t0.393249090826\n",
      "  (748, 707)\t0.353888264015\n",
      "  (748, 606)\t0.183537485392\n",
      "  (748, 365)\t0.403602342519\n",
      "  (748, 43)\t0.140970164225\n",
      "  (748, 41)\t0.322110106753\n"
     ]
    }
   ],
   "source": [
    "print(test_matrix)"
   ]
  },
  {
   "cell_type": "code",
   "execution_count": 165,
   "metadata": {},
   "outputs": [
    {
     "data": {
      "text/plain": [
       "array([False, False, False, False, False, False, False, False, False,\n",
       "       False, False, False, False, False,  True, False, False, False,\n",
       "       False, False, False, False, False, False, False, False, False,\n",
       "       False, False,  True, False, False, False, False, False, False,\n",
       "       False, False, False, False, False, False, False, False,  True,\n",
       "       False, False, False,  True, False, False, False, False, False,\n",
       "       False, False, False,  True,  True, False, False, False,  True,\n",
       "       False, False, False, False, False, False, False, False, False,\n",
       "       False,  True, False, False, False, False, False, False, False,\n",
       "       False, False, False, False, False, False, False, False,  True,\n",
       "       False, False, False, False, False, False, False, False, False,\n",
       "       False, False, False, False, False, False, False, False, False,\n",
       "       False, False, False, False, False, False,  True, False, False,\n",
       "        True, False, False, False, False, False, False, False,  True,\n",
       "       False, False, False, False, False, False, False, False, False,\n",
       "       False, False, False, False,  True, False, False, False, False,\n",
       "       False, False, False, False,  True, False, False, False, False,\n",
       "       False,  True, False, False, False, False, False, False, False,\n",
       "       False, False, False, False,  True, False, False, False, False,\n",
       "       False, False, False, False,  True, False, False, False, False,\n",
       "       False, False, False, False, False, False, False, False, False,\n",
       "       False, False, False, False, False, False, False, False, False,\n",
       "        True, False,  True, False, False, False, False, False, False,\n",
       "       False, False, False, False, False, False, False,  True, False,\n",
       "       False, False, False, False, False, False,  True, False, False,\n",
       "       False, False, False, False,  True, False, False, False, False,\n",
       "       False, False, False, False, False, False, False, False, False,\n",
       "       False, False, False, False, False,  True,  True, False, False,\n",
       "       False, False, False, False, False, False, False, False, False,\n",
       "       False, False, False, False, False, False, False, False, False,\n",
       "       False, False, False, False, False,  True,  True, False, False,\n",
       "       False, False, False, False, False, False, False, False, False,\n",
       "       False, False, False, False, False, False, False, False, False,\n",
       "       False,  True, False, False, False, False, False, False, False,\n",
       "       False, False, False, False, False, False, False, False, False,\n",
       "       False, False, False, False, False, False, False, False, False,\n",
       "       False,  True, False, False, False, False, False, False, False,\n",
       "        True, False, False, False, False, False, False, False, False,\n",
       "       False, False,  True, False, False, False, False, False, False,\n",
       "       False, False,  True,  True, False,  True, False,  True, False,\n",
       "       False, False, False, False, False,  True,  True, False,  True,\n",
       "       False, False, False, False, False, False, False, False, False,\n",
       "       False, False, False, False, False, False, False, False, False,\n",
       "       False, False, False, False, False, False, False, False, False,\n",
       "       False, False, False, False, False, False, False, False, False,\n",
       "       False, False, False, False, False,  True, False, False, False,\n",
       "       False, False, False, False, False, False, False, False, False,\n",
       "       False, False, False,  True, False, False, False, False, False,\n",
       "       False, False, False, False, False, False, False,  True, False,\n",
       "       False, False, False, False, False, False, False, False, False,\n",
       "       False, False, False,  True, False, False, False, False, False,\n",
       "       False, False, False, False, False, False, False, False, False,\n",
       "        True, False, False, False, False, False, False, False, False,\n",
       "       False, False, False, False, False, False, False, False, False,\n",
       "       False, False, False, False, False, False, False, False, False,\n",
       "       False, False, False, False, False, False, False, False, False,\n",
       "       False, False, False,  True,  True,  True, False, False, False,\n",
       "       False, False, False, False, False, False, False, False, False,\n",
       "       False, False, False, False, False, False, False, False, False,\n",
       "       False, False, False, False, False, False, False, False, False,\n",
       "        True, False, False, False, False, False, False, False, False,\n",
       "       False, False, False, False, False, False, False, False, False,\n",
       "       False, False,  True, False, False, False,  True, False, False,\n",
       "       False, False, False,  True, False, False, False, False, False,\n",
       "       False, False, False, False, False, False, False,  True, False,\n",
       "       False, False, False,  True, False, False,  True, False, False,\n",
       "       False, False, False, False,  True, False, False, False, False,\n",
       "       False, False, False, False, False, False, False, False, False,\n",
       "       False, False, False, False, False, False, False, False,  True,\n",
       "       False, False, False, False, False, False, False, False, False,\n",
       "        True, False, False, False, False, False, False, False, False,\n",
       "       False,  True, False, False,  True, False, False,  True, False,\n",
       "       False, False, False, False, False, False, False, False, False,\n",
       "        True, False, False, False, False, False,  True, False, False,\n",
       "        True,  True, False, False, False, False, False, False, False,\n",
       "       False, False, False, False,  True, False, False, False, False,\n",
       "        True, False, False, False, False, False, False, False,  True,\n",
       "       False, False, False,  True, False, False, False, False, False,\n",
       "       False, False, False, False, False,  True, False, False, False,\n",
       "       False, False, False, False, False, False, False, False, False,\n",
       "       False, False, False, False, False, False, False, False, False,\n",
       "       False, False, False, False, False, False, False, False, False,\n",
       "       False, False, False, False, False, False, False, False, False,\n",
       "       False, False], dtype=bool)"
      ]
     },
     "execution_count": 165,
     "metadata": {},
     "output_type": "execute_result"
    }
   ],
   "source": [
    "logistic.predict(test_matrix)"
   ]
  },
  {
   "cell_type": "code",
   "execution_count": 194,
   "metadata": {},
   "outputs": [
    {
     "data": {
      "text/plain": [
       "<5x1380 sparse matrix of type '<class 'numpy.float64'>'\n",
       "\twith 3 stored elements in Compressed Sparse Row format>"
      ]
     },
     "execution_count": 194,
     "metadata": {},
     "output_type": "execute_result"
    }
   ],
   "source": [
    "some_words = 'these are just sample words'\n",
    "\n",
    "tokenizer = tfidf.build_tokenizer()\n",
    "\n",
    "tokens = tokenizer(some_words)\n",
    "\n",
    "sample_words = tfidf.transform(tokenizer('sadness awful set up down'))\n",
    "sample_words"
   ]
  },
  {
   "cell_type": "code",
   "execution_count": 195,
   "metadata": {},
   "outputs": [
    {
     "data": {
      "text/plain": [
       "<Text: these are just sample words...>"
      ]
     },
     "execution_count": 195,
     "metadata": {},
     "output_type": "execute_result"
    }
   ],
   "source": [
    "text = nltk.Text(tokens)\n",
    "text"
   ]
  },
  {
   "cell_type": "code",
   "execution_count": 196,
   "metadata": {},
   "outputs": [
    {
     "data": {
      "text/plain": [
       "<5x1380 sparse matrix of type '<class 'numpy.float64'>'\n",
       "\twith 4 stored elements in Compressed Sparse Row format>"
      ]
     },
     "execution_count": 196,
     "metadata": {},
     "output_type": "execute_result"
    }
   ],
   "source": [
    "text_mat = tfidf.transform(text)\n",
    "text_mat"
   ]
  },
  {
   "cell_type": "code",
   "execution_count": 197,
   "metadata": {},
   "outputs": [
    {
     "data": {
      "text/plain": [
       "array([[ 0.76429898,  0.23570102],\n",
       "       [ 0.76429898,  0.23570102],\n",
       "       [ 0.72391842,  0.27608158],\n",
       "       [ 0.8944079 ,  0.1055921 ],\n",
       "       [ 0.73894388,  0.26105612]])"
      ]
     },
     "execution_count": 197,
     "metadata": {},
     "output_type": "execute_result"
    }
   ],
   "source": [
    "logistic.predict_proba(sample_words)"
   ]
  },
  {
   "cell_type": "code",
   "execution_count": 201,
   "metadata": {},
   "outputs": [],
   "source": [
    "%run src/LogisticLyricAnalyzer.py"
   ]
  },
  {
   "cell_type": "code",
   "execution_count": 213,
   "metadata": {},
   "outputs": [
    {
     "data": {
      "text/plain": [
       "<3x3 sparse matrix of type '<class 'numpy.float64'>'\n",
       "\twith 3 stored elements in Compressed Sparse Row format>"
      ]
     },
     "execution_count": 213,
     "metadata": {},
     "output_type": "execute_result"
    }
   ],
   "source": [
    "tfidf.transform(['list', 'of', 'words'])        "
   ]
  },
  {
   "cell_type": "code",
   "execution_count": 211,
   "metadata": {
    "scrolled": true
   },
   "outputs": [
    {
     "ename": "ValueError",
     "evalue": "X has 3 features per sample; expecting 1380",
     "output_type": "error",
     "traceback": [
      "\u001b[0;31m---------------------------------------------------------------------------\u001b[0m",
      "\u001b[0;31mValueError\u001b[0m                                Traceback (most recent call last)",
      "\u001b[0;32m<ipython-input-211-34023def5125>\u001b[0m in \u001b[0;36m<module>\u001b[0;34m()\u001b[0m\n\u001b[1;32m      1\u001b[0m \u001b[0mlla\u001b[0m \u001b[0;34m=\u001b[0m \u001b[0mLogisticLyricAnalyzer\u001b[0m\u001b[0;34m(\u001b[0m\u001b[0mtfidf\u001b[0m\u001b[0;34m,\u001b[0m \u001b[0mlogistic\u001b[0m\u001b[0;34m)\u001b[0m\u001b[0;34m\u001b[0m\u001b[0m\n\u001b[0;32m----> 2\u001b[0;31m \u001b[0mlla\u001b[0m\u001b[0;34m.\u001b[0m\u001b[0mpredict\u001b[0m\u001b[0;34m(\u001b[0m\u001b[0;34m[\u001b[0m\u001b[0;34m'list'\u001b[0m\u001b[0;34m,\u001b[0m \u001b[0;34m'of'\u001b[0m\u001b[0;34m,\u001b[0m \u001b[0;34m'words'\u001b[0m\u001b[0;34m]\u001b[0m\u001b[0;34m)\u001b[0m\u001b[0;34m\u001b[0m\u001b[0m\n\u001b[0m",
      "\u001b[0;32m~/galvanize/dsi/capstone/Guitar-Chord-Generator/src/LogisticLyricAnalyzer.py\u001b[0m in \u001b[0;36mpredict\u001b[0;34m(self, words)\u001b[0m\n\u001b[1;32m     25\u001b[0m         \u001b[0mX\u001b[0m \u001b[0;34m=\u001b[0m \u001b[0mself\u001b[0m\u001b[0;34m.\u001b[0m\u001b[0mtfidf\u001b[0m\u001b[0;34m.\u001b[0m\u001b[0mtransform\u001b[0m\u001b[0;34m(\u001b[0m\u001b[0mwords\u001b[0m\u001b[0;34m)\u001b[0m\u001b[0;34m\u001b[0m\u001b[0m\n\u001b[1;32m     26\u001b[0m \u001b[0;34m\u001b[0m\u001b[0m\n\u001b[0;32m---> 27\u001b[0;31m         \u001b[0mis_minor_pred\u001b[0m \u001b[0;34m=\u001b[0m \u001b[0mself\u001b[0m\u001b[0;34m.\u001b[0m\u001b[0mlogistic\u001b[0m\u001b[0;34m.\u001b[0m\u001b[0mpredict_proba\u001b[0m\u001b[0;34m(\u001b[0m\u001b[0mX\u001b[0m\u001b[0;34m)\u001b[0m\u001b[0;34m\u001b[0m\u001b[0m\n\u001b[0m\u001b[1;32m     28\u001b[0m \u001b[0;34m\u001b[0m\u001b[0m\n\u001b[1;32m     29\u001b[0m         \u001b[0;32mreturn\u001b[0m \u001b[0mis_minor_pred\u001b[0m\u001b[0;34m\u001b[0m\u001b[0m\n",
      "\u001b[0;32m/anaconda3/lib/python3.6/site-packages/sklearn/linear_model/logistic.py\u001b[0m in \u001b[0;36mpredict_proba\u001b[0;34m(self, X)\u001b[0m\n\u001b[1;32m   1334\u001b[0m         \u001b[0mcalculate_ovr\u001b[0m \u001b[0;34m=\u001b[0m \u001b[0mself\u001b[0m\u001b[0;34m.\u001b[0m\u001b[0mcoef_\u001b[0m\u001b[0;34m.\u001b[0m\u001b[0mshape\u001b[0m\u001b[0;34m[\u001b[0m\u001b[0;36m0\u001b[0m\u001b[0;34m]\u001b[0m \u001b[0;34m==\u001b[0m \u001b[0;36m1\u001b[0m \u001b[0;32mor\u001b[0m \u001b[0mself\u001b[0m\u001b[0;34m.\u001b[0m\u001b[0mmulti_class\u001b[0m \u001b[0;34m==\u001b[0m \u001b[0;34m\"ovr\"\u001b[0m\u001b[0;34m\u001b[0m\u001b[0m\n\u001b[1;32m   1335\u001b[0m         \u001b[0;32mif\u001b[0m \u001b[0mcalculate_ovr\u001b[0m\u001b[0;34m:\u001b[0m\u001b[0;34m\u001b[0m\u001b[0m\n\u001b[0;32m-> 1336\u001b[0;31m             \u001b[0;32mreturn\u001b[0m \u001b[0msuper\u001b[0m\u001b[0;34m(\u001b[0m\u001b[0mLogisticRegression\u001b[0m\u001b[0;34m,\u001b[0m \u001b[0mself\u001b[0m\u001b[0;34m)\u001b[0m\u001b[0;34m.\u001b[0m\u001b[0m_predict_proba_lr\u001b[0m\u001b[0;34m(\u001b[0m\u001b[0mX\u001b[0m\u001b[0;34m)\u001b[0m\u001b[0;34m\u001b[0m\u001b[0m\n\u001b[0m\u001b[1;32m   1337\u001b[0m         \u001b[0;32melse\u001b[0m\u001b[0;34m:\u001b[0m\u001b[0;34m\u001b[0m\u001b[0m\n\u001b[1;32m   1338\u001b[0m             \u001b[0;32mreturn\u001b[0m \u001b[0msoftmax\u001b[0m\u001b[0;34m(\u001b[0m\u001b[0mself\u001b[0m\u001b[0;34m.\u001b[0m\u001b[0mdecision_function\u001b[0m\u001b[0;34m(\u001b[0m\u001b[0mX\u001b[0m\u001b[0;34m)\u001b[0m\u001b[0;34m,\u001b[0m \u001b[0mcopy\u001b[0m\u001b[0;34m=\u001b[0m\u001b[0;32mFalse\u001b[0m\u001b[0;34m)\u001b[0m\u001b[0;34m\u001b[0m\u001b[0m\n",
      "\u001b[0;32m/anaconda3/lib/python3.6/site-packages/sklearn/linear_model/base.py\u001b[0m in \u001b[0;36m_predict_proba_lr\u001b[0;34m(self, X)\u001b[0m\n\u001b[1;32m    336\u001b[0m         \u001b[0mmulticlass\u001b[0m \u001b[0;32mis\u001b[0m \u001b[0mhandled\u001b[0m \u001b[0mby\u001b[0m \u001b[0mnormalizing\u001b[0m \u001b[0mthat\u001b[0m \u001b[0mover\u001b[0m \u001b[0mall\u001b[0m \u001b[0mclasses\u001b[0m\u001b[0;34m.\u001b[0m\u001b[0;34m\u001b[0m\u001b[0m\n\u001b[1;32m    337\u001b[0m         \"\"\"\n\u001b[0;32m--> 338\u001b[0;31m         \u001b[0mprob\u001b[0m \u001b[0;34m=\u001b[0m \u001b[0mself\u001b[0m\u001b[0;34m.\u001b[0m\u001b[0mdecision_function\u001b[0m\u001b[0;34m(\u001b[0m\u001b[0mX\u001b[0m\u001b[0;34m)\u001b[0m\u001b[0;34m\u001b[0m\u001b[0m\n\u001b[0m\u001b[1;32m    339\u001b[0m         \u001b[0mprob\u001b[0m \u001b[0;34m*=\u001b[0m \u001b[0;34m-\u001b[0m\u001b[0;36m1\u001b[0m\u001b[0;34m\u001b[0m\u001b[0m\n\u001b[1;32m    340\u001b[0m         \u001b[0mnp\u001b[0m\u001b[0;34m.\u001b[0m\u001b[0mexp\u001b[0m\u001b[0;34m(\u001b[0m\u001b[0mprob\u001b[0m\u001b[0;34m,\u001b[0m \u001b[0mprob\u001b[0m\u001b[0;34m)\u001b[0m\u001b[0;34m\u001b[0m\u001b[0m\n",
      "\u001b[0;32m/anaconda3/lib/python3.6/site-packages/sklearn/linear_model/base.py\u001b[0m in \u001b[0;36mdecision_function\u001b[0;34m(self, X)\u001b[0m\n\u001b[1;32m    303\u001b[0m         \u001b[0;32mif\u001b[0m \u001b[0mX\u001b[0m\u001b[0;34m.\u001b[0m\u001b[0mshape\u001b[0m\u001b[0;34m[\u001b[0m\u001b[0;36m1\u001b[0m\u001b[0;34m]\u001b[0m \u001b[0;34m!=\u001b[0m \u001b[0mn_features\u001b[0m\u001b[0;34m:\u001b[0m\u001b[0;34m\u001b[0m\u001b[0m\n\u001b[1;32m    304\u001b[0m             raise ValueError(\"X has %d features per sample; expecting %d\"\n\u001b[0;32m--> 305\u001b[0;31m                              % (X.shape[1], n_features))\n\u001b[0m\u001b[1;32m    306\u001b[0m \u001b[0;34m\u001b[0m\u001b[0m\n\u001b[1;32m    307\u001b[0m         scores = safe_sparse_dot(X, self.coef_.T,\n",
      "\u001b[0;31mValueError\u001b[0m: X has 3 features per sample; expecting 1380"
     ]
    }
   ],
   "source": [
    "lla = LogisticLyricAnalyzer(tfidf, logistic)\n",
    "lla.predict(['list', 'of', 'words'])"
   ]
  },
  {
   "cell_type": "code",
   "execution_count": null,
   "metadata": {
    "collapsed": true
   },
   "outputs": [],
   "source": []
  }
 ],
 "metadata": {
  "kernelspec": {
   "display_name": "Python 3",
   "language": "python",
   "name": "python3"
  },
  "language_info": {
   "codemirror_mode": {
    "name": "ipython",
    "version": 3
   },
   "file_extension": ".py",
   "mimetype": "text/x-python",
   "name": "python",
   "nbconvert_exporter": "python",
   "pygments_lexer": "ipython3",
   "version": "3.6.3"
  }
 },
 "nbformat": 4,
 "nbformat_minor": 2
}
