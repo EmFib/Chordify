{
 "cells": [
  {
   "cell_type": "code",
   "execution_count": 14,
   "metadata": {
    "collapsed": true
   },
   "outputs": [],
   "source": [
    "# from selenium.webdriver import Chrome\n",
    "from bs4 import BeautifulSoup\n",
    "import pymongo\n",
    "# import datetime\n",
    "# import time\n",
    "import pandas as pd\n",
    "import numpy as np\n",
    "# import re\n",
    "import warnings\n",
    "from sklearn.naive_bayes import BernoulliNB, MultinomialNB\n",
    "from sklearn.feature_extraction.text import TfidfVectorizer, CountVectorizer\n",
    "from sklearn.linear_model import LogisticRegression\n",
    "from sklearn.model_selection import train_test_split\n",
    "import string\n",
    "%matplotlib inline\n",
    "import matplotlib.pyplot as plt\n",
    "\n",
    "%reload_ext autoreload\n",
    "%autoreload 2"
   ]
  },
  {
   "cell_type": "code",
   "execution_count": 15,
   "metadata": {},
   "outputs": [
    {
     "data": {
      "text/plain": [
       "'/Users/emilynaftalin/galvanize/dsi/capstone/Guitar-Chord-Generator/src'"
      ]
     },
     "execution_count": 15,
     "metadata": {},
     "output_type": "execute_result"
    }
   ],
   "source": [
    "pwd"
   ]
  },
  {
   "cell_type": "code",
   "execution_count": 16,
   "metadata": {},
   "outputs": [
    {
     "name": "stdout",
     "output_type": "stream",
     "text": [
      "[Errno 2] No such file or directory: 'src'\n",
      "/Users/emilynaftalin/galvanize/dsi/capstone/Guitar-Chord-Generator/src\n"
     ]
    }
   ],
   "source": [
    "cd src"
   ]
  },
  {
   "cell_type": "code",
   "execution_count": null,
   "metadata": {},
   "outputs": [],
   "source": [
    "from src import logistic_many_chords"
   ]
  },
  {
   "cell_type": "code",
   "execution_count": null,
   "metadata": {},
   "outputs": [],
   "source": [
    "from src.LogisticChordAnalyzer import LogisticChordAnalyzer"
   ]
  },
  {
   "cell_type": "code",
   "execution_count": 7,
   "metadata": {},
   "outputs": [],
   "source": [
    "import LogisticChordAnalyzer"
   ]
  },
  {
   "cell_type": "code",
   "execution_count": 8,
   "metadata": {},
   "outputs": [
    {
     "name": "stdout",
     "output_type": "stream",
     "text": [
      "Please enter your favorite words: words words words \n",
      "{'A': 0.033198105485354283, 'B': 0.018560527675379093, 'C': 0.16490429709803683, 'D': 0.13773056906830775, 'E': 0.073238354469921482, 'F': 0.083874314953832338, 'G': 0.16912007135434187, 'A7': 0.015020293069571356, 'D7': 0.01193483839699132, 'Em': 0.032141744918906083, 'Am': 0.071315852982861805, 'Bm': 0.085682934214839829, 'Dm': 0.016941599090395828, 'Bb': 0.01159652044361543}\n",
      "words words words : ('G', 0.16912007135434187)\n"
     ]
    }
   ],
   "source": [
    "LogisticChordAnalyzer.main()"
   ]
  },
  {
   "cell_type": "code",
   "execution_count": 9,
   "metadata": {},
   "outputs": [],
   "source": [
    "lca = LogisticChordAnalyzer.LogisticChordAnalyzer()"
   ]
  },
  {
   "cell_type": "code",
   "execution_count": 10,
   "metadata": {},
   "outputs": [
    {
     "ename": "NameError",
     "evalue": "name 'df_train' is not defined",
     "output_type": "error",
     "traceback": [
      "\u001b[0;31m---------------------------------------------------------------------------\u001b[0m",
      "\u001b[0;31mNameError\u001b[0m                                 Traceback (most recent call last)",
      "\u001b[0;32m<ipython-input-10-ad8407abe6ec>\u001b[0m in \u001b[0;36m<module>\u001b[0;34m()\u001b[0m\n\u001b[0;32m----> 1\u001b[0;31m \u001b[0mlca\u001b[0m\u001b[0;34m.\u001b[0m\u001b[0mfit\u001b[0m\u001b[0;34m(\u001b[0m\u001b[0mdf_train\u001b[0m\u001b[0;34m)\u001b[0m\u001b[0;34m\u001b[0m\u001b[0m\n\u001b[0m",
      "\u001b[0;31mNameError\u001b[0m: name 'df_train' is not defined"
     ]
    }
   ],
   "source": [
    "lca.fit(df_train)"
   ]
  },
  {
   "cell_type": "code",
   "execution_count": null,
   "metadata": {
    "collapsed": true
   },
   "outputs": [],
   "source": [
    "from LogisticChordAnalyzer import LogisticChordAnalyzer"
   ]
  },
  {
   "cell_type": "code",
   "execution_count": 17,
   "metadata": {
    "collapsed": true
   },
   "outputs": [],
   "source": [
    "d = {'A': 0.032776368652872721, 'B': 0.018507679768970418, 'C': 0.16304033573788917, 'D': 0.17088614275140571, 'E': 0.068271300314238462, 'F': 0.05981329794299893, 'G': 0.15725503615779954, 'A7': 0.014954818781015044, 'D7': 0.011893734212624523, 'Em': 0.031602797229261223, 'Am': 0.068952747912463558, 'Bm': 0.11367813989110179, 'Dm': 0.016756692703041635, 'Bb': 0.011573145611605811}"
   ]
  },
  {
   "cell_type": "code",
   "execution_count": 61,
   "metadata": {},
   "outputs": [],
   "source": [
    "s = [(k, d[k]) for k in sorted(d, key=d.get, reverse=True)]"
   ]
  },
  {
   "cell_type": "code",
   "execution_count": 62,
   "metadata": {},
   "outputs": [
    {
     "data": {
      "text/plain": [
       "list"
      ]
     },
     "execution_count": 62,
     "metadata": {},
     "output_type": "execute_result"
    }
   ],
   "source": [
    "type(s)"
   ]
  },
  {
   "cell_type": "code",
   "execution_count": 63,
   "metadata": {},
   "outputs": [
    {
     "data": {
      "text/plain": [
       "[('D', 0.1708861427514057),\n",
       " ('C', 0.16304033573788917),\n",
       " ('G', 0.15725503615779954),\n",
       " ('Bm', 0.11367813989110179),\n",
       " ('Am', 0.06895274791246356),\n",
       " ('E', 0.06827130031423846),\n",
       " ('F', 0.05981329794299893),\n",
       " ('A', 0.03277636865287272),\n",
       " ('Em', 0.03160279722926122),\n",
       " ('B', 0.018507679768970418),\n",
       " ('Dm', 0.016756692703041635),\n",
       " ('A7', 0.014954818781015044),\n",
       " ('D7', 0.011893734212624523),\n",
       " ('Bb', 0.011573145611605811)]"
      ]
     },
     "execution_count": 63,
     "metadata": {},
     "output_type": "execute_result"
    }
   ],
   "source": [
    "s"
   ]
  },
  {
   "cell_type": "code",
   "execution_count": null,
   "metadata": {},
   "outputs": [],
   "source": [
    "fig, ax = plt.subplots()\n",
    "\n",
    "x = d.keys()\n",
    "y = d.values()\n",
    "\n",
    "ax.bar(x, y)"
   ]
  },
  {
   "cell_type": "code",
   "execution_count": 23,
   "metadata": {},
   "outputs": [
    {
     "data": {
      "text/plain": [
       "<Container object of 14 artists>"
      ]
     },
     "execution_count": 23,
     "metadata": {},
     "output_type": "execute_result"
    },
    {
     "data": {
      "image/png": "[encoded data removed]",
      "text/plain": [
       "<matplotlib.figure.Figure at 0x1a1c7dbcc0>"
      ]
     },
     "metadata": {},
     "output_type": "display_data"
    }
   ],
   "source": [
    "fig, ax = plt.subplots()\n",
    "\n",
    "x = o.keys()\n",
    "y = o.values()\n",
    "\n",
    "ax.bar(x, y)"
   ]
  },
  {
   "cell_type": "code",
   "execution_count": 12,
   "metadata": {
    "collapsed": true
   },
   "outputs": [],
   "source": [
    "from collections import OrderedDict\n",
    "from operator import itemgetter    "
   ]
  },
  {
   "cell_type": "code",
   "execution_count": 26,
   "metadata": {},
   "outputs": [],
   "source": [
    "o = OrderedDict(sorted(d.items(), key = itemgetter(1), reverse = True))"
   ]
  },
  {
   "cell_type": "code",
   "execution_count": 25,
   "metadata": {},
   "outputs": [
    {
     "data": {
      "text/plain": [
       "OrderedDict([('D', 0.1708861427514057),\n",
       "             ('C', 0.16304033573788917),\n",
       "             ('G', 0.15725503615779954),\n",
       "             ('Bm', 0.11367813989110179),\n",
       "             ('Am', 0.06895274791246356),\n",
       "             ('E', 0.06827130031423846),\n",
       "             ('F', 0.05981329794299893),\n",
       "             ('A', 0.03277636865287272),\n",
       "             ('Em', 0.03160279722926122),\n",
       "             ('B', 0.018507679768970418),\n",
       "             ('Dm', 0.016756692703041635),\n",
       "             ('A7', 0.014954818781015044),\n",
       "             ('D7', 0.011893734212624523),\n",
       "             ('Bb', 0.011573145611605811)])"
      ]
     },
     "execution_count": 25,
     "metadata": {},
     "output_type": "execute_result"
    }
   ],
   "source": [
    "o"
   ]
  },
  {
   "cell_type": "code",
   "execution_count": 55,
   "metadata": {},
   "outputs": [
    {
     "data": {
      "text/plain": [
       "[('D', 0.1708861427514057),\n",
       " ('C', 0.16304033573788917),\n",
       " ('G', 0.15725503615779954),\n",
       " ('Bm', 0.11367813989110179),\n",
       " ('Am', 0.06895274791246356),\n",
       " ('E', 0.06827130031423846),\n",
       " ('F', 0.05981329794299893),\n",
       " ('A', 0.03277636865287272),\n",
       " ('Em', 0.03160279722926122),\n",
       " ('B', 0.018507679768970418),\n",
       " ('Dm', 0.016756692703041635),\n",
       " ('A7', 0.014954818781015044),\n",
       " ('D7', 0.011893734212624523),\n",
       " ('Bb', 0.011573145611605811)]"
      ]
     },
     "execution_count": 55,
     "metadata": {},
     "output_type": "execute_result"
    }
   ],
   "source": [
    "s"
   ]
  },
  {
   "cell_type": "code",
   "execution_count": 64,
   "metadata": {},
   "outputs": [
    {
     "data": {
      "text/plain": [
       "<Container object of 14 artists>"
      ]
     },
     "execution_count": 64,
     "metadata": {},
     "output_type": "execute_result"
    },
    {
     "data": {
      "image/png": "[encoded data removed]",
      "text/plain": [
       "<matplotlib.figure.Figure at 0x1a1c9fe470>"
      ]
     },
     "metadata": {},
     "output_type": "display_data"
    }
   ],
   "source": [
    "fig, ax = plt.subplots()\n",
    "\n",
    "x = [x[0] for x in sorted(s)]\n",
    "y = [x[1] for x in sorted(s)]\n",
    "\n",
    "ax.bar(x, y)\n",
    "\n",
    "# plt.plot(x_val,y_val)\n",
    "# plt.plot(x_val,y_val,'or')\n",
    "# plt.show()"
   ]
  },
  {
   "cell_type": "code",
   "execution_count": null,
   "metadata": {
    "collapsed": true
   },
   "outputs": [],
   "source": []
  }
 ],
 "metadata": {
  "kernelspec": {
   "display_name": "Python 3",
   "language": "python",
   "name": "python3"
  },
  "language_info": {
   "codemirror_mode": {
    "name": "ipython",
    "version": 3
   },
   "file_extension": ".py",
   "mimetype": "text/x-python",
   "name": "python",
   "nbconvert_exporter": "python",
   "pygments_lexer": "ipython3",
   "version": "3.6.3"
  }
 },
 "nbformat": 4,
 "nbformat_minor": 2
}
