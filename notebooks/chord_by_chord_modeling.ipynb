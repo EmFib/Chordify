{
 "cells": [
  {
   "cell_type": "code",
   "execution_count": 1,
   "metadata": {
    "collapsed": true
   },
   "outputs": [],
   "source": [
    "# from selenium.webdriver import Chrome\n",
    "from bs4 import BeautifulSoup\n",
    "import pymongo\n",
    "# import datetime\n",
    "# import time\n",
    "import pandas as pd\n",
    "import numpy as np\n",
    "# import re\n",
    "import warnings\n",
    "from sklearn.naive_bayes import BernoulliNB, MultinomialNB\n",
    "from sklearn.feature_extraction.text import TfidfVectorizer, CountVectorizer\n",
    "from sklearn.linear_model import LogisticRegression\n",
    "from sklearn.model_selection import train_test_split\n",
    "import string\n",
    "%matplotlib inline\n",
    "import matplotlib.pyplot as plt\n",
    "\n",
    "%reload_ext autoreload\n",
    "%autoreload 2"
   ]
  },
  {
   "cell_type": "code",
   "execution_count": 2,
   "metadata": {
    "collapsed": true
   },
   "outputs": [],
   "source": [
    "mc = pymongo.MongoClient()\n",
    "db = mc['chordify']\n",
    "raw_html = db['raw_html']\n",
    "parsed_songs_db = db[\"parsed_songs\"]"
   ]
  },
  {
   "cell_type": "code",
   "execution_count": null,
   "metadata": {
    "collapsed": true
   },
   "outputs": [],
   "source": [
    "html_docs = list(raw_html.find())"
   ]
  },
  {
   "cell_type": "code",
   "execution_count": null,
   "metadata": {
    "collapsed": true
   },
   "outputs": [],
   "source": [
    "raw_html.find().count()"
   ]
  },
  {
   "cell_type": "code",
   "execution_count": null,
   "metadata": {
    "collapsed": true
   },
   "outputs": [],
   "source": [
    "parsed_songs = list(parsed_songs_db.find())"
   ]
  },
  {
   "cell_type": "code",
   "execution_count": null,
   "metadata": {
    "collapsed": true
   },
   "outputs": [],
   "source": [
    "a = parsed_songs[4444]['_id']"
   ]
  },
  {
   "cell_type": "code",
   "execution_count": null,
   "metadata": {
    "collapsed": true
   },
   "outputs": [],
   "source": [
    "str(a)"
   ]
  },
  {
   "cell_type": "code",
   "execution_count": null,
   "metadata": {
    "collapsed": true,
    "scrolled": false
   },
   "outputs": [],
   "source": [
    "parsed_songs[4444]"
   ]
  },
  {
   "cell_type": "code",
   "execution_count": null,
   "metadata": {
    "collapsed": true
   },
   "outputs": [],
   "source": [
    "parsed_songs_db.find().count()"
   ]
  },
  {
   "cell_type": "code",
   "execution_count": null,
   "metadata": {
    "collapsed": true
   },
   "outputs": [],
   "source": [
    "def get_phrase_for_chord(one_parsed_song):\n",
    "\n",
    "    song_id = str(one_parsed_song['_id'])\n",
    "    word_list = one_parsed_song['words']\n",
    "\n",
    "    one_song_chord_phrase_tuples = []\n",
    "\n",
    "    for chord_set in one_parsed_song['chord_idxs']:\n",
    "        word_idx = chord_set[0]\n",
    "        chord_name = chord_set[1]\n",
    "        phrase = ' '.join(word_list[(word_idx - 8):(word_idx + 3)])\n",
    "        one_song_chord_phrase_tuples.append((chord_name, phrase, song_id))\n",
    "\n",
    "    return one_song_chord_phrase_tuples\n",
    "\n",
    "\n",
    "def get_all_phrase_chord_tuples(parsed_songs):\n",
    "\n",
    "    chord_phrase_tuples = []\n",
    "\n",
    "    for song in parsed_songs:\n",
    "        one_song_chord_phrase_tuples = get_phrase_for_chord(song)\n",
    "        chord_phrase_tuples.extend(one_song_chord_phrase_tuples)\n",
    "\n",
    "    return chord_phrase_tuples"
   ]
  },
  {
   "cell_type": "code",
   "execution_count": null,
   "metadata": {
    "collapsed": true
   },
   "outputs": [],
   "source": [
    "pct = get_all_phrase_chord_tuples(parsed_songs[456:459])"
   ]
  },
  {
   "cell_type": "code",
   "execution_count": null,
   "metadata": {
    "collapsed": true
   },
   "outputs": [],
   "source": [
    "pct"
   ]
  },
  {
   "cell_type": "code",
   "execution_count": null,
   "metadata": {
    "collapsed": true
   },
   "outputs": [],
   "source": [
    "def make_phrase_is_minor_list(chord_phrase_tuples):\n",
    "\n",
    "    phrases = []\n",
    "    chords = []\n",
    "    is_minor = []\n",
    "    song_ids = []\n",
    "\n",
    "    for chord_phrase_tup in chord_phrase_tuples:\n",
    "        phrases.append(chord_phrase_tup[1])\n",
    "        chords.append(chord_phrase_tup[0])\n",
    "        is_minor.append('m' in chord_phrase_tup[0])\n",
    "        song_ids.append(chord_phrase_tup[2])\n",
    "\n",
    "    return phrases, chords, is_minor, song_ids\n",
    "\n",
    "good_chords = ['A', 'C', 'D', 'G']\n",
    "\n",
    "def get_list_of_chords(chord_phrase_tuples):\n",
    "    is_A = []\n",
    "    is_C = []\n",
    "    is_D = []\n",
    "    is_G = []\n",
    "    other_chord = []\n",
    "    for tup in chord_phrase_tuples:\n",
    "        is_A.append(tup[0] == 'A')\n",
    "        is_C.append(tup[0] == 'C')\n",
    "        is_D.append(tup[0] == 'D')\n",
    "        is_G.append(tup[0] == 'G')\n",
    "        other_chord.append(tup[0] not in good_chords)\n",
    "    return is_A, is_C, is_D, is_G, other_chord\n",
    "\n",
    "def make_phrase_chord_df(phrases, chords, is_minor, is_A, is_C, is_D, is_G, other_chord):\n",
    "    df = pd.DataFrame({\n",
    "        'chords': chords,\n",
    "        'A': is_A,\n",
    "        'C': is_C,\n",
    "        'D': is_D,\n",
    "        'G': is_G,\n",
    "        'other_chord': other_chord,\n",
    "        'is_minor': is_minor,\n",
    "        'words': phrases\n",
    "    })\n",
    "    return df\n"
   ]
  },
  {
   "cell_type": "code",
   "execution_count": null,
   "metadata": {
    "collapsed": true
   },
   "outputs": [],
   "source": [
    "is_A, is_C, is_D, is_G, other_chord = get_list_of_chords(pct)"
   ]
  },
  {
   "cell_type": "code",
   "execution_count": null,
   "metadata": {
    "collapsed": true
   },
   "outputs": [],
   "source": [
    "phrases, chords, is_minor, song_ids = make_phrase_is_minor_list(pct)"
   ]
  },
  {
   "cell_type": "code",
   "execution_count": null,
   "metadata": {
    "collapsed": true
   },
   "outputs": [],
   "source": [
    "song_ids"
   ]
  },
  {
   "cell_type": "code",
   "execution_count": null,
   "metadata": {
    "collapsed": true
   },
   "outputs": [],
   "source": [
    "make_phrase_chord_df(phrases, chords, is_minor, is_A, is_C, is_D, is_G, other_chord)"
   ]
  },
  {
   "cell_type": "code",
   "execution_count": null,
   "metadata": {
    "collapsed": true
   },
   "outputs": [],
   "source": [
    "def make_phrase_is_minor_list(chord_phrase_tuples):\n",
    "\n",
    "    phrases = []\n",
    "    chords = []\n",
    "    is_minor = []\n",
    "    song_ids = []\n",
    "\n",
    "    for chord_phrase_tup in chord_phrase_tuples:\n",
    "        phrases.append(chord_phrase_tup[1])\n",
    "        chords.append(chord_phrase_tup[0])\n",
    "        is_minor.append('m' in chord_phrase_tup[0])\n",
    "        song_ids.append(chord_phrase_tup[2])\n",
    "\n",
    "    return phrases, chords, is_minor, song_ids\n",
    "\n",
    "\n",
    "good_chords = ['A','B','C','D','E','F','G','G#','A7','D7','Em','Am','Bm','Dm','Bb']\n",
    "\n",
    "def get_list_of_chords(chord_phrase_tuples):\n",
    "    is_A = []\n",
    "    is_B = []\n",
    "    is_C = []\n",
    "    is_D = []\n",
    "    is_E = []\n",
    "    is_F = []\n",
    "    is_G = []\n",
    "    is_A7 = []\n",
    "    is_D7 = []\n",
    "    is_Em = []\n",
    "    is_Am = []\n",
    "    is_Bm = []\n",
    "    is_Dm = []\n",
    "    is_Bb = []\n",
    "    other_chord = []\n",
    "    for tup in chord_phrase_tuples:\n",
    "        is_A.append(tup[0] == 'A')\n",
    "        is_B.append(tup[0] == 'B')\n",
    "        is_C.append(tup[0] == 'C')\n",
    "        is_D.append(tup[0] == 'D')\n",
    "        is_E.append(tup[0] == 'E')\n",
    "        is_F.append(tup[0] == 'F')\n",
    "        is_G.append(tup[0] == 'G' or tup[0] == 'G#')\n",
    "        is_A7.append(tup[0] == 'A7')\n",
    "        is_D7.append(tup[0] == 'D7')\n",
    "        is_Em.append(tup[0] == 'Em')\n",
    "        is_Am.append(tup[0] == 'Am')\n",
    "        is_Bm.append(tup[0] == 'Bm')\n",
    "        is_Dm.append(tup[0] == 'Dm')\n",
    "        is_Bb.append(tup[0] == 'Bb')\n",
    "        other_chord.append(tup[0] not in good_chords)\n",
    "    return is_A, is_B, is_C, is_D, is_E, is_F, is_G, is_A7, is_D7, is_Em, is_Am, is_Bm, is_Bb, is_Dm, other_chord\n",
    "\n",
    "\n",
    "def make_phrase_chord_df(chord_phrase_tuples):\n",
    "\n",
    "    phrases, chords, is_minor, song_ids = make_phrase_is_minor_list(chord_phrase_tuples)\n",
    "\n",
    "    is_A, is_B, is_C, is_D, is_E, is_F, is_G, is_A7, is_D7, is_Em, is_Am, is_Bm, is_Bb, is_Dm, other_chord = get_list_of_chords(chord_phrase_tuples)\n",
    "\n",
    "    df = pd.DataFrame({\n",
    "        'song_id': song_ids,\n",
    "        'chord': chords,\n",
    "        'A': is_A,\n",
    "        'B': is_B,\n",
    "        'C': is_C,\n",
    "        'D': is_D,\n",
    "        'E': is_E,\n",
    "        'F': is_F,\n",
    "        'G': is_G,\n",
    "        'A7': is_A7,\n",
    "        'D7': is_D7,\n",
    "        'Em': is_Em,\n",
    "        'Am': is_Am,\n",
    "        'Bm': is_Bm,\n",
    "        'Dm': is_Dm,\n",
    "        'Bb': is_Bb,\n",
    "        'other_chord': other_chord,\n",
    "        'is_minor': is_minor,\n",
    "        'words': phrases\n",
    "    })\n",
    "\n",
    "    return df"
   ]
  },
  {
   "cell_type": "code",
   "execution_count": null,
   "metadata": {
    "collapsed": true
   },
   "outputs": [],
   "source": [
    "pct_more = get_all_phrase_chord_tuples(parsed_songs[1111:1357])\n",
    "pct_more"
   ]
  },
  {
   "cell_type": "code",
   "execution_count": null,
   "metadata": {
    "collapsed": true
   },
   "outputs": [],
   "source": [
    "df_c = make_phrase_chord_df(pct_more)\n",
    "df_c"
   ]
  },
  {
   "cell_type": "code",
   "execution_count": null,
   "metadata": {
    "collapsed": true
   },
   "outputs": [],
   "source": [
    "df_c['chord'].value_counts()"
   ]
  },
  {
   "cell_type": "code",
   "execution_count": null,
   "metadata": {
    "collapsed": true
   },
   "outputs": [],
   "source": [
    "ids = df_c['song_id']\n",
    "ids"
   ]
  },
  {
   "cell_type": "code",
   "execution_count": null,
   "metadata": {
    "collapsed": true
   },
   "outputs": [],
   "source": [
    "type(set(ids))"
   ]
  },
  {
   "cell_type": "code",
   "execution_count": null,
   "metadata": {
    "collapsed": true
   },
   "outputs": [],
   "source": [
    "tr, te = train_test_split(list(set(ids)))"
   ]
  },
  {
   "cell_type": "code",
   "execution_count": null,
   "metadata": {
    "collapsed": true
   },
   "outputs": [],
   "source": [
    "len(tr)"
   ]
  },
  {
   "cell_type": "code",
   "execution_count": null,
   "metadata": {
    "collapsed": true
   },
   "outputs": [],
   "source": [
    "len(te)"
   ]
  },
  {
   "cell_type": "code",
   "execution_count": null,
   "metadata": {
    "collapsed": true
   },
   "outputs": [],
   "source": [
    "len(set(ids))"
   ]
  },
  {
   "cell_type": "code",
   "execution_count": null,
   "metadata": {
    "collapsed": true
   },
   "outputs": [],
   "source": [
    "len(df_c.song_id)"
   ]
  },
  {
   "cell_type": "code",
   "execution_count": null,
   "metadata": {
    "collapsed": true
   },
   "outputs": [],
   "source": []
  },
  {
   "cell_type": "code",
   "execution_count": null,
   "metadata": {
    "collapsed": true
   },
   "outputs": [],
   "source": [
    "df_train = df_c[df_c.song_id.isin(tr)]"
   ]
  },
  {
   "cell_type": "code",
   "execution_count": null,
   "metadata": {
    "collapsed": true
   },
   "outputs": [],
   "source": [
    "df_test = df_c[df_c.song_id.isin(te)]"
   ]
  },
  {
   "cell_type": "code",
   "execution_count": null,
   "metadata": {
    "collapsed": true
   },
   "outputs": [],
   "source": [
    "df_test.shape"
   ]
  },
  {
   "cell_type": "code",
   "execution_count": null,
   "metadata": {
    "collapsed": true
   },
   "outputs": [],
   "source": [
    "df_c.shape"
   ]
  },
  {
   "cell_type": "code",
   "execution_count": null,
   "metadata": {
    "collapsed": true
   },
   "outputs": [],
   "source": [
    "df_train.shape"
   ]
  },
  {
   "cell_type": "code",
   "execution_count": null,
   "metadata": {
    "collapsed": true
   },
   "outputs": [],
   "source": [
    "df_train['other_chord'].value_counts()"
   ]
  },
  {
   "cell_type": "code",
   "execution_count": null,
   "metadata": {
    "collapsed": true
   },
   "outputs": [],
   "source": [
    "tfidf = TfidfVectorizer()\n",
    "logistic = LogisticRegression()"
   ]
  },
  {
   "cell_type": "code",
   "execution_count": null,
   "metadata": {
    "collapsed": true
   },
   "outputs": [],
   "source": [
    "chord_list = ['A','B','C','D','E','F','G','A7','D7','Em','Am','Bm','Dm','Bb']\n",
    "\n",
    "def find_best_chord(df_train, df_test):\n",
    "    \n",
    "    chord_prob_dict = {}\n",
    "\n",
    "    for chord in chord_list:\n",
    "\n",
    "         logistic = LogisticRegression()\n",
    "        \n",
    "        X_train = df_train['words']\n",
    "        y_train = df_train[chord]\n",
    "        \n",
    "#         X_test = df_test['words']\n",
    "#         y_test = df_test[chord]\n",
    "        \n",
    "        tfidf.fit(X_train)\n",
    "        tr_matrix = tfidf.transform(X_train)\n",
    "        \n",
    "        logistic.fit(tr_matrix, y_train)\n",
    "        \n",
    "        te_matrix = tfidf.transform(X_test)\n",
    "        \n",
    "        y_hat_log = logistic.predict_proba(te_matrix)\n",
    "        is_chord = logistic.predict(te_matrix)\n",
    "\n",
    "        chord_prob_dict[chord] = (y_hat_log[0][1], is_chord)\n",
    "\n",
    "    print(chord_prob_dict)    \n",
    "    best_chord = max(chord_prob_dict.items(), key=lambda k: k[1])\n",
    "\n",
    "    return best_chord \n"
   ]
  },
  {
   "cell_type": "code",
   "execution_count": null,
   "metadata": {
    "collapsed": true
   },
   "outputs": [],
   "source": [
    "find_best_chord(df_train, df_test)"
   ]
  },
  {
   "cell_type": "code",
   "execution_count": null,
   "metadata": {
    "collapsed": true
   },
   "outputs": [],
   "source": [
    "from src.LogisticChordAnalyzer import LogisticChordAnalyzer"
   ]
  },
  {
   "cell_type": "code",
   "execution_count": null,
   "metadata": {
    "collapsed": true
   },
   "outputs": [],
   "source": [
    "lca = LogisticChordAnalyzer(tfidf, logistic)"
   ]
  },
  {
   "cell_type": "code",
   "execution_count": null,
   "metadata": {
    "collapsed": true
   },
   "outputs": [],
   "source": [
    "lca.predict(entry)"
   ]
  },
  {
   "cell_type": "code",
   "execution_count": null,
   "metadata": {
    "collapsed": true
   },
   "outputs": [],
   "source": []
  },
  {
   "cell_type": "code",
   "execution_count": null,
   "metadata": {
    "collapsed": true
   },
   "outputs": [],
   "source": [
    "lmcp = LogisticMinorChordPredictor(tfidf, logistic)"
   ]
  },
  {
   "cell_type": "code",
   "execution_count": null,
   "metadata": {
    "collapsed": true
   },
   "outputs": [],
   "source": [
    "lmcp.predict(entry)"
   ]
  },
  {
   "cell_type": "code",
   "execution_count": null,
   "metadata": {
    "collapsed": true
   },
   "outputs": [],
   "source": [
    "parsed_songs = list(parsed_songs_db.find())[25:75]\n",
    "\n",
    "tfidf = TfidfVectorizer()\n",
    "logistic = LogisticRegression()\n",
    "\n",
    "phrases_all, chords_all, is_minor_all = get_full_phrase_is_minor_list(parsed_songs)\n",
    "\n",
    "df_by_line = make_phrase_chord_df(phrases_all, chords_all, is_minor_all)\n",
    "\n",
    "\n",
    "words_train, words_test, is_minor_train, is_minor_test = train_test_split(df_by_line['words'], df_by_line['is_minor'])"
   ]
  },
  {
   "cell_type": "code",
   "execution_count": null,
   "metadata": {
    "collapsed": true
   },
   "outputs": [],
   "source": [
    "from src.logistic_by_line import get_full_phrase_is_minor_list, make_phrase_chord_df"
   ]
  },
  {
   "cell_type": "code",
   "execution_count": null,
   "metadata": {
    "collapsed": true
   },
   "outputs": [],
   "source": [
    "words_train"
   ]
  },
  {
   "cell_type": "code",
   "execution_count": 8,
   "metadata": {},
   "outputs": [],
   "source": [
    "from src.LogisticChordAnalyzer import LogisticChordAnalyzer"
   ]
  },
  {
   "cell_type": "code",
   "execution_count": null,
   "metadata": {
    "collapsed": true
   },
   "outputs": [],
   "source": [
    "    "
   ]
  },
  {
   "cell_type": "code",
   "execution_count": null,
   "metadata": {
    "collapsed": true
   },
   "outputs": [],
   "source": [
    " "
   ]
  },
  {
   "cell_type": "code",
   "execution_count": null,
   "metadata": {
    "collapsed": true
   },
   "outputs": [],
   "source": [
    "from src import logstic_many_chords"
   ]
  },
  {
   "cell_type": "code",
   "execution_count": null,
   "metadata": {
    "collapsed": true
   },
   "outputs": [],
   "source": [
    "tfidf=logistic_many_chords.tfidf"
   ]
  },
  {
   "cell_type": "code",
   "execution_count": 13,
   "metadata": {
    "collapsed": true
   },
   "outputs": [],
   "source": [
    "chord_list = ['A','B','C','D','E','F','G','A7','D7','Em','Am','Bm','Dm','Bb']\n",
    "chord_model_dict = {}\n",
    "chord_prob_dict = {}\n"
   ]
  },
  {
   "cell_type": "code",
   "execution_count": 14,
   "metadata": {},
   "outputs": [],
   "source": [
    "lca = LogisticChordAnalyzer(TfidfVectorizer, LogisticRegression, chord_list, chord_model_dict, chord_prob_dict)"
   ]
  },
  {
   "cell_type": "code",
   "execution_count": null,
   "metadata": {
    "collapsed": true
   },
   "outputs": [],
   "source": [
    "tfidf"
   ]
  },
  {
   "cell_type": "code",
   "execution_count": 15,
   "metadata": {},
   "outputs": [
    {
     "ename": "TypeError",
     "evalue": "transform() missing 1 required positional argument: 'raw_documents'",
     "output_type": "error",
     "traceback": [
      "\u001b[0;31m---------------------------------------------------------------------------\u001b[0m",
      "\u001b[0;31mTypeError\u001b[0m                                 Traceback (most recent call last)",
      "\u001b[0;32m<ipython-input-15-cc9a7f96e0d3>\u001b[0m in \u001b[0;36m<module>\u001b[0;34m()\u001b[0m\n\u001b[0;32m----> 1\u001b[0;31m \u001b[0mlca\u001b[0m\u001b[0;34m.\u001b[0m\u001b[0mpredict\u001b[0m\u001b[0;34m(\u001b[0m\u001b[0;34m'beautiful terrible thunderstorm trucks mama heartbreak love kill find chase'\u001b[0m\u001b[0;34m)\u001b[0m\u001b[0;34m\u001b[0m\u001b[0m\n\u001b[0m",
      "\u001b[0;32m~/galvanize/dsi/capstone/Guitar-Chord-Generator/src/LogisticChordAnalyzer.py\u001b[0m in \u001b[0;36mpredict\u001b[0;34m(self, some_words)\u001b[0m\n\u001b[1;32m     47\u001b[0m \u001b[0;34m\u001b[0m\u001b[0m\n\u001b[1;32m     48\u001b[0m         \u001b[0mwords\u001b[0m \u001b[0;34m=\u001b[0m \u001b[0;34m[\u001b[0m\u001b[0msome_words\u001b[0m\u001b[0;34m]\u001b[0m\u001b[0;34m\u001b[0m\u001b[0m\n\u001b[0;32m---> 49\u001b[0;31m         \u001b[0mX\u001b[0m \u001b[0;34m=\u001b[0m \u001b[0mself\u001b[0m\u001b[0;34m.\u001b[0m\u001b[0mtfidf\u001b[0m\u001b[0;34m.\u001b[0m\u001b[0mtransform\u001b[0m\u001b[0;34m(\u001b[0m\u001b[0mwords\u001b[0m\u001b[0;34m)\u001b[0m\u001b[0;34m\u001b[0m\u001b[0m\n\u001b[0m\u001b[1;32m     50\u001b[0m \u001b[0;34m\u001b[0m\u001b[0m\n\u001b[1;32m     51\u001b[0m         \u001b[0mchord_prob_dict\u001b[0m \u001b[0;34m=\u001b[0m \u001b[0;34m{\u001b[0m\u001b[0;34m}\u001b[0m\u001b[0;34m\u001b[0m\u001b[0m\n",
      "\u001b[0;31mTypeError\u001b[0m: transform() missing 1 required positional argument: 'raw_documents'"
     ]
    }
   ],
   "source": [
    "lca.predict('beautiful terrible thunderstorm trucks mama heartbreak love kill find chase')"
   ]
  },
  {
   "cell_type": "code",
   "execution_count": 22,
   "metadata": {},
   "outputs": [
    {
     "data": {
      "text/plain": [
       "'/Users/emilynaftalin/galvanize/dsi/capstone/Guitar-Chord-Generator'"
      ]
     },
     "execution_count": 22,
     "metadata": {},
     "output_type": "execute_result"
    }
   ],
   "source": [
    "pwd"
   ]
  },
  {
   "cell_type": "code",
   "execution_count": 23,
   "metadata": {},
   "outputs": [
    {
     "name": "stderr",
     "output_type": "stream",
     "text": [
      "ERROR:root:File `'src.LogisticChordAnalyzer.py'` not found.\n"
     ]
    }
   ],
   "source": [
    "%run src.LogisticChordAnalyzer.py"
   ]
  },
  {
   "cell_type": "code",
   "execution_count": null,
   "metadata": {
    "collapsed": true
   },
   "outputs": [],
   "source": []
  }
 ],
 "metadata": {
  "kernelspec": {
   "display_name": "Python 3",
   "language": "python",
   "name": "python3"
  },
  "language_info": {
   "codemirror_mode": {
    "name": "ipython",
    "version": 3
   },
   "file_extension": ".py",
   "mimetype": "text/x-python",
   "name": "python",
   "nbconvert_exporter": "python",
   "pygments_lexer": "ipython3",
   "version": "3.6.3"
  }
 },
 "nbformat": 4,
 "nbformat_minor": 2
}
