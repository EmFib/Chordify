{
 "cells": [
  {
   "cell_type": "code",
   "execution_count": 1,
   "metadata": {},
   "outputs": [],
   "source": [
    "from selenium.webdriver import Chrome\n",
    "from bs4 import BeautifulSoup\n",
    "import pymongo\n",
    "import datetime\n",
    "import time\n",
    "import pandas as pd\n",
    "import numpy as np\n",
    "import re\n",
    "import warnings\n",
    "from sklearn.naive_bayes import BernoulliNB, MultinomialNB\n",
    "from sklearn.feature_extraction.text import TfidfVectorizer, CountVectorizer\n",
    "from sklearn.linear_model import LogisticRegression\n",
    "from sklearn.model_selection import train_test_split\n",
    "import string\n",
    "from sklearn.naive_bayes import MultinomialNB, GaussianNB"
   ]
  },
  {
   "cell_type": "code",
   "execution_count": 2,
   "metadata": {},
   "outputs": [],
   "source": [
    "mc = pymongo.MongoClient()\n",
    "db = mc['chordify']\n",
    "raw_html = db['raw_html']\n",
    "parsed_songs_db = db[\"parsed_songs\"]"
   ]
  },
  {
   "cell_type": "code",
   "execution_count": 92,
   "metadata": {},
   "outputs": [],
   "source": [
    "# html_docs = list(raw_html.find())"
   ]
  },
  {
   "cell_type": "code",
   "execution_count": 3,
   "metadata": {},
   "outputs": [
    {
     "name": "stdout",
     "output_type": "stream",
     "text": [
      "/Users/emilynaftalin/galvanize/dsi/capstone/Guitar-Chord-Generator\n"
     ]
    }
   ],
   "source": [
    "cd .."
   ]
  },
  {
   "cell_type": "code",
   "execution_count": 6,
   "metadata": {},
   "outputs": [],
   "source": [
    "# from src.parse import *"
   ]
  },
  {
   "cell_type": "code",
   "execution_count": 4,
   "metadata": {},
   "outputs": [],
   "source": [
    "from src import logistic_model"
   ]
  },
  {
   "cell_type": "code",
   "execution_count": 64,
   "metadata": {},
   "outputs": [],
   "source": [
    "%run src/logistic_model.py"
   ]
  },
  {
   "cell_type": "code",
   "execution_count": 65,
   "metadata": {},
   "outputs": [
    {
     "data": {
      "text/plain": [
       "0.77777777777777779"
      ]
     },
     "execution_count": 65,
     "metadata": {},
     "output_type": "execute_result"
    }
   ],
   "source": [
    "log_score"
   ]
  },
  {
   "cell_type": "code",
   "execution_count": 52,
   "metadata": {},
   "outputs": [],
   "source": [
    "log_test_df = lyrics_test.to_frame()"
   ]
  },
  {
   "cell_type": "code",
   "execution_count": 53,
   "metadata": {},
   "outputs": [
    {
     "data": {
      "text/plain": [
       "array([False,  True,  True,  True,  True,  True, False,  True, False,\n",
       "        True,  True,  True,  True, False,  True,  True,  True,  True,\n",
       "        True,  True,  True,  True,  True,  True,  True,  True, False,\n",
       "        True,  True,  True,  True,  True,  True,  True,  True,  True,\n",
       "        True,  True,  True, False,  True,  True,  True,  True,  True,\n",
       "       False,  True,  True,  True,  True,  True,  True,  True,  True], dtype=bool)"
      ]
     },
     "execution_count": 53,
     "metadata": {},
     "output_type": "execute_result"
    }
   ],
   "source": [
    "contains_minor_pred"
   ]
  },
  {
   "cell_type": "code",
   "execution_count": 54,
   "metadata": {},
   "outputs": [],
   "source": [
    "log_test_df['contains_minor_test'] = contains_minor_test"
   ]
  },
  {
   "cell_type": "code",
   "execution_count": 55,
   "metadata": {},
   "outputs": [
    {
     "data": {
      "text/html": [
       "<div>\n",
       "<style scoped>\n",
       "    .dataframe tbody tr th:only-of-type {\n",
       "        vertical-align: middle;\n",
       "    }\n",
       "\n",
       "    .dataframe tbody tr th {\n",
       "        vertical-align: top;\n",
       "    }\n",
       "\n",
       "    .dataframe thead th {\n",
       "        text-align: right;\n",
       "    }\n",
       "</style>\n",
       "<table border=\"1\" class=\"dataframe\">\n",
       "  <thead>\n",
       "    <tr style=\"text-align: right;\">\n",
       "      <th></th>\n",
       "      <th>lyrics</th>\n",
       "      <th>contains_minor_test</th>\n",
       "      <th>contains_minor_pred</th>\n",
       "    </tr>\n",
       "  </thead>\n",
       "  <tbody>\n",
       "    <tr>\n",
       "      <th>99</th>\n",
       "      <td>How many roads must a man walk down Before you...</td>\n",
       "      <td>False</td>\n",
       "      <td>False</td>\n",
       "    </tr>\n",
       "    <tr>\n",
       "      <th>172</th>\n",
       "      <td>They're selling postcards of the hanging they'...</td>\n",
       "      <td>False</td>\n",
       "      <td>True</td>\n",
       "    </tr>\n",
       "    <tr>\n",
       "      <th>62</th>\n",
       "      <td>I once loved a girl her skin it was bronze Wit...</td>\n",
       "      <td>True</td>\n",
       "      <td>True</td>\n",
       "    </tr>\n",
       "    <tr>\n",
       "      <th>42</th>\n",
       "      <td>quick transtion through G to Am There must be ...</td>\n",
       "      <td>True</td>\n",
       "      <td>True</td>\n",
       "    </tr>\n",
       "    <tr>\n",
       "      <th>33</th>\n",
       "      <td>Do wop do wop Do do do wop do do do wop Do do ...</td>\n",
       "      <td>True</td>\n",
       "      <td>True</td>\n",
       "    </tr>\n",
       "    <tr>\n",
       "      <th>190</th>\n",
       "      <td>It ain't no use to sit and wonder why babe It ...</td>\n",
       "      <td>True</td>\n",
       "      <td>True</td>\n",
       "    </tr>\n",
       "    <tr>\n",
       "      <th>170</th>\n",
       "      <td>They're selling postcards of the hanging They'...</td>\n",
       "      <td>False</td>\n",
       "      <td>False</td>\n",
       "    </tr>\n",
       "    <tr>\n",
       "      <th>20</th>\n",
       "      <td>Well I m down here on this track Not a shirt u...</td>\n",
       "      <td>True</td>\n",
       "      <td>True</td>\n",
       "    </tr>\n",
       "    <tr>\n",
       "      <th>168</th>\n",
       "      <td>1 1 They're selling postcards of the hanging T...</td>\n",
       "      <td>False</td>\n",
       "      <td>False</td>\n",
       "    </tr>\n",
       "    <tr>\n",
       "      <th>142</th>\n",
       "      <td>Aloha ay Aloha ay Aloha oha ay How'd ya like t...</td>\n",
       "      <td>False</td>\n",
       "      <td>True</td>\n",
       "    </tr>\n",
       "    <tr>\n",
       "      <th>26</th>\n",
       "      <td>My heart is telling me I love you still I can ...</td>\n",
       "      <td>True</td>\n",
       "      <td>True</td>\n",
       "    </tr>\n",
       "    <tr>\n",
       "      <th>206</th>\n",
       "      <td>I sang the song slowly As she stood in the sha...</td>\n",
       "      <td>False</td>\n",
       "      <td>True</td>\n",
       "    </tr>\n",
       "    <tr>\n",
       "      <th>25</th>\n",
       "      <td>Down the street the dogs are barking and the d...</td>\n",
       "      <td>False</td>\n",
       "      <td>True</td>\n",
       "    </tr>\n",
       "    <tr>\n",
       "      <th>24</th>\n",
       "      <td>How many times have you heard someone say If I...</td>\n",
       "      <td>False</td>\n",
       "      <td>False</td>\n",
       "    </tr>\n",
       "    <tr>\n",
       "      <th>121</th>\n",
       "      <td>Buckets of rain buckets of tears got all them ...</td>\n",
       "      <td>True</td>\n",
       "      <td>True</td>\n",
       "    </tr>\n",
       "    <tr>\n",
       "      <th>154</th>\n",
       "      <td>Covenant woman got a contract with the Lord Wa...</td>\n",
       "      <td>True</td>\n",
       "      <td>True</td>\n",
       "    </tr>\n",
       "    <tr>\n",
       "      <th>68</th>\n",
       "      <td>You walk into the room with your pencil in you...</td>\n",
       "      <td>True</td>\n",
       "      <td>True</td>\n",
       "    </tr>\n",
       "    <tr>\n",
       "      <th>138</th>\n",
       "      <td>Sixteen years Sixteen banners united over the ...</td>\n",
       "      <td>True</td>\n",
       "      <td>True</td>\n",
       "    </tr>\n",
       "    <tr>\n",
       "      <th>64</th>\n",
       "      <td>1 2 2 2 2 0 3 0 2 0 You walk into the room wit...</td>\n",
       "      <td>True</td>\n",
       "      <td>True</td>\n",
       "    </tr>\n",
       "    <tr>\n",
       "      <th>66</th>\n",
       "      <td>You walk into the room With your pencil in you...</td>\n",
       "      <td>True</td>\n",
       "      <td>True</td>\n",
       "    </tr>\n",
       "    <tr>\n",
       "      <th>6</th>\n",
       "      <td>When she said Don't waste your words they're j...</td>\n",
       "      <td>False</td>\n",
       "      <td>True</td>\n",
       "    </tr>\n",
       "    <tr>\n",
       "      <th>123</th>\n",
       "      <td>I'm goin' down south Beneath the borderline I'...</td>\n",
       "      <td>False</td>\n",
       "      <td>True</td>\n",
       "    </tr>\n",
       "    <tr>\n",
       "      <th>44</th>\n",
       "      <td>I ain't looking to compete with you Beat or ch...</td>\n",
       "      <td>False</td>\n",
       "      <td>True</td>\n",
       "    </tr>\n",
       "    <tr>\n",
       "      <th>130</th>\n",
       "      <td>I can't wait wait for you to change your mind ...</td>\n",
       "      <td>True</td>\n",
       "      <td>True</td>\n",
       "    </tr>\n",
       "    <tr>\n",
       "      <th>74</th>\n",
       "      <td>There's guns across the river about to pound y...</td>\n",
       "      <td>False</td>\n",
       "      <td>True</td>\n",
       "    </tr>\n",
       "    <tr>\n",
       "      <th>39</th>\n",
       "      <td>There must be some way out of here said the jo...</td>\n",
       "      <td>True</td>\n",
       "      <td>True</td>\n",
       "    </tr>\n",
       "    <tr>\n",
       "      <th>89</th>\n",
       "      <td>How many roads must a man walk down before you...</td>\n",
       "      <td>False</td>\n",
       "      <td>False</td>\n",
       "    </tr>\n",
       "    <tr>\n",
       "      <th>213</th>\n",
       "      <td>Oh it's fare thee well my darlin' true I'm lea...</td>\n",
       "      <td>False</td>\n",
       "      <td>True</td>\n",
       "    </tr>\n",
       "    <tr>\n",
       "      <th>145</th>\n",
       "      <td>I'm beginning to hear voices and there's no on...</td>\n",
       "      <td>True</td>\n",
       "      <td>True</td>\n",
       "    </tr>\n",
       "    <tr>\n",
       "      <th>162</th>\n",
       "      <td>I'm old Tom Moore from the bummer's shore in t...</td>\n",
       "      <td>True</td>\n",
       "      <td>True</td>\n",
       "    </tr>\n",
       "    <tr>\n",
       "      <th>185</th>\n",
       "      <td>It ain't no use to sit and wonder why babe It ...</td>\n",
       "      <td>True</td>\n",
       "      <td>True</td>\n",
       "    </tr>\n",
       "    <tr>\n",
       "      <th>187</th>\n",
       "      <td>Well it ain't no use to sit and wonder why bab...</td>\n",
       "      <td>True</td>\n",
       "      <td>True</td>\n",
       "    </tr>\n",
       "    <tr>\n",
       "      <th>117</th>\n",
       "      <td>In the lonely night In the blinking stardust o...</td>\n",
       "      <td>True</td>\n",
       "      <td>True</td>\n",
       "    </tr>\n",
       "    <tr>\n",
       "      <th>45</th>\n",
       "      <td>I ain't lookin' to compete with you Beat or ch...</td>\n",
       "      <td>False</td>\n",
       "      <td>True</td>\n",
       "    </tr>\n",
       "    <tr>\n",
       "      <th>82</th>\n",
       "      <td>Seen the arrow on the doorpost Saying This lan...</td>\n",
       "      <td>True</td>\n",
       "      <td>True</td>\n",
       "    </tr>\n",
       "    <tr>\n",
       "      <th>115</th>\n",
       "      <td>I'm troubled and I don't know why I'm troubled...</td>\n",
       "      <td>False</td>\n",
       "      <td>True</td>\n",
       "    </tr>\n",
       "    <tr>\n",
       "      <th>155</th>\n",
       "      <td>I cross the green mountain I sit by the stream...</td>\n",
       "      <td>True</td>\n",
       "      <td>True</td>\n",
       "    </tr>\n",
       "    <tr>\n",
       "      <th>30</th>\n",
       "      <td>7 5 3 2 1 amp 2 amp 3 amp 4 amp 1 amp 2 amp 3 ...</td>\n",
       "      <td>True</td>\n",
       "      <td>True</td>\n",
       "    </tr>\n",
       "    <tr>\n",
       "      <th>177</th>\n",
       "      <td>Fat man lookin in a blade of steel Thin man lo...</td>\n",
       "      <td>True</td>\n",
       "      <td>True</td>\n",
       "    </tr>\n",
       "    <tr>\n",
       "      <th>214</th>\n",
       "      <td>Farewell Angelina the bells of the crown Are b...</td>\n",
       "      <td>True</td>\n",
       "      <td>False</td>\n",
       "    </tr>\n",
       "    <tr>\n",
       "      <th>14</th>\n",
       "      <td>One by one they followed the sun One by one un...</td>\n",
       "      <td>True</td>\n",
       "      <td>True</td>\n",
       "    </tr>\n",
       "    <tr>\n",
       "      <th>141</th>\n",
       "      <td>Far between sundown's finish and midnight's br...</td>\n",
       "      <td>True</td>\n",
       "      <td>True</td>\n",
       "    </tr>\n",
       "    <tr>\n",
       "      <th>111</th>\n",
       "      <td>On a night like this So glad you came around A...</td>\n",
       "      <td>True</td>\n",
       "      <td>True</td>\n",
       "    </tr>\n",
       "    <tr>\n",
       "      <th>29</th>\n",
       "      <td>I can see the turning of the key I ve been dec...</td>\n",
       "      <td>True</td>\n",
       "      <td>True</td>\n",
       "    </tr>\n",
       "    <tr>\n",
       "      <th>32</th>\n",
       "      <td>Well your railroadgate you know I just can't j...</td>\n",
       "      <td>True</td>\n",
       "      <td>True</td>\n",
       "    </tr>\n",
       "    <tr>\n",
       "      <th>159</th>\n",
       "      <td>e 0 0 2 4 Oh the gentle men are talking and th...</td>\n",
       "      <td>True</td>\n",
       "      <td>False</td>\n",
       "    </tr>\n",
       "    <tr>\n",
       "      <th>208</th>\n",
       "      <td>In the time of my confession in the hour of my...</td>\n",
       "      <td>True</td>\n",
       "      <td>True</td>\n",
       "    </tr>\n",
       "    <tr>\n",
       "      <th>35</th>\n",
       "      <td>Ain't no more cane on the Brazos Oh oh oh Its ...</td>\n",
       "      <td>False</td>\n",
       "      <td>True</td>\n",
       "    </tr>\n",
       "    <tr>\n",
       "      <th>116</th>\n",
       "      <td>Oh I'm sailin' away my own true love I'm saili...</td>\n",
       "      <td>True</td>\n",
       "      <td>True</td>\n",
       "    </tr>\n",
       "    <tr>\n",
       "      <th>156</th>\n",
       "      <td>Well I had to go down and see a guy named Mr G...</td>\n",
       "      <td>False</td>\n",
       "      <td>True</td>\n",
       "    </tr>\n",
       "    <tr>\n",
       "      <th>209</th>\n",
       "      <td>In the time of my confession in the hour of my...</td>\n",
       "      <td>False</td>\n",
       "      <td>True</td>\n",
       "    </tr>\n",
       "    <tr>\n",
       "      <th>34</th>\n",
       "      <td>I ain't gonna go to hell for anybody I ain't g...</td>\n",
       "      <td>True</td>\n",
       "      <td>True</td>\n",
       "    </tr>\n",
       "    <tr>\n",
       "      <th>103</th>\n",
       "      <td>While riding on a train going west I fell asle...</td>\n",
       "      <td>True</td>\n",
       "      <td>True</td>\n",
       "    </tr>\n",
       "    <tr>\n",
       "      <th>182</th>\n",
       "      <td>Don t wanna judge nobody don t wanna be judged...</td>\n",
       "      <td>False</td>\n",
       "      <td>True</td>\n",
       "    </tr>\n",
       "  </tbody>\n",
       "</table>\n",
       "</div>"
      ],
      "text/plain": [
       "                                                lyrics  contains_minor_test  \\\n",
       "99   How many roads must a man walk down Before you...                False   \n",
       "172  They're selling postcards of the hanging they'...                False   \n",
       "62   I once loved a girl her skin it was bronze Wit...                 True   \n",
       "42   quick transtion through G to Am There must be ...                 True   \n",
       "33   Do wop do wop Do do do wop do do do wop Do do ...                 True   \n",
       "190  It ain't no use to sit and wonder why babe It ...                 True   \n",
       "170  They're selling postcards of the hanging They'...                False   \n",
       "20   Well I m down here on this track Not a shirt u...                 True   \n",
       "168  1 1 They're selling postcards of the hanging T...                False   \n",
       "142  Aloha ay Aloha ay Aloha oha ay How'd ya like t...                False   \n",
       "26   My heart is telling me I love you still I can ...                 True   \n",
       "206  I sang the song slowly As she stood in the sha...                False   \n",
       "25   Down the street the dogs are barking and the d...                False   \n",
       "24   How many times have you heard someone say If I...                False   \n",
       "121  Buckets of rain buckets of tears got all them ...                 True   \n",
       "154  Covenant woman got a contract with the Lord Wa...                 True   \n",
       "68   You walk into the room with your pencil in you...                 True   \n",
       "138  Sixteen years Sixteen banners united over the ...                 True   \n",
       "64   1 2 2 2 2 0 3 0 2 0 You walk into the room wit...                 True   \n",
       "66   You walk into the room With your pencil in you...                 True   \n",
       "6    When she said Don't waste your words they're j...                False   \n",
       "123  I'm goin' down south Beneath the borderline I'...                False   \n",
       "44   I ain't looking to compete with you Beat or ch...                False   \n",
       "130  I can't wait wait for you to change your mind ...                 True   \n",
       "74   There's guns across the river about to pound y...                False   \n",
       "39   There must be some way out of here said the jo...                 True   \n",
       "89   How many roads must a man walk down before you...                False   \n",
       "213  Oh it's fare thee well my darlin' true I'm lea...                False   \n",
       "145  I'm beginning to hear voices and there's no on...                 True   \n",
       "162  I'm old Tom Moore from the bummer's shore in t...                 True   \n",
       "185  It ain't no use to sit and wonder why babe It ...                 True   \n",
       "187  Well it ain't no use to sit and wonder why bab...                 True   \n",
       "117  In the lonely night In the blinking stardust o...                 True   \n",
       "45   I ain't lookin' to compete with you Beat or ch...                False   \n",
       "82   Seen the arrow on the doorpost Saying This lan...                 True   \n",
       "115  I'm troubled and I don't know why I'm troubled...                False   \n",
       "155  I cross the green mountain I sit by the stream...                 True   \n",
       "30   7 5 3 2 1 amp 2 amp 3 amp 4 amp 1 amp 2 amp 3 ...                 True   \n",
       "177  Fat man lookin in a blade of steel Thin man lo...                 True   \n",
       "214  Farewell Angelina the bells of the crown Are b...                 True   \n",
       "14   One by one they followed the sun One by one un...                 True   \n",
       "141  Far between sundown's finish and midnight's br...                 True   \n",
       "111  On a night like this So glad you came around A...                 True   \n",
       "29   I can see the turning of the key I ve been dec...                 True   \n",
       "32   Well your railroadgate you know I just can't j...                 True   \n",
       "159  e 0 0 2 4 Oh the gentle men are talking and th...                 True   \n",
       "208  In the time of my confession in the hour of my...                 True   \n",
       "35   Ain't no more cane on the Brazos Oh oh oh Its ...                False   \n",
       "116  Oh I'm sailin' away my own true love I'm saili...                 True   \n",
       "156  Well I had to go down and see a guy named Mr G...                False   \n",
       "209  In the time of my confession in the hour of my...                False   \n",
       "34   I ain't gonna go to hell for anybody I ain't g...                 True   \n",
       "103  While riding on a train going west I fell asle...                 True   \n",
       "182  Don t wanna judge nobody don t wanna be judged...                False   \n",
       "\n",
       "     contains_minor_pred  \n",
       "99                 False  \n",
       "172                 True  \n",
       "62                  True  \n",
       "42                  True  \n",
       "33                  True  \n",
       "190                 True  \n",
       "170                False  \n",
       "20                  True  \n",
       "168                False  \n",
       "142                 True  \n",
       "26                  True  \n",
       "206                 True  \n",
       "25                  True  \n",
       "24                 False  \n",
       "121                 True  \n",
       "154                 True  \n",
       "68                  True  \n",
       "138                 True  \n",
       "64                  True  \n",
       "66                  True  \n",
       "6                   True  \n",
       "123                 True  \n",
       "44                  True  \n",
       "130                 True  \n",
       "74                  True  \n",
       "39                  True  \n",
       "89                 False  \n",
       "213                 True  \n",
       "145                 True  \n",
       "162                 True  \n",
       "185                 True  \n",
       "187                 True  \n",
       "117                 True  \n",
       "45                  True  \n",
       "82                  True  \n",
       "115                 True  \n",
       "155                 True  \n",
       "30                  True  \n",
       "177                 True  \n",
       "214                False  \n",
       "14                  True  \n",
       "141                 True  \n",
       "111                 True  \n",
       "29                  True  \n",
       "32                  True  \n",
       "159                False  \n",
       "208                 True  \n",
       "35                  True  \n",
       "116                 True  \n",
       "156                 True  \n",
       "209                 True  \n",
       "34                  True  \n",
       "103                 True  \n",
       "182                 True  "
      ]
     },
     "execution_count": 55,
     "metadata": {},
     "output_type": "execute_result"
    }
   ],
   "source": [
    "log_test_df['contains_minor_pred'] = contains_minor_pred\n",
    "log_test_df"
   ]
  },
  {
   "cell_type": "code",
   "execution_count": 56,
   "metadata": {},
   "outputs": [
    {
     "data": {
      "text/plain": [
       "array([[ 0.72886064,  0.27113936],\n",
       "       [ 0.46000194,  0.53999806],\n",
       "       [ 0.30476086,  0.69523914],\n",
       "       [ 0.28142704,  0.71857296],\n",
       "       [ 0.38440207,  0.61559793],\n",
       "       [ 0.22220009,  0.77779991],\n",
       "       [ 0.54526562,  0.45473438],\n",
       "       [ 0.442449  ,  0.557551  ],\n",
       "       [ 0.54526562,  0.45473438],\n",
       "       [ 0.45206968,  0.54793032],\n",
       "       [ 0.33572321,  0.66427679],\n",
       "       [ 0.40235665,  0.59764335],\n",
       "       [ 0.3768621 ,  0.6231379 ],\n",
       "       [ 0.52779936,  0.47220064],\n",
       "       [ 0.42016321,  0.57983679],\n",
       "       [ 0.31456937,  0.68543063],\n",
       "       [ 0.24213416,  0.75786584],\n",
       "       [ 0.23163778,  0.76836222],\n",
       "       [ 0.24424601,  0.75575399],\n",
       "       [ 0.24794274,  0.75205726],\n",
       "       [ 0.40254428,  0.59745572],\n",
       "       [ 0.37838769,  0.62161231],\n",
       "       [ 0.4935693 ,  0.5064307 ],\n",
       "       [ 0.32231671,  0.67768329],\n",
       "       [ 0.39617152,  0.60382848],\n",
       "       [ 0.29514186,  0.70485814],\n",
       "       [ 0.72658731,  0.27341269],\n",
       "       [ 0.45417346,  0.54582654],\n",
       "       [ 0.45700275,  0.54299725],\n",
       "       [ 0.3579167 ,  0.6420833 ],\n",
       "       [ 0.18384221,  0.81615779],\n",
       "       [ 0.22221616,  0.77778384],\n",
       "       [ 0.32140424,  0.67859576],\n",
       "       [ 0.38332598,  0.61667402],\n",
       "       [ 0.30186922,  0.69813078],\n",
       "       [ 0.31979021,  0.68020979],\n",
       "       [ 0.30739776,  0.69260224],\n",
       "       [ 0.24891931,  0.75108069],\n",
       "       [ 0.29016617,  0.70983383],\n",
       "       [ 0.54302673,  0.45697327],\n",
       "       [ 0.33973171,  0.66026829],\n",
       "       [ 0.31619045,  0.68380955],\n",
       "       [ 0.20378146,  0.79621854],\n",
       "       [ 0.24730938,  0.75269062],\n",
       "       [ 0.29563919,  0.70436081],\n",
       "       [ 0.52396494,  0.47603506],\n",
       "       [ 0.27017681,  0.72982319],\n",
       "       [ 0.40731549,  0.59268451],\n",
       "       [ 0.25398123,  0.74601877],\n",
       "       [ 0.42055023,  0.57944977],\n",
       "       [ 0.27110146,  0.72889854],\n",
       "       [ 0.43268193,  0.56731807],\n",
       "       [ 0.42625906,  0.57374094],\n",
       "       [ 0.40504823,  0.59495177]])"
      ]
     },
     "execution_count": 56,
     "metadata": {},
     "output_type": "execute_result"
    }
   ],
   "source": [
    "y_hat_log"
   ]
  },
  {
   "cell_type": "code",
   "execution_count": 32,
   "metadata": {},
   "outputs": [],
   "source": [
    "from src.logistic_model import make_song_dicts, make_song_mats, make_df"
   ]
  },
  {
   "cell_type": "code",
   "execution_count": 12,
   "metadata": {},
   "outputs": [
    {
     "data": {
      "text/plain": [
       "216"
      ]
     },
     "execution_count": 12,
     "metadata": {},
     "output_type": "execute_result"
    }
   ],
   "source": [
    "parsed_songs = list(parsed_songs_db.find())\n",
    "len(parsed_songs)"
   ]
  },
  {
   "cell_type": "code",
   "execution_count": 13,
   "metadata": {},
   "outputs": [],
   "source": [
    "sd = make_song_dicts(parsed_songs)"
   ]
  },
  {
   "cell_type": "code",
   "execution_count": 7,
   "metadata": {},
   "outputs": [
    {
     "name": "stdout",
     "output_type": "stream",
     "text": [
      "Automatic pdb calling has been turned OFF\n"
     ]
    }
   ],
   "source": [
    "%pdb off"
   ]
  },
  {
   "cell_type": "code",
   "execution_count": 9,
   "metadata": {},
   "outputs": [
    {
     "data": {
      "text/plain": [
       "5363"
      ]
     },
     "execution_count": 9,
     "metadata": {},
     "output_type": "execute_result"
    }
   ],
   "source": [
    "raw_html.find().count()"
   ]
  },
  {
   "cell_type": "code",
   "execution_count": 11,
   "metadata": {},
   "outputs": [
    {
     "data": {
      "text/plain": [
       "18     One by one they followed the sun One by one un...\n",
       "83     Seen the arrow on the doorpost 0 0 Saying This...\n",
       "183    Said the night wind to the little lamb Do you ...\n",
       "15     I went to the doctor he says I'm alright I kne...\n",
       "195    It ain't no use to sit and wonder why babe It ...\n",
       "171    They're selling postcards of the hanging They'...\n",
       "80     Black Jack Davey come ridin' on back A whistli...\n",
       "209    In the time of my confession in the hour of my...\n",
       "146    Get you a copper kettle Get you a copper coil ...\n",
       "61     I once loved a girl her skin it was bronze Wit...\n",
       "148    Corrina Corrina Where'd ya stay last night Cor...\n",
       "79     Up on the white veranda She wears a neck tie a...\n",
       "199    Oh help me in my weakness I heard the drifter ...\n",
       "112    1 2 3 4 1 2 3 4 main riff main riff You may be...\n",
       "57     Baby let me follow you down Baby let me follow...\n",
       "72     1 2 3 4 1 2 3 4 Beyond the horizon behind the ...\n",
       "64     1 2 2 2 2 0 3 0 2 0 You walk into the room wit...\n",
       "49     What's your hurry Just watch this This is one ...\n",
       "152    Just like old Saxophone Joe When he's got the ...\n",
       "160    Oh the gentlemen are talking and the midnight ...\n",
       "102    Well the Lone Ranger and Tonto Fixin' ev'rybod...\n",
       "16     When she said Don't waste your words they're j...\n",
       "180    There's a whole lot of people suffering tonigh...\n",
       "159    e 0 0 2 4 Oh the gentle men are talking and th...\n",
       "140    and it goes like this E 0 0 0 Far between sund...\n",
       "125    He sits in your room his tomb with a fistful o...\n",
       "98     How many roads must a man walk down Before you...\n",
       "74     There's guns across the river about to pound y...\n",
       "85     Seen the arrow on the doorpost Saying This lan...\n",
       "133    In the chilly hours and minutes Of uncertainty...\n",
       "                             ...                        \n",
       "177    Fat man lookin in a blade of steel Thin man lo...\n",
       "136    Sixteen years Sixteen banners united over the ...\n",
       "51     Oh me and my cousin one Arthur McBride As we w...\n",
       "178    If I had wings like Noah's dove I'd fly the ri...\n",
       "151    Just like old Saxophone Joe When he's got the ...\n",
       "113    How many roads must a man walk down before you...\n",
       "96     How many roads must a man walk down before you...\n",
       "35     Ain't no more cane on the Brazos Oh oh oh Its ...\n",
       "188    It ain't no use to sit and wonder why babe It ...\n",
       "197    Oh mos' feet and it hang can't you see I groan...\n",
       "91     How many roads must a man walk down before you...\n",
       "163    Dear Landlord please don't put a price on my s...\n",
       "165    When you're sad and when you're lonely Just re...\n",
       "20     Well I m down here on this track Not a shirt u...\n",
       "7      Take a trip with me in 1913 To Calumet Michiga...\n",
       "143    After a while we took in the clothes Nobody sa...\n",
       "134    The cat's in the well the wolf is looking down...\n",
       "169    They're Sellin Postcards of the hanging They'r...\n",
       "213    Oh it's fare thee well my darlin' true I'm lea...\n",
       "142    Aloha ay Aloha ay Aloha oha ay How'd ya like t...\n",
       "201    Listen to that Duquesne whistle blowing Blowin...\n",
       "28     My heart is telling me I love you still I can ...\n",
       "147    Get you a copper kettle Get you a copper coil ...\n",
       "92     How many roads must a man walk down Before you...\n",
       "13     As I went out one morning to breathe the air a...\n",
       "176    e 3 4 1 Fat man lookin in a blade of steel Hol...\n",
       "25     Down the street the dogs are barking and the d...\n",
       "137    Sixteen years Sixteen banners united over the ...\n",
       "130    I can't wait wait for you to change your mind ...\n",
       "186    It ain't no use to sit and wonder why babe If'...\n",
       "Name: lyrics, Length: 162, dtype: object"
      ]
     },
     "execution_count": 11,
     "metadata": {},
     "output_type": "execute_result"
    }
   ],
   "source": [
    "lyrics_train"
   ]
  },
  {
   "cell_type": "code",
   "execution_count": 71,
   "metadata": {},
   "outputs": [],
   "source": [
    "%run src/multinomial_model.py"
   ]
  },
  {
   "cell_type": "code",
   "execution_count": 72,
   "metadata": {},
   "outputs": [
    {
     "data": {
      "text/plain": [
       "0.70370370370370372"
      ]
     },
     "execution_count": 72,
     "metadata": {},
     "output_type": "execute_result"
    }
   ],
   "source": [
    "nb_score"
   ]
  },
  {
   "cell_type": "code",
   "execution_count": 98,
   "metadata": {},
   "outputs": [],
   "source": [
    "%run src/random_forest_model.py"
   ]
  },
  {
   "cell_type": "code",
   "execution_count": 99,
   "metadata": {},
   "outputs": [
    {
     "data": {
      "text/plain": [
       "0.72222222222222221"
      ]
     },
     "execution_count": 99,
     "metadata": {},
     "output_type": "execute_result"
    }
   ],
   "source": [
    "rf_score"
   ]
  },
  {
   "cell_type": "code",
   "execution_count": null,
   "metadata": {},
   "outputs": [],
   "source": []
  },
  {
   "cell_type": "code",
   "execution_count": null,
   "metadata": {},
   "outputs": [],
   "source": []
  }
 ],
 "metadata": {
  "kernelspec": {
   "display_name": "Python 3",
   "language": "python",
   "name": "python3"
  },
  "language_info": {
   "codemirror_mode": {
    "name": "ipython",
    "version": 3
   },
   "file_extension": ".py",
   "mimetype": "text/x-python",
   "name": "python",
   "nbconvert_exporter": "python",
   "pygments_lexer": "ipython3",
   "version": "3.6.3"
  }
 },
 "nbformat": 4,
 "nbformat_minor": 2
}
